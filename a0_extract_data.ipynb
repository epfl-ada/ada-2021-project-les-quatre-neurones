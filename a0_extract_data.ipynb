{
 "cells": [
  {
   "cell_type": "code",
   "execution_count": 4,
   "id": "3cf638b8",
   "metadata": {},
   "outputs": [],
   "source": [
    "import pandas as pd\n",
    "import bz2\n",
    "import json\n",
    "import tld\n",
    "from tld import get_tld"
   ]
  },
  {
   "cell_type": "code",
   "execution_count": 5,
   "id": "81f0d8a4-d90f-4123-96f3-544cefad1df7",
   "metadata": {},
   "outputs": [
    {
     "name": "stdout",
     "output_type": "stream",
     "text": [
      "Requirement already satisfied: findspark in /Users/tatianacogne/opt/anaconda3/lib/python3.8/site-packages (1.4.2)\n",
      "Requirement already satisfied: pyspark in /Users/tatianacogne/opt/anaconda3/lib/python3.8/site-packages (3.2.0)\n",
      "Requirement already satisfied: py4j==0.10.9.2 in /Users/tatianacogne/opt/anaconda3/lib/python3.8/site-packages (from pyspark) (0.10.9.2)\n"
     ]
    }
   ],
   "source": [
    "!pip install findspark\n",
    "!pip install pyspark"
   ]
  },
  {
   "cell_type": "markdown",
   "id": "be81a6fb-ee8f-4cb0-a04a-62c3bf2c4a0b",
   "metadata": {},
   "source": [
    "### Objectives M2\n",
    "- That you can handle the data in its size.\n",
    "- That you understand what’s in the data (formats, distributions, missing values, correlations, etc.).\n",
    "- That you considered ways to enrich, filter, transform the data according to your needs.\n",
    "- That you have a reasonable plan and ideas for methods you’re going to use, giving their essential mathematical details in the notebook.\n",
    "- That your plan for analysis and communication is reasonable and sound, potentially discussing alternatives to your choices that you considered but dropped."
   ]
  },
  {
   "cell_type": "markdown",
   "id": "04743e74",
   "metadata": {},
   "source": [
    "#### Test with DataFrame (DON'T RUN THIS CELL)"
   ]
  },
  {
   "cell_type": "code",
   "execution_count": null,
   "id": "7242065f",
   "metadata": {},
   "outputs": [],
   "source": [
    "%%time\n",
    "df_quotes_2020 = pd.read_json('data/quotes-2020.json.bz2', compression='bz2',lines=True)"
   ]
  },
  {
   "cell_type": "code",
   "execution_count": null,
   "id": "22504949-8afd-424b-94b9-d07d3d038ba0",
   "metadata": {},
   "outputs": [],
   "source": [
    "def get_domain(url):\n",
    "    res = get_tld(url, as_object=True)\n",
    "    return res.tld"
   ]
  },
  {
   "cell_type": "code",
   "execution_count": null,
   "id": "da04a2f5-7c64-4f5b-872a-afc64ef62f86",
   "metadata": {},
   "outputs": [],
   "source": [
    "path_to_file = 'data/quotes-2020-domains.json.bz2'\n",
    "number = 0\n",
    "df = pd.DataFrame(columns=['quoteID', 'quotation', 'speaker', 'qids', 'date', 'numOccurrences',\n",
    "       'probas', 'urls', 'phase', 'domains'])\n",
    "with bz2.open(path_to_file, 'rb') as s_file:\n",
    "    for instance in s_file:\n",
    "        if number == 10:\n",
    "            break  \n",
    "        df = pd.concat([df, pd.read_json(instance,lines=True)], ignore_index=True)    \n"
   ]
  },
  {
   "cell_type": "markdown",
   "id": "6f358d44",
   "metadata": {},
   "source": [
    "### Summary Columns\n",
    "- **quoteID**:      Primary key of the quotation (format: \"YYYY-MM-DD-{increasing int:06d}\")\n",
    "- **quotation**:    Text of the longest encountered original form of the quotation\n",
    "- **speaker**:      Selected most likely speaker\n",
    "- **qids**:         Wikidata IDs of all aliases that match the selected speaker\n",
    "- **date**:         Earliest occurrence date of any version of the quotation\n",
    "- **numOccurences**:Number of time this quotation occurs in the articles\n",
    "- **probas**:       Array representing the probabilities of each speaker having uttered the quotation\n",
    "- **urls**:         List of links to the original articles containing the quotation\n",
    "- **phase**:        Corresponding phase of the data in which the quotation first occurred (A-E)\n",
    "- **domains**:      Domain of the URL \n"
   ]
  },
  {
   "cell_type": "code",
   "execution_count": null,
   "id": "95d68600",
   "metadata": {},
   "outputs": [],
   "source": [
    "df.info()"
   ]
  },
  {
   "cell_type": "code",
   "execution_count": null,
   "id": "c5928bbb",
   "metadata": {},
   "outputs": [],
   "source": [
    "df.head(10)"
   ]
  },
  {
   "cell_type": "markdown",
   "id": "b09ba343",
   "metadata": {},
   "source": [
    "### Test with PySpark"
   ]
  },
  {
   "cell_type": "code",
   "execution_count": 6,
   "id": "bcf03c6d-23aa-4cd7-ae24-151f5eb7daac",
   "metadata": {},
   "outputs": [
    {
     "name": "stdout",
     "output_type": "stream",
     "text": [
      "root\n",
      " |-- date: string (nullable = true)\n",
      " |-- numOccurrences: long (nullable = true)\n",
      " |-- phase: string (nullable = true)\n",
      " |-- probas: array (nullable = true)\n",
      " |    |-- element: array (containsNull = true)\n",
      " |    |    |-- element: string (containsNull = true)\n",
      " |-- qids: array (nullable = true)\n",
      " |    |-- element: string (containsNull = true)\n",
      " |-- quotation: string (nullable = true)\n",
      " |-- quoteID: string (nullable = true)\n",
      " |-- speaker: string (nullable = true)\n",
      " |-- urls: array (nullable = true)\n",
      " |    |-- element: string (containsNull = true)\n",
      "\n",
      "+-------------------+--------------+-----+--------------------+--------------------+--------------------+-----------------+-------------------+--------------------+\n",
      "|               date|numOccurrences|phase|              probas|                qids|           quotation|          quoteID|            speaker|                urls|\n",
      "+-------------------+--------------+-----+--------------------+--------------------+--------------------+-----------------+-------------------+--------------------+\n",
      "|2020-01-28 08:04:05|             1|    E|[[None, 0.7272], ...|                  []|[ D ] espite the ...|2020-01-28-000082|               None|[http://israelnat...|\n",
      "|2020-01-16 12:00:13|             1|    E|[[Sue Myrick, 0.8...|           [Q367796]|[ Department of H...|2020-01-16-000088|         Sue Myrick|[http://thehill.c...|\n",
      "|2020-02-10 23:45:54|             1|    E|[[None, 0.8926], ...|                  []|... He (Madhav) a...|2020-02-10-000142|               None|[https://indianex...|\n",
      "|2020-02-15 14:12:51|             2|    E|[[None, 0.581], [...|                  []|... [ I ] f it ge...|2020-02-15-000053|               None|[https://patriotp...|\n",
      "|2020-01-24 20:37:09|             4|    E|[[Meghan King Edm...|         [Q20684375]|[ I met them ] wh...|2020-01-24-000168|Meghan King Edmonds|[https://people.c...|\n",
      "|2020-02-27 08:27:00|             1|    E|[[None, 0.7164], ...|                  []|[ one's ] individ...|2020-02-27-000223|               None|[https://ukhumanr...|\n",
      "|2020-04-15 17:30:45|             1|    E|[[None, 0.8956], ...|                  []|[ Queen ] can. He...|2020-04-15-000176|               None|[https://www.penn...|\n",
      "|2020-01-17 13:03:00|             1|    E|[[Dexter Smith, 0...|          [Q5268447]|[ The delay ] wil...|2020-01-17-000357|       Dexter Smith|[http://www.sloug...|\n",
      "|2020-04-02 14:18:20|             1|    E|[[Barry Coppinger...|          [Q4864119]|[ The scheme ] tr...|2020-04-02-000239|    Barry Coppinger|[http://www.thewe...|\n",
      "|2020-03-19 19:14:00|             1|    E|[[Ben Carson, 0.9...|           [Q816459]|[ These ] actions...|2020-03-19-000276|         Ben Carson|[https://mortgage...|\n",
      "|2020-02-02 16:38:56|             1|    E|[[Danny Davis, 0....|[Q5220272, Q5220273]|... Under a Presi...|2020-02-02-000235|        Danny Davis|[https://chicago....|\n",
      "|2020-04-08 12:25:37|             1|    E|[[None, 0.9208], ...|                  []|[ W ] henever a d...|2020-04-08-000247|               None|[https://www.wash...|\n",
      "|2020-03-10 19:15:22|             1|    E|[[None, 0.7943], ...|                  []|... We deserve a ...|2020-03-10-000380|               None|[https://www.dail...|\n",
      "|2020-03-29 17:47:52|             1|    E|[[None, 0.6976], ...|                  []|... Zane Lowe che...|2020-03-29-000118|               None|[https://music.mx...|\n",
      "|2020-04-06 10:25:55|             1|    E|[[None, 0.9144], ...|                  []|1) Cary hand-bead...|2020-04-06-000292|               None|[http://feeds.inq...|\n",
      "|2020-03-12 19:15:29|             1|    E|[[Paul Masterton,...|         [Q30164281]|1. FM is entitled...|2020-03-12-000358|     Paul Masterton|[http://www.thena...|\n",
      "|2020-01-08 10:22:11|             1|    E|[[Aphelele Fassi,...|         [Q56255401]|11 straight weeks...|2020-01-08-000594|     Aphelele Fassi|[https://www.spor...|\n",
      "|2020-03-20 12:58:41|             1|    E|[[None, 0.6295], ...|                  []|2. Denial of the ...|2020-03-20-000422|               None|[http://itdoffici...|\n",
      "|2020-03-18 15:31:33|             1|    E|[[None, 0.633], [...|                  []|20 people are at ...|2020-03-18-000414|               None|[https://timesofi...|\n",
      "|2020-02-21 13:00:00|             1|    E|[[Micha Kaufman, ...|         [Q26923564]|2019 was a landma...|2020-02-21-000455|      Micha Kaufman|[https://www.fool...|\n",
      "+-------------------+--------------+-----+--------------------+--------------------+--------------------+-----------------+-------------------+--------------------+\n",
      "only showing top 20 rows\n",
      "\n"
     ]
    }
   ],
   "source": [
    "from pyspark.sql import SparkSession\n",
    "from pyspark.sql.functions import col\n",
    "from pyspark.sql.functions import explode\n",
    "\n",
    "spark = SparkSession.builder.getOrCreate()\n",
    "sc = spark.sparkContext\n",
    "\n",
    "# Read JSON file into dataframe\n",
    "df = spark.read.json('data/quotes-2020.json.bz2')\n",
    "df.printSchema()\n",
    "df.show()"
   ]
  },
  {
   "cell_type": "markdown",
   "id": "b646c192-8667-424f-8bee-2eb3f97428be",
   "metadata": {},
   "source": [
    "### Analysis \n",
    "\n",
    "- quids same for each quote \n",
    "- quids pas pour None\n",
    "- check proba avec le speaker \n",
    "- check chaque colonne\n",
    "- verifier l'URL "
   ]
  },
  {
   "cell_type": "code",
   "execution_count": null,
   "id": "d6a0b60f-fa3b-43c4-852d-76a365581235",
   "metadata": {},
   "outputs": [],
   "source": []
  }
 ],
 "metadata": {
  "interpreter": {
   "hash": "cffb4dc13a2c8d65c4e22bea49294395e13ba2eea796238c356a7a0a6291307b"
  },
  "kernelspec": {
   "display_name": "Python 3",
   "language": "python",
   "name": "python3"
  },
  "language_info": {
   "codemirror_mode": {
    "name": "ipython",
    "version": 3
   },
   "file_extension": ".py",
   "mimetype": "text/x-python",
   "name": "python",
   "nbconvert_exporter": "python",
   "pygments_lexer": "ipython3",
   "version": "3.8.8"
  }
 },
 "nbformat": 4,
 "nbformat_minor": 5
}
