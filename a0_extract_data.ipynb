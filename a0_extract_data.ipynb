{
 "cells": [
  {
   "cell_type": "code",
   "execution_count": 1,
   "id": "c0f0c493-f773-4c4e-84d3-c30b63d44d60",
   "metadata": {},
   "outputs": [],
   "source": [
    "import pandas as pd\n",
    "import bz2\n",
    "import vaex\n",
    "import bz2"
   ]
  },
  {
   "cell_type": "markdown",
   "id": "6f68a69c-c466-4dc5-8870-dfb31e4ae4f9",
   "metadata": {},
   "source": [
    "### Open the data \n",
    "- to manage large dataset https://www.analyticsvidhya.com/blog/2018/08/dask-big-datasets-machine_learning-python/\n",
    "- second option: https://vaex.io/blog/how-to-analyse-100s-of-gbs-of-data-on-your-laptop-with-python"
   ]
  },
  {
   "cell_type": "code",
   "execution_count": 2,
   "id": "39310f18-2da7-4e9c-998d-def8daa1ef21",
   "metadata": {},
   "outputs": [],
   "source": [
    "file_path_quotes_2020 = 'data/quotes-2020.json.bz2'"
   ]
  },
  {
   "cell_type": "markdown",
   "id": "fdb8eeb2-8cf8-435f-85ed-d7e56c3a673f",
   "metadata": {},
   "source": [
    "#### Test with DataFrame"
   ]
  },
  {
   "cell_type": "code",
   "execution_count": null,
   "id": "8d51362d-10f4-42f9-bab5-465ec79e7e7b",
   "metadata": {},
   "outputs": [],
   "source": [
    "df_quotes_2020 = pd.read_json(file_path_quotes_2020, compression='bz2')"
   ]
  },
  {
   "cell_type": "markdown",
   "id": "39e5c3dd-3a9a-44dc-aee6-f81696f547fb",
   "metadata": {},
   "source": [
    "#### Test to decompress bz2"
   ]
  },
  {
   "cell_type": "code",
   "execution_count": null,
   "id": "5cff6f67-cca8-4a2f-9a0d-67ca17fd60b9",
   "metadata": {},
   "outputs": [],
   "source": [
    "source_file = bz2.BZ2File(file_path_quotes_2020, \"r\")"
   ]
  },
  {
   "cell_type": "code",
   "execution_count": null,
   "id": "69c4d642-ea86-4dbf-86ef-f813ae4d51f7",
   "metadata": {},
   "outputs": [],
   "source": [
    "source_file.readline()"
   ]
  },
  {
   "cell_type": "code",
   "execution_count": null,
   "id": "0a8a5a5d-6b02-426e-83a5-9f3289249af9",
   "metadata": {},
   "outputs": [],
   "source": [
    "type(source_file)"
   ]
  },
  {
   "cell_type": "markdown",
   "id": "c1d6c955-516f-4049-b448-5c92c1341c32",
   "metadata": {},
   "source": [
    "#### Test with Vaex"
   ]
  },
  {
   "cell_type": "code",
   "execution_count": null,
   "id": "a2fde356-6df7-40e1-9e07-44d62ac38dcf",
   "metadata": {},
   "outputs": [],
   "source": [
    "vaex.from_json('data/quotes-2020.json.bz2')"
   ]
  }
 ],
 "metadata": {
  "kernelspec": {
   "display_name": "Python 3",
   "language": "python",
   "name": "python3"
  },
  "language_info": {
   "codemirror_mode": {
    "name": "ipython",
    "version": 3
   },
   "file_extension": ".py",
   "mimetype": "text/x-python",
   "name": "python",
   "nbconvert_exporter": "python",
   "pygments_lexer": "ipython3",
   "version": "3.8.8"
  }
 },
 "nbformat": 4,
 "nbformat_minor": 5
}
