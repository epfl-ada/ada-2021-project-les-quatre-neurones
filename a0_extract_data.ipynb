{
 "cells": [
  {
   "cell_type": "code",
   "execution_count": 1,
   "id": "3cf638b8",
   "metadata": {},
   "outputs": [],
   "source": [
    "import pandas as pd\n",
    "from tld import get_tld\n",
    "import bz2\n",
    "import json"
   ]
  },
  {
   "cell_type": "markdown",
   "id": "34f19f8d",
   "metadata": {},
   "source": [
    "### Open the data \n",
    "- to manage large dataset https://www.analyticsvidhya.com/blog/2018/08/dask-big-datasets-machine_learning-python/\n",
    "- second option: https://vaex.io/blog/how-to-analyse-100s-of-gbs-of-data-on-your-laptop-with-python"
   ]
  },
  {
   "cell_type": "code",
   "execution_count": 4,
   "id": "63799419",
   "metadata": {},
   "outputs": [],
   "source": [
    "file_path_quotes_2020 = 'data/quotes-2020-domains.json.bz2'"
   ]
  },
  {
   "cell_type": "markdown",
   "id": "04743e74",
   "metadata": {},
   "source": [
    "#### Test with DataFrame"
   ]
  },
  {
   "cell_type": "code",
   "execution_count": null,
   "id": "7242065f",
   "metadata": {},
   "outputs": [],
   "source": [
    "df_quotes_2020 = pd.read_json(file_path_quotes_2020, compression='bz2',lines=True)"
   ]
  },
  {
   "cell_type": "markdown",
   "id": "ff450658",
   "metadata": {},
   "source": [
    "#### Test to decompress bz2"
   ]
  },
  {
   "cell_type": "code",
   "execution_count": null,
   "id": "f4686ee7",
   "metadata": {},
   "outputs": [],
   "source": [
    "source_file = bz2.BZ2File(file_path_quotes_2020, \"r\")\n",
    "source_file.readline()\n",
    "type(source_file)"
   ]
  },
  {
   "cell_type": "markdown",
   "id": "6b8e495f-20fc-43ce-9ce0-42208c4a647d",
   "metadata": {},
   "source": [
    "### Google Colab Code"
   ]
  },
  {
   "cell_type": "code",
   "execution_count": null,
   "id": "22504949-8afd-424b-94b9-d07d3d038ba0",
   "metadata": {},
   "outputs": [],
   "source": [
    "def get_domain(url):\n",
    "    res = get_tld(url, as_object=True)\n",
    "    return res.tld"
   ]
  },
  {
   "cell_type": "code",
   "execution_count": null,
   "id": "da04a2f5-7c64-4f5b-872a-afc64ef62f86",
   "metadata": {},
   "outputs": [],
   "source": [
    "path_to_file = 'data/quotes-2020.json.bz2' \n",
    "path_to_out = '/data/quotes-2020-domains.json.bz2'\n",
    "\n",
    "with bz2.open(path_to_file, 'rb') as s_file:\n",
    "    with bz2.open(path_to_out, 'wb') as d_file:\n",
    "        for instance in s_file:\n",
    "            instance = json.loads(instance) # loading a sample\n",
    "            urls = instance['urls'] # extracting list of links\n",
    "            domains = []\n",
    "            for url in urls:\n",
    "                tld = get_domain(url)\n",
    "                domains.append(tld)\n",
    "            instance['domains'] = domains # updating the sample with domain name\n",
    "            d_file.write((json.dumps(instance)+'\\n').encode('utf-8')) # writing in the new file"
   ]
  },
  {
   "cell_type": "code",
   "execution_count": null,
   "id": "b4037981-920f-45e8-abbf-ce40cccc7cbe",
   "metadata": {},
   "outputs": [],
   "source": []
  }
 ],
 "metadata": {
  "interpreter": {
   "hash": "dca0ade3e726a953b501b15e8e990130d2b7799f14cfd9f4271676035ebe5511"
  },
  "kernelspec": {
   "display_name": "Python 3",
   "language": "python",
   "name": "python3"
  },
  "language_info": {
   "codemirror_mode": {
    "name": "ipython",
    "version": 3
   },
   "file_extension": ".py",
   "mimetype": "text/x-python",
   "name": "python",
   "nbconvert_exporter": "python",
   "pygments_lexer": "ipython3",
   "version": "3.8.8"
  }
 },
 "nbformat": 4,
 "nbformat_minor": 5
}
