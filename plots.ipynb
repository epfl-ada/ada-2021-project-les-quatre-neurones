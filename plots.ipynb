{
 "cells": [
  {
   "cell_type": "code",
   "execution_count": 1,
   "metadata": {},
   "outputs": [],
   "source": [
    "import pandas as pd\n",
    "import numpy as np\n",
    "import bz2\n",
    "import json\n",
    "import findspark\n",
    "findspark.init('/Users/tatianacogne/spark')\n",
    "from pyspark.sql import SparkSession\n",
    "import pyspark.sql.functions as sf\n",
    "from datetime import datetime\n",
    "import plotly.express as px\n",
    "from datetime import timedelta as dt\n",
    "import plotly.graph_objects as go\n",
    "from plotly.subplots import make_subplots\n",
    "pd.options.mode.chained_assignment = None"
   ]
  },
  {
   "cell_type": "markdown",
   "metadata": {},
   "source": [
    "#### Dict and DF useful for this notebook"
   ]
  },
  {
   "cell_type": "code",
   "execution_count": 2,
   "metadata": {},
   "outputs": [],
   "source": [
    "from_qids_to_label_occupation = pd.read_json('data/occupations.json') \n",
    "from_qids_to_label_ethnics = pd.read_json('data/ethnic.json' ) \n",
    "from_qids_to_label_religion = pd.read_json('data/religion.json') \n",
    "from_qids_to_label_nationality = pd.read_json('data/nationality.json') \n",
    "from_qids_to_label_party = pd.read_json('data/party.json') \n",
    "from_qids_to_label_gender = pd.read_json('data/gender.json') \n",
    "\n",
    "df_speakers_attributes = pd.read_parquet('data/speaker_attributes.parquet')"
   ]
  },
  {
   "cell_type": "code",
   "execution_count": 3,
   "metadata": {},
   "outputs": [],
   "source": [
    "id_musk = df_speakers_attributes[df_speakers_attributes.label =='Elon Musk'].id.values[0]"
   ]
  },
  {
   "cell_type": "markdown",
   "metadata": {},
   "source": [
    "### Process for the speaker attributs"
   ]
  },
  {
   "cell_type": "code",
   "execution_count": 4,
   "metadata": {},
   "outputs": [],
   "source": [
    "def map_qids_labels(list_qids,df_):\n",
    "    \"\"\"Transform a list of QIDS into a list of labels, return 0 if the list is empty (which is equal to 0 in the dataframe).\"\"\"\n",
    "    if(type(list_qids)!=int):\n",
    "        return [df_[df_.qids == x].values[0][1] for x in list_qids if x!=0 and len(df_[df_.qids == x].values)>=1]    \n",
    "    else:\n",
    "        return 0  "
   ]
  },
  {
   "cell_type": "code",
   "execution_count": 5,
   "metadata": {},
   "outputs": [],
   "source": [
    "def process_speakers_attributes(df_speakers_attributes):\n",
    "    \"\"\"Add the columns for the party, occupation, religion, ethnics and nationality their labels. Take as input the dataframe with the selected speakers and return the same dataframe with the columns added.\"\"\"\n",
    "    df = df_speakers_attributes[['date_of_birth','nationality','gender','ethnic_group','occupation','id','label','religion','party']]\n",
    "    df = df.rename(columns={'date_of_birth':'birth','nationality':'nationality_qids','gender':'gender_qids','ethnic_group':'ethnics_qids','occupation':'occupations_qids','id':'name_qids','label':'name_label','religion':'religion_qids','party':'party_qids','gender':'gender_qids'})\n",
    "    # Add labels for occupations, ethincs, religion, nationality, party\n",
    "    df = df.fillna(0)\n",
    "    df['occupation_label']= df['occupations_qids'].apply(lambda x : map_qids_labels(x,from_qids_to_label_occupation))\n",
    "    df['ethnics_label']= df['ethnics_qids'].apply(lambda x : map_qids_labels(x,from_qids_to_label_ethnics))\n",
    "    df['religion_label']= df['religion_qids'].apply(lambda x : map_qids_labels(x,from_qids_to_label_religion))\n",
    "    df['nationality_label']= df['nationality_qids'].apply(lambda x : map_qids_labels(x,from_qids_to_label_nationality))\n",
    "    df['party_label']= df['party_qids'].apply(lambda x : map_qids_labels(x,from_qids_to_label_party))\n",
    "    df['gender_label']= df['gender_qids'].apply(lambda x : map_qids_labels(x,from_qids_to_label_gender))\n",
    "    return df\n",
    "    "
   ]
  },
  {
   "cell_type": "markdown",
   "metadata": {},
   "source": [
    "#### Select only the QIDS needed in the analysis"
   ]
  },
  {
   "cell_type": "code",
   "execution_count": 6,
   "metadata": {},
   "outputs": [],
   "source": [
    "def select_speakers(list_qids):\n",
    "    \"\"\"From a list of QIDS of speakers, return the dataframe with only the speakers that are in the list.\"\"\"\n",
    "    return df_speakers_attributes[df_speakers_attributes.id.isin(list_qids)]"
   ]
  },
  {
   "cell_type": "markdown",
   "metadata": {},
   "source": [
    "### Process for the quotes dataframe"
   ]
  },
  {
   "cell_type": "code",
   "execution_count": 36,
   "metadata": {},
   "outputs": [],
   "source": [
    "def process_dataframe_quotes(df_sent, speakers):\n",
    "    \"\"\" Transform the date into a datetime object ('%Y-%m-%d %H:%M:%S). Join the quotes dataframe with the speakers dataframe on the name_qids.\"\"\"\n",
    "    \n",
    "    # Rename the columns and keep only the one needed\n",
    "    df_1 = df_sent[['name_qids','quotation','quote_qids','review','Vader_Sentiment']]\n",
    "    \n",
    "    # Change timestamp in datetime object and add the perdio depending on the time_range list\n",
    "    df_sent['date']= df_sent['date'].apply(lambda x :datetime.strptime(str(x), '%Y-%m-%d %H:%M:%S'))\n",
    "    df_sent['year_month']= df_sent['date'].apply(lambda x :datetime.strptime(str(x)[:7], '%Y-%m'))\n",
    "    \n",
    "    #Join the dataframe with the speakers attributes on the name_qids\n",
    "    df = df_sent.merge(speakers, on='name_qids')\n",
    "    return df\n",
    "  "
   ]
  },
  {
   "cell_type": "markdown",
   "metadata": {},
   "source": [
    "#### Chevrolet"
   ]
  },
  {
   "cell_type": "code",
   "execution_count": 37,
   "metadata": {},
   "outputs": [
    {
     "data": {
      "text/html": [
       "<div>\n",
       "<style scoped>\n",
       "    .dataframe tbody tr th:only-of-type {\n",
       "        vertical-align: middle;\n",
       "    }\n",
       "\n",
       "    .dataframe tbody tr th {\n",
       "        vertical-align: top;\n",
       "    }\n",
       "\n",
       "    .dataframe thead th {\n",
       "        text-align: right;\n",
       "    }\n",
       "</style>\n",
       "<table border=\"1\" class=\"dataframe\">\n",
       "  <thead>\n",
       "    <tr style=\"text-align: right;\">\n",
       "      <th></th>\n",
       "      <th>date</th>\n",
       "      <th>name_qids</th>\n",
       "      <th>quotation</th>\n",
       "      <th>quote_qids</th>\n",
       "      <th>Vader_Sentiment</th>\n",
       "      <th>emotion</th>\n",
       "      <th>review</th>\n",
       "      <th>year_month</th>\n",
       "      <th>name_label_x</th>\n",
       "      <th>occupations_qids_x</th>\n",
       "      <th>occupation_label</th>\n",
       "      <th>nationality_label</th>\n",
       "      <th>name_label_y</th>\n",
       "      <th>occupations_qids_y</th>\n",
       "    </tr>\n",
       "  </thead>\n",
       "  <tbody>\n",
       "    <tr>\n",
       "      <th>0</th>\n",
       "      <td>2015-02-04 05:35:55</td>\n",
       "      <td>Q5178606</td>\n",
       "      <td>I've had to go back 10 years of my program fin...</td>\n",
       "      <td>53298</td>\n",
       "      <td>0.0000</td>\n",
       "      <td>Surprise</td>\n",
       "      <td>5</td>\n",
       "      <td>2015-02-01</td>\n",
       "      <td>Courtney Force</td>\n",
       "      <td>[Q378622]</td>\n",
       "      <td>[racing driver]</td>\n",
       "      <td>[United States of America]</td>\n",
       "      <td>Courtney Force</td>\n",
       "      <td>[Q378622]</td>\n",
       "    </tr>\n",
       "    <tr>\n",
       "      <th>1</th>\n",
       "      <td>2015-10-31 09:27:41</td>\n",
       "      <td>Q5178606</td>\n",
       "      <td>Robert Hight stepped up with Mike Neff and tha...</td>\n",
       "      <td>50268</td>\n",
       "      <td>0.0000</td>\n",
       "      <td>Happy</td>\n",
       "      <td>5</td>\n",
       "      <td>2015-10-01</td>\n",
       "      <td>Courtney Force</td>\n",
       "      <td>[Q378622]</td>\n",
       "      <td>[racing driver]</td>\n",
       "      <td>[United States of America]</td>\n",
       "      <td>Courtney Force</td>\n",
       "      <td>[Q378622]</td>\n",
       "    </tr>\n",
       "    <tr>\n",
       "      <th>2</th>\n",
       "      <td>2015-07-25 11:08:06</td>\n",
       "      <td>Q5178606</td>\n",
       "      <td>I saw (crew chief Jon) Schaffer running for th...</td>\n",
       "      <td>21150</td>\n",
       "      <td>0.9834</td>\n",
       "      <td>Happy</td>\n",
       "      <td>4</td>\n",
       "      <td>2015-07-01</td>\n",
       "      <td>Courtney Force</td>\n",
       "      <td>[Q378622]</td>\n",
       "      <td>[racing driver]</td>\n",
       "      <td>[United States of America]</td>\n",
       "      <td>Courtney Force</td>\n",
       "      <td>[Q378622]</td>\n",
       "    </tr>\n",
       "  </tbody>\n",
       "</table>\n",
       "</div>"
      ],
      "text/plain": [
       "                 date name_qids  \\\n",
       "0 2015-02-04 05:35:55  Q5178606   \n",
       "1 2015-10-31 09:27:41  Q5178606   \n",
       "2 2015-07-25 11:08:06  Q5178606   \n",
       "\n",
       "                                           quotation  quote_qids  \\\n",
       "0  I've had to go back 10 years of my program fin...       53298   \n",
       "1  Robert Hight stepped up with Mike Neff and tha...       50268   \n",
       "2  I saw (crew chief Jon) Schaffer running for th...       21150   \n",
       "\n",
       "   Vader_Sentiment   emotion  review year_month    name_label_x  \\\n",
       "0           0.0000  Surprise       5 2015-02-01  Courtney Force   \n",
       "1           0.0000     Happy       5 2015-10-01  Courtney Force   \n",
       "2           0.9834     Happy       4 2015-07-01  Courtney Force   \n",
       "\n",
       "  occupations_qids_x occupation_label           nationality_label  \\\n",
       "0          [Q378622]  [racing driver]  [United States of America]   \n",
       "1          [Q378622]  [racing driver]  [United States of America]   \n",
       "2          [Q378622]  [racing driver]  [United States of America]   \n",
       "\n",
       "     name_label_y occupations_qids_y  \n",
       "0  Courtney Force          [Q378622]  \n",
       "1  Courtney Force          [Q378622]  \n",
       "2  Courtney Force          [Q378622]  "
      ]
     },
     "execution_count": 37,
     "metadata": {},
     "output_type": "execute_result"
    }
   ],
   "source": [
    "df_chevrolet= pd.read_json('data/chevrolet_sentiment.json')\n",
    "\n",
    "list_qids_chevrolet = df_chevrolet.drop_duplicates(['name_qids']).name_qids.values\n",
    "df = select_speakers(list_qids_chevrolet)\n",
    "df_speakers_att_chevrolet = process_speakers_attributes(df)\n",
    "\n",
    "speakers = df_speakers_att_chevrolet[['name_qids','name_label','occupations_qids']]\n",
    "df_chevrolet = process_dataframe_quotes(df_chevrolet, speakers)\n",
    "df_chevrolet.head(3)"
   ]
  },
  {
   "cell_type": "markdown",
   "metadata": {},
   "source": [
    "#### Tesla"
   ]
  },
  {
   "cell_type": "code",
   "execution_count": 9,
   "metadata": {},
   "outputs": [
    {
     "data": {
      "text/html": [
       "<div>\n",
       "<style scoped>\n",
       "    .dataframe tbody tr th:only-of-type {\n",
       "        vertical-align: middle;\n",
       "    }\n",
       "\n",
       "    .dataframe tbody tr th {\n",
       "        vertical-align: top;\n",
       "    }\n",
       "\n",
       "    .dataframe thead th {\n",
       "        text-align: right;\n",
       "    }\n",
       "</style>\n",
       "<table border=\"1\" class=\"dataframe\">\n",
       "  <thead>\n",
       "    <tr style=\"text-align: right;\">\n",
       "      <th></th>\n",
       "      <th>date</th>\n",
       "      <th>name_qids</th>\n",
       "      <th>quotation</th>\n",
       "      <th>quote_qids</th>\n",
       "      <th>Vader_Sentiment</th>\n",
       "      <th>emotion</th>\n",
       "      <th>review</th>\n",
       "      <th>year_month</th>\n",
       "      <th>name_label_x</th>\n",
       "      <th>occupations_qids_x</th>\n",
       "      <th>occupation_label</th>\n",
       "      <th>nationality_label</th>\n",
       "      <th>name_label_y</th>\n",
       "      <th>occupations_qids_y</th>\n",
       "    </tr>\n",
       "  </thead>\n",
       "  <tbody>\n",
       "    <tr>\n",
       "      <th>0</th>\n",
       "      <td>2015-04-17 17:55:00</td>\n",
       "      <td>Q6751189</td>\n",
       "      <td>The policy will concentrate on `A' category st...</td>\n",
       "      <td>76279</td>\n",
       "      <td>0.0000</td>\n",
       "      <td>Fear</td>\n",
       "      <td>4</td>\n",
       "      <td>2015-04-01</td>\n",
       "      <td>Manoj Sinha</td>\n",
       "      <td>[Q82955]</td>\n",
       "      <td>[politician]</td>\n",
       "      <td>[India]</td>\n",
       "      <td>Manoj Sinha</td>\n",
       "      <td>[Q82955]</td>\n",
       "    </tr>\n",
       "    <tr>\n",
       "      <th>1</th>\n",
       "      <td>2015-10-29 16:31:31</td>\n",
       "      <td>Q4934</td>\n",
       "      <td>As Sergey and I wrote in the original founders...</td>\n",
       "      <td>10100</td>\n",
       "      <td>0.6908</td>\n",
       "      <td>Surprise</td>\n",
       "      <td>4</td>\n",
       "      <td>2015-10-01</td>\n",
       "      <td>Larry Page</td>\n",
       "      <td>[Q131524, Q82594, Q81096]</td>\n",
       "      <td>[entrepreneur, computer scientist, engineer]</td>\n",
       "      <td>[United States of America]</td>\n",
       "      <td>Larry Page</td>\n",
       "      <td>[Q131524, Q82594, Q81096]</td>\n",
       "    </tr>\n",
       "    <tr>\n",
       "      <th>2</th>\n",
       "      <td>2015-04-20 23:38:36</td>\n",
       "      <td>Q4934</td>\n",
       "      <td>In the first week of March 2013, Musk reached ...</td>\n",
       "      <td>30429</td>\n",
       "      <td>0.5423</td>\n",
       "      <td>Fear</td>\n",
       "      <td>1</td>\n",
       "      <td>2015-04-01</td>\n",
       "      <td>Larry Page</td>\n",
       "      <td>[Q131524, Q82594, Q81096]</td>\n",
       "      <td>[entrepreneur, computer scientist, engineer]</td>\n",
       "      <td>[United States of America]</td>\n",
       "      <td>Larry Page</td>\n",
       "      <td>[Q131524, Q82594, Q81096]</td>\n",
       "    </tr>\n",
       "  </tbody>\n",
       "</table>\n",
       "</div>"
      ],
      "text/plain": [
       "                 date name_qids  \\\n",
       "0 2015-04-17 17:55:00  Q6751189   \n",
       "1 2015-10-29 16:31:31     Q4934   \n",
       "2 2015-04-20 23:38:36     Q4934   \n",
       "\n",
       "                                           quotation  quote_qids  \\\n",
       "0  The policy will concentrate on `A' category st...       76279   \n",
       "1  As Sergey and I wrote in the original founders...       10100   \n",
       "2  In the first week of March 2013, Musk reached ...       30429   \n",
       "\n",
       "   Vader_Sentiment   emotion  review year_month name_label_x  \\\n",
       "0           0.0000      Fear       4 2015-04-01  Manoj Sinha   \n",
       "1           0.6908  Surprise       4 2015-10-01   Larry Page   \n",
       "2           0.5423      Fear       1 2015-04-01   Larry Page   \n",
       "\n",
       "          occupations_qids_x                              occupation_label  \\\n",
       "0                   [Q82955]                                  [politician]   \n",
       "1  [Q131524, Q82594, Q81096]  [entrepreneur, computer scientist, engineer]   \n",
       "2  [Q131524, Q82594, Q81096]  [entrepreneur, computer scientist, engineer]   \n",
       "\n",
       "            nationality_label name_label_y         occupations_qids_y  \n",
       "0                     [India]  Manoj Sinha                   [Q82955]  \n",
       "1  [United States of America]   Larry Page  [Q131524, Q82594, Q81096]  \n",
       "2  [United States of America]   Larry Page  [Q131524, Q82594, Q81096]  "
      ]
     },
     "execution_count": 9,
     "metadata": {},
     "output_type": "execute_result"
    }
   ],
   "source": [
    "df_tesla= pd.read_json('data/tesla_sentiment.json')\n",
    "df_tesla.head(3)\n",
    "\n",
    "list_qids_tesla = [x for x in df_tesla.drop_duplicates(['name_qids']).name_qids.values if x!= id_musk]\n",
    "\n",
    "df = select_speakers(list_qids_tesla)\n",
    "df_speakers_att_tesla = process_speakers_attributes(df)\n",
    "df_speakers_att_tesla.head(3)\n",
    "\n",
    "speakers = df_speakers_att_tesla[['name_qids','name_label','occupations_qids']]\n",
    "df_tesla = process_dataframe_quotes(df_tesla, speakers)\n",
    "df_tesla.head(3)"
   ]
  },
  {
   "cell_type": "markdown",
   "metadata": {},
   "source": [
    "### General Plot"
   ]
  },
  {
   "cell_type": "code",
   "execution_count": 38,
   "metadata": {},
   "outputs": [
    {
     "data": {
      "application/vnd.plotly.v1+json": {
       "config": {
        "plotlyServerURL": "https://plot.ly"
       },
       "data": [
        {
         "type": "bar",
         "x": [
          "2015-01-01T00:00:00",
          "2015-02-01T00:00:00",
          "2015-03-01T00:00:00",
          "2015-04-01T00:00:00",
          "2015-05-01T00:00:00",
          "2015-06-01T00:00:00",
          "2015-07-01T00:00:00",
          "2015-08-01T00:00:00",
          "2015-09-01T00:00:00",
          "2015-10-01T00:00:00",
          "2015-11-01T00:00:00",
          "2015-12-01T00:00:00",
          "2016-01-01T00:00:00",
          "2016-02-01T00:00:00",
          "2016-04-01T00:00:00",
          "2016-05-01T00:00:00",
          "2016-06-01T00:00:00",
          "2016-07-01T00:00:00",
          "2016-08-01T00:00:00",
          "2016-09-01T00:00:00",
          "2016-10-01T00:00:00",
          "2016-11-01T00:00:00",
          "2016-12-01T00:00:00",
          "2017-01-01T00:00:00",
          "2017-02-01T00:00:00",
          "2017-03-01T00:00:00",
          "2017-04-01T00:00:00",
          "2017-05-01T00:00:00",
          "2017-06-01T00:00:00",
          "2017-07-01T00:00:00",
          "2017-08-01T00:00:00",
          "2017-09-01T00:00:00",
          "2017-10-01T00:00:00",
          "2017-11-01T00:00:00",
          "2017-12-01T00:00:00",
          "2018-01-01T00:00:00",
          "2018-02-01T00:00:00",
          "2018-03-01T00:00:00",
          "2018-04-01T00:00:00",
          "2018-05-01T00:00:00",
          "2018-06-01T00:00:00",
          "2018-07-01T00:00:00",
          "2018-08-01T00:00:00",
          "2018-09-01T00:00:00",
          "2018-10-01T00:00:00",
          "2018-11-01T00:00:00",
          "2018-12-01T00:00:00",
          "2019-01-01T00:00:00",
          "2019-02-01T00:00:00",
          "2019-03-01T00:00:00",
          "2019-04-01T00:00:00",
          "2019-05-01T00:00:00",
          "2019-06-01T00:00:00",
          "2019-07-01T00:00:00",
          "2019-08-01T00:00:00",
          "2019-09-01T00:00:00",
          "2019-10-01T00:00:00",
          "2019-11-01T00:00:00",
          "2019-12-01T00:00:00",
          "2020-01-01T00:00:00",
          "2020-02-01T00:00:00",
          "2020-03-01T00:00:00",
          "2020-04-01T00:00:00"
         ],
         "xaxis": "x",
         "y": [
          63,
          76,
          77,
          86,
          75,
          51,
          66,
          61,
          76,
          96,
          60,
          28,
          1,
          43,
          48,
          112,
          2,
          87,
          106,
          92,
          2,
          5,
          26,
          1,
          30,
          81,
          61,
          91,
          74,
          109,
          95,
          86,
          62,
          73,
          40,
          45,
          47,
          61,
          80,
          73,
          75,
          89,
          61,
          59,
          26,
          46,
          41,
          37,
          45,
          59,
          74,
          78,
          53,
          53,
          64,
          23,
          50,
          33,
          18,
          27,
          28,
          16,
          7
         ],
         "yaxis": "y"
        },
        {
         "type": "scatter",
         "x": [
          "2015-01-01T00:00:00",
          "2015-02-01T00:00:00",
          "2015-03-01T00:00:00",
          "2015-04-01T00:00:00",
          "2015-05-01T00:00:00",
          "2015-06-01T00:00:00",
          "2015-07-01T00:00:00",
          "2015-08-01T00:00:00",
          "2015-09-01T00:00:00",
          "2015-10-01T00:00:00",
          "2015-11-01T00:00:00",
          "2015-12-01T00:00:00",
          "2016-01-01T00:00:00",
          "2016-02-01T00:00:00",
          "2016-04-01T00:00:00",
          "2016-05-01T00:00:00",
          "2016-06-01T00:00:00",
          "2016-07-01T00:00:00",
          "2016-08-01T00:00:00",
          "2016-09-01T00:00:00",
          "2016-10-01T00:00:00",
          "2016-11-01T00:00:00",
          "2016-12-01T00:00:00",
          "2017-01-01T00:00:00",
          "2017-02-01T00:00:00",
          "2017-03-01T00:00:00",
          "2017-04-01T00:00:00",
          "2017-05-01T00:00:00",
          "2017-06-01T00:00:00",
          "2017-07-01T00:00:00",
          "2017-08-01T00:00:00",
          "2017-09-01T00:00:00",
          "2017-10-01T00:00:00",
          "2017-11-01T00:00:00",
          "2017-12-01T00:00:00",
          "2018-01-01T00:00:00",
          "2018-02-01T00:00:00",
          "2018-03-01T00:00:00",
          "2018-04-01T00:00:00",
          "2018-05-01T00:00:00",
          "2018-06-01T00:00:00",
          "2018-07-01T00:00:00",
          "2018-08-01T00:00:00",
          "2018-09-01T00:00:00",
          "2018-10-01T00:00:00",
          "2018-11-01T00:00:00",
          "2018-12-01T00:00:00",
          "2019-01-01T00:00:00",
          "2019-02-01T00:00:00",
          "2019-03-01T00:00:00",
          "2019-04-01T00:00:00",
          "2019-05-01T00:00:00",
          "2019-06-01T00:00:00",
          "2019-07-01T00:00:00",
          "2019-08-01T00:00:00",
          "2019-09-01T00:00:00",
          "2019-10-01T00:00:00",
          "2019-11-01T00:00:00",
          "2019-12-01T00:00:00",
          "2020-01-01T00:00:00",
          "2020-02-01T00:00:00",
          "2020-03-01T00:00:00",
          "2020-04-01T00:00:00"
         ],
         "xaxis": "x2",
         "y": [
          0.5575476190476191,
          0.6126921052631576,
          0.5490805194805195,
          0.6053476744186047,
          0.5441093333333336,
          0.49725490196078426,
          0.5294681818181819,
          0.6201606557377048,
          0.611813157894737,
          0.6074322916666669,
          0.5375850000000002,
          0.37864642857142855,
          0.9661000000000001,
          0.5879674418604651,
          0.54966875,
          0.5960178571428575,
          0.45680000000000004,
          0.5808160919540232,
          0.6204858490566036,
          0.5635717391304347,
          -0.16120000000000004,
          0.43846000000000007,
          0.43718461538461545,
          0,
          0.5106166666666668,
          0.5291617283950619,
          0.45891967213114754,
          0.5525340659340661,
          0.5352918918918919,
          0.5233321100917431,
          0.49886,
          0.6136779069767441,
          0.34325806451612917,
          0.5026191780821917,
          0.339005,
          0.5946888888888889,
          0.31800851063829777,
          0.4471557377049182,
          0.5131725000000005,
          0.5182657534246577,
          0.5912266666666667,
          0.5197303370786515,
          0.5044032786885246,
          0.4900593220338983,
          0.49790384615384625,
          0.41714565217391314,
          0.5022609756097562,
          0.4700756756756756,
          0.5218666666666668,
          0.5197762711864405,
          0.5903554054054052,
          0.628035897435897,
          0.4677849056603772,
          0.5122962264150944,
          0.4817250000000001,
          0.4242652173913043,
          0.42854200000000003,
          0.4948969696969697,
          0.32167777777777784,
          0.5451333333333334,
          0.49432142857142874,
          0.31726250000000006,
          0.7915
         ],
         "yaxis": "y2"
        }
       ],
       "layout": {
        "template": {
         "data": {
          "bar": [
           {
            "error_x": {
             "color": "#2a3f5f"
            },
            "error_y": {
             "color": "#2a3f5f"
            },
            "marker": {
             "line": {
              "color": "#E5ECF6",
              "width": 0.5
             }
            },
            "type": "bar"
           }
          ],
          "barpolar": [
           {
            "marker": {
             "line": {
              "color": "#E5ECF6",
              "width": 0.5
             }
            },
            "type": "barpolar"
           }
          ],
          "carpet": [
           {
            "aaxis": {
             "endlinecolor": "#2a3f5f",
             "gridcolor": "white",
             "linecolor": "white",
             "minorgridcolor": "white",
             "startlinecolor": "#2a3f5f"
            },
            "baxis": {
             "endlinecolor": "#2a3f5f",
             "gridcolor": "white",
             "linecolor": "white",
             "minorgridcolor": "white",
             "startlinecolor": "#2a3f5f"
            },
            "type": "carpet"
           }
          ],
          "choropleth": [
           {
            "colorbar": {
             "outlinewidth": 0,
             "ticks": ""
            },
            "type": "choropleth"
           }
          ],
          "contour": [
           {
            "colorbar": {
             "outlinewidth": 0,
             "ticks": ""
            },
            "colorscale": [
             [
              0,
              "#0d0887"
             ],
             [
              0.1111111111111111,
              "#46039f"
             ],
             [
              0.2222222222222222,
              "#7201a8"
             ],
             [
              0.3333333333333333,
              "#9c179e"
             ],
             [
              0.4444444444444444,
              "#bd3786"
             ],
             [
              0.5555555555555556,
              "#d8576b"
             ],
             [
              0.6666666666666666,
              "#ed7953"
             ],
             [
              0.7777777777777778,
              "#fb9f3a"
             ],
             [
              0.8888888888888888,
              "#fdca26"
             ],
             [
              1,
              "#f0f921"
             ]
            ],
            "type": "contour"
           }
          ],
          "contourcarpet": [
           {
            "colorbar": {
             "outlinewidth": 0,
             "ticks": ""
            },
            "type": "contourcarpet"
           }
          ],
          "heatmap": [
           {
            "colorbar": {
             "outlinewidth": 0,
             "ticks": ""
            },
            "colorscale": [
             [
              0,
              "#0d0887"
             ],
             [
              0.1111111111111111,
              "#46039f"
             ],
             [
              0.2222222222222222,
              "#7201a8"
             ],
             [
              0.3333333333333333,
              "#9c179e"
             ],
             [
              0.4444444444444444,
              "#bd3786"
             ],
             [
              0.5555555555555556,
              "#d8576b"
             ],
             [
              0.6666666666666666,
              "#ed7953"
             ],
             [
              0.7777777777777778,
              "#fb9f3a"
             ],
             [
              0.8888888888888888,
              "#fdca26"
             ],
             [
              1,
              "#f0f921"
             ]
            ],
            "type": "heatmap"
           }
          ],
          "heatmapgl": [
           {
            "colorbar": {
             "outlinewidth": 0,
             "ticks": ""
            },
            "colorscale": [
             [
              0,
              "#0d0887"
             ],
             [
              0.1111111111111111,
              "#46039f"
             ],
             [
              0.2222222222222222,
              "#7201a8"
             ],
             [
              0.3333333333333333,
              "#9c179e"
             ],
             [
              0.4444444444444444,
              "#bd3786"
             ],
             [
              0.5555555555555556,
              "#d8576b"
             ],
             [
              0.6666666666666666,
              "#ed7953"
             ],
             [
              0.7777777777777778,
              "#fb9f3a"
             ],
             [
              0.8888888888888888,
              "#fdca26"
             ],
             [
              1,
              "#f0f921"
             ]
            ],
            "type": "heatmapgl"
           }
          ],
          "histogram": [
           {
            "marker": {
             "colorbar": {
              "outlinewidth": 0,
              "ticks": ""
             }
            },
            "type": "histogram"
           }
          ],
          "histogram2d": [
           {
            "colorbar": {
             "outlinewidth": 0,
             "ticks": ""
            },
            "colorscale": [
             [
              0,
              "#0d0887"
             ],
             [
              0.1111111111111111,
              "#46039f"
             ],
             [
              0.2222222222222222,
              "#7201a8"
             ],
             [
              0.3333333333333333,
              "#9c179e"
             ],
             [
              0.4444444444444444,
              "#bd3786"
             ],
             [
              0.5555555555555556,
              "#d8576b"
             ],
             [
              0.6666666666666666,
              "#ed7953"
             ],
             [
              0.7777777777777778,
              "#fb9f3a"
             ],
             [
              0.8888888888888888,
              "#fdca26"
             ],
             [
              1,
              "#f0f921"
             ]
            ],
            "type": "histogram2d"
           }
          ],
          "histogram2dcontour": [
           {
            "colorbar": {
             "outlinewidth": 0,
             "ticks": ""
            },
            "colorscale": [
             [
              0,
              "#0d0887"
             ],
             [
              0.1111111111111111,
              "#46039f"
             ],
             [
              0.2222222222222222,
              "#7201a8"
             ],
             [
              0.3333333333333333,
              "#9c179e"
             ],
             [
              0.4444444444444444,
              "#bd3786"
             ],
             [
              0.5555555555555556,
              "#d8576b"
             ],
             [
              0.6666666666666666,
              "#ed7953"
             ],
             [
              0.7777777777777778,
              "#fb9f3a"
             ],
             [
              0.8888888888888888,
              "#fdca26"
             ],
             [
              1,
              "#f0f921"
             ]
            ],
            "type": "histogram2dcontour"
           }
          ],
          "mesh3d": [
           {
            "colorbar": {
             "outlinewidth": 0,
             "ticks": ""
            },
            "type": "mesh3d"
           }
          ],
          "parcoords": [
           {
            "line": {
             "colorbar": {
              "outlinewidth": 0,
              "ticks": ""
             }
            },
            "type": "parcoords"
           }
          ],
          "pie": [
           {
            "automargin": true,
            "type": "pie"
           }
          ],
          "scatter": [
           {
            "marker": {
             "colorbar": {
              "outlinewidth": 0,
              "ticks": ""
             }
            },
            "type": "scatter"
           }
          ],
          "scatter3d": [
           {
            "line": {
             "colorbar": {
              "outlinewidth": 0,
              "ticks": ""
             }
            },
            "marker": {
             "colorbar": {
              "outlinewidth": 0,
              "ticks": ""
             }
            },
            "type": "scatter3d"
           }
          ],
          "scattercarpet": [
           {
            "marker": {
             "colorbar": {
              "outlinewidth": 0,
              "ticks": ""
             }
            },
            "type": "scattercarpet"
           }
          ],
          "scattergeo": [
           {
            "marker": {
             "colorbar": {
              "outlinewidth": 0,
              "ticks": ""
             }
            },
            "type": "scattergeo"
           }
          ],
          "scattergl": [
           {
            "marker": {
             "colorbar": {
              "outlinewidth": 0,
              "ticks": ""
             }
            },
            "type": "scattergl"
           }
          ],
          "scattermapbox": [
           {
            "marker": {
             "colorbar": {
              "outlinewidth": 0,
              "ticks": ""
             }
            },
            "type": "scattermapbox"
           }
          ],
          "scatterpolar": [
           {
            "marker": {
             "colorbar": {
              "outlinewidth": 0,
              "ticks": ""
             }
            },
            "type": "scatterpolar"
           }
          ],
          "scatterpolargl": [
           {
            "marker": {
             "colorbar": {
              "outlinewidth": 0,
              "ticks": ""
             }
            },
            "type": "scatterpolargl"
           }
          ],
          "scatterternary": [
           {
            "marker": {
             "colorbar": {
              "outlinewidth": 0,
              "ticks": ""
             }
            },
            "type": "scatterternary"
           }
          ],
          "surface": [
           {
            "colorbar": {
             "outlinewidth": 0,
             "ticks": ""
            },
            "colorscale": [
             [
              0,
              "#0d0887"
             ],
             [
              0.1111111111111111,
              "#46039f"
             ],
             [
              0.2222222222222222,
              "#7201a8"
             ],
             [
              0.3333333333333333,
              "#9c179e"
             ],
             [
              0.4444444444444444,
              "#bd3786"
             ],
             [
              0.5555555555555556,
              "#d8576b"
             ],
             [
              0.6666666666666666,
              "#ed7953"
             ],
             [
              0.7777777777777778,
              "#fb9f3a"
             ],
             [
              0.8888888888888888,
              "#fdca26"
             ],
             [
              1,
              "#f0f921"
             ]
            ],
            "type": "surface"
           }
          ],
          "table": [
           {
            "cells": {
             "fill": {
              "color": "#EBF0F8"
             },
             "line": {
              "color": "white"
             }
            },
            "header": {
             "fill": {
              "color": "#C8D4E3"
             },
             "line": {
              "color": "white"
             }
            },
            "type": "table"
           }
          ]
         },
         "layout": {
          "annotationdefaults": {
           "arrowcolor": "#2a3f5f",
           "arrowhead": 0,
           "arrowwidth": 1
          },
          "autotypenumbers": "strict",
          "coloraxis": {
           "colorbar": {
            "outlinewidth": 0,
            "ticks": ""
           }
          },
          "colorscale": {
           "diverging": [
            [
             0,
             "#8e0152"
            ],
            [
             0.1,
             "#c51b7d"
            ],
            [
             0.2,
             "#de77ae"
            ],
            [
             0.3,
             "#f1b6da"
            ],
            [
             0.4,
             "#fde0ef"
            ],
            [
             0.5,
             "#f7f7f7"
            ],
            [
             0.6,
             "#e6f5d0"
            ],
            [
             0.7,
             "#b8e186"
            ],
            [
             0.8,
             "#7fbc41"
            ],
            [
             0.9,
             "#4d9221"
            ],
            [
             1,
             "#276419"
            ]
           ],
           "sequential": [
            [
             0,
             "#0d0887"
            ],
            [
             0.1111111111111111,
             "#46039f"
            ],
            [
             0.2222222222222222,
             "#7201a8"
            ],
            [
             0.3333333333333333,
             "#9c179e"
            ],
            [
             0.4444444444444444,
             "#bd3786"
            ],
            [
             0.5555555555555556,
             "#d8576b"
            ],
            [
             0.6666666666666666,
             "#ed7953"
            ],
            [
             0.7777777777777778,
             "#fb9f3a"
            ],
            [
             0.8888888888888888,
             "#fdca26"
            ],
            [
             1,
             "#f0f921"
            ]
           ],
           "sequentialminus": [
            [
             0,
             "#0d0887"
            ],
            [
             0.1111111111111111,
             "#46039f"
            ],
            [
             0.2222222222222222,
             "#7201a8"
            ],
            [
             0.3333333333333333,
             "#9c179e"
            ],
            [
             0.4444444444444444,
             "#bd3786"
            ],
            [
             0.5555555555555556,
             "#d8576b"
            ],
            [
             0.6666666666666666,
             "#ed7953"
            ],
            [
             0.7777777777777778,
             "#fb9f3a"
            ],
            [
             0.8888888888888888,
             "#fdca26"
            ],
            [
             1,
             "#f0f921"
            ]
           ]
          },
          "colorway": [
           "#636efa",
           "#EF553B",
           "#00cc96",
           "#ab63fa",
           "#FFA15A",
           "#19d3f3",
           "#FF6692",
           "#B6E880",
           "#FF97FF",
           "#FECB52"
          ],
          "font": {
           "color": "#2a3f5f"
          },
          "geo": {
           "bgcolor": "white",
           "lakecolor": "white",
           "landcolor": "#E5ECF6",
           "showlakes": true,
           "showland": true,
           "subunitcolor": "white"
          },
          "hoverlabel": {
           "align": "left"
          },
          "hovermode": "closest",
          "mapbox": {
           "style": "light"
          },
          "paper_bgcolor": "white",
          "plot_bgcolor": "#E5ECF6",
          "polar": {
           "angularaxis": {
            "gridcolor": "white",
            "linecolor": "white",
            "ticks": ""
           },
           "bgcolor": "#E5ECF6",
           "radialaxis": {
            "gridcolor": "white",
            "linecolor": "white",
            "ticks": ""
           }
          },
          "scene": {
           "xaxis": {
            "backgroundcolor": "#E5ECF6",
            "gridcolor": "white",
            "gridwidth": 2,
            "linecolor": "white",
            "showbackground": true,
            "ticks": "",
            "zerolinecolor": "white"
           },
           "yaxis": {
            "backgroundcolor": "#E5ECF6",
            "gridcolor": "white",
            "gridwidth": 2,
            "linecolor": "white",
            "showbackground": true,
            "ticks": "",
            "zerolinecolor": "white"
           },
           "zaxis": {
            "backgroundcolor": "#E5ECF6",
            "gridcolor": "white",
            "gridwidth": 2,
            "linecolor": "white",
            "showbackground": true,
            "ticks": "",
            "zerolinecolor": "white"
           }
          },
          "shapedefaults": {
           "line": {
            "color": "#2a3f5f"
           }
          },
          "ternary": {
           "aaxis": {
            "gridcolor": "white",
            "linecolor": "white",
            "ticks": ""
           },
           "baxis": {
            "gridcolor": "white",
            "linecolor": "white",
            "ticks": ""
           },
           "bgcolor": "#E5ECF6",
           "caxis": {
            "gridcolor": "white",
            "linecolor": "white",
            "ticks": ""
           }
          },
          "title": {
           "x": 0.05
          },
          "xaxis": {
           "automargin": true,
           "gridcolor": "white",
           "linecolor": "white",
           "ticks": "",
           "title": {
            "standoff": 15
           },
           "zerolinecolor": "white",
           "zerolinewidth": 2
          },
          "yaxis": {
           "automargin": true,
           "gridcolor": "white",
           "linecolor": "white",
           "ticks": "",
           "title": {
            "standoff": 15
           },
           "zerolinecolor": "white",
           "zerolinewidth": 2
          }
         }
        },
        "xaxis": {
         "anchor": "y",
         "domain": [
          0,
          1
         ]
        },
        "xaxis2": {
         "anchor": "y2",
         "domain": [
          0,
          1
         ]
        },
        "yaxis": {
         "anchor": "x",
         "domain": [
          0.4,
          1
         ]
        },
        "yaxis2": {
         "anchor": "x2",
         "domain": [
          0,
          0.3
         ]
        }
       }
      }
     },
     "metadata": {},
     "output_type": "display_data"
    }
   ],
   "source": [
    "df_chevrolet_plot = df_chevrolet.groupby(by='year_month').mean().reset_index()\n",
    "df_chevrolet_plot_review = df_chevrolet_plot[['year_month','Vader_Sentiment']]\n",
    "df_chevrolet_plot_review['count_'] = df_chevrolet.groupby(by='year_month').count().reset_index()['date']\n",
    "\n",
    "fig = make_subplots(rows=2, cols=1, row_heights=[2, 1],vertical_spacing=0.1)\n",
    "fig.add_trace(go.Bar(x=df_chevrolet_plot_review.year_month, y=df_chevrolet_plot_review.count_,),row=1, col=1)\n",
    "fig.add_trace(go.Scatter(x=df_chevrolet_plot_review.year_month, y=df_chevrolet_plot_review.Vader_Sentiment),row=2, col=1)\n",
    "fig.show()"
   ]
  },
  {
   "cell_type": "code",
   "execution_count": 39,
   "metadata": {},
   "outputs": [
    {
     "data": {
      "application/vnd.plotly.v1+json": {
       "config": {
        "plotlyServerURL": "https://plot.ly"
       },
       "data": [
        {
         "type": "bar",
         "x": [
          "2015-01-01T00:00:00",
          "2015-02-01T00:00:00",
          "2015-03-01T00:00:00",
          "2015-04-01T00:00:00",
          "2015-05-01T00:00:00",
          "2015-06-01T00:00:00",
          "2015-07-01T00:00:00",
          "2015-08-01T00:00:00",
          "2015-09-01T00:00:00",
          "2015-10-01T00:00:00",
          "2015-11-01T00:00:00",
          "2015-12-01T00:00:00",
          "2016-01-01T00:00:00",
          "2016-02-01T00:00:00",
          "2016-03-01T00:00:00",
          "2016-04-01T00:00:00",
          "2016-05-01T00:00:00",
          "2016-06-01T00:00:00",
          "2016-07-01T00:00:00",
          "2016-08-01T00:00:00",
          "2016-09-01T00:00:00",
          "2016-10-01T00:00:00",
          "2016-11-01T00:00:00",
          "2016-12-01T00:00:00",
          "2017-01-01T00:00:00",
          "2017-02-01T00:00:00",
          "2017-03-01T00:00:00",
          "2017-04-01T00:00:00",
          "2017-05-01T00:00:00",
          "2017-06-01T00:00:00",
          "2017-07-01T00:00:00",
          "2017-08-01T00:00:00",
          "2017-09-01T00:00:00",
          "2017-10-01T00:00:00",
          "2017-11-01T00:00:00",
          "2017-12-01T00:00:00",
          "2018-01-01T00:00:00",
          "2018-02-01T00:00:00",
          "2018-03-01T00:00:00",
          "2018-04-01T00:00:00",
          "2018-05-01T00:00:00",
          "2018-06-01T00:00:00",
          "2018-07-01T00:00:00",
          "2018-08-01T00:00:00",
          "2018-09-01T00:00:00",
          "2018-10-01T00:00:00",
          "2018-11-01T00:00:00",
          "2018-12-01T00:00:00",
          "2019-01-01T00:00:00",
          "2019-02-01T00:00:00",
          "2019-03-01T00:00:00",
          "2019-04-01T00:00:00",
          "2019-05-01T00:00:00",
          "2019-06-01T00:00:00",
          "2019-07-01T00:00:00",
          "2019-08-01T00:00:00",
          "2019-09-01T00:00:00",
          "2019-10-01T00:00:00",
          "2019-11-01T00:00:00",
          "2019-12-01T00:00:00",
          "2020-01-01T00:00:00",
          "2020-02-01T00:00:00",
          "2020-03-01T00:00:00",
          "2020-04-01T00:00:00"
         ],
         "xaxis": "x",
         "y": [
          138,
          157,
          150,
          111,
          103,
          68,
          93,
          172,
          176,
          199,
          128,
          122,
          5,
          61,
          3,
          102,
          242,
          10,
          279,
          206,
          217,
          3,
          8,
          160,
          8,
          77,
          199,
          235,
          262,
          223,
          235,
          243,
          218,
          256,
          260,
          200,
          239,
          246,
          250,
          227,
          267,
          206,
          220,
          289,
          272,
          257,
          209,
          153,
          194,
          181,
          197,
          175,
          214,
          192,
          125,
          153,
          156,
          195,
          228,
          147,
          225,
          198,
          108,
          57
         ],
         "yaxis": "y"
        },
        {
         "type": "scatter",
         "x": [
          "2015-01-01T00:00:00",
          "2015-02-01T00:00:00",
          "2015-03-01T00:00:00",
          "2015-04-01T00:00:00",
          "2015-05-01T00:00:00",
          "2015-06-01T00:00:00",
          "2015-07-01T00:00:00",
          "2015-08-01T00:00:00",
          "2015-09-01T00:00:00",
          "2015-10-01T00:00:00",
          "2015-11-01T00:00:00",
          "2015-12-01T00:00:00",
          "2016-01-01T00:00:00",
          "2016-02-01T00:00:00",
          "2016-03-01T00:00:00",
          "2016-04-01T00:00:00",
          "2016-05-01T00:00:00",
          "2016-06-01T00:00:00",
          "2016-07-01T00:00:00",
          "2016-08-01T00:00:00",
          "2016-09-01T00:00:00",
          "2016-10-01T00:00:00",
          "2016-11-01T00:00:00",
          "2016-12-01T00:00:00",
          "2017-01-01T00:00:00",
          "2017-02-01T00:00:00",
          "2017-03-01T00:00:00",
          "2017-04-01T00:00:00",
          "2017-05-01T00:00:00",
          "2017-06-01T00:00:00",
          "2017-07-01T00:00:00",
          "2017-08-01T00:00:00",
          "2017-09-01T00:00:00",
          "2017-10-01T00:00:00",
          "2017-11-01T00:00:00",
          "2017-12-01T00:00:00",
          "2018-01-01T00:00:00",
          "2018-02-01T00:00:00",
          "2018-03-01T00:00:00",
          "2018-04-01T00:00:00",
          "2018-05-01T00:00:00",
          "2018-06-01T00:00:00",
          "2018-07-01T00:00:00",
          "2018-08-01T00:00:00",
          "2018-09-01T00:00:00",
          "2018-10-01T00:00:00",
          "2018-11-01T00:00:00",
          "2018-12-01T00:00:00",
          "2019-01-01T00:00:00",
          "2019-02-01T00:00:00",
          "2019-03-01T00:00:00",
          "2019-04-01T00:00:00",
          "2019-05-01T00:00:00",
          "2019-06-01T00:00:00",
          "2019-07-01T00:00:00",
          "2019-08-01T00:00:00",
          "2019-09-01T00:00:00",
          "2019-10-01T00:00:00",
          "2019-11-01T00:00:00",
          "2019-12-01T00:00:00",
          "2020-01-01T00:00:00",
          "2020-02-01T00:00:00",
          "2020-03-01T00:00:00",
          "2020-04-01T00:00:00"
         ],
         "xaxis": "x2",
         "y": [
          0.29820144927536224,
          0.2674070063694268,
          0.3145906666666667,
          0.26130450450450454,
          0.27326213592233,
          0.2649029411764706,
          0.3514483870967741,
          0.3082656976744186,
          0.3340653409090909,
          0.28779497487437194,
          0.38023749999999984,
          0.34021229508196726,
          0.44698000000000004,
          0.296016393442623,
          0.24546666666666664,
          0.29354411764705896,
          0.282645041322314,
          0.31967,
          0.22488996415770607,
          0.2712199029126213,
          0.28316820276497684,
          0.1770666666666667,
          0.3447625,
          0.29981499999999994,
          0.111425,
          0.2847051948051948,
          0.34837688442211034,
          0.3397046808510637,
          0.3208938931297708,
          0.3745040358744394,
          0.25845191489361696,
          0.29020864197530843,
          0.2964802752293577,
          0.18979648437499994,
          0.25401499999999994,
          0.274475,
          0.2415008368200836,
          0.28495813008130083,
          0.34255199999999975,
          0.23266740088105725,
          0.25490786516853925,
          0.25367718446601933,
          0.3125604545454545,
          0.21302076124567465,
          0.24199632352941153,
          0.22956381322957198,
          0.255358851674641,
          0.322043137254902,
          0.35637577319587627,
          0.27633756906077345,
          0.2666634517766497,
          0.2746640000000001,
          0.2922584112149531,
          0.27535989583333337,
          0.28611040000000004,
          0.21374836601307193,
          0.33018974358974357,
          0.31063794871794853,
          0.2887859649122804,
          0.2939585034013607,
          0.2240066666666668,
          0.24959444444444445,
          0.22274074074074088,
          0.20776140350877198
         ],
         "yaxis": "y2"
        }
       ],
       "layout": {
        "template": {
         "data": {
          "bar": [
           {
            "error_x": {
             "color": "#2a3f5f"
            },
            "error_y": {
             "color": "#2a3f5f"
            },
            "marker": {
             "line": {
              "color": "#E5ECF6",
              "width": 0.5
             }
            },
            "type": "bar"
           }
          ],
          "barpolar": [
           {
            "marker": {
             "line": {
              "color": "#E5ECF6",
              "width": 0.5
             }
            },
            "type": "barpolar"
           }
          ],
          "carpet": [
           {
            "aaxis": {
             "endlinecolor": "#2a3f5f",
             "gridcolor": "white",
             "linecolor": "white",
             "minorgridcolor": "white",
             "startlinecolor": "#2a3f5f"
            },
            "baxis": {
             "endlinecolor": "#2a3f5f",
             "gridcolor": "white",
             "linecolor": "white",
             "minorgridcolor": "white",
             "startlinecolor": "#2a3f5f"
            },
            "type": "carpet"
           }
          ],
          "choropleth": [
           {
            "colorbar": {
             "outlinewidth": 0,
             "ticks": ""
            },
            "type": "choropleth"
           }
          ],
          "contour": [
           {
            "colorbar": {
             "outlinewidth": 0,
             "ticks": ""
            },
            "colorscale": [
             [
              0,
              "#0d0887"
             ],
             [
              0.1111111111111111,
              "#46039f"
             ],
             [
              0.2222222222222222,
              "#7201a8"
             ],
             [
              0.3333333333333333,
              "#9c179e"
             ],
             [
              0.4444444444444444,
              "#bd3786"
             ],
             [
              0.5555555555555556,
              "#d8576b"
             ],
             [
              0.6666666666666666,
              "#ed7953"
             ],
             [
              0.7777777777777778,
              "#fb9f3a"
             ],
             [
              0.8888888888888888,
              "#fdca26"
             ],
             [
              1,
              "#f0f921"
             ]
            ],
            "type": "contour"
           }
          ],
          "contourcarpet": [
           {
            "colorbar": {
             "outlinewidth": 0,
             "ticks": ""
            },
            "type": "contourcarpet"
           }
          ],
          "heatmap": [
           {
            "colorbar": {
             "outlinewidth": 0,
             "ticks": ""
            },
            "colorscale": [
             [
              0,
              "#0d0887"
             ],
             [
              0.1111111111111111,
              "#46039f"
             ],
             [
              0.2222222222222222,
              "#7201a8"
             ],
             [
              0.3333333333333333,
              "#9c179e"
             ],
             [
              0.4444444444444444,
              "#bd3786"
             ],
             [
              0.5555555555555556,
              "#d8576b"
             ],
             [
              0.6666666666666666,
              "#ed7953"
             ],
             [
              0.7777777777777778,
              "#fb9f3a"
             ],
             [
              0.8888888888888888,
              "#fdca26"
             ],
             [
              1,
              "#f0f921"
             ]
            ],
            "type": "heatmap"
           }
          ],
          "heatmapgl": [
           {
            "colorbar": {
             "outlinewidth": 0,
             "ticks": ""
            },
            "colorscale": [
             [
              0,
              "#0d0887"
             ],
             [
              0.1111111111111111,
              "#46039f"
             ],
             [
              0.2222222222222222,
              "#7201a8"
             ],
             [
              0.3333333333333333,
              "#9c179e"
             ],
             [
              0.4444444444444444,
              "#bd3786"
             ],
             [
              0.5555555555555556,
              "#d8576b"
             ],
             [
              0.6666666666666666,
              "#ed7953"
             ],
             [
              0.7777777777777778,
              "#fb9f3a"
             ],
             [
              0.8888888888888888,
              "#fdca26"
             ],
             [
              1,
              "#f0f921"
             ]
            ],
            "type": "heatmapgl"
           }
          ],
          "histogram": [
           {
            "marker": {
             "colorbar": {
              "outlinewidth": 0,
              "ticks": ""
             }
            },
            "type": "histogram"
           }
          ],
          "histogram2d": [
           {
            "colorbar": {
             "outlinewidth": 0,
             "ticks": ""
            },
            "colorscale": [
             [
              0,
              "#0d0887"
             ],
             [
              0.1111111111111111,
              "#46039f"
             ],
             [
              0.2222222222222222,
              "#7201a8"
             ],
             [
              0.3333333333333333,
              "#9c179e"
             ],
             [
              0.4444444444444444,
              "#bd3786"
             ],
             [
              0.5555555555555556,
              "#d8576b"
             ],
             [
              0.6666666666666666,
              "#ed7953"
             ],
             [
              0.7777777777777778,
              "#fb9f3a"
             ],
             [
              0.8888888888888888,
              "#fdca26"
             ],
             [
              1,
              "#f0f921"
             ]
            ],
            "type": "histogram2d"
           }
          ],
          "histogram2dcontour": [
           {
            "colorbar": {
             "outlinewidth": 0,
             "ticks": ""
            },
            "colorscale": [
             [
              0,
              "#0d0887"
             ],
             [
              0.1111111111111111,
              "#46039f"
             ],
             [
              0.2222222222222222,
              "#7201a8"
             ],
             [
              0.3333333333333333,
              "#9c179e"
             ],
             [
              0.4444444444444444,
              "#bd3786"
             ],
             [
              0.5555555555555556,
              "#d8576b"
             ],
             [
              0.6666666666666666,
              "#ed7953"
             ],
             [
              0.7777777777777778,
              "#fb9f3a"
             ],
             [
              0.8888888888888888,
              "#fdca26"
             ],
             [
              1,
              "#f0f921"
             ]
            ],
            "type": "histogram2dcontour"
           }
          ],
          "mesh3d": [
           {
            "colorbar": {
             "outlinewidth": 0,
             "ticks": ""
            },
            "type": "mesh3d"
           }
          ],
          "parcoords": [
           {
            "line": {
             "colorbar": {
              "outlinewidth": 0,
              "ticks": ""
             }
            },
            "type": "parcoords"
           }
          ],
          "pie": [
           {
            "automargin": true,
            "type": "pie"
           }
          ],
          "scatter": [
           {
            "marker": {
             "colorbar": {
              "outlinewidth": 0,
              "ticks": ""
             }
            },
            "type": "scatter"
           }
          ],
          "scatter3d": [
           {
            "line": {
             "colorbar": {
              "outlinewidth": 0,
              "ticks": ""
             }
            },
            "marker": {
             "colorbar": {
              "outlinewidth": 0,
              "ticks": ""
             }
            },
            "type": "scatter3d"
           }
          ],
          "scattercarpet": [
           {
            "marker": {
             "colorbar": {
              "outlinewidth": 0,
              "ticks": ""
             }
            },
            "type": "scattercarpet"
           }
          ],
          "scattergeo": [
           {
            "marker": {
             "colorbar": {
              "outlinewidth": 0,
              "ticks": ""
             }
            },
            "type": "scattergeo"
           }
          ],
          "scattergl": [
           {
            "marker": {
             "colorbar": {
              "outlinewidth": 0,
              "ticks": ""
             }
            },
            "type": "scattergl"
           }
          ],
          "scattermapbox": [
           {
            "marker": {
             "colorbar": {
              "outlinewidth": 0,
              "ticks": ""
             }
            },
            "type": "scattermapbox"
           }
          ],
          "scatterpolar": [
           {
            "marker": {
             "colorbar": {
              "outlinewidth": 0,
              "ticks": ""
             }
            },
            "type": "scatterpolar"
           }
          ],
          "scatterpolargl": [
           {
            "marker": {
             "colorbar": {
              "outlinewidth": 0,
              "ticks": ""
             }
            },
            "type": "scatterpolargl"
           }
          ],
          "scatterternary": [
           {
            "marker": {
             "colorbar": {
              "outlinewidth": 0,
              "ticks": ""
             }
            },
            "type": "scatterternary"
           }
          ],
          "surface": [
           {
            "colorbar": {
             "outlinewidth": 0,
             "ticks": ""
            },
            "colorscale": [
             [
              0,
              "#0d0887"
             ],
             [
              0.1111111111111111,
              "#46039f"
             ],
             [
              0.2222222222222222,
              "#7201a8"
             ],
             [
              0.3333333333333333,
              "#9c179e"
             ],
             [
              0.4444444444444444,
              "#bd3786"
             ],
             [
              0.5555555555555556,
              "#d8576b"
             ],
             [
              0.6666666666666666,
              "#ed7953"
             ],
             [
              0.7777777777777778,
              "#fb9f3a"
             ],
             [
              0.8888888888888888,
              "#fdca26"
             ],
             [
              1,
              "#f0f921"
             ]
            ],
            "type": "surface"
           }
          ],
          "table": [
           {
            "cells": {
             "fill": {
              "color": "#EBF0F8"
             },
             "line": {
              "color": "white"
             }
            },
            "header": {
             "fill": {
              "color": "#C8D4E3"
             },
             "line": {
              "color": "white"
             }
            },
            "type": "table"
           }
          ]
         },
         "layout": {
          "annotationdefaults": {
           "arrowcolor": "#2a3f5f",
           "arrowhead": 0,
           "arrowwidth": 1
          },
          "autotypenumbers": "strict",
          "coloraxis": {
           "colorbar": {
            "outlinewidth": 0,
            "ticks": ""
           }
          },
          "colorscale": {
           "diverging": [
            [
             0,
             "#8e0152"
            ],
            [
             0.1,
             "#c51b7d"
            ],
            [
             0.2,
             "#de77ae"
            ],
            [
             0.3,
             "#f1b6da"
            ],
            [
             0.4,
             "#fde0ef"
            ],
            [
             0.5,
             "#f7f7f7"
            ],
            [
             0.6,
             "#e6f5d0"
            ],
            [
             0.7,
             "#b8e186"
            ],
            [
             0.8,
             "#7fbc41"
            ],
            [
             0.9,
             "#4d9221"
            ],
            [
             1,
             "#276419"
            ]
           ],
           "sequential": [
            [
             0,
             "#0d0887"
            ],
            [
             0.1111111111111111,
             "#46039f"
            ],
            [
             0.2222222222222222,
             "#7201a8"
            ],
            [
             0.3333333333333333,
             "#9c179e"
            ],
            [
             0.4444444444444444,
             "#bd3786"
            ],
            [
             0.5555555555555556,
             "#d8576b"
            ],
            [
             0.6666666666666666,
             "#ed7953"
            ],
            [
             0.7777777777777778,
             "#fb9f3a"
            ],
            [
             0.8888888888888888,
             "#fdca26"
            ],
            [
             1,
             "#f0f921"
            ]
           ],
           "sequentialminus": [
            [
             0,
             "#0d0887"
            ],
            [
             0.1111111111111111,
             "#46039f"
            ],
            [
             0.2222222222222222,
             "#7201a8"
            ],
            [
             0.3333333333333333,
             "#9c179e"
            ],
            [
             0.4444444444444444,
             "#bd3786"
            ],
            [
             0.5555555555555556,
             "#d8576b"
            ],
            [
             0.6666666666666666,
             "#ed7953"
            ],
            [
             0.7777777777777778,
             "#fb9f3a"
            ],
            [
             0.8888888888888888,
             "#fdca26"
            ],
            [
             1,
             "#f0f921"
            ]
           ]
          },
          "colorway": [
           "#636efa",
           "#EF553B",
           "#00cc96",
           "#ab63fa",
           "#FFA15A",
           "#19d3f3",
           "#FF6692",
           "#B6E880",
           "#FF97FF",
           "#FECB52"
          ],
          "font": {
           "color": "#2a3f5f"
          },
          "geo": {
           "bgcolor": "white",
           "lakecolor": "white",
           "landcolor": "#E5ECF6",
           "showlakes": true,
           "showland": true,
           "subunitcolor": "white"
          },
          "hoverlabel": {
           "align": "left"
          },
          "hovermode": "closest",
          "mapbox": {
           "style": "light"
          },
          "paper_bgcolor": "white",
          "plot_bgcolor": "#E5ECF6",
          "polar": {
           "angularaxis": {
            "gridcolor": "white",
            "linecolor": "white",
            "ticks": ""
           },
           "bgcolor": "#E5ECF6",
           "radialaxis": {
            "gridcolor": "white",
            "linecolor": "white",
            "ticks": ""
           }
          },
          "scene": {
           "xaxis": {
            "backgroundcolor": "#E5ECF6",
            "gridcolor": "white",
            "gridwidth": 2,
            "linecolor": "white",
            "showbackground": true,
            "ticks": "",
            "zerolinecolor": "white"
           },
           "yaxis": {
            "backgroundcolor": "#E5ECF6",
            "gridcolor": "white",
            "gridwidth": 2,
            "linecolor": "white",
            "showbackground": true,
            "ticks": "",
            "zerolinecolor": "white"
           },
           "zaxis": {
            "backgroundcolor": "#E5ECF6",
            "gridcolor": "white",
            "gridwidth": 2,
            "linecolor": "white",
            "showbackground": true,
            "ticks": "",
            "zerolinecolor": "white"
           }
          },
          "shapedefaults": {
           "line": {
            "color": "#2a3f5f"
           }
          },
          "ternary": {
           "aaxis": {
            "gridcolor": "white",
            "linecolor": "white",
            "ticks": ""
           },
           "baxis": {
            "gridcolor": "white",
            "linecolor": "white",
            "ticks": ""
           },
           "bgcolor": "#E5ECF6",
           "caxis": {
            "gridcolor": "white",
            "linecolor": "white",
            "ticks": ""
           }
          },
          "title": {
           "x": 0.05
          },
          "xaxis": {
           "automargin": true,
           "gridcolor": "white",
           "linecolor": "white",
           "ticks": "",
           "title": {
            "standoff": 15
           },
           "zerolinecolor": "white",
           "zerolinewidth": 2
          },
          "yaxis": {
           "automargin": true,
           "gridcolor": "white",
           "linecolor": "white",
           "ticks": "",
           "title": {
            "standoff": 15
           },
           "zerolinecolor": "white",
           "zerolinewidth": 2
          }
         }
        },
        "xaxis": {
         "anchor": "y",
         "domain": [
          0,
          1
         ]
        },
        "xaxis2": {
         "anchor": "y2",
         "domain": [
          0,
          1
         ]
        },
        "yaxis": {
         "anchor": "x",
         "domain": [
          0.4,
          1
         ]
        },
        "yaxis2": {
         "anchor": "x2",
         "domain": [
          0,
          0.3
         ]
        }
       }
      }
     },
     "metadata": {},
     "output_type": "display_data"
    }
   ],
   "source": [
    "df_tesla_plot = df_tesla.groupby(by='year_month').mean().reset_index()\n",
    "df_tesla_plot_review = df_tesla_plot[['year_month','Vader_Sentiment']]\n",
    "df_tesla_plot_review['count_'] = df_tesla.groupby(by='year_month').count().reset_index()['date']\n",
    "\n",
    "fig = make_subplots(rows=2, cols=1, row_heights=[2, 1],vertical_spacing=0.1)\n",
    "fig.add_trace(go.Bar(x=df_tesla_plot_review.year_month, y=df_tesla_plot_review.count_,),row=1, col=1)\n",
    "fig.add_trace(go.Scatter(x=df_tesla_plot_review.year_month, y=df_tesla_plot_review.Vader_Sentiment),row=2, col=1)\n",
    "fig.show()"
   ]
  },
  {
   "cell_type": "code",
   "execution_count": 40,
   "metadata": {},
   "outputs": [],
   "source": [
    "def find_review_event(sortie, df, n_day,num_day_event):\n",
    "    df['year_month_day']= df['date'].apply(lambda x :datetime.strptime(str(x)[:10], '%Y-%m-%d'))\n",
    "    start_event = sortie - dt(days=num_day_event)\n",
    "    end_event = sortie + dt(days=num_day_event)\n",
    "    n_days_ago = sortie - dt(days=n_day+num_day_event)\n",
    "    n_days_after = sortie + dt(days=n_day+num_day_event)\n",
    "    \n",
    "    df_event = df[(df.year_month_day <= end_event) & (df.year_month_day >= start_event)]\n",
    "    df_event['type'] = ['during']*df_event.shape[0]\n",
    "    df_before_event = df[(df.year_month_day < start_event) & (df.year_month_day > n_days_ago)]\n",
    "    df_before_event['type'] = ['before']*df_before_event.shape[0]\n",
    "    df_after_event = df[(df.year_month_day < n_days_after) & (df.year_month_day > end_event)]\n",
    "    df_after_event['type'] = ['after']*df_after_event.shape[0]\n",
    "    \n",
    "    return pd.concat([df_before_event, df_event, df_after_event])"
   ]
  },
  {
   "cell_type": "markdown",
   "metadata": {},
   "source": [
    "### BoxPlot Event (before, during, after)"
   ]
  },
  {
   "cell_type": "code",
   "execution_count": 45,
   "metadata": {},
   "outputs": [
    {
     "data": {
      "application/vnd.plotly.v1+json": {
       "config": {
        "plotlyServerURL": "https://plot.ly"
       },
       "data": [
        {
         "alignmentgroup": "True",
         "hovertemplate": "type=%{x}<br>Vader_Sentiment=%{y}<extra></extra>",
         "legendgroup": "",
         "marker": {
          "color": "#636efa"
         },
         "name": "",
         "notched": false,
         "offsetgroup": "",
         "orientation": "v",
         "quartilemethod": "exclusive",
         "showlegend": false,
         "type": "box",
         "x": [
          "before",
          "before",
          "before",
          "before",
          "before",
          "before",
          "before",
          "before",
          "before",
          "before",
          "before",
          "before",
          "before",
          "before",
          "before",
          "before",
          "before",
          "before",
          "before",
          "before",
          "before",
          "before",
          "before",
          "before",
          "before",
          "before",
          "before",
          "before",
          "before",
          "before",
          "before",
          "during",
          "during",
          "during",
          "during",
          "during",
          "during",
          "during",
          "during",
          "during",
          "during",
          "during",
          "during",
          "during",
          "during",
          "during",
          "during",
          "during",
          "during",
          "during",
          "during",
          "after",
          "after",
          "after",
          "after",
          "after",
          "after",
          "after",
          "after",
          "after",
          "after",
          "after",
          "after",
          "after",
          "after",
          "after",
          "after",
          "after",
          "after",
          "after"
         ],
         "x0": " ",
         "xaxis": "x",
         "y": [
          0.3612,
          -0.0772,
          0.40190000000000003,
          0,
          0.7184,
          0,
          0,
          -0.40190000000000003,
          0.9702000000000001,
          0,
          0,
          0.8957,
          0.3612,
          0.9477000000000001,
          0.6369,
          0.9485,
          0.8625,
          0.8779,
          0,
          0.128,
          0.6124,
          0,
          0.8689,
          0.7906000000000001,
          0.7906000000000001,
          0,
          0.6369,
          0.38180000000000003,
          0,
          0,
          0,
          0.9578000000000001,
          0.7964,
          0,
          0.9552,
          0.6369,
          0.6486000000000001,
          0.7184,
          0.7906000000000001,
          0.34,
          0.7351000000000001,
          0.765,
          0.926,
          0.8481000000000001,
          0.8979,
          -0.296,
          0,
          0.8074,
          0.7096,
          0.8957,
          0.5574,
          0,
          0.8885000000000001,
          0,
          0,
          0.836,
          0,
          0.9653,
          -0.5994,
          0.7269,
          -0.3612,
          0.7579,
          -0.874,
          0.8126,
          0.42150000000000004,
          -0.128,
          -0.128,
          -0.42150000000000004,
          0.296,
          -0.0516
         ],
         "y0": " ",
         "yaxis": "y"
        }
       ],
       "layout": {
        "boxmode": "group",
        "legend": {
         "tracegroupgap": 0
        },
        "margin": {
         "t": 60
        },
        "template": {
         "data": {
          "bar": [
           {
            "error_x": {
             "color": "#2a3f5f"
            },
            "error_y": {
             "color": "#2a3f5f"
            },
            "marker": {
             "line": {
              "color": "#E5ECF6",
              "width": 0.5
             }
            },
            "type": "bar"
           }
          ],
          "barpolar": [
           {
            "marker": {
             "line": {
              "color": "#E5ECF6",
              "width": 0.5
             }
            },
            "type": "barpolar"
           }
          ],
          "carpet": [
           {
            "aaxis": {
             "endlinecolor": "#2a3f5f",
             "gridcolor": "white",
             "linecolor": "white",
             "minorgridcolor": "white",
             "startlinecolor": "#2a3f5f"
            },
            "baxis": {
             "endlinecolor": "#2a3f5f",
             "gridcolor": "white",
             "linecolor": "white",
             "minorgridcolor": "white",
             "startlinecolor": "#2a3f5f"
            },
            "type": "carpet"
           }
          ],
          "choropleth": [
           {
            "colorbar": {
             "outlinewidth": 0,
             "ticks": ""
            },
            "type": "choropleth"
           }
          ],
          "contour": [
           {
            "colorbar": {
             "outlinewidth": 0,
             "ticks": ""
            },
            "colorscale": [
             [
              0,
              "#0d0887"
             ],
             [
              0.1111111111111111,
              "#46039f"
             ],
             [
              0.2222222222222222,
              "#7201a8"
             ],
             [
              0.3333333333333333,
              "#9c179e"
             ],
             [
              0.4444444444444444,
              "#bd3786"
             ],
             [
              0.5555555555555556,
              "#d8576b"
             ],
             [
              0.6666666666666666,
              "#ed7953"
             ],
             [
              0.7777777777777778,
              "#fb9f3a"
             ],
             [
              0.8888888888888888,
              "#fdca26"
             ],
             [
              1,
              "#f0f921"
             ]
            ],
            "type": "contour"
           }
          ],
          "contourcarpet": [
           {
            "colorbar": {
             "outlinewidth": 0,
             "ticks": ""
            },
            "type": "contourcarpet"
           }
          ],
          "heatmap": [
           {
            "colorbar": {
             "outlinewidth": 0,
             "ticks": ""
            },
            "colorscale": [
             [
              0,
              "#0d0887"
             ],
             [
              0.1111111111111111,
              "#46039f"
             ],
             [
              0.2222222222222222,
              "#7201a8"
             ],
             [
              0.3333333333333333,
              "#9c179e"
             ],
             [
              0.4444444444444444,
              "#bd3786"
             ],
             [
              0.5555555555555556,
              "#d8576b"
             ],
             [
              0.6666666666666666,
              "#ed7953"
             ],
             [
              0.7777777777777778,
              "#fb9f3a"
             ],
             [
              0.8888888888888888,
              "#fdca26"
             ],
             [
              1,
              "#f0f921"
             ]
            ],
            "type": "heatmap"
           }
          ],
          "heatmapgl": [
           {
            "colorbar": {
             "outlinewidth": 0,
             "ticks": ""
            },
            "colorscale": [
             [
              0,
              "#0d0887"
             ],
             [
              0.1111111111111111,
              "#46039f"
             ],
             [
              0.2222222222222222,
              "#7201a8"
             ],
             [
              0.3333333333333333,
              "#9c179e"
             ],
             [
              0.4444444444444444,
              "#bd3786"
             ],
             [
              0.5555555555555556,
              "#d8576b"
             ],
             [
              0.6666666666666666,
              "#ed7953"
             ],
             [
              0.7777777777777778,
              "#fb9f3a"
             ],
             [
              0.8888888888888888,
              "#fdca26"
             ],
             [
              1,
              "#f0f921"
             ]
            ],
            "type": "heatmapgl"
           }
          ],
          "histogram": [
           {
            "marker": {
             "colorbar": {
              "outlinewidth": 0,
              "ticks": ""
             }
            },
            "type": "histogram"
           }
          ],
          "histogram2d": [
           {
            "colorbar": {
             "outlinewidth": 0,
             "ticks": ""
            },
            "colorscale": [
             [
              0,
              "#0d0887"
             ],
             [
              0.1111111111111111,
              "#46039f"
             ],
             [
              0.2222222222222222,
              "#7201a8"
             ],
             [
              0.3333333333333333,
              "#9c179e"
             ],
             [
              0.4444444444444444,
              "#bd3786"
             ],
             [
              0.5555555555555556,
              "#d8576b"
             ],
             [
              0.6666666666666666,
              "#ed7953"
             ],
             [
              0.7777777777777778,
              "#fb9f3a"
             ],
             [
              0.8888888888888888,
              "#fdca26"
             ],
             [
              1,
              "#f0f921"
             ]
            ],
            "type": "histogram2d"
           }
          ],
          "histogram2dcontour": [
           {
            "colorbar": {
             "outlinewidth": 0,
             "ticks": ""
            },
            "colorscale": [
             [
              0,
              "#0d0887"
             ],
             [
              0.1111111111111111,
              "#46039f"
             ],
             [
              0.2222222222222222,
              "#7201a8"
             ],
             [
              0.3333333333333333,
              "#9c179e"
             ],
             [
              0.4444444444444444,
              "#bd3786"
             ],
             [
              0.5555555555555556,
              "#d8576b"
             ],
             [
              0.6666666666666666,
              "#ed7953"
             ],
             [
              0.7777777777777778,
              "#fb9f3a"
             ],
             [
              0.8888888888888888,
              "#fdca26"
             ],
             [
              1,
              "#f0f921"
             ]
            ],
            "type": "histogram2dcontour"
           }
          ],
          "mesh3d": [
           {
            "colorbar": {
             "outlinewidth": 0,
             "ticks": ""
            },
            "type": "mesh3d"
           }
          ],
          "parcoords": [
           {
            "line": {
             "colorbar": {
              "outlinewidth": 0,
              "ticks": ""
             }
            },
            "type": "parcoords"
           }
          ],
          "pie": [
           {
            "automargin": true,
            "type": "pie"
           }
          ],
          "scatter": [
           {
            "marker": {
             "colorbar": {
              "outlinewidth": 0,
              "ticks": ""
             }
            },
            "type": "scatter"
           }
          ],
          "scatter3d": [
           {
            "line": {
             "colorbar": {
              "outlinewidth": 0,
              "ticks": ""
             }
            },
            "marker": {
             "colorbar": {
              "outlinewidth": 0,
              "ticks": ""
             }
            },
            "type": "scatter3d"
           }
          ],
          "scattercarpet": [
           {
            "marker": {
             "colorbar": {
              "outlinewidth": 0,
              "ticks": ""
             }
            },
            "type": "scattercarpet"
           }
          ],
          "scattergeo": [
           {
            "marker": {
             "colorbar": {
              "outlinewidth": 0,
              "ticks": ""
             }
            },
            "type": "scattergeo"
           }
          ],
          "scattergl": [
           {
            "marker": {
             "colorbar": {
              "outlinewidth": 0,
              "ticks": ""
             }
            },
            "type": "scattergl"
           }
          ],
          "scattermapbox": [
           {
            "marker": {
             "colorbar": {
              "outlinewidth": 0,
              "ticks": ""
             }
            },
            "type": "scattermapbox"
           }
          ],
          "scatterpolar": [
           {
            "marker": {
             "colorbar": {
              "outlinewidth": 0,
              "ticks": ""
             }
            },
            "type": "scatterpolar"
           }
          ],
          "scatterpolargl": [
           {
            "marker": {
             "colorbar": {
              "outlinewidth": 0,
              "ticks": ""
             }
            },
            "type": "scatterpolargl"
           }
          ],
          "scatterternary": [
           {
            "marker": {
             "colorbar": {
              "outlinewidth": 0,
              "ticks": ""
             }
            },
            "type": "scatterternary"
           }
          ],
          "surface": [
           {
            "colorbar": {
             "outlinewidth": 0,
             "ticks": ""
            },
            "colorscale": [
             [
              0,
              "#0d0887"
             ],
             [
              0.1111111111111111,
              "#46039f"
             ],
             [
              0.2222222222222222,
              "#7201a8"
             ],
             [
              0.3333333333333333,
              "#9c179e"
             ],
             [
              0.4444444444444444,
              "#bd3786"
             ],
             [
              0.5555555555555556,
              "#d8576b"
             ],
             [
              0.6666666666666666,
              "#ed7953"
             ],
             [
              0.7777777777777778,
              "#fb9f3a"
             ],
             [
              0.8888888888888888,
              "#fdca26"
             ],
             [
              1,
              "#f0f921"
             ]
            ],
            "type": "surface"
           }
          ],
          "table": [
           {
            "cells": {
             "fill": {
              "color": "#EBF0F8"
             },
             "line": {
              "color": "white"
             }
            },
            "header": {
             "fill": {
              "color": "#C8D4E3"
             },
             "line": {
              "color": "white"
             }
            },
            "type": "table"
           }
          ]
         },
         "layout": {
          "annotationdefaults": {
           "arrowcolor": "#2a3f5f",
           "arrowhead": 0,
           "arrowwidth": 1
          },
          "autotypenumbers": "strict",
          "coloraxis": {
           "colorbar": {
            "outlinewidth": 0,
            "ticks": ""
           }
          },
          "colorscale": {
           "diverging": [
            [
             0,
             "#8e0152"
            ],
            [
             0.1,
             "#c51b7d"
            ],
            [
             0.2,
             "#de77ae"
            ],
            [
             0.3,
             "#f1b6da"
            ],
            [
             0.4,
             "#fde0ef"
            ],
            [
             0.5,
             "#f7f7f7"
            ],
            [
             0.6,
             "#e6f5d0"
            ],
            [
             0.7,
             "#b8e186"
            ],
            [
             0.8,
             "#7fbc41"
            ],
            [
             0.9,
             "#4d9221"
            ],
            [
             1,
             "#276419"
            ]
           ],
           "sequential": [
            [
             0,
             "#0d0887"
            ],
            [
             0.1111111111111111,
             "#46039f"
            ],
            [
             0.2222222222222222,
             "#7201a8"
            ],
            [
             0.3333333333333333,
             "#9c179e"
            ],
            [
             0.4444444444444444,
             "#bd3786"
            ],
            [
             0.5555555555555556,
             "#d8576b"
            ],
            [
             0.6666666666666666,
             "#ed7953"
            ],
            [
             0.7777777777777778,
             "#fb9f3a"
            ],
            [
             0.8888888888888888,
             "#fdca26"
            ],
            [
             1,
             "#f0f921"
            ]
           ],
           "sequentialminus": [
            [
             0,
             "#0d0887"
            ],
            [
             0.1111111111111111,
             "#46039f"
            ],
            [
             0.2222222222222222,
             "#7201a8"
            ],
            [
             0.3333333333333333,
             "#9c179e"
            ],
            [
             0.4444444444444444,
             "#bd3786"
            ],
            [
             0.5555555555555556,
             "#d8576b"
            ],
            [
             0.6666666666666666,
             "#ed7953"
            ],
            [
             0.7777777777777778,
             "#fb9f3a"
            ],
            [
             0.8888888888888888,
             "#fdca26"
            ],
            [
             1,
             "#f0f921"
            ]
           ]
          },
          "colorway": [
           "#636efa",
           "#EF553B",
           "#00cc96",
           "#ab63fa",
           "#FFA15A",
           "#19d3f3",
           "#FF6692",
           "#B6E880",
           "#FF97FF",
           "#FECB52"
          ],
          "font": {
           "color": "#2a3f5f"
          },
          "geo": {
           "bgcolor": "white",
           "lakecolor": "white",
           "landcolor": "#E5ECF6",
           "showlakes": true,
           "showland": true,
           "subunitcolor": "white"
          },
          "hoverlabel": {
           "align": "left"
          },
          "hovermode": "closest",
          "mapbox": {
           "style": "light"
          },
          "paper_bgcolor": "white",
          "plot_bgcolor": "#E5ECF6",
          "polar": {
           "angularaxis": {
            "gridcolor": "white",
            "linecolor": "white",
            "ticks": ""
           },
           "bgcolor": "#E5ECF6",
           "radialaxis": {
            "gridcolor": "white",
            "linecolor": "white",
            "ticks": ""
           }
          },
          "scene": {
           "xaxis": {
            "backgroundcolor": "#E5ECF6",
            "gridcolor": "white",
            "gridwidth": 2,
            "linecolor": "white",
            "showbackground": true,
            "ticks": "",
            "zerolinecolor": "white"
           },
           "yaxis": {
            "backgroundcolor": "#E5ECF6",
            "gridcolor": "white",
            "gridwidth": 2,
            "linecolor": "white",
            "showbackground": true,
            "ticks": "",
            "zerolinecolor": "white"
           },
           "zaxis": {
            "backgroundcolor": "#E5ECF6",
            "gridcolor": "white",
            "gridwidth": 2,
            "linecolor": "white",
            "showbackground": true,
            "ticks": "",
            "zerolinecolor": "white"
           }
          },
          "shapedefaults": {
           "line": {
            "color": "#2a3f5f"
           }
          },
          "ternary": {
           "aaxis": {
            "gridcolor": "white",
            "linecolor": "white",
            "ticks": ""
           },
           "baxis": {
            "gridcolor": "white",
            "linecolor": "white",
            "ticks": ""
           },
           "bgcolor": "#E5ECF6",
           "caxis": {
            "gridcolor": "white",
            "linecolor": "white",
            "ticks": ""
           }
          },
          "title": {
           "x": 0.05
          },
          "xaxis": {
           "automargin": true,
           "gridcolor": "white",
           "linecolor": "white",
           "ticks": "",
           "title": {
            "standoff": 15
           },
           "zerolinecolor": "white",
           "zerolinewidth": 2
          },
          "yaxis": {
           "automargin": true,
           "gridcolor": "white",
           "linecolor": "white",
           "ticks": "",
           "title": {
            "standoff": 15
           },
           "zerolinecolor": "white",
           "zerolinewidth": 2
          }
         }
        },
        "xaxis": {
         "anchor": "y",
         "domain": [
          0,
          1
         ],
         "title": {
          "text": "type"
         }
        },
        "yaxis": {
         "anchor": "x",
         "domain": [
          0,
          1
         ],
         "title": {
          "text": "Vader_Sentiment"
         }
        }
       }
      }
     },
     "metadata": {},
     "output_type": "display_data"
    }
   ],
   "source": [
    "# \n",
    "sortie_chev_1 = datetime.strptime(str('2018-12-16'), '%Y-%m-%d')\n",
    "n_day = 20\n",
    "num_day_event = 10\n",
    "df  = find_review_event(sortie_chev_1, df_chevrolet, n_day, num_day_event)\n",
    "\n",
    "fig = px.box(df, x=\"type\", y='Vader_Sentiment')\n",
    "fig.update_traces(quartilemethod=\"exclusive\") # or \"inclusive\", or \"linear\" by default\n",
    "fig.show()"
   ]
  },
  {
   "cell_type": "code",
   "execution_count": 49,
   "metadata": {},
   "outputs": [
    {
     "data": {
      "application/vnd.plotly.v1+json": {
       "config": {
        "plotlyServerURL": "https://plot.ly"
       },
       "data": [
        {
         "alignmentgroup": "True",
         "hovertemplate": "type=%{x}<br>Vader_Sentiment=%{y}<extra></extra>",
         "legendgroup": "",
         "marker": {
          "color": "#636efa"
         },
         "name": "",
         "notched": false,
         "offsetgroup": "",
         "orientation": "v",
         "quartilemethod": "exclusive",
         "showlegend": false,
         "type": "box",
         "x": [
          "before",
          "before",
          "before",
          "before",
          "before",
          "before",
          "before",
          "before",
          "before",
          "before",
          "before",
          "before",
          "before",
          "before",
          "before",
          "before",
          "before",
          "before",
          "before",
          "before",
          "before",
          "before",
          "before",
          "before",
          "before",
          "before",
          "before",
          "before",
          "before",
          "before",
          "before",
          "before",
          "before",
          "before",
          "before",
          "before",
          "before",
          "before",
          "before",
          "before",
          "before",
          "before",
          "before",
          "before",
          "before",
          "before",
          "before",
          "before",
          "before",
          "before",
          "before",
          "before",
          "before",
          "before",
          "before",
          "before",
          "before",
          "before",
          "before",
          "before",
          "before",
          "before",
          "before",
          "before",
          "before",
          "before",
          "before",
          "before",
          "before",
          "before",
          "before",
          "before",
          "before",
          "before",
          "before",
          "before",
          "before",
          "before",
          "before",
          "during",
          "during",
          "during",
          "during",
          "during",
          "during",
          "during",
          "during",
          "during",
          "during",
          "during",
          "during",
          "during",
          "during",
          "during",
          "during",
          "during",
          "during",
          "during",
          "during",
          "during",
          "during",
          "during",
          "during",
          "during",
          "during",
          "during",
          "during",
          "during",
          "during",
          "during",
          "during",
          "during",
          "during",
          "during",
          "during",
          "during",
          "during",
          "during",
          "during",
          "during",
          "during",
          "during",
          "during",
          "during",
          "during",
          "during",
          "during",
          "during",
          "during",
          "during",
          "during",
          "during",
          "during",
          "during",
          "during",
          "during",
          "during",
          "during",
          "during",
          "during",
          "during",
          "during",
          "during",
          "after",
          "after",
          "after",
          "after",
          "after",
          "after",
          "after",
          "after",
          "after",
          "after",
          "after",
          "after",
          "after",
          "after",
          "after",
          "after",
          "after",
          "after",
          "after",
          "after",
          "after",
          "after",
          "after",
          "after",
          "after",
          "after",
          "after",
          "after",
          "after",
          "after",
          "after",
          "after",
          "after",
          "after",
          "after",
          "after",
          "after",
          "after",
          "after",
          "after",
          "after",
          "after",
          "after",
          "after",
          "after",
          "after",
          "after",
          "after",
          "after",
          "after",
          "after",
          "after",
          "after",
          "after",
          "after",
          "after",
          "after",
          "after",
          "after",
          "after",
          "after",
          "after",
          "after",
          "after",
          "after",
          "after",
          "after",
          "after",
          "after",
          "after"
         ],
         "x0": " ",
         "xaxis": "x",
         "y": [
          0,
          0.5994,
          0,
          0.7269,
          0,
          0,
          -0.2732,
          0,
          0.3612,
          0.9517,
          0,
          0.8402000000000001,
          0.43860000000000005,
          -0.0772,
          0.765,
          0.0258,
          0,
          0.743,
          0.31820000000000004,
          0.5106,
          0.7003,
          0.7717,
          0.7717,
          0.3612,
          0,
          0,
          0,
          0.5584,
          -0.2023,
          -0.42010000000000003,
          0.2263,
          -0.4767,
          0.765,
          0,
          0.0772,
          0.4404,
          0,
          0.0772,
          0.2732,
          -0.8074,
          0.296,
          0.8555,
          0,
          0,
          0.91,
          0.8074,
          0.1779,
          0.5719000000000001,
          -0.40190000000000003,
          0,
          0.3612,
          0.40190000000000003,
          0.40190000000000003,
          0.8176,
          0,
          0,
          -0.7003,
          0.5719000000000001,
          -0.2263,
          0.0772,
          -0.5267000000000001,
          0.0772,
          0.8316,
          0.743,
          0.7003,
          0.6369,
          0,
          0,
          0.91,
          0.891,
          0,
          0,
          0.4767,
          0.5574,
          0,
          0.9062,
          0.5106,
          0,
          0.2732,
          0.5423,
          0.5106,
          0,
          0,
          0.5574,
          0.5574,
          0.5106,
          0,
          0.7003,
          0.5423,
          0.5574,
          0.296,
          0,
          0.8316,
          -0.296,
          0,
          0,
          -0.4767,
          0.1779,
          0.9118,
          0.2263,
          0,
          0.9666,
          0.6249,
          0,
          0.2263,
          -0.8625,
          0,
          0,
          0,
          0,
          0.8625,
          0.8074,
          0.46480000000000005,
          0.6369,
          0,
          0.5574,
          -0.4404,
          -0.25,
          0,
          0.40190000000000003,
          0.3612,
          0.296,
          0.9153,
          0.4939,
          0,
          0,
          0.5859,
          0.34,
          0.2732,
          0.31820000000000004,
          -0.5267000000000001,
          0,
          0,
          0.91,
          0.42150000000000004,
          0,
          0.0258,
          -0.1531,
          -0.34,
          0,
          0.5859,
          0.2263,
          0.5719000000000001,
          0.0258,
          0.6249,
          0.7845000000000001,
          0.765,
          0.8286,
          0.38180000000000003,
          0,
          0,
          0,
          0.8225,
          -0.128,
          0.5994,
          0.7269,
          0.42150000000000004,
          -0.34,
          0,
          0.4939,
          0.2732,
          0,
          0.6249,
          -0.25,
          0,
          0,
          0,
          0,
          -0.2263,
          0.0258,
          0,
          0.872,
          0.5423,
          0.876,
          0.7783,
          0.8074,
          0,
          0.6369,
          -0.6124,
          0.891,
          0.40190000000000003,
          0.4767,
          0,
          0,
          0.45880000000000004,
          0.8658,
          0.4939,
          0.8481000000000001,
          0.42150000000000004,
          0,
          0.8316,
          -0.7579,
          0,
          0.5994,
          0.7845000000000001,
          -0.31820000000000004,
          -0.5423,
          -0.5719000000000001,
          0.7096,
          0.38180000000000003,
          0.8126,
          0.45880000000000004,
          0.7964,
          0.1531,
          0,
          0.2263,
          0,
          0.6705,
          0,
          0.4767,
          0.7003,
          0,
          -0.6369
         ],
         "y0": " ",
         "yaxis": "y"
        }
       ],
       "layout": {
        "boxmode": "group",
        "legend": {
         "tracegroupgap": 0
        },
        "margin": {
         "t": 60
        },
        "template": {
         "data": {
          "bar": [
           {
            "error_x": {
             "color": "#2a3f5f"
            },
            "error_y": {
             "color": "#2a3f5f"
            },
            "marker": {
             "line": {
              "color": "#E5ECF6",
              "width": 0.5
             }
            },
            "type": "bar"
           }
          ],
          "barpolar": [
           {
            "marker": {
             "line": {
              "color": "#E5ECF6",
              "width": 0.5
             }
            },
            "type": "barpolar"
           }
          ],
          "carpet": [
           {
            "aaxis": {
             "endlinecolor": "#2a3f5f",
             "gridcolor": "white",
             "linecolor": "white",
             "minorgridcolor": "white",
             "startlinecolor": "#2a3f5f"
            },
            "baxis": {
             "endlinecolor": "#2a3f5f",
             "gridcolor": "white",
             "linecolor": "white",
             "minorgridcolor": "white",
             "startlinecolor": "#2a3f5f"
            },
            "type": "carpet"
           }
          ],
          "choropleth": [
           {
            "colorbar": {
             "outlinewidth": 0,
             "ticks": ""
            },
            "type": "choropleth"
           }
          ],
          "contour": [
           {
            "colorbar": {
             "outlinewidth": 0,
             "ticks": ""
            },
            "colorscale": [
             [
              0,
              "#0d0887"
             ],
             [
              0.1111111111111111,
              "#46039f"
             ],
             [
              0.2222222222222222,
              "#7201a8"
             ],
             [
              0.3333333333333333,
              "#9c179e"
             ],
             [
              0.4444444444444444,
              "#bd3786"
             ],
             [
              0.5555555555555556,
              "#d8576b"
             ],
             [
              0.6666666666666666,
              "#ed7953"
             ],
             [
              0.7777777777777778,
              "#fb9f3a"
             ],
             [
              0.8888888888888888,
              "#fdca26"
             ],
             [
              1,
              "#f0f921"
             ]
            ],
            "type": "contour"
           }
          ],
          "contourcarpet": [
           {
            "colorbar": {
             "outlinewidth": 0,
             "ticks": ""
            },
            "type": "contourcarpet"
           }
          ],
          "heatmap": [
           {
            "colorbar": {
             "outlinewidth": 0,
             "ticks": ""
            },
            "colorscale": [
             [
              0,
              "#0d0887"
             ],
             [
              0.1111111111111111,
              "#46039f"
             ],
             [
              0.2222222222222222,
              "#7201a8"
             ],
             [
              0.3333333333333333,
              "#9c179e"
             ],
             [
              0.4444444444444444,
              "#bd3786"
             ],
             [
              0.5555555555555556,
              "#d8576b"
             ],
             [
              0.6666666666666666,
              "#ed7953"
             ],
             [
              0.7777777777777778,
              "#fb9f3a"
             ],
             [
              0.8888888888888888,
              "#fdca26"
             ],
             [
              1,
              "#f0f921"
             ]
            ],
            "type": "heatmap"
           }
          ],
          "heatmapgl": [
           {
            "colorbar": {
             "outlinewidth": 0,
             "ticks": ""
            },
            "colorscale": [
             [
              0,
              "#0d0887"
             ],
             [
              0.1111111111111111,
              "#46039f"
             ],
             [
              0.2222222222222222,
              "#7201a8"
             ],
             [
              0.3333333333333333,
              "#9c179e"
             ],
             [
              0.4444444444444444,
              "#bd3786"
             ],
             [
              0.5555555555555556,
              "#d8576b"
             ],
             [
              0.6666666666666666,
              "#ed7953"
             ],
             [
              0.7777777777777778,
              "#fb9f3a"
             ],
             [
              0.8888888888888888,
              "#fdca26"
             ],
             [
              1,
              "#f0f921"
             ]
            ],
            "type": "heatmapgl"
           }
          ],
          "histogram": [
           {
            "marker": {
             "colorbar": {
              "outlinewidth": 0,
              "ticks": ""
             }
            },
            "type": "histogram"
           }
          ],
          "histogram2d": [
           {
            "colorbar": {
             "outlinewidth": 0,
             "ticks": ""
            },
            "colorscale": [
             [
              0,
              "#0d0887"
             ],
             [
              0.1111111111111111,
              "#46039f"
             ],
             [
              0.2222222222222222,
              "#7201a8"
             ],
             [
              0.3333333333333333,
              "#9c179e"
             ],
             [
              0.4444444444444444,
              "#bd3786"
             ],
             [
              0.5555555555555556,
              "#d8576b"
             ],
             [
              0.6666666666666666,
              "#ed7953"
             ],
             [
              0.7777777777777778,
              "#fb9f3a"
             ],
             [
              0.8888888888888888,
              "#fdca26"
             ],
             [
              1,
              "#f0f921"
             ]
            ],
            "type": "histogram2d"
           }
          ],
          "histogram2dcontour": [
           {
            "colorbar": {
             "outlinewidth": 0,
             "ticks": ""
            },
            "colorscale": [
             [
              0,
              "#0d0887"
             ],
             [
              0.1111111111111111,
              "#46039f"
             ],
             [
              0.2222222222222222,
              "#7201a8"
             ],
             [
              0.3333333333333333,
              "#9c179e"
             ],
             [
              0.4444444444444444,
              "#bd3786"
             ],
             [
              0.5555555555555556,
              "#d8576b"
             ],
             [
              0.6666666666666666,
              "#ed7953"
             ],
             [
              0.7777777777777778,
              "#fb9f3a"
             ],
             [
              0.8888888888888888,
              "#fdca26"
             ],
             [
              1,
              "#f0f921"
             ]
            ],
            "type": "histogram2dcontour"
           }
          ],
          "mesh3d": [
           {
            "colorbar": {
             "outlinewidth": 0,
             "ticks": ""
            },
            "type": "mesh3d"
           }
          ],
          "parcoords": [
           {
            "line": {
             "colorbar": {
              "outlinewidth": 0,
              "ticks": ""
             }
            },
            "type": "parcoords"
           }
          ],
          "pie": [
           {
            "automargin": true,
            "type": "pie"
           }
          ],
          "scatter": [
           {
            "marker": {
             "colorbar": {
              "outlinewidth": 0,
              "ticks": ""
             }
            },
            "type": "scatter"
           }
          ],
          "scatter3d": [
           {
            "line": {
             "colorbar": {
              "outlinewidth": 0,
              "ticks": ""
             }
            },
            "marker": {
             "colorbar": {
              "outlinewidth": 0,
              "ticks": ""
             }
            },
            "type": "scatter3d"
           }
          ],
          "scattercarpet": [
           {
            "marker": {
             "colorbar": {
              "outlinewidth": 0,
              "ticks": ""
             }
            },
            "type": "scattercarpet"
           }
          ],
          "scattergeo": [
           {
            "marker": {
             "colorbar": {
              "outlinewidth": 0,
              "ticks": ""
             }
            },
            "type": "scattergeo"
           }
          ],
          "scattergl": [
           {
            "marker": {
             "colorbar": {
              "outlinewidth": 0,
              "ticks": ""
             }
            },
            "type": "scattergl"
           }
          ],
          "scattermapbox": [
           {
            "marker": {
             "colorbar": {
              "outlinewidth": 0,
              "ticks": ""
             }
            },
            "type": "scattermapbox"
           }
          ],
          "scatterpolar": [
           {
            "marker": {
             "colorbar": {
              "outlinewidth": 0,
              "ticks": ""
             }
            },
            "type": "scatterpolar"
           }
          ],
          "scatterpolargl": [
           {
            "marker": {
             "colorbar": {
              "outlinewidth": 0,
              "ticks": ""
             }
            },
            "type": "scatterpolargl"
           }
          ],
          "scatterternary": [
           {
            "marker": {
             "colorbar": {
              "outlinewidth": 0,
              "ticks": ""
             }
            },
            "type": "scatterternary"
           }
          ],
          "surface": [
           {
            "colorbar": {
             "outlinewidth": 0,
             "ticks": ""
            },
            "colorscale": [
             [
              0,
              "#0d0887"
             ],
             [
              0.1111111111111111,
              "#46039f"
             ],
             [
              0.2222222222222222,
              "#7201a8"
             ],
             [
              0.3333333333333333,
              "#9c179e"
             ],
             [
              0.4444444444444444,
              "#bd3786"
             ],
             [
              0.5555555555555556,
              "#d8576b"
             ],
             [
              0.6666666666666666,
              "#ed7953"
             ],
             [
              0.7777777777777778,
              "#fb9f3a"
             ],
             [
              0.8888888888888888,
              "#fdca26"
             ],
             [
              1,
              "#f0f921"
             ]
            ],
            "type": "surface"
           }
          ],
          "table": [
           {
            "cells": {
             "fill": {
              "color": "#EBF0F8"
             },
             "line": {
              "color": "white"
             }
            },
            "header": {
             "fill": {
              "color": "#C8D4E3"
             },
             "line": {
              "color": "white"
             }
            },
            "type": "table"
           }
          ]
         },
         "layout": {
          "annotationdefaults": {
           "arrowcolor": "#2a3f5f",
           "arrowhead": 0,
           "arrowwidth": 1
          },
          "autotypenumbers": "strict",
          "coloraxis": {
           "colorbar": {
            "outlinewidth": 0,
            "ticks": ""
           }
          },
          "colorscale": {
           "diverging": [
            [
             0,
             "#8e0152"
            ],
            [
             0.1,
             "#c51b7d"
            ],
            [
             0.2,
             "#de77ae"
            ],
            [
             0.3,
             "#f1b6da"
            ],
            [
             0.4,
             "#fde0ef"
            ],
            [
             0.5,
             "#f7f7f7"
            ],
            [
             0.6,
             "#e6f5d0"
            ],
            [
             0.7,
             "#b8e186"
            ],
            [
             0.8,
             "#7fbc41"
            ],
            [
             0.9,
             "#4d9221"
            ],
            [
             1,
             "#276419"
            ]
           ],
           "sequential": [
            [
             0,
             "#0d0887"
            ],
            [
             0.1111111111111111,
             "#46039f"
            ],
            [
             0.2222222222222222,
             "#7201a8"
            ],
            [
             0.3333333333333333,
             "#9c179e"
            ],
            [
             0.4444444444444444,
             "#bd3786"
            ],
            [
             0.5555555555555556,
             "#d8576b"
            ],
            [
             0.6666666666666666,
             "#ed7953"
            ],
            [
             0.7777777777777778,
             "#fb9f3a"
            ],
            [
             0.8888888888888888,
             "#fdca26"
            ],
            [
             1,
             "#f0f921"
            ]
           ],
           "sequentialminus": [
            [
             0,
             "#0d0887"
            ],
            [
             0.1111111111111111,
             "#46039f"
            ],
            [
             0.2222222222222222,
             "#7201a8"
            ],
            [
             0.3333333333333333,
             "#9c179e"
            ],
            [
             0.4444444444444444,
             "#bd3786"
            ],
            [
             0.5555555555555556,
             "#d8576b"
            ],
            [
             0.6666666666666666,
             "#ed7953"
            ],
            [
             0.7777777777777778,
             "#fb9f3a"
            ],
            [
             0.8888888888888888,
             "#fdca26"
            ],
            [
             1,
             "#f0f921"
            ]
           ]
          },
          "colorway": [
           "#636efa",
           "#EF553B",
           "#00cc96",
           "#ab63fa",
           "#FFA15A",
           "#19d3f3",
           "#FF6692",
           "#B6E880",
           "#FF97FF",
           "#FECB52"
          ],
          "font": {
           "color": "#2a3f5f"
          },
          "geo": {
           "bgcolor": "white",
           "lakecolor": "white",
           "landcolor": "#E5ECF6",
           "showlakes": true,
           "showland": true,
           "subunitcolor": "white"
          },
          "hoverlabel": {
           "align": "left"
          },
          "hovermode": "closest",
          "mapbox": {
           "style": "light"
          },
          "paper_bgcolor": "white",
          "plot_bgcolor": "#E5ECF6",
          "polar": {
           "angularaxis": {
            "gridcolor": "white",
            "linecolor": "white",
            "ticks": ""
           },
           "bgcolor": "#E5ECF6",
           "radialaxis": {
            "gridcolor": "white",
            "linecolor": "white",
            "ticks": ""
           }
          },
          "scene": {
           "xaxis": {
            "backgroundcolor": "#E5ECF6",
            "gridcolor": "white",
            "gridwidth": 2,
            "linecolor": "white",
            "showbackground": true,
            "ticks": "",
            "zerolinecolor": "white"
           },
           "yaxis": {
            "backgroundcolor": "#E5ECF6",
            "gridcolor": "white",
            "gridwidth": 2,
            "linecolor": "white",
            "showbackground": true,
            "ticks": "",
            "zerolinecolor": "white"
           },
           "zaxis": {
            "backgroundcolor": "#E5ECF6",
            "gridcolor": "white",
            "gridwidth": 2,
            "linecolor": "white",
            "showbackground": true,
            "ticks": "",
            "zerolinecolor": "white"
           }
          },
          "shapedefaults": {
           "line": {
            "color": "#2a3f5f"
           }
          },
          "ternary": {
           "aaxis": {
            "gridcolor": "white",
            "linecolor": "white",
            "ticks": ""
           },
           "baxis": {
            "gridcolor": "white",
            "linecolor": "white",
            "ticks": ""
           },
           "bgcolor": "#E5ECF6",
           "caxis": {
            "gridcolor": "white",
            "linecolor": "white",
            "ticks": ""
           }
          },
          "title": {
           "x": 0.05
          },
          "xaxis": {
           "automargin": true,
           "gridcolor": "white",
           "linecolor": "white",
           "ticks": "",
           "title": {
            "standoff": 15
           },
           "zerolinecolor": "white",
           "zerolinewidth": 2
          },
          "yaxis": {
           "automargin": true,
           "gridcolor": "white",
           "linecolor": "white",
           "ticks": "",
           "title": {
            "standoff": 15
           },
           "zerolinecolor": "white",
           "zerolinewidth": 2
          }
         }
        },
        "xaxis": {
         "anchor": "y",
         "domain": [
          0,
          1
         ],
         "title": {
          "text": "type"
         }
        },
        "yaxis": {
         "anchor": "x",
         "domain": [
          0,
          1
         ],
         "title": {
          "text": "Vader_Sentiment"
         }
        }
       }
      }
     },
     "metadata": {},
     "output_type": "display_data"
    }
   ],
   "source": [
    "# When was Tesla Enter Power Blabla released\n",
    "sortie_tesla_1 = datetime.strptime(str('2015-04-30'), '%Y-%m-%d')\n",
    "n_day = 20\n",
    "num_day_event = 10\n",
    "df  = find_review_event(sortie_tesla_1, df_tesla, n_day, num_day_event)\n",
    "\n",
    "fig = px.box(df, x=\"type\", y='Vader_Sentiment')\n",
    "fig.update_traces(quartilemethod=\"exclusive\") # or \"inclusive\", or \"linear\" by default\n",
    "fig.show()"
   ]
  },
  {
   "cell_type": "code",
   "execution_count": 46,
   "metadata": {},
   "outputs": [
    {
     "data": {
      "application/vnd.plotly.v1+json": {
       "config": {
        "plotlyServerURL": "https://plot.ly"
       },
       "data": [
        {
         "alignmentgroup": "True",
         "hovertemplate": "type=%{x}<br>Vader_Sentiment=%{y}<extra></extra>",
         "legendgroup": "",
         "marker": {
          "color": "#636efa"
         },
         "name": "",
         "notched": false,
         "offsetgroup": "",
         "orientation": "v",
         "quartilemethod": "exclusive",
         "showlegend": false,
         "type": "box",
         "x": [
          "before",
          "before",
          "before",
          "before",
          "before",
          "before",
          "before",
          "before",
          "before",
          "before",
          "before",
          "before",
          "before",
          "before",
          "before",
          "before",
          "before",
          "before",
          "before",
          "before",
          "before",
          "before",
          "before",
          "before",
          "before",
          "before",
          "before",
          "before",
          "before",
          "before",
          "before",
          "before",
          "before",
          "before",
          "before",
          "before",
          "before",
          "before",
          "before",
          "before",
          "before",
          "before",
          "before",
          "before",
          "before",
          "before",
          "before",
          "before",
          "before",
          "before",
          "before",
          "before",
          "before",
          "before",
          "before",
          "before",
          "before",
          "before",
          "before",
          "before",
          "before",
          "before",
          "before",
          "before",
          "before",
          "before",
          "before",
          "before",
          "before",
          "before",
          "before",
          "before",
          "before",
          "before",
          "before",
          "before",
          "before",
          "before",
          "before",
          "before",
          "before",
          "before",
          "before",
          "before",
          "before",
          "before",
          "before",
          "before",
          "before",
          "before",
          "before",
          "before",
          "before",
          "before",
          "before",
          "before",
          "before",
          "before",
          "before",
          "before",
          "before",
          "before",
          "before",
          "before",
          "before",
          "before",
          "before",
          "before",
          "before",
          "before",
          "before",
          "before",
          "before",
          "before",
          "before",
          "before",
          "before",
          "before",
          "before",
          "before",
          "before",
          "before",
          "before",
          "before",
          "before",
          "before",
          "before",
          "before",
          "before",
          "before",
          "before",
          "before",
          "before",
          "before",
          "before",
          "before",
          "before",
          "before",
          "before",
          "during",
          "during",
          "during",
          "during",
          "during",
          "during",
          "during",
          "during",
          "during",
          "during",
          "during",
          "during",
          "during",
          "during",
          "during",
          "during",
          "during",
          "during",
          "during",
          "during",
          "during",
          "during",
          "during",
          "during",
          "during",
          "during",
          "during",
          "during",
          "during",
          "during",
          "during",
          "during",
          "during",
          "during",
          "during",
          "during",
          "during",
          "during",
          "during",
          "during",
          "during",
          "during",
          "during",
          "during",
          "during",
          "during",
          "during",
          "during",
          "during",
          "during",
          "during",
          "during",
          "during",
          "during",
          "during",
          "during",
          "during",
          "during",
          "during",
          "during",
          "during",
          "during",
          "during",
          "during",
          "during",
          "during",
          "during",
          "during",
          "during",
          "during",
          "during",
          "during",
          "during",
          "during",
          "during",
          "during",
          "during",
          "during",
          "during",
          "during",
          "during",
          "during",
          "during",
          "during",
          "during",
          "during",
          "during",
          "during",
          "during",
          "during",
          "during",
          "during",
          "during",
          "during",
          "during",
          "during",
          "during",
          "during",
          "during",
          "during",
          "during",
          "during",
          "during",
          "during",
          "during",
          "during",
          "during",
          "during",
          "during",
          "during",
          "during",
          "during",
          "during",
          "during",
          "during",
          "during",
          "during",
          "during",
          "during",
          "during",
          "during",
          "during",
          "during",
          "during",
          "during",
          "during",
          "during",
          "during",
          "during",
          "during",
          "during",
          "during",
          "during",
          "during",
          "during",
          "during",
          "during",
          "during",
          "during",
          "after",
          "after",
          "after",
          "after",
          "after",
          "after",
          "after",
          "after",
          "after",
          "after",
          "after",
          "after",
          "after",
          "after",
          "after",
          "after",
          "after",
          "after",
          "after",
          "after",
          "after",
          "after",
          "after",
          "after",
          "after",
          "after",
          "after",
          "after",
          "after",
          "after",
          "after",
          "after",
          "after",
          "after",
          "after",
          "after",
          "after",
          "after",
          "after",
          "after",
          "after",
          "after",
          "after",
          "after",
          "after",
          "after",
          "after",
          "after",
          "after",
          "after",
          "after",
          "after",
          "after",
          "after",
          "after",
          "after",
          "after",
          "after",
          "after",
          "after",
          "after",
          "after",
          "after",
          "after",
          "after",
          "after",
          "after",
          "after",
          "after",
          "after",
          "after",
          "after",
          "after",
          "after",
          "after",
          "after",
          "after",
          "after",
          "after",
          "after",
          "after",
          "after",
          "after",
          "after",
          "after",
          "after",
          "after",
          "after",
          "after",
          "after",
          "after",
          "after",
          "after",
          "after",
          "after",
          "after",
          "after",
          "after",
          "after",
          "after",
          "after",
          "after",
          "after",
          "after",
          "after",
          "after",
          "after",
          "after",
          "after",
          "after",
          "after",
          "after",
          "after",
          "after",
          "after",
          "after",
          "after",
          "after",
          "after",
          "after",
          "after",
          "after",
          "after",
          "after",
          "after",
          "after",
          "after",
          "after",
          "after",
          "after",
          "after",
          "after",
          "after",
          "after",
          "after",
          "after",
          "after",
          "after",
          "after",
          "after",
          "after",
          "after",
          "after",
          "after",
          "after",
          "after",
          "after",
          "after",
          "after",
          "after",
          "after",
          "after",
          "after",
          "after",
          "after",
          "after",
          "after",
          "after",
          "after",
          "after",
          "after",
          "after",
          "after",
          "after",
          "after",
          "after",
          "after",
          "after",
          "after",
          "after",
          "after",
          "after",
          "after",
          "after",
          "after",
          "after",
          "after"
         ],
         "x0": " ",
         "xaxis": "x",
         "y": [
          0,
          -0.2732,
          0.6597000000000001,
          0.6369,
          0.2023,
          0,
          0,
          0.5267000000000001,
          0.1027,
          0.5859,
          0,
          0,
          0.886,
          0.1531,
          0,
          0.3612,
          0.7906000000000001,
          -0.1531,
          0.9601000000000001,
          0.8519,
          -0.31820000000000004,
          0.7096,
          0,
          -0.4939,
          -0.6808000000000001,
          0.1531,
          0.886,
          0,
          0.7717,
          0.6908000000000001,
          -0.5423,
          0,
          0.6249,
          0.743,
          0.8442000000000001,
          0,
          0,
          0.5489,
          0,
          -0.40190000000000003,
          0,
          0.3612,
          0.6486000000000001,
          0.7003,
          0.38180000000000003,
          0.42150000000000004,
          0.7096,
          0.42150000000000004,
          0,
          0.7096,
          0.8074,
          0.31820000000000004,
          0,
          0.5106,
          0.42150000000000004,
          0.2023,
          0.7351000000000001,
          0.0772,
          0.7783,
          0,
          0.9231,
          0,
          0.4033,
          0.2023,
          0.7579,
          0.891,
          0.8689,
          0.5859,
          0.6597000000000001,
          0,
          0.3612,
          0.8316,
          0.6486000000000001,
          0.891,
          0,
          0.7003,
          0.38180000000000003,
          0.6124,
          -0.8225,
          -0.15480000000000002,
          0,
          0.5267000000000001,
          0.296,
          0.3612,
          -0.6369,
          0.3612,
          -0.6249,
          0.9477000000000001,
          0.3612,
          0.3612,
          0.45880000000000004,
          0,
          -0.31820000000000004,
          0.5859,
          0.5423,
          0.8885000000000001,
          0.7717,
          0.9423,
          0,
          0,
          0.3612,
          0.2023,
          0.4767,
          0.3612,
          0.7717,
          0.9042,
          0,
          0.40190000000000003,
          0,
          0.6908000000000001,
          0,
          0,
          0.7003,
          0.8402000000000001,
          0.7783,
          0,
          0.6249,
          0.5267000000000001,
          0.8519,
          0.7275,
          0,
          0.5106,
          0.9153,
          0.9698,
          0,
          0.9349000000000001,
          0.5423,
          0.0772,
          0.38180000000000003,
          0.872,
          0.6705,
          0.2732,
          0.7717,
          0.7579,
          0.9274,
          0.9571000000000001,
          0.0772,
          0.42150000000000004,
          0.7845000000000001,
          0.40190000000000003,
          -0.38180000000000003,
          0.8519,
          -0.34,
          0.8143,
          -0.2263,
          0.0772,
          0,
          0.38180000000000003,
          0.0772,
          -0.0258,
          -0.0258,
          -0.40190000000000003,
          0.4767,
          0,
          0.25,
          -0.0258,
          0.2732,
          0.5574,
          -0.2732,
          0,
          0.8402000000000001,
          -0.31820000000000004,
          0.34,
          0,
          -0.3612,
          0.6249,
          0.7906000000000001,
          0,
          0,
          0,
          0.802,
          0.7003,
          0,
          0,
          -0.6249,
          -0.0516,
          0.3612,
          0.25,
          0.1027,
          -0.296,
          -0.1531,
          -0.8875000000000001,
          0.8555,
          0.9153,
          0.7906000000000001,
          0,
          0.8271000000000001,
          0.7351000000000001,
          0,
          0.8807,
          0.9612,
          0.2263,
          0.7269,
          0.5423,
          0.2732,
          0.7579,
          -0.8126,
          0,
          0,
          0.7096,
          -0.5719000000000001,
          0.4767,
          0,
          -0.45880000000000004,
          -0.6908000000000001,
          0,
          0,
          0,
          -0.8555,
          0.6249,
          0.836,
          0,
          -0.2263,
          0.0258,
          0.6369,
          0,
          0,
          0.7964,
          0,
          -0.40190000000000003,
          0.3612,
          0,
          0.4404,
          0,
          0.31820000000000004,
          0.45880000000000004,
          0.2732,
          0.296,
          0.9136000000000001,
          0.5859,
          0.8481000000000001,
          0.5106,
          0.7003,
          0.6808000000000001,
          0.6369,
          0.4939,
          0.5859,
          0,
          -0.7964,
          0,
          0.4767,
          0.0772,
          0.926,
          0.8225,
          0,
          -0.5994,
          0.8316,
          0.7003,
          0.5859,
          0.7096,
          0,
          0.8176,
          0.2263,
          0.6908000000000001,
          0.0772,
          0.3612,
          0.6249,
          0.5106,
          0.9549000000000001,
          -0.0258,
          0.38180000000000003,
          0,
          0.5574,
          0.3612,
          0,
          0.6022000000000001,
          0,
          0.7096,
          0.975,
          0.5859,
          -0.2023,
          0.0772,
          0.0258,
          0.38180000000000003,
          -0.7506,
          0,
          0.3612,
          0.3612,
          0.5994,
          0,
          0.8402000000000001,
          0.8885000000000001,
          0.7579,
          0.5106,
          0,
          0,
          0.5106,
          -0.8126,
          0.5719000000000001,
          0.2732,
          0.42150000000000004,
          0,
          0.5106,
          0,
          0.6808000000000001,
          0.128,
          0.2732,
          -0.40190000000000003,
          0.8442000000000001,
          0.0258,
          0,
          0.35350000000000004,
          0,
          0.296,
          0,
          0.886,
          0.296,
          0.2023,
          0,
          0.2023,
          0.9008,
          -0.1027,
          0.6705,
          0.4404,
          -0.296,
          0,
          0,
          0,
          -0.6249,
          0.5106,
          0.2732,
          0.5106,
          0.0258,
          0.4404,
          0.3612,
          -0.6478,
          0.1779,
          0.296,
          0.9669000000000001,
          0.9887,
          0.5994,
          0.4404,
          -0.1027,
          0.5719000000000001,
          0,
          0,
          0.7579,
          0,
          0.5994,
          0.42150000000000004,
          -0.7964,
          0,
          0.8225,
          0,
          0.3612,
          0.5106,
          0.9042,
          0,
          0.42150000000000004,
          0.0772,
          -0.34,
          0,
          0.7717,
          0.7096,
          0.1779,
          0.8126,
          0,
          0.31820000000000004,
          0.3612,
          0,
          0.2732,
          0.6124,
          0.5719000000000001,
          0.8913000000000001,
          0.2023,
          0.31820000000000004,
          0.8658,
          0,
          0.3612,
          0.38180000000000003,
          0,
          0.1027,
          0.25,
          0,
          0,
          0.5859,
          0.8038000000000001,
          0,
          0,
          0.4404,
          0.40190000000000003,
          -0.9062,
          -0.0516,
          0.7964,
          0,
          -0.6486000000000001,
          0,
          0,
          0,
          0.5267000000000001,
          0.765,
          -0.8934000000000001,
          0,
          0,
          0.796,
          0.6249,
          0.891,
          0.8402000000000001,
          0,
          0.4404,
          0.31820000000000004,
          0.9477000000000001,
          0,
          0,
          0.2732,
          0,
          -0.6249,
          0.8658,
          0.5994,
          0,
          0.7783,
          -0.40190000000000003,
          0,
          0,
          -0.0516,
          -0.1027,
          0.5859,
          0.6808000000000001,
          0,
          0.8957,
          0,
          0,
          0.6597000000000001,
          0.872,
          0.6808000000000001,
          0,
          0.8481000000000001,
          0.7506,
          0,
          0,
          0.45880000000000004,
          0,
          0,
          0.9756,
          0,
          0,
          0.7717,
          0.91,
          0,
          -0.4767,
          0.38180000000000003,
          0.45880000000000004,
          0,
          0.5267000000000001,
          0.8316,
          0.5267000000000001,
          0.6249,
          0,
          0.6908000000000001,
          0.8957,
          0.8591000000000001,
          0.9712000000000001,
          0.7089000000000001,
          0,
          0.42150000000000004
         ],
         "y0": " ",
         "yaxis": "y"
        }
       ],
       "layout": {
        "boxmode": "group",
        "legend": {
         "tracegroupgap": 0
        },
        "margin": {
         "t": 60
        },
        "template": {
         "data": {
          "bar": [
           {
            "error_x": {
             "color": "#2a3f5f"
            },
            "error_y": {
             "color": "#2a3f5f"
            },
            "marker": {
             "line": {
              "color": "#E5ECF6",
              "width": 0.5
             }
            },
            "type": "bar"
           }
          ],
          "barpolar": [
           {
            "marker": {
             "line": {
              "color": "#E5ECF6",
              "width": 0.5
             }
            },
            "type": "barpolar"
           }
          ],
          "carpet": [
           {
            "aaxis": {
             "endlinecolor": "#2a3f5f",
             "gridcolor": "white",
             "linecolor": "white",
             "minorgridcolor": "white",
             "startlinecolor": "#2a3f5f"
            },
            "baxis": {
             "endlinecolor": "#2a3f5f",
             "gridcolor": "white",
             "linecolor": "white",
             "minorgridcolor": "white",
             "startlinecolor": "#2a3f5f"
            },
            "type": "carpet"
           }
          ],
          "choropleth": [
           {
            "colorbar": {
             "outlinewidth": 0,
             "ticks": ""
            },
            "type": "choropleth"
           }
          ],
          "contour": [
           {
            "colorbar": {
             "outlinewidth": 0,
             "ticks": ""
            },
            "colorscale": [
             [
              0,
              "#0d0887"
             ],
             [
              0.1111111111111111,
              "#46039f"
             ],
             [
              0.2222222222222222,
              "#7201a8"
             ],
             [
              0.3333333333333333,
              "#9c179e"
             ],
             [
              0.4444444444444444,
              "#bd3786"
             ],
             [
              0.5555555555555556,
              "#d8576b"
             ],
             [
              0.6666666666666666,
              "#ed7953"
             ],
             [
              0.7777777777777778,
              "#fb9f3a"
             ],
             [
              0.8888888888888888,
              "#fdca26"
             ],
             [
              1,
              "#f0f921"
             ]
            ],
            "type": "contour"
           }
          ],
          "contourcarpet": [
           {
            "colorbar": {
             "outlinewidth": 0,
             "ticks": ""
            },
            "type": "contourcarpet"
           }
          ],
          "heatmap": [
           {
            "colorbar": {
             "outlinewidth": 0,
             "ticks": ""
            },
            "colorscale": [
             [
              0,
              "#0d0887"
             ],
             [
              0.1111111111111111,
              "#46039f"
             ],
             [
              0.2222222222222222,
              "#7201a8"
             ],
             [
              0.3333333333333333,
              "#9c179e"
             ],
             [
              0.4444444444444444,
              "#bd3786"
             ],
             [
              0.5555555555555556,
              "#d8576b"
             ],
             [
              0.6666666666666666,
              "#ed7953"
             ],
             [
              0.7777777777777778,
              "#fb9f3a"
             ],
             [
              0.8888888888888888,
              "#fdca26"
             ],
             [
              1,
              "#f0f921"
             ]
            ],
            "type": "heatmap"
           }
          ],
          "heatmapgl": [
           {
            "colorbar": {
             "outlinewidth": 0,
             "ticks": ""
            },
            "colorscale": [
             [
              0,
              "#0d0887"
             ],
             [
              0.1111111111111111,
              "#46039f"
             ],
             [
              0.2222222222222222,
              "#7201a8"
             ],
             [
              0.3333333333333333,
              "#9c179e"
             ],
             [
              0.4444444444444444,
              "#bd3786"
             ],
             [
              0.5555555555555556,
              "#d8576b"
             ],
             [
              0.6666666666666666,
              "#ed7953"
             ],
             [
              0.7777777777777778,
              "#fb9f3a"
             ],
             [
              0.8888888888888888,
              "#fdca26"
             ],
             [
              1,
              "#f0f921"
             ]
            ],
            "type": "heatmapgl"
           }
          ],
          "histogram": [
           {
            "marker": {
             "colorbar": {
              "outlinewidth": 0,
              "ticks": ""
             }
            },
            "type": "histogram"
           }
          ],
          "histogram2d": [
           {
            "colorbar": {
             "outlinewidth": 0,
             "ticks": ""
            },
            "colorscale": [
             [
              0,
              "#0d0887"
             ],
             [
              0.1111111111111111,
              "#46039f"
             ],
             [
              0.2222222222222222,
              "#7201a8"
             ],
             [
              0.3333333333333333,
              "#9c179e"
             ],
             [
              0.4444444444444444,
              "#bd3786"
             ],
             [
              0.5555555555555556,
              "#d8576b"
             ],
             [
              0.6666666666666666,
              "#ed7953"
             ],
             [
              0.7777777777777778,
              "#fb9f3a"
             ],
             [
              0.8888888888888888,
              "#fdca26"
             ],
             [
              1,
              "#f0f921"
             ]
            ],
            "type": "histogram2d"
           }
          ],
          "histogram2dcontour": [
           {
            "colorbar": {
             "outlinewidth": 0,
             "ticks": ""
            },
            "colorscale": [
             [
              0,
              "#0d0887"
             ],
             [
              0.1111111111111111,
              "#46039f"
             ],
             [
              0.2222222222222222,
              "#7201a8"
             ],
             [
              0.3333333333333333,
              "#9c179e"
             ],
             [
              0.4444444444444444,
              "#bd3786"
             ],
             [
              0.5555555555555556,
              "#d8576b"
             ],
             [
              0.6666666666666666,
              "#ed7953"
             ],
             [
              0.7777777777777778,
              "#fb9f3a"
             ],
             [
              0.8888888888888888,
              "#fdca26"
             ],
             [
              1,
              "#f0f921"
             ]
            ],
            "type": "histogram2dcontour"
           }
          ],
          "mesh3d": [
           {
            "colorbar": {
             "outlinewidth": 0,
             "ticks": ""
            },
            "type": "mesh3d"
           }
          ],
          "parcoords": [
           {
            "line": {
             "colorbar": {
              "outlinewidth": 0,
              "ticks": ""
             }
            },
            "type": "parcoords"
           }
          ],
          "pie": [
           {
            "automargin": true,
            "type": "pie"
           }
          ],
          "scatter": [
           {
            "marker": {
             "colorbar": {
              "outlinewidth": 0,
              "ticks": ""
             }
            },
            "type": "scatter"
           }
          ],
          "scatter3d": [
           {
            "line": {
             "colorbar": {
              "outlinewidth": 0,
              "ticks": ""
             }
            },
            "marker": {
             "colorbar": {
              "outlinewidth": 0,
              "ticks": ""
             }
            },
            "type": "scatter3d"
           }
          ],
          "scattercarpet": [
           {
            "marker": {
             "colorbar": {
              "outlinewidth": 0,
              "ticks": ""
             }
            },
            "type": "scattercarpet"
           }
          ],
          "scattergeo": [
           {
            "marker": {
             "colorbar": {
              "outlinewidth": 0,
              "ticks": ""
             }
            },
            "type": "scattergeo"
           }
          ],
          "scattergl": [
           {
            "marker": {
             "colorbar": {
              "outlinewidth": 0,
              "ticks": ""
             }
            },
            "type": "scattergl"
           }
          ],
          "scattermapbox": [
           {
            "marker": {
             "colorbar": {
              "outlinewidth": 0,
              "ticks": ""
             }
            },
            "type": "scattermapbox"
           }
          ],
          "scatterpolar": [
           {
            "marker": {
             "colorbar": {
              "outlinewidth": 0,
              "ticks": ""
             }
            },
            "type": "scatterpolar"
           }
          ],
          "scatterpolargl": [
           {
            "marker": {
             "colorbar": {
              "outlinewidth": 0,
              "ticks": ""
             }
            },
            "type": "scatterpolargl"
           }
          ],
          "scatterternary": [
           {
            "marker": {
             "colorbar": {
              "outlinewidth": 0,
              "ticks": ""
             }
            },
            "type": "scatterternary"
           }
          ],
          "surface": [
           {
            "colorbar": {
             "outlinewidth": 0,
             "ticks": ""
            },
            "colorscale": [
             [
              0,
              "#0d0887"
             ],
             [
              0.1111111111111111,
              "#46039f"
             ],
             [
              0.2222222222222222,
              "#7201a8"
             ],
             [
              0.3333333333333333,
              "#9c179e"
             ],
             [
              0.4444444444444444,
              "#bd3786"
             ],
             [
              0.5555555555555556,
              "#d8576b"
             ],
             [
              0.6666666666666666,
              "#ed7953"
             ],
             [
              0.7777777777777778,
              "#fb9f3a"
             ],
             [
              0.8888888888888888,
              "#fdca26"
             ],
             [
              1,
              "#f0f921"
             ]
            ],
            "type": "surface"
           }
          ],
          "table": [
           {
            "cells": {
             "fill": {
              "color": "#EBF0F8"
             },
             "line": {
              "color": "white"
             }
            },
            "header": {
             "fill": {
              "color": "#C8D4E3"
             },
             "line": {
              "color": "white"
             }
            },
            "type": "table"
           }
          ]
         },
         "layout": {
          "annotationdefaults": {
           "arrowcolor": "#2a3f5f",
           "arrowhead": 0,
           "arrowwidth": 1
          },
          "autotypenumbers": "strict",
          "coloraxis": {
           "colorbar": {
            "outlinewidth": 0,
            "ticks": ""
           }
          },
          "colorscale": {
           "diverging": [
            [
             0,
             "#8e0152"
            ],
            [
             0.1,
             "#c51b7d"
            ],
            [
             0.2,
             "#de77ae"
            ],
            [
             0.3,
             "#f1b6da"
            ],
            [
             0.4,
             "#fde0ef"
            ],
            [
             0.5,
             "#f7f7f7"
            ],
            [
             0.6,
             "#e6f5d0"
            ],
            [
             0.7,
             "#b8e186"
            ],
            [
             0.8,
             "#7fbc41"
            ],
            [
             0.9,
             "#4d9221"
            ],
            [
             1,
             "#276419"
            ]
           ],
           "sequential": [
            [
             0,
             "#0d0887"
            ],
            [
             0.1111111111111111,
             "#46039f"
            ],
            [
             0.2222222222222222,
             "#7201a8"
            ],
            [
             0.3333333333333333,
             "#9c179e"
            ],
            [
             0.4444444444444444,
             "#bd3786"
            ],
            [
             0.5555555555555556,
             "#d8576b"
            ],
            [
             0.6666666666666666,
             "#ed7953"
            ],
            [
             0.7777777777777778,
             "#fb9f3a"
            ],
            [
             0.8888888888888888,
             "#fdca26"
            ],
            [
             1,
             "#f0f921"
            ]
           ],
           "sequentialminus": [
            [
             0,
             "#0d0887"
            ],
            [
             0.1111111111111111,
             "#46039f"
            ],
            [
             0.2222222222222222,
             "#7201a8"
            ],
            [
             0.3333333333333333,
             "#9c179e"
            ],
            [
             0.4444444444444444,
             "#bd3786"
            ],
            [
             0.5555555555555556,
             "#d8576b"
            ],
            [
             0.6666666666666666,
             "#ed7953"
            ],
            [
             0.7777777777777778,
             "#fb9f3a"
            ],
            [
             0.8888888888888888,
             "#fdca26"
            ],
            [
             1,
             "#f0f921"
            ]
           ]
          },
          "colorway": [
           "#636efa",
           "#EF553B",
           "#00cc96",
           "#ab63fa",
           "#FFA15A",
           "#19d3f3",
           "#FF6692",
           "#B6E880",
           "#FF97FF",
           "#FECB52"
          ],
          "font": {
           "color": "#2a3f5f"
          },
          "geo": {
           "bgcolor": "white",
           "lakecolor": "white",
           "landcolor": "#E5ECF6",
           "showlakes": true,
           "showland": true,
           "subunitcolor": "white"
          },
          "hoverlabel": {
           "align": "left"
          },
          "hovermode": "closest",
          "mapbox": {
           "style": "light"
          },
          "paper_bgcolor": "white",
          "plot_bgcolor": "#E5ECF6",
          "polar": {
           "angularaxis": {
            "gridcolor": "white",
            "linecolor": "white",
            "ticks": ""
           },
           "bgcolor": "#E5ECF6",
           "radialaxis": {
            "gridcolor": "white",
            "linecolor": "white",
            "ticks": ""
           }
          },
          "scene": {
           "xaxis": {
            "backgroundcolor": "#E5ECF6",
            "gridcolor": "white",
            "gridwidth": 2,
            "linecolor": "white",
            "showbackground": true,
            "ticks": "",
            "zerolinecolor": "white"
           },
           "yaxis": {
            "backgroundcolor": "#E5ECF6",
            "gridcolor": "white",
            "gridwidth": 2,
            "linecolor": "white",
            "showbackground": true,
            "ticks": "",
            "zerolinecolor": "white"
           },
           "zaxis": {
            "backgroundcolor": "#E5ECF6",
            "gridcolor": "white",
            "gridwidth": 2,
            "linecolor": "white",
            "showbackground": true,
            "ticks": "",
            "zerolinecolor": "white"
           }
          },
          "shapedefaults": {
           "line": {
            "color": "#2a3f5f"
           }
          },
          "ternary": {
           "aaxis": {
            "gridcolor": "white",
            "linecolor": "white",
            "ticks": ""
           },
           "baxis": {
            "gridcolor": "white",
            "linecolor": "white",
            "ticks": ""
           },
           "bgcolor": "#E5ECF6",
           "caxis": {
            "gridcolor": "white",
            "linecolor": "white",
            "ticks": ""
           }
          },
          "title": {
           "x": 0.05
          },
          "xaxis": {
           "automargin": true,
           "gridcolor": "white",
           "linecolor": "white",
           "ticks": "",
           "title": {
            "standoff": 15
           },
           "zerolinecolor": "white",
           "zerolinewidth": 2
          },
          "yaxis": {
           "automargin": true,
           "gridcolor": "white",
           "linecolor": "white",
           "ticks": "",
           "title": {
            "standoff": 15
           },
           "zerolinecolor": "white",
           "zerolinewidth": 2
          }
         }
        },
        "xaxis": {
         "anchor": "y",
         "domain": [
          0,
          1
         ],
         "title": {
          "text": "type"
         }
        },
        "yaxis": {
         "anchor": "x",
         "domain": [
          0,
          1
         ],
         "title": {
          "text": "Vader_Sentiment"
         }
        }
       }
      }
     },
     "metadata": {},
     "output_type": "display_data"
    }
   ],
   "source": [
    "# When was Tesla Model 3 released\n",
    "sortie_tesla_1 = datetime.strptime(str('2017-07-07'), '%Y-%m-%d')\n",
    "n_day = 20\n",
    "num_day_event = 10\n",
    "df  = find_review_event(sortie_tesla_1, df_tesla, n_day, num_day_event)\n",
    "\n",
    "fig = px.box(df, x=\"type\", y='Vader_Sentiment')\n",
    "fig.update_traces(quartilemethod=\"exclusive\") # or \"inclusive\", or \"linear\" by default\n",
    "fig.show()"
   ]
  },
  {
   "cell_type": "code",
   "execution_count": 47,
   "metadata": {},
   "outputs": [
    {
     "data": {
      "application/vnd.plotly.v1+json": {
       "config": {
        "plotlyServerURL": "https://plot.ly"
       },
       "data": [
        {
         "alignmentgroup": "True",
         "hovertemplate": "type=%{x}<br>Vader_Sentiment=%{y}<extra></extra>",
         "legendgroup": "",
         "marker": {
          "color": "#636efa"
         },
         "name": "",
         "notched": false,
         "offsetgroup": "",
         "orientation": "v",
         "quartilemethod": "exclusive",
         "showlegend": false,
         "type": "box",
         "x": [
          "before",
          "before",
          "before",
          "before",
          "before",
          "before",
          "before",
          "before",
          "before",
          "before",
          "before",
          "before",
          "before",
          "before",
          "before",
          "before",
          "before",
          "before",
          "before",
          "before",
          "before",
          "before",
          "before",
          "before",
          "before",
          "before",
          "before",
          "before",
          "before",
          "before",
          "before",
          "before",
          "before",
          "before",
          "before",
          "before",
          "before",
          "before",
          "before",
          "before",
          "before",
          "before",
          "before",
          "before",
          "before",
          "before",
          "before",
          "before",
          "before",
          "before",
          "before",
          "before",
          "before",
          "before",
          "before",
          "before",
          "before",
          "before",
          "before",
          "before",
          "before",
          "before",
          "before",
          "before",
          "before",
          "before",
          "before",
          "before",
          "before",
          "before",
          "before",
          "before",
          "before",
          "before",
          "before",
          "before",
          "before",
          "before",
          "before",
          "before",
          "before",
          "before",
          "before",
          "before",
          "before",
          "before",
          "before",
          "before",
          "before",
          "before",
          "before",
          "before",
          "before",
          "before",
          "before",
          "before",
          "before",
          "before",
          "before",
          "before",
          "before",
          "before",
          "before",
          "before",
          "before",
          "before",
          "before",
          "before",
          "before",
          "before",
          "before",
          "before",
          "before",
          "before",
          "during",
          "during",
          "during",
          "during",
          "during",
          "during",
          "during",
          "during",
          "during",
          "during",
          "during",
          "during",
          "during",
          "during",
          "during",
          "during",
          "during",
          "during",
          "during",
          "during",
          "during",
          "during",
          "during",
          "during",
          "during",
          "during",
          "during",
          "during",
          "during",
          "during",
          "during",
          "during",
          "during",
          "during",
          "during",
          "during",
          "during",
          "during",
          "during",
          "during",
          "during",
          "during",
          "during",
          "during",
          "during",
          "during",
          "during",
          "during",
          "during",
          "during",
          "during",
          "during",
          "during",
          "during",
          "during",
          "during",
          "during",
          "during",
          "during",
          "during",
          "during",
          "during",
          "during",
          "during",
          "during",
          "during",
          "during",
          "during",
          "during",
          "during",
          "during",
          "during",
          "during",
          "during",
          "during",
          "during",
          "after",
          "after",
          "after",
          "after",
          "after",
          "after",
          "after",
          "after",
          "after",
          "after",
          "after",
          "after",
          "after",
          "after",
          "after",
          "after",
          "after",
          "after",
          "after",
          "after",
          "after",
          "after",
          "after",
          "after",
          "after",
          "after",
          "after",
          "after",
          "after",
          "after",
          "after",
          "after",
          "after",
          "after",
          "after",
          "after",
          "after",
          "after",
          "after",
          "after",
          "after",
          "after",
          "after",
          "after",
          "after",
          "after",
          "after",
          "after",
          "after",
          "after",
          "after",
          "after",
          "after",
          "after",
          "after",
          "after",
          "after"
         ],
         "x0": " ",
         "xaxis": "x",
         "y": [
          0.31820000000000004,
          0.45880000000000004,
          0.7506,
          0.9371,
          -0.4767,
          0.1027,
          0.91,
          0,
          -0.8126,
          0.3612,
          0.5719000000000001,
          -0.3612,
          -0.6249,
          0,
          0.7096,
          0.8126,
          -0.1531,
          0.1779,
          0,
          0,
          -0.3612,
          0.7351000000000001,
          0.25,
          0.6705,
          0.34,
          0.38180000000000003,
          0.6124,
          -0.3612,
          0.6705,
          0.7184,
          0,
          -0.3612,
          0.34,
          0,
          0.2263,
          0.31820000000000004,
          0,
          0,
          0.7003,
          0,
          -0.128,
          0.0772,
          -0.2263,
          0.6249,
          0.40190000000000003,
          0.6369,
          0.4939,
          0.5106,
          0,
          0,
          0.4939,
          0.7964,
          0.6124,
          0.5106,
          0.1779,
          0.2263,
          0.4767,
          0.6369,
          0.5267000000000001,
          0.42150000000000004,
          0,
          0.5994,
          -0.8228000000000001,
          0,
          -0.3612,
          0.40190000000000003,
          0.6908000000000001,
          0.40190000000000003,
          0.8126,
          0,
          0,
          0.6808000000000001,
          0,
          0.7579,
          -0.31820000000000004,
          0.1779,
          -0.4404,
          0,
          0.1779,
          -0.5994,
          0.31820000000000004,
          -0.1779,
          0.40190000000000003,
          0.6249,
          0.5574,
          0,
          0.5719000000000001,
          0.1531,
          0.8658,
          0.5574,
          0.8957,
          0.6369,
          0.9828,
          0.9231,
          0.45880000000000004,
          0.875,
          0.34,
          0.2023,
          0.8271000000000001,
          0.42150000000000004,
          0.7717,
          0.6908000000000001,
          0,
          0.9423,
          0.5574,
          0.2023,
          0.6573,
          -0.765,
          0.38180000000000003,
          0.3612,
          -0.38180000000000003,
          0.5356000000000001,
          0.3612,
          0.38180000000000003,
          0,
          -0.6249,
          0.5859,
          0,
          0.7783,
          0,
          0.45880000000000004,
          0.4404,
          0,
          0,
          0.4404,
          0,
          -0.40190000000000003,
          0.4404,
          0.0258,
          0.9062,
          0.8979,
          0.128,
          0.38180000000000003,
          0.5859,
          0,
          0.40190000000000003,
          0,
          0.7184,
          0.3612,
          0,
          0.2263,
          0.7717,
          -0.1779,
          0,
          -0.4939,
          0,
          -0.6249,
          0.128,
          0.7351000000000001,
          0.4404,
          0.4767,
          0.0516,
          0,
          -0.0772,
          0.6124,
          0,
          0.6808000000000001,
          0.836,
          0.7506,
          0.128,
          0,
          0.7003,
          0.40190000000000003,
          0.5994,
          0.5423,
          0.128,
          0.1779,
          0.9698,
          -0.1027,
          -0.1027,
          0,
          0.4404,
          0.936,
          0.5574,
          0.0772,
          0,
          0.9118,
          -0.34,
          -0.5994,
          0.42150000000000004,
          0,
          -0.6486000000000001,
          -0.40190000000000003,
          0,
          -0.31820000000000004,
          0.40190000000000003,
          0.8402000000000001,
          0.3612,
          -0.2732,
          0.0516,
          0,
          0.296,
          0.6249,
          -0.3612,
          0,
          0,
          0.2023,
          0,
          0,
          -0.34,
          0,
          0.7184,
          0.42150000000000004,
          0,
          0,
          0,
          0.38180000000000003,
          -0.128,
          0,
          0.0772,
          0.2732,
          0.4939,
          0.6705,
          0.4404,
          0,
          0.6908000000000001,
          0,
          -0.2732,
          0.0258,
          0.6597000000000001,
          0.3804,
          0.4005,
          0.5616,
          0.8555,
          0,
          0.7003,
          0.4404,
          0.40190000000000003,
          0,
          0.4767,
          0,
          0,
          0.6705,
          0,
          0.9590000000000001,
          0,
          0.0516,
          0.3612,
          -0.6597000000000001,
          -0.296,
          0.8591000000000001,
          0.7809,
          0,
          0,
          0,
          0,
          0.8225
         ],
         "y0": " ",
         "yaxis": "y"
        }
       ],
       "layout": {
        "boxmode": "group",
        "legend": {
         "tracegroupgap": 0
        },
        "margin": {
         "t": 60
        },
        "template": {
         "data": {
          "bar": [
           {
            "error_x": {
             "color": "#2a3f5f"
            },
            "error_y": {
             "color": "#2a3f5f"
            },
            "marker": {
             "line": {
              "color": "#E5ECF6",
              "width": 0.5
             }
            },
            "type": "bar"
           }
          ],
          "barpolar": [
           {
            "marker": {
             "line": {
              "color": "#E5ECF6",
              "width": 0.5
             }
            },
            "type": "barpolar"
           }
          ],
          "carpet": [
           {
            "aaxis": {
             "endlinecolor": "#2a3f5f",
             "gridcolor": "white",
             "linecolor": "white",
             "minorgridcolor": "white",
             "startlinecolor": "#2a3f5f"
            },
            "baxis": {
             "endlinecolor": "#2a3f5f",
             "gridcolor": "white",
             "linecolor": "white",
             "minorgridcolor": "white",
             "startlinecolor": "#2a3f5f"
            },
            "type": "carpet"
           }
          ],
          "choropleth": [
           {
            "colorbar": {
             "outlinewidth": 0,
             "ticks": ""
            },
            "type": "choropleth"
           }
          ],
          "contour": [
           {
            "colorbar": {
             "outlinewidth": 0,
             "ticks": ""
            },
            "colorscale": [
             [
              0,
              "#0d0887"
             ],
             [
              0.1111111111111111,
              "#46039f"
             ],
             [
              0.2222222222222222,
              "#7201a8"
             ],
             [
              0.3333333333333333,
              "#9c179e"
             ],
             [
              0.4444444444444444,
              "#bd3786"
             ],
             [
              0.5555555555555556,
              "#d8576b"
             ],
             [
              0.6666666666666666,
              "#ed7953"
             ],
             [
              0.7777777777777778,
              "#fb9f3a"
             ],
             [
              0.8888888888888888,
              "#fdca26"
             ],
             [
              1,
              "#f0f921"
             ]
            ],
            "type": "contour"
           }
          ],
          "contourcarpet": [
           {
            "colorbar": {
             "outlinewidth": 0,
             "ticks": ""
            },
            "type": "contourcarpet"
           }
          ],
          "heatmap": [
           {
            "colorbar": {
             "outlinewidth": 0,
             "ticks": ""
            },
            "colorscale": [
             [
              0,
              "#0d0887"
             ],
             [
              0.1111111111111111,
              "#46039f"
             ],
             [
              0.2222222222222222,
              "#7201a8"
             ],
             [
              0.3333333333333333,
              "#9c179e"
             ],
             [
              0.4444444444444444,
              "#bd3786"
             ],
             [
              0.5555555555555556,
              "#d8576b"
             ],
             [
              0.6666666666666666,
              "#ed7953"
             ],
             [
              0.7777777777777778,
              "#fb9f3a"
             ],
             [
              0.8888888888888888,
              "#fdca26"
             ],
             [
              1,
              "#f0f921"
             ]
            ],
            "type": "heatmap"
           }
          ],
          "heatmapgl": [
           {
            "colorbar": {
             "outlinewidth": 0,
             "ticks": ""
            },
            "colorscale": [
             [
              0,
              "#0d0887"
             ],
             [
              0.1111111111111111,
              "#46039f"
             ],
             [
              0.2222222222222222,
              "#7201a8"
             ],
             [
              0.3333333333333333,
              "#9c179e"
             ],
             [
              0.4444444444444444,
              "#bd3786"
             ],
             [
              0.5555555555555556,
              "#d8576b"
             ],
             [
              0.6666666666666666,
              "#ed7953"
             ],
             [
              0.7777777777777778,
              "#fb9f3a"
             ],
             [
              0.8888888888888888,
              "#fdca26"
             ],
             [
              1,
              "#f0f921"
             ]
            ],
            "type": "heatmapgl"
           }
          ],
          "histogram": [
           {
            "marker": {
             "colorbar": {
              "outlinewidth": 0,
              "ticks": ""
             }
            },
            "type": "histogram"
           }
          ],
          "histogram2d": [
           {
            "colorbar": {
             "outlinewidth": 0,
             "ticks": ""
            },
            "colorscale": [
             [
              0,
              "#0d0887"
             ],
             [
              0.1111111111111111,
              "#46039f"
             ],
             [
              0.2222222222222222,
              "#7201a8"
             ],
             [
              0.3333333333333333,
              "#9c179e"
             ],
             [
              0.4444444444444444,
              "#bd3786"
             ],
             [
              0.5555555555555556,
              "#d8576b"
             ],
             [
              0.6666666666666666,
              "#ed7953"
             ],
             [
              0.7777777777777778,
              "#fb9f3a"
             ],
             [
              0.8888888888888888,
              "#fdca26"
             ],
             [
              1,
              "#f0f921"
             ]
            ],
            "type": "histogram2d"
           }
          ],
          "histogram2dcontour": [
           {
            "colorbar": {
             "outlinewidth": 0,
             "ticks": ""
            },
            "colorscale": [
             [
              0,
              "#0d0887"
             ],
             [
              0.1111111111111111,
              "#46039f"
             ],
             [
              0.2222222222222222,
              "#7201a8"
             ],
             [
              0.3333333333333333,
              "#9c179e"
             ],
             [
              0.4444444444444444,
              "#bd3786"
             ],
             [
              0.5555555555555556,
              "#d8576b"
             ],
             [
              0.6666666666666666,
              "#ed7953"
             ],
             [
              0.7777777777777778,
              "#fb9f3a"
             ],
             [
              0.8888888888888888,
              "#fdca26"
             ],
             [
              1,
              "#f0f921"
             ]
            ],
            "type": "histogram2dcontour"
           }
          ],
          "mesh3d": [
           {
            "colorbar": {
             "outlinewidth": 0,
             "ticks": ""
            },
            "type": "mesh3d"
           }
          ],
          "parcoords": [
           {
            "line": {
             "colorbar": {
              "outlinewidth": 0,
              "ticks": ""
             }
            },
            "type": "parcoords"
           }
          ],
          "pie": [
           {
            "automargin": true,
            "type": "pie"
           }
          ],
          "scatter": [
           {
            "marker": {
             "colorbar": {
              "outlinewidth": 0,
              "ticks": ""
             }
            },
            "type": "scatter"
           }
          ],
          "scatter3d": [
           {
            "line": {
             "colorbar": {
              "outlinewidth": 0,
              "ticks": ""
             }
            },
            "marker": {
             "colorbar": {
              "outlinewidth": 0,
              "ticks": ""
             }
            },
            "type": "scatter3d"
           }
          ],
          "scattercarpet": [
           {
            "marker": {
             "colorbar": {
              "outlinewidth": 0,
              "ticks": ""
             }
            },
            "type": "scattercarpet"
           }
          ],
          "scattergeo": [
           {
            "marker": {
             "colorbar": {
              "outlinewidth": 0,
              "ticks": ""
             }
            },
            "type": "scattergeo"
           }
          ],
          "scattergl": [
           {
            "marker": {
             "colorbar": {
              "outlinewidth": 0,
              "ticks": ""
             }
            },
            "type": "scattergl"
           }
          ],
          "scattermapbox": [
           {
            "marker": {
             "colorbar": {
              "outlinewidth": 0,
              "ticks": ""
             }
            },
            "type": "scattermapbox"
           }
          ],
          "scatterpolar": [
           {
            "marker": {
             "colorbar": {
              "outlinewidth": 0,
              "ticks": ""
             }
            },
            "type": "scatterpolar"
           }
          ],
          "scatterpolargl": [
           {
            "marker": {
             "colorbar": {
              "outlinewidth": 0,
              "ticks": ""
             }
            },
            "type": "scatterpolargl"
           }
          ],
          "scatterternary": [
           {
            "marker": {
             "colorbar": {
              "outlinewidth": 0,
              "ticks": ""
             }
            },
            "type": "scatterternary"
           }
          ],
          "surface": [
           {
            "colorbar": {
             "outlinewidth": 0,
             "ticks": ""
            },
            "colorscale": [
             [
              0,
              "#0d0887"
             ],
             [
              0.1111111111111111,
              "#46039f"
             ],
             [
              0.2222222222222222,
              "#7201a8"
             ],
             [
              0.3333333333333333,
              "#9c179e"
             ],
             [
              0.4444444444444444,
              "#bd3786"
             ],
             [
              0.5555555555555556,
              "#d8576b"
             ],
             [
              0.6666666666666666,
              "#ed7953"
             ],
             [
              0.7777777777777778,
              "#fb9f3a"
             ],
             [
              0.8888888888888888,
              "#fdca26"
             ],
             [
              1,
              "#f0f921"
             ]
            ],
            "type": "surface"
           }
          ],
          "table": [
           {
            "cells": {
             "fill": {
              "color": "#EBF0F8"
             },
             "line": {
              "color": "white"
             }
            },
            "header": {
             "fill": {
              "color": "#C8D4E3"
             },
             "line": {
              "color": "white"
             }
            },
            "type": "table"
           }
          ]
         },
         "layout": {
          "annotationdefaults": {
           "arrowcolor": "#2a3f5f",
           "arrowhead": 0,
           "arrowwidth": 1
          },
          "autotypenumbers": "strict",
          "coloraxis": {
           "colorbar": {
            "outlinewidth": 0,
            "ticks": ""
           }
          },
          "colorscale": {
           "diverging": [
            [
             0,
             "#8e0152"
            ],
            [
             0.1,
             "#c51b7d"
            ],
            [
             0.2,
             "#de77ae"
            ],
            [
             0.3,
             "#f1b6da"
            ],
            [
             0.4,
             "#fde0ef"
            ],
            [
             0.5,
             "#f7f7f7"
            ],
            [
             0.6,
             "#e6f5d0"
            ],
            [
             0.7,
             "#b8e186"
            ],
            [
             0.8,
             "#7fbc41"
            ],
            [
             0.9,
             "#4d9221"
            ],
            [
             1,
             "#276419"
            ]
           ],
           "sequential": [
            [
             0,
             "#0d0887"
            ],
            [
             0.1111111111111111,
             "#46039f"
            ],
            [
             0.2222222222222222,
             "#7201a8"
            ],
            [
             0.3333333333333333,
             "#9c179e"
            ],
            [
             0.4444444444444444,
             "#bd3786"
            ],
            [
             0.5555555555555556,
             "#d8576b"
            ],
            [
             0.6666666666666666,
             "#ed7953"
            ],
            [
             0.7777777777777778,
             "#fb9f3a"
            ],
            [
             0.8888888888888888,
             "#fdca26"
            ],
            [
             1,
             "#f0f921"
            ]
           ],
           "sequentialminus": [
            [
             0,
             "#0d0887"
            ],
            [
             0.1111111111111111,
             "#46039f"
            ],
            [
             0.2222222222222222,
             "#7201a8"
            ],
            [
             0.3333333333333333,
             "#9c179e"
            ],
            [
             0.4444444444444444,
             "#bd3786"
            ],
            [
             0.5555555555555556,
             "#d8576b"
            ],
            [
             0.6666666666666666,
             "#ed7953"
            ],
            [
             0.7777777777777778,
             "#fb9f3a"
            ],
            [
             0.8888888888888888,
             "#fdca26"
            ],
            [
             1,
             "#f0f921"
            ]
           ]
          },
          "colorway": [
           "#636efa",
           "#EF553B",
           "#00cc96",
           "#ab63fa",
           "#FFA15A",
           "#19d3f3",
           "#FF6692",
           "#B6E880",
           "#FF97FF",
           "#FECB52"
          ],
          "font": {
           "color": "#2a3f5f"
          },
          "geo": {
           "bgcolor": "white",
           "lakecolor": "white",
           "landcolor": "#E5ECF6",
           "showlakes": true,
           "showland": true,
           "subunitcolor": "white"
          },
          "hoverlabel": {
           "align": "left"
          },
          "hovermode": "closest",
          "mapbox": {
           "style": "light"
          },
          "paper_bgcolor": "white",
          "plot_bgcolor": "#E5ECF6",
          "polar": {
           "angularaxis": {
            "gridcolor": "white",
            "linecolor": "white",
            "ticks": ""
           },
           "bgcolor": "#E5ECF6",
           "radialaxis": {
            "gridcolor": "white",
            "linecolor": "white",
            "ticks": ""
           }
          },
          "scene": {
           "xaxis": {
            "backgroundcolor": "#E5ECF6",
            "gridcolor": "white",
            "gridwidth": 2,
            "linecolor": "white",
            "showbackground": true,
            "ticks": "",
            "zerolinecolor": "white"
           },
           "yaxis": {
            "backgroundcolor": "#E5ECF6",
            "gridcolor": "white",
            "gridwidth": 2,
            "linecolor": "white",
            "showbackground": true,
            "ticks": "",
            "zerolinecolor": "white"
           },
           "zaxis": {
            "backgroundcolor": "#E5ECF6",
            "gridcolor": "white",
            "gridwidth": 2,
            "linecolor": "white",
            "showbackground": true,
            "ticks": "",
            "zerolinecolor": "white"
           }
          },
          "shapedefaults": {
           "line": {
            "color": "#2a3f5f"
           }
          },
          "ternary": {
           "aaxis": {
            "gridcolor": "white",
            "linecolor": "white",
            "ticks": ""
           },
           "baxis": {
            "gridcolor": "white",
            "linecolor": "white",
            "ticks": ""
           },
           "bgcolor": "#E5ECF6",
           "caxis": {
            "gridcolor": "white",
            "linecolor": "white",
            "ticks": ""
           }
          },
          "title": {
           "x": 0.05
          },
          "xaxis": {
           "automargin": true,
           "gridcolor": "white",
           "linecolor": "white",
           "ticks": "",
           "title": {
            "standoff": 15
           },
           "zerolinecolor": "white",
           "zerolinewidth": 2
          },
          "yaxis": {
           "automargin": true,
           "gridcolor": "white",
           "linecolor": "white",
           "ticks": "",
           "title": {
            "standoff": 15
           },
           "zerolinecolor": "white",
           "zerolinewidth": 2
          }
         }
        },
        "xaxis": {
         "anchor": "y",
         "domain": [
          0,
          1
         ],
         "title": {
          "text": "type"
         }
        },
        "yaxis": {
         "anchor": "x",
         "domain": [
          0,
          1
         ],
         "title": {
          "text": "Vader_Sentiment"
         }
        }
       }
      }
     },
     "metadata": {},
     "output_type": "display_data"
    }
   ],
   "source": [
    "# When was Tesla Model Y released\n",
    "sortie_tesla_1 = datetime.strptime(str('2020-03-13'), '%Y-%m-%d')\n",
    "n_day = 20\n",
    "num_day_event = 10\n",
    "df  = find_review_event(sortie_tesla_1, df_tesla, n_day, num_day_event)\n",
    "\n",
    "fig = px.box(df, x=\"type\", y='Vader_Sentiment')\n",
    "fig.update_traces(quartilemethod=\"exclusive\") # or \"inclusive\", or \"linear\" by default\n",
    "fig.show()"
   ]
  },
  {
   "cell_type": "markdown",
   "metadata": {},
   "source": [
    "### PieChart\n",
    "#### Occupations "
   ]
  },
  {
   "cell_type": "code",
   "execution_count": 99,
   "metadata": {},
   "outputs": [
    {
     "data": {
      "application/vnd.plotly.v1+json": {
       "config": {
        "plotlyServerURL": "https://plot.ly"
       },
       "data": [
        {
         "domain": {
          "x": [
           0,
           0.45
          ],
          "y": [
           0,
           1
          ]
         },
         "labels": [
          0,
          "Others",
          "American football player",
          "Others",
          "Others",
          "Others",
          "Others",
          "Others",
          "Others",
          "Others",
          "Others",
          "Others",
          "Others",
          "Others",
          "Others",
          "Others",
          "Others",
          "Others",
          "Others",
          "Others",
          "Others",
          "Others",
          "Others",
          "Others",
          "Others",
          "Others",
          "Others",
          "Others",
          "Others",
          "Others",
          "Others",
          "Others",
          "Others",
          "Others",
          "Others",
          "Others",
          "Others",
          "Others",
          "Others",
          "Others",
          "Others",
          "Others",
          "Others",
          "actor",
          "Others",
          "Others",
          "Others",
          "Others",
          "Others",
          "Others",
          "Others",
          "Others",
          "Others",
          "Others",
          "Others",
          "Others",
          "Others",
          "Others",
          "Others",
          "Others",
          "Others",
          "Others",
          "Others",
          "Others",
          "Others",
          "Others",
          "Others",
          "Others",
          "Others",
          "Others",
          "Others",
          "Others",
          "Others",
          "Others",
          "Others",
          "Others",
          "Others",
          "Others",
          "Others",
          "association football player",
          "Others",
          "Others",
          "Others",
          "Others",
          "Others",
          "Others",
          "Others",
          "Others",
          "Others",
          "Others",
          "Others",
          "Others",
          "Others",
          "Others",
          "Others",
          "Others",
          "Others",
          "Others",
          "Others",
          "Others",
          "Others",
          "Others",
          "Others",
          "Others",
          "Others",
          "Others",
          "Others",
          "Others",
          "baseball player",
          "Others",
          "basketball player",
          "Others",
          "Others",
          "Others",
          "Others",
          "Others",
          "Others",
          "Others",
          "Others",
          "Others",
          "Others",
          "Others",
          "Others",
          "Others",
          "Others",
          "Others",
          "Others",
          "Others",
          "Others",
          "Others",
          "Others",
          "Others",
          "Others",
          "Others",
          "Others",
          "Others",
          "Others",
          "Others",
          "Others",
          "Others",
          "Others",
          "Others",
          "Others",
          "Others",
          "Others",
          "Others",
          "Others",
          "Others",
          "Others",
          "Others",
          "Others",
          "businessperson",
          "Others",
          "Others",
          "Others",
          "Others",
          "Others",
          "Others",
          "Others",
          "Others",
          "Others",
          "Others",
          "Others",
          "Others",
          "Others",
          "Others",
          "Others",
          "Others",
          "Others",
          "Others",
          "Others",
          "Others",
          "Others",
          "Others",
          "Others",
          "Others",
          "Others",
          "Others",
          "Others",
          "chief executive officer",
          "Others",
          "Others",
          "Others",
          "Others",
          "Others",
          "Others",
          "Others",
          "Others",
          "Others",
          "Others",
          "Others",
          "Others",
          "Others",
          "Others",
          "Others",
          "Others",
          "Others",
          "Others",
          "Others",
          "Others",
          "Others",
          "Others",
          "Others",
          "Others",
          "Others",
          "Others",
          "Others",
          "Others",
          "Others",
          "Others",
          "Others",
          "Others",
          "Others",
          "composer",
          "Others",
          "Others",
          "computer scientist",
          "Others",
          "Others",
          "Others",
          "Others",
          "Others",
          "Others",
          "Others",
          "Others",
          "Others",
          "Others",
          "Others",
          "Others",
          "Others",
          "Others",
          "Others",
          "Others",
          "Others",
          "Others",
          "Others",
          "Others",
          "Others",
          "Others",
          "Others",
          "Others",
          "Others",
          "Others",
          "Others",
          "Others",
          "Others",
          "Others",
          "Others",
          "Others",
          "Others",
          "Others",
          "Others",
          "Others",
          "Others",
          "Others",
          "Others",
          "Others",
          "Others",
          "Others",
          "Others",
          "Others",
          "Others",
          "Others",
          "Others",
          "Others",
          "Others",
          "Others",
          "Others",
          "Others",
          "Others",
          "Others",
          "Others",
          "Others",
          "Others",
          "Others",
          "Others",
          "Others",
          "Others",
          "economist",
          "Others",
          "Others",
          "Others",
          "Others",
          "Others",
          "Others",
          "Others",
          "Others",
          "Others",
          "Others",
          "Others",
          "engineer",
          "Others",
          "Others",
          "entrepreneur",
          "Others",
          "Others",
          "Others",
          "Others",
          "Others",
          "Others",
          "Others",
          "Others",
          "Others",
          "Others",
          "Others",
          "Others",
          "Others",
          "Others",
          "Others",
          "Others",
          "Others",
          "Others",
          "Others",
          "Others",
          "Others",
          "Others",
          "Others",
          "Others",
          "Others",
          "Others",
          "Others",
          "Others",
          "film actor",
          "Others",
          "film director",
          "Others",
          "Others",
          "film producer",
          "Others",
          "Others",
          "Others",
          "financier",
          "Others",
          "Others",
          "Others",
          "Others",
          "Others",
          "Others",
          "Others",
          "Others",
          "Others",
          "Others",
          "Others",
          "Others",
          "Others",
          "Others",
          "Others",
          "Others",
          "Others",
          "Others",
          "Others",
          "Others",
          "Others",
          "Others",
          "Others",
          "Others",
          "Others",
          "Others",
          "Others",
          "Others",
          "Others",
          "Others",
          "Others",
          "Others",
          "Others",
          "Others",
          "Others",
          "Others",
          "Others",
          "Others",
          "Others",
          "Others",
          "Others",
          "Others",
          "Others",
          "Others",
          "Others",
          "Others",
          "Others",
          "Others",
          "Others",
          "Others",
          "Others",
          "Others",
          "ice hockey player",
          "Others",
          "Others",
          "Others",
          "Others",
          "Others",
          "Others",
          "Others",
          "Others",
          "Others",
          "Others",
          "Others",
          "Others",
          "Others",
          "Others",
          "Others",
          "Others",
          "Others",
          "Others",
          "Others",
          "Others",
          "Others",
          "journalist",
          "Others",
          "Others",
          "Others",
          "Others",
          "Others",
          "Others",
          "Others",
          "Others",
          "Others",
          "Others",
          "Others",
          "lawyer",
          "Others",
          "Others",
          "Others",
          "Others",
          "Others",
          "Others",
          "Others",
          "Others",
          "Others",
          "Others",
          "Others",
          "Others",
          "Others",
          "Others",
          "Others",
          "Others",
          "Others",
          "Others",
          "Others",
          "Others",
          "Others",
          "Others",
          "Others",
          "Others",
          "Others",
          "Others",
          "Others",
          "Others",
          "Others",
          "Others",
          "Others",
          "Others",
          "Others",
          "Others",
          "Others",
          "Others",
          "Others",
          "Others",
          "Others",
          "Others",
          "Others",
          "Others",
          "Others",
          "Others",
          "Others",
          "Others",
          "Others",
          "Others",
          "Others",
          "Others",
          "Others",
          "Others",
          "Others",
          "Others",
          "Others",
          "Others",
          "model",
          "Others",
          "Others",
          "Others",
          "Others",
          "Others",
          "Others",
          "Others",
          "Others",
          "Others",
          "Others",
          "Others",
          "Others",
          "Others",
          "Others",
          "Others",
          "Others",
          "Others",
          "Others",
          "Others",
          "musician",
          "Others",
          "Others",
          "Others",
          "Others",
          "Others",
          "Others",
          "Others",
          "Others",
          "Others",
          "Others",
          "Others",
          "Others",
          "Others",
          "Others",
          "Others",
          "Others",
          "Others",
          "Others",
          "Others",
          "Others",
          "Others",
          "Others",
          "Others",
          "Others",
          "Others",
          "Others",
          "Others",
          "Others",
          "Others",
          "Others",
          "Others",
          "Others",
          "Others",
          "Others",
          "Others",
          "Others",
          "Others",
          "Others",
          "Others",
          "Others",
          "Others",
          "Others",
          "Others",
          "Others",
          "Others",
          "Others",
          "Others",
          "Others",
          "Others",
          "Others",
          "Others",
          "Others",
          "Others",
          "Others",
          "Others",
          "Others",
          "Others",
          "Others",
          "Others",
          "Others",
          "Others",
          "Others",
          "Others",
          "Others",
          "Others",
          "Others",
          "Others",
          "Others",
          "Others",
          "Others",
          "Others",
          "Others",
          "Others",
          "Others",
          "Others",
          "Others",
          "Others",
          "politician",
          "Others",
          "Others",
          "Others",
          "Others",
          "Others",
          "Others",
          "Others",
          "Others",
          "Others",
          "Others",
          "Others",
          "Others",
          "Others",
          "Others",
          "Others",
          "Others",
          "Others",
          "Others",
          "Others",
          "Others",
          "Others",
          "Others",
          "Others",
          "Others",
          "Others",
          "Others",
          "Others",
          "Others",
          "Others",
          "Others",
          "Others",
          "Others",
          "Others",
          "Others",
          "Others",
          "Others",
          "Others",
          "radio personality",
          "Others",
          "Others",
          "Others",
          "Others",
          "Others",
          "Others",
          "Others",
          "Others",
          "Others",
          "Others",
          "Others",
          "Others",
          "Others",
          "researcher",
          "Others",
          "Others",
          "Others",
          "Others",
          "Others",
          "Others",
          "Others",
          "Others",
          "Others",
          "Others",
          "Others",
          "Others",
          "Others",
          "Others",
          "Others",
          "Others",
          "Others",
          "Others",
          "Others",
          "Others",
          "Others",
          "Others",
          "screenwriter",
          "Others",
          "Others",
          "Others",
          "Others",
          "Others",
          "Others",
          "Others",
          "Others",
          "Others",
          "Others",
          "Others",
          "Others",
          "Others",
          "singer",
          "singer-songwriter",
          "Others",
          "Others",
          "Others",
          "Others",
          "Others",
          "Others",
          "Others",
          "Others",
          "Others",
          "Others",
          "Others",
          "Others",
          "Others",
          "Others",
          "Others",
          "Others",
          "Others",
          "songwriter",
          "Others",
          "Others",
          "Others",
          "Others",
          "Others",
          "Others",
          "Others",
          "Others",
          "Others",
          "Others",
          "Others",
          "Others",
          "Others",
          "Others",
          "Others",
          "Others",
          "Others",
          "Others",
          "Others",
          "Others",
          "Others",
          "Others",
          "Others",
          "Others",
          "Others",
          "Others",
          "Others",
          "Others",
          "Others",
          "Others",
          "Others",
          "Others",
          "Others",
          "Others",
          "Others",
          "Others",
          "Others",
          "Others",
          "Others",
          "Others",
          "Others",
          "Others",
          "Others",
          "Others",
          "Others",
          "Others",
          "Others",
          "television actor",
          "Others",
          "Others",
          "Others",
          "Others",
          "television presenter",
          "television producer",
          "Others",
          "Others",
          "Others",
          "Others",
          "Others",
          "Others",
          "Others",
          "Others",
          "Others",
          "Others",
          "Others",
          "Others",
          "Others",
          "Others",
          "Others",
          "Others",
          "Others",
          "Others",
          "Others",
          "Others",
          "Others",
          "Others",
          "Others",
          "Others",
          "Others",
          "Others",
          "Others",
          "Others",
          "university teacher",
          "Others",
          "Others",
          "Others",
          "Others",
          "Others",
          "Others",
          "Others",
          "Others",
          "Others",
          "Others",
          "Others",
          "Others",
          "Others",
          "Others",
          "Others",
          "Others",
          "Others",
          "Others",
          "Others",
          "Others",
          "Others",
          "Others",
          "Others",
          "Others",
          "Others",
          "Others",
          "Others",
          "Others",
          "Others",
          "Others",
          "Others",
          "Others",
          "Others",
          "Others",
          "Others",
          "Others",
          "writer",
          "Others"
         ],
         "type": "pie",
         "values": [
          511,
          2,
          367,
          3,
          2,
          1,
          6,
          68,
          1,
          1,
          37,
          1,
          16,
          1,
          1,
          1,
          12,
          9,
          1,
          1,
          4,
          1,
          1,
          2,
          22,
          1,
          10,
          4,
          2,
          1,
          2,
          1,
          1,
          6,
          1,
          7,
          1,
          1,
          41,
          40,
          2,
          24,
          32,
          804,
          1,
          8,
          4,
          2,
          3,
          1,
          30,
          1,
          2,
          1,
          12,
          1,
          13,
          1,
          36,
          5,
          15,
          2,
          1,
          6,
          3,
          28,
          1,
          6,
          7,
          2,
          3,
          4,
          42,
          78,
          9,
          1,
          1,
          1,
          74,
          432,
          3,
          5,
          34,
          16,
          43,
          3,
          47,
          1,
          8,
          78,
          1,
          59,
          2,
          3,
          1,
          30,
          3,
          6,
          4,
          5,
          2,
          2,
          1,
          32,
          3,
          1,
          2,
          4,
          162,
          65,
          181,
          8,
          7,
          18,
          5,
          2,
          14,
          14,
          9,
          15,
          6,
          25,
          11,
          2,
          1,
          1,
          73,
          2,
          5,
          1,
          1,
          1,
          5,
          17,
          1,
          2,
          2,
          35,
          1,
          6,
          2,
          3,
          1,
          1,
          1,
          5,
          109,
          2,
          15,
          2,
          3,
          960,
          1,
          1,
          5,
          2,
          5,
          1,
          14,
          50,
          2,
          2,
          2,
          1,
          14,
          1,
          9,
          1,
          2,
          4,
          2,
          1,
          6,
          1,
          4,
          16,
          4,
          35,
          26,
          161,
          3,
          1,
          48,
          12,
          19,
          1,
          8,
          15,
          3,
          1,
          27,
          3,
          1,
          2,
          1,
          1,
          29,
          14,
          1,
          1,
          18,
          1,
          1,
          3,
          34,
          77,
          10,
          1,
          14,
          2,
          1,
          6,
          7,
          156,
          2,
          3,
          237,
          2,
          1,
          1,
          17,
          6,
          1,
          16,
          19,
          3,
          1,
          1,
          8,
          3,
          2,
          2,
          5,
          1,
          1,
          135,
          4,
          1,
          1,
          4,
          2,
          1,
          1,
          1,
          2,
          1,
          4,
          5,
          6,
          3,
          2,
          1,
          31,
          6,
          1,
          1,
          6,
          1,
          69,
          2,
          12,
          50,
          30,
          1,
          1,
          1,
          24,
          3,
          1,
          1,
          1,
          5,
          1,
          1,
          23,
          3,
          6,
          6,
          191,
          80,
          3,
          1,
          4,
          1,
          7,
          1,
          4,
          4,
          1,
          2,
          401,
          7,
          14,
          394,
          50,
          3,
          2,
          12,
          1,
          1,
          2,
          1,
          23,
          1,
          9,
          4,
          2,
          2,
          23,
          43,
          2,
          1,
          2,
          8,
          5,
          1,
          1,
          2,
          4,
          13,
          1,
          1,
          367,
          11,
          190,
          16,
          2,
          233,
          22,
          4,
          1,
          150,
          1,
          2,
          3,
          2,
          1,
          1,
          6,
          1,
          5,
          14,
          1,
          4,
          20,
          1,
          7,
          8,
          2,
          1,
          1,
          3,
          21,
          9,
          144,
          1,
          1,
          5,
          1,
          1,
          40,
          1,
          3,
          68,
          3,
          1,
          7,
          4,
          1,
          87,
          1,
          3,
          1,
          7,
          3,
          13,
          4,
          2,
          4,
          12,
          1,
          1,
          4,
          2,
          164,
          1,
          9,
          5,
          2,
          1,
          7,
          1,
          3,
          1,
          1,
          2,
          5,
          5,
          126,
          23,
          59,
          2,
          97,
          1,
          9,
          1,
          629,
          62,
          49,
          33,
          7,
          3,
          3,
          2,
          6,
          7,
          3,
          2,
          479,
          1,
          4,
          2,
          1,
          6,
          1,
          2,
          14,
          2,
          9,
          1,
          1,
          23,
          1,
          2,
          4,
          3,
          11,
          7,
          7,
          2,
          2,
          2,
          51,
          1,
          12,
          2,
          1,
          2,
          1,
          2,
          1,
          1,
          1,
          2,
          1,
          1,
          37,
          3,
          4,
          4,
          2,
          1,
          16,
          13,
          4,
          6,
          3,
          2,
          97,
          23,
          2,
          3,
          1,
          4,
          15,
          188,
          1,
          8,
          12,
          1,
          5,
          2,
          3,
          14,
          1,
          1,
          4,
          2,
          6,
          3,
          5,
          38,
          1,
          1,
          2,
          264,
          3,
          2,
          9,
          2,
          2,
          13,
          4,
          6,
          2,
          2,
          52,
          106,
          2,
          3,
          3,
          2,
          5,
          8,
          5,
          1,
          7,
          6,
          13,
          9,
          5,
          2,
          2,
          5,
          1,
          2,
          1,
          125,
          4,
          4,
          1,
          1,
          9,
          9,
          5,
          1,
          3,
          9,
          1,
          4,
          2,
          11,
          21,
          2,
          1,
          41,
          86,
          2,
          24,
          68,
          1,
          1,
          28,
          1,
          2,
          11,
          1,
          4,
          36,
          42,
          2,
          67,
          1,
          7,
          5,
          10,
          4,
          2,
          1,
          4,
          21,
          1,
          5,
          1573,
          3,
          1,
          15,
          1,
          2,
          1,
          1,
          21,
          1,
          3,
          59,
          1,
          4,
          1,
          3,
          3,
          16,
          61,
          95,
          1,
          3,
          5,
          2,
          2,
          21,
          3,
          22,
          7,
          2,
          1,
          1,
          5,
          4,
          83,
          74,
          2,
          1,
          150,
          1,
          2,
          66,
          2,
          14,
          15,
          6,
          101,
          34,
          1,
          1,
          4,
          14,
          592,
          53,
          1,
          11,
          1,
          2,
          43,
          63,
          1,
          2,
          55,
          13,
          1,
          2,
          1,
          19,
          4,
          3,
          9,
          4,
          21,
          7,
          68,
          255,
          3,
          22,
          1,
          1,
          1,
          6,
          1,
          1,
          1,
          2,
          1,
          16,
          1,
          408,
          180,
          3,
          4,
          1,
          1,
          1,
          1,
          3,
          3,
          3,
          11,
          30,
          6,
          14,
          4,
          3,
          6,
          6,
          184,
          2,
          1,
          1,
          8,
          5,
          17,
          45,
          11,
          5,
          4,
          3,
          20,
          13,
          6,
          5,
          1,
          14,
          3,
          6,
          88,
          23,
          14,
          10,
          1,
          105,
          16,
          3,
          1,
          1,
          7,
          3,
          3,
          2,
          13,
          17,
          1,
          4,
          12,
          1,
          5,
          4,
          1,
          1,
          2,
          6,
          106,
          4,
          352,
          25,
          1,
          2,
          5,
          158,
          193,
          1,
          2,
          23,
          2,
          1,
          2,
          9,
          1,
          5,
          7,
          1,
          1,
          5,
          26,
          2,
          2,
          3,
          1,
          1,
          1,
          9,
          1,
          2,
          2,
          1,
          2,
          1,
          1,
          276,
          6,
          25,
          1,
          2,
          2,
          13,
          3,
          2,
          2,
          1,
          3,
          68,
          1,
          1,
          1,
          6,
          1,
          1,
          1,
          130,
          1,
          22,
          1,
          5,
          1,
          2,
          4,
          2,
          3,
          1,
          2,
          3,
          1,
          3,
          1,
          1,
          601,
          14
         ]
        },
        {
         "domain": {
          "x": [
           0.55,
           1
          ],
          "y": [
           0,
           1
          ]
         },
         "labels": [
          0,
          "American football player",
          "Others",
          "Others",
          "Others",
          "Others",
          "Others",
          "Others",
          "Others",
          "NASCAR team owner",
          "Others",
          "Others",
          "Others",
          "Others",
          "Others",
          "Others",
          "actor",
          "Others",
          "Others",
          "Others",
          "Others",
          "Others",
          "Others",
          "Others",
          "Others",
          "Others",
          "Others",
          "Others",
          "Others",
          "Others",
          "Others",
          "Others",
          "association football player",
          "Others",
          "Others",
          "Others",
          "Others",
          "Others",
          "Others",
          "Others",
          "Others",
          "Others",
          "Others",
          "Others",
          "Others",
          "Others",
          "Others",
          "Others",
          "Others",
          "Others",
          "Others",
          "Others",
          "Others",
          "Others",
          "Others",
          "Others",
          "Others",
          "Others",
          "Others",
          "Others",
          "Others",
          "Others",
          "Others",
          "businessperson",
          "Others",
          "Others",
          "Others",
          "Others",
          "Others",
          "Others",
          "Others",
          "Others",
          "Others",
          "Others",
          "Others",
          "Others",
          "Others",
          "Others",
          "Others",
          "Others",
          "Others",
          "Others",
          "Others",
          "Others",
          "Others",
          "Others",
          "Others",
          "Others",
          "Others",
          "Others",
          "Others",
          "Others",
          "Others",
          "Others",
          "Others",
          "Others",
          "Others",
          "Others",
          "Others",
          "Others",
          "Others",
          "Others",
          "Others",
          "Others",
          "Others",
          "Others",
          "Others",
          "Others",
          "Others",
          "Others",
          "Others",
          "engineer",
          "Others",
          "Others",
          "Others",
          "Others",
          "Others",
          "Others",
          "Others",
          "Others",
          "Others",
          "Others",
          "Others",
          "Others",
          "Others",
          "Others",
          "Others",
          "film actor",
          "Others",
          "Others",
          "Others",
          "Others",
          "Others",
          "Others",
          "Others",
          "Others",
          "Others",
          "Others",
          "Others",
          "Others",
          "Others",
          "Others",
          "Others",
          "Others",
          "Others",
          "Others",
          "Others",
          "Others",
          "Others",
          "Others",
          "Others",
          "Others",
          "Others",
          "Others",
          "Others",
          "Others",
          "Others",
          "Others",
          "Others",
          "Others",
          "Others",
          "Others",
          "Others",
          "Others",
          "Others",
          "Others",
          "Others",
          "Others",
          "Others",
          "Others",
          "Others",
          "Others",
          "Others",
          "Others",
          "Others",
          "Others",
          "Others",
          "Others",
          "Others",
          "Others",
          "Others",
          "Others",
          "Others",
          "Others",
          "Others",
          "Others",
          "Others",
          "Others",
          "Others",
          "Others",
          "Others",
          "Others",
          "Others",
          "Others",
          "Others",
          "Others",
          "Others",
          "Others",
          "Others",
          "Others",
          "Others",
          "Others",
          "Others",
          "Others",
          "Others",
          "Others",
          "Others",
          "Others",
          "Others",
          "Others",
          "Others",
          "Others",
          "Others",
          "Others",
          "Others",
          "Others",
          "Others",
          "Others",
          "Others",
          "Others",
          "Others",
          "Others",
          "politician",
          "Others",
          "Others",
          "Others",
          "Others",
          "Others",
          "Others",
          "Others",
          "Others",
          "Others",
          "Others",
          "Others",
          "Others",
          "Others",
          "Others",
          "Others",
          "Others",
          "Others",
          "Others",
          "racing automobile driver",
          "racing driver",
          "Others",
          "Others",
          "Others",
          "Others",
          "Others",
          "Others",
          "Others",
          "Others",
          "Others",
          "Others",
          "Others",
          "Others",
          "Others",
          "Others",
          "Others",
          "Others",
          "Others",
          "Others",
          "Others",
          "Others",
          "Others",
          "Others",
          "Others",
          "Others",
          "Others",
          "singer",
          "Others",
          "Others",
          "Others",
          "Others",
          "Others",
          "Others",
          "Others",
          "Others",
          "Others",
          "Others",
          "Others",
          "Others",
          "Others",
          "Others",
          "Others",
          "Others",
          "Others",
          "Others",
          "Others",
          "Others",
          "Others",
          "Others",
          "Others",
          "Others",
          "Others",
          "Others",
          "television actor",
          "Others",
          "Others",
          "Others",
          "Others",
          "Others",
          "Others",
          "Others",
          "Others",
          "Others",
          "Others",
          "Others",
          "Others",
          "Others",
          "Others",
          "Others",
          "Others",
          "Others",
          "Others",
          "Others",
          "Others",
          "Others",
          "Others"
         ],
         "type": "pie",
         "values": [
          129,
          110,
          1,
          19,
          12,
          2,
          74,
          3,
          1,
          196,
          1,
          1,
          1,
          3,
          3,
          3,
          162,
          1,
          1,
          5,
          4,
          2,
          4,
          8,
          2,
          5,
          5,
          1,
          2,
          6,
          2,
          7,
          172,
          2,
          31,
          21,
          1,
          1,
          7,
          9,
          1,
          2,
          3,
          1,
          2,
          1,
          1,
          52,
          6,
          72,
          8,
          2,
          1,
          15,
          4,
          1,
          3,
          1,
          1,
          1,
          21,
          57,
          15,
          122,
          2,
          2,
          3,
          1,
          1,
          1,
          1,
          3,
          28,
          4,
          7,
          1,
          20,
          1,
          1,
          1,
          1,
          5,
          3,
          16,
          4,
          36,
          4,
          7,
          15,
          5,
          2,
          1,
          1,
          21,
          2,
          3,
          1,
          2,
          1,
          6,
          1,
          47,
          2,
          4,
          2,
          3,
          1,
          8,
          1,
          2,
          1,
          114,
          1,
          38,
          2,
          1,
          1,
          1,
          4,
          2,
          1,
          2,
          1,
          1,
          1,
          13,
          2,
          146,
          1,
          26,
          2,
          49,
          5,
          1,
          2,
          15,
          2,
          1,
          19,
          4,
          41,
          2,
          1,
          2,
          1,
          13,
          4,
          10,
          1,
          58,
          1,
          3,
          3,
          18,
          1,
          10,
          1,
          2,
          45,
          6,
          5,
          1,
          1,
          2,
          28,
          1,
          1,
          1,
          2,
          1,
          34,
          3,
          2,
          3,
          3,
          1,
          14,
          1,
          1,
          76,
          1,
          1,
          1,
          5,
          1,
          3,
          1,
          1,
          2,
          42,
          1,
          1,
          1,
          15,
          13,
          1,
          2,
          2,
          3,
          1,
          2,
          15,
          1,
          2,
          1,
          1,
          1,
          1,
          2,
          2,
          2,
          12,
          1,
          3,
          8,
          2,
          2,
          5,
          1,
          1,
          1,
          2,
          167,
          3,
          1,
          2,
          1,
          1,
          2,
          3,
          11,
          5,
          3,
          3,
          3,
          1,
          1,
          1,
          1,
          1,
          3,
          1159,
          552,
          6,
          13,
          1,
          15,
          15,
          29,
          6,
          1,
          46,
          15,
          1,
          2,
          9,
          2,
          27,
          4,
          1,
          4,
          40,
          3,
          1,
          1,
          10,
          1,
          1,
          112,
          34,
          1,
          1,
          3,
          30,
          1,
          1,
          4,
          1,
          42,
          4,
          4,
          1,
          6,
          4,
          3,
          1,
          2,
          1,
          1,
          3,
          12,
          9,
          1,
          1,
          4,
          103,
          2,
          27,
          44,
          5,
          2,
          8,
          1,
          5,
          35,
          1,
          24,
          1,
          1,
          4,
          15,
          4,
          1,
          1,
          1,
          1,
          71,
          1
         ]
        }
       ],
       "layout": {
        "template": {
         "data": {
          "bar": [
           {
            "error_x": {
             "color": "#2a3f5f"
            },
            "error_y": {
             "color": "#2a3f5f"
            },
            "marker": {
             "line": {
              "color": "#E5ECF6",
              "width": 0.5
             }
            },
            "type": "bar"
           }
          ],
          "barpolar": [
           {
            "marker": {
             "line": {
              "color": "#E5ECF6",
              "width": 0.5
             }
            },
            "type": "barpolar"
           }
          ],
          "carpet": [
           {
            "aaxis": {
             "endlinecolor": "#2a3f5f",
             "gridcolor": "white",
             "linecolor": "white",
             "minorgridcolor": "white",
             "startlinecolor": "#2a3f5f"
            },
            "baxis": {
             "endlinecolor": "#2a3f5f",
             "gridcolor": "white",
             "linecolor": "white",
             "minorgridcolor": "white",
             "startlinecolor": "#2a3f5f"
            },
            "type": "carpet"
           }
          ],
          "choropleth": [
           {
            "colorbar": {
             "outlinewidth": 0,
             "ticks": ""
            },
            "type": "choropleth"
           }
          ],
          "contour": [
           {
            "colorbar": {
             "outlinewidth": 0,
             "ticks": ""
            },
            "colorscale": [
             [
              0,
              "#0d0887"
             ],
             [
              0.1111111111111111,
              "#46039f"
             ],
             [
              0.2222222222222222,
              "#7201a8"
             ],
             [
              0.3333333333333333,
              "#9c179e"
             ],
             [
              0.4444444444444444,
              "#bd3786"
             ],
             [
              0.5555555555555556,
              "#d8576b"
             ],
             [
              0.6666666666666666,
              "#ed7953"
             ],
             [
              0.7777777777777778,
              "#fb9f3a"
             ],
             [
              0.8888888888888888,
              "#fdca26"
             ],
             [
              1,
              "#f0f921"
             ]
            ],
            "type": "contour"
           }
          ],
          "contourcarpet": [
           {
            "colorbar": {
             "outlinewidth": 0,
             "ticks": ""
            },
            "type": "contourcarpet"
           }
          ],
          "heatmap": [
           {
            "colorbar": {
             "outlinewidth": 0,
             "ticks": ""
            },
            "colorscale": [
             [
              0,
              "#0d0887"
             ],
             [
              0.1111111111111111,
              "#46039f"
             ],
             [
              0.2222222222222222,
              "#7201a8"
             ],
             [
              0.3333333333333333,
              "#9c179e"
             ],
             [
              0.4444444444444444,
              "#bd3786"
             ],
             [
              0.5555555555555556,
              "#d8576b"
             ],
             [
              0.6666666666666666,
              "#ed7953"
             ],
             [
              0.7777777777777778,
              "#fb9f3a"
             ],
             [
              0.8888888888888888,
              "#fdca26"
             ],
             [
              1,
              "#f0f921"
             ]
            ],
            "type": "heatmap"
           }
          ],
          "heatmapgl": [
           {
            "colorbar": {
             "outlinewidth": 0,
             "ticks": ""
            },
            "colorscale": [
             [
              0,
              "#0d0887"
             ],
             [
              0.1111111111111111,
              "#46039f"
             ],
             [
              0.2222222222222222,
              "#7201a8"
             ],
             [
              0.3333333333333333,
              "#9c179e"
             ],
             [
              0.4444444444444444,
              "#bd3786"
             ],
             [
              0.5555555555555556,
              "#d8576b"
             ],
             [
              0.6666666666666666,
              "#ed7953"
             ],
             [
              0.7777777777777778,
              "#fb9f3a"
             ],
             [
              0.8888888888888888,
              "#fdca26"
             ],
             [
              1,
              "#f0f921"
             ]
            ],
            "type": "heatmapgl"
           }
          ],
          "histogram": [
           {
            "marker": {
             "colorbar": {
              "outlinewidth": 0,
              "ticks": ""
             }
            },
            "type": "histogram"
           }
          ],
          "histogram2d": [
           {
            "colorbar": {
             "outlinewidth": 0,
             "ticks": ""
            },
            "colorscale": [
             [
              0,
              "#0d0887"
             ],
             [
              0.1111111111111111,
              "#46039f"
             ],
             [
              0.2222222222222222,
              "#7201a8"
             ],
             [
              0.3333333333333333,
              "#9c179e"
             ],
             [
              0.4444444444444444,
              "#bd3786"
             ],
             [
              0.5555555555555556,
              "#d8576b"
             ],
             [
              0.6666666666666666,
              "#ed7953"
             ],
             [
              0.7777777777777778,
              "#fb9f3a"
             ],
             [
              0.8888888888888888,
              "#fdca26"
             ],
             [
              1,
              "#f0f921"
             ]
            ],
            "type": "histogram2d"
           }
          ],
          "histogram2dcontour": [
           {
            "colorbar": {
             "outlinewidth": 0,
             "ticks": ""
            },
            "colorscale": [
             [
              0,
              "#0d0887"
             ],
             [
              0.1111111111111111,
              "#46039f"
             ],
             [
              0.2222222222222222,
              "#7201a8"
             ],
             [
              0.3333333333333333,
              "#9c179e"
             ],
             [
              0.4444444444444444,
              "#bd3786"
             ],
             [
              0.5555555555555556,
              "#d8576b"
             ],
             [
              0.6666666666666666,
              "#ed7953"
             ],
             [
              0.7777777777777778,
              "#fb9f3a"
             ],
             [
              0.8888888888888888,
              "#fdca26"
             ],
             [
              1,
              "#f0f921"
             ]
            ],
            "type": "histogram2dcontour"
           }
          ],
          "mesh3d": [
           {
            "colorbar": {
             "outlinewidth": 0,
             "ticks": ""
            },
            "type": "mesh3d"
           }
          ],
          "parcoords": [
           {
            "line": {
             "colorbar": {
              "outlinewidth": 0,
              "ticks": ""
             }
            },
            "type": "parcoords"
           }
          ],
          "pie": [
           {
            "automargin": true,
            "type": "pie"
           }
          ],
          "scatter": [
           {
            "marker": {
             "colorbar": {
              "outlinewidth": 0,
              "ticks": ""
             }
            },
            "type": "scatter"
           }
          ],
          "scatter3d": [
           {
            "line": {
             "colorbar": {
              "outlinewidth": 0,
              "ticks": ""
             }
            },
            "marker": {
             "colorbar": {
              "outlinewidth": 0,
              "ticks": ""
             }
            },
            "type": "scatter3d"
           }
          ],
          "scattercarpet": [
           {
            "marker": {
             "colorbar": {
              "outlinewidth": 0,
              "ticks": ""
             }
            },
            "type": "scattercarpet"
           }
          ],
          "scattergeo": [
           {
            "marker": {
             "colorbar": {
              "outlinewidth": 0,
              "ticks": ""
             }
            },
            "type": "scattergeo"
           }
          ],
          "scattergl": [
           {
            "marker": {
             "colorbar": {
              "outlinewidth": 0,
              "ticks": ""
             }
            },
            "type": "scattergl"
           }
          ],
          "scattermapbox": [
           {
            "marker": {
             "colorbar": {
              "outlinewidth": 0,
              "ticks": ""
             }
            },
            "type": "scattermapbox"
           }
          ],
          "scatterpolar": [
           {
            "marker": {
             "colorbar": {
              "outlinewidth": 0,
              "ticks": ""
             }
            },
            "type": "scatterpolar"
           }
          ],
          "scatterpolargl": [
           {
            "marker": {
             "colorbar": {
              "outlinewidth": 0,
              "ticks": ""
             }
            },
            "type": "scatterpolargl"
           }
          ],
          "scatterternary": [
           {
            "marker": {
             "colorbar": {
              "outlinewidth": 0,
              "ticks": ""
             }
            },
            "type": "scatterternary"
           }
          ],
          "surface": [
           {
            "colorbar": {
             "outlinewidth": 0,
             "ticks": ""
            },
            "colorscale": [
             [
              0,
              "#0d0887"
             ],
             [
              0.1111111111111111,
              "#46039f"
             ],
             [
              0.2222222222222222,
              "#7201a8"
             ],
             [
              0.3333333333333333,
              "#9c179e"
             ],
             [
              0.4444444444444444,
              "#bd3786"
             ],
             [
              0.5555555555555556,
              "#d8576b"
             ],
             [
              0.6666666666666666,
              "#ed7953"
             ],
             [
              0.7777777777777778,
              "#fb9f3a"
             ],
             [
              0.8888888888888888,
              "#fdca26"
             ],
             [
              1,
              "#f0f921"
             ]
            ],
            "type": "surface"
           }
          ],
          "table": [
           {
            "cells": {
             "fill": {
              "color": "#EBF0F8"
             },
             "line": {
              "color": "white"
             }
            },
            "header": {
             "fill": {
              "color": "#C8D4E3"
             },
             "line": {
              "color": "white"
             }
            },
            "type": "table"
           }
          ]
         },
         "layout": {
          "annotationdefaults": {
           "arrowcolor": "#2a3f5f",
           "arrowhead": 0,
           "arrowwidth": 1
          },
          "autotypenumbers": "strict",
          "coloraxis": {
           "colorbar": {
            "outlinewidth": 0,
            "ticks": ""
           }
          },
          "colorscale": {
           "diverging": [
            [
             0,
             "#8e0152"
            ],
            [
             0.1,
             "#c51b7d"
            ],
            [
             0.2,
             "#de77ae"
            ],
            [
             0.3,
             "#f1b6da"
            ],
            [
             0.4,
             "#fde0ef"
            ],
            [
             0.5,
             "#f7f7f7"
            ],
            [
             0.6,
             "#e6f5d0"
            ],
            [
             0.7,
             "#b8e186"
            ],
            [
             0.8,
             "#7fbc41"
            ],
            [
             0.9,
             "#4d9221"
            ],
            [
             1,
             "#276419"
            ]
           ],
           "sequential": [
            [
             0,
             "#0d0887"
            ],
            [
             0.1111111111111111,
             "#46039f"
            ],
            [
             0.2222222222222222,
             "#7201a8"
            ],
            [
             0.3333333333333333,
             "#9c179e"
            ],
            [
             0.4444444444444444,
             "#bd3786"
            ],
            [
             0.5555555555555556,
             "#d8576b"
            ],
            [
             0.6666666666666666,
             "#ed7953"
            ],
            [
             0.7777777777777778,
             "#fb9f3a"
            ],
            [
             0.8888888888888888,
             "#fdca26"
            ],
            [
             1,
             "#f0f921"
            ]
           ],
           "sequentialminus": [
            [
             0,
             "#0d0887"
            ],
            [
             0.1111111111111111,
             "#46039f"
            ],
            [
             0.2222222222222222,
             "#7201a8"
            ],
            [
             0.3333333333333333,
             "#9c179e"
            ],
            [
             0.4444444444444444,
             "#bd3786"
            ],
            [
             0.5555555555555556,
             "#d8576b"
            ],
            [
             0.6666666666666666,
             "#ed7953"
            ],
            [
             0.7777777777777778,
             "#fb9f3a"
            ],
            [
             0.8888888888888888,
             "#fdca26"
            ],
            [
             1,
             "#f0f921"
            ]
           ]
          },
          "colorway": [
           "#636efa",
           "#EF553B",
           "#00cc96",
           "#ab63fa",
           "#FFA15A",
           "#19d3f3",
           "#FF6692",
           "#B6E880",
           "#FF97FF",
           "#FECB52"
          ],
          "font": {
           "color": "#2a3f5f"
          },
          "geo": {
           "bgcolor": "white",
           "lakecolor": "white",
           "landcolor": "#E5ECF6",
           "showlakes": true,
           "showland": true,
           "subunitcolor": "white"
          },
          "hoverlabel": {
           "align": "left"
          },
          "hovermode": "closest",
          "mapbox": {
           "style": "light"
          },
          "paper_bgcolor": "white",
          "plot_bgcolor": "#E5ECF6",
          "polar": {
           "angularaxis": {
            "gridcolor": "white",
            "linecolor": "white",
            "ticks": ""
           },
           "bgcolor": "#E5ECF6",
           "radialaxis": {
            "gridcolor": "white",
            "linecolor": "white",
            "ticks": ""
           }
          },
          "scene": {
           "xaxis": {
            "backgroundcolor": "#E5ECF6",
            "gridcolor": "white",
            "gridwidth": 2,
            "linecolor": "white",
            "showbackground": true,
            "ticks": "",
            "zerolinecolor": "white"
           },
           "yaxis": {
            "backgroundcolor": "#E5ECF6",
            "gridcolor": "white",
            "gridwidth": 2,
            "linecolor": "white",
            "showbackground": true,
            "ticks": "",
            "zerolinecolor": "white"
           },
           "zaxis": {
            "backgroundcolor": "#E5ECF6",
            "gridcolor": "white",
            "gridwidth": 2,
            "linecolor": "white",
            "showbackground": true,
            "ticks": "",
            "zerolinecolor": "white"
           }
          },
          "shapedefaults": {
           "line": {
            "color": "#2a3f5f"
           }
          },
          "ternary": {
           "aaxis": {
            "gridcolor": "white",
            "linecolor": "white",
            "ticks": ""
           },
           "baxis": {
            "gridcolor": "white",
            "linecolor": "white",
            "ticks": ""
           },
           "bgcolor": "#E5ECF6",
           "caxis": {
            "gridcolor": "white",
            "linecolor": "white",
            "ticks": ""
           }
          },
          "title": {
           "x": 0.05
          },
          "xaxis": {
           "automargin": true,
           "gridcolor": "white",
           "linecolor": "white",
           "ticks": "",
           "title": {
            "standoff": 15
           },
           "zerolinecolor": "white",
           "zerolinewidth": 2
          },
          "yaxis": {
           "automargin": true,
           "gridcolor": "white",
           "linecolor": "white",
           "ticks": "",
           "title": {
            "standoff": 15
           },
           "zerolinecolor": "white",
           "zerolinewidth": 2
          }
         }
        }
       }
      }
     },
     "metadata": {},
     "output_type": "display_data"
    }
   ],
   "source": [
    "# Tesla\n",
    "df_t = df_tesla.explode('occupation_label').groupby(by='occupation_label').count().reset_index()\n",
    "df_t.loc[df_t['date'] < 150, 'occupation_label'] = 'Others' \n",
    "# Chevrolet \n",
    "df_c = df_chevrolet.explode('occupation_label').groupby(by='occupation_label').count().reset_index()\n",
    "df_c.loc[df_c['date'] < 100, 'occupation_label'] = 'Others'\n",
    "fig = make_subplots(rows=1, cols=2, specs=[[{\"type\": \"pie\"}, {\"type\": \"pie\"}]])\n",
    "fig.add_trace(go.Pie(labels=df_t.occupation_label, values=df_t.date),row=1, col=1)\n",
    "fig.add_trace(go.Pie(labels=df_c.occupation_label, values=df_c.date),row=1, col=2)\n",
    "fig.show()"
   ]
  },
  {
   "cell_type": "markdown",
   "metadata": {},
   "source": [
    "#### Nationality"
   ]
  },
  {
   "cell_type": "code",
   "execution_count": 102,
   "metadata": {},
   "outputs": [
    {
     "data": {
      "application/vnd.plotly.v1+json": {
       "config": {
        "plotlyServerURL": "https://plot.ly"
       },
       "data": [
        {
         "domain": {
          "x": [
           0,
           0.45
          ],
          "y": [
           0,
           1
          ]
         },
         "labels": [
          0,
          "Others",
          "Others",
          "Others",
          "Others",
          "Others",
          "Australia",
          "Others",
          "Others",
          "Others",
          "Others",
          "Others",
          "Others",
          "Others",
          "Others",
          "Others",
          "Others",
          "Others",
          "Others",
          "Others",
          "Others",
          "Canada",
          "Others",
          "Others",
          "Others",
          "Others",
          "Others",
          "Others",
          "Others",
          "Others",
          "Others",
          "Others",
          "Others",
          "Others",
          "Others",
          "Others",
          "Others",
          "Others",
          "Others",
          "Others",
          "Others",
          "Others",
          "Others",
          "Others",
          "Others",
          "Germany",
          "Others",
          "Others",
          "Others",
          "Others",
          "Others",
          "Others",
          "Others",
          "Others",
          "Others",
          "India",
          "Others",
          "Others",
          "Others",
          "Others",
          "Others",
          "Others",
          "Others",
          "Others",
          "Others",
          "Others",
          "Others",
          "Others",
          "Others",
          "Others",
          "Others",
          "Others",
          "Others",
          "Others",
          "Others",
          "Others",
          "Others",
          "Others",
          "Others",
          "Others",
          "Others",
          "Others",
          "New Zealand",
          "Others",
          "Others",
          "Others",
          "Others",
          "Others",
          "Others",
          "Others",
          "Others",
          "Others",
          "Others",
          "Others",
          "Others",
          "Others",
          "Others",
          "Others",
          "Others",
          "Others",
          "Others",
          "Others",
          "Others",
          "Others",
          "Others",
          "Others",
          "Others",
          "Others",
          "Others",
          "Others",
          "Others",
          "Others",
          "Others",
          "Others",
          "Others",
          "Others",
          "Others",
          "Others",
          "Others",
          "Others",
          "Others",
          "Others",
          "Others",
          "Others",
          "Others",
          "Others",
          "Others",
          "Others",
          "Others",
          "Others",
          "Others",
          "United Kingdom",
          "Others",
          "Others",
          "United States of America",
          "Others",
          "Others",
          "Others",
          "Others",
          "Others",
          "Others",
          "Others",
          "Others",
          "Others"
         ],
         "type": "pie",
         "values": [
          2299,
          1,
          1,
          1,
          9,
          1,
          442,
          73,
          6,
          2,
          3,
          13,
          2,
          2,
          1,
          23,
          2,
          63,
          1,
          1,
          2,
          409,
          2,
          7,
          4,
          4,
          2,
          1,
          1,
          6,
          2,
          39,
          2,
          4,
          56,
          9,
          15,
          3,
          3,
          5,
          1,
          16,
          95,
          1,
          16,
          307,
          15,
          7,
          1,
          1,
          1,
          3,
          14,
          4,
          1,
          464,
          1,
          2,
          2,
          90,
          2,
          49,
          50,
          22,
          71,
          1,
          2,
          8,
          35,
          1,
          2,
          2,
          26,
          1,
          2,
          25,
          23,
          1,
          3,
          1,
          1,
          4,
          159,
          33,
          1,
          19,
          21,
          3,
          79,
          1,
          3,
          18,
          8,
          1,
          9,
          8,
          1,
          8,
          7,
          3,
          13,
          1,
          1,
          6,
          9,
          5,
          1,
          1,
          21,
          1,
          6,
          3,
          12,
          83,
          26,
          18,
          31,
          3,
          52,
          100,
          1,
          30,
          9,
          1,
          2,
          1,
          4,
          8,
          2,
          8,
          7,
          1194,
          24,
          3,
          4469,
          3,
          1,
          5,
          33,
          1,
          2,
          1,
          1,
          1
         ]
        },
        {
         "domain": {
          "x": [
           0.55,
           1
          ],
          "y": [
           0,
           1
          ]
         },
         "labels": [
          0,
          "Others",
          "Others",
          "Others",
          "Others",
          "Others",
          "Others",
          "Others",
          "Canada",
          "Others",
          "Others",
          "Others",
          "Others",
          "Others",
          "Others",
          "Others",
          "Others",
          "Others",
          "Others",
          "Others",
          "Others",
          "Others",
          "Others",
          "Others",
          "Others",
          "Others",
          "Others",
          "Others",
          "Others",
          "Others",
          "Others",
          "Others",
          "Others",
          "Others",
          "Others",
          "Others",
          "New Zealand",
          "Others",
          "Others",
          "Others",
          "Others",
          "Others",
          "Others",
          "Others",
          "Others",
          "Others",
          "Others",
          "Others",
          "Others",
          "Others",
          "Others",
          "Others",
          "Others",
          "Others",
          "Others",
          "Others",
          "Others",
          "United Kingdom",
          "Others",
          "United States of America",
          "Others",
          "Others"
         ],
         "type": "pie",
         "values": [
          543,
          6,
          58,
          6,
          1,
          3,
          1,
          98,
          176,
          2,
          21,
          1,
          13,
          1,
          1,
          3,
          95,
          29,
          5,
          1,
          1,
          1,
          2,
          12,
          2,
          28,
          1,
          8,
          2,
          6,
          1,
          6,
          1,
          24,
          2,
          1,
          112,
          2,
          3,
          1,
          1,
          7,
          1,
          2,
          16,
          1,
          1,
          1,
          24,
          1,
          1,
          10,
          5,
          13,
          1,
          1,
          1,
          255,
          3,
          1919,
          2,
          1
         ]
        }
       ],
       "layout": {
        "template": {
         "data": {
          "bar": [
           {
            "error_x": {
             "color": "#2a3f5f"
            },
            "error_y": {
             "color": "#2a3f5f"
            },
            "marker": {
             "line": {
              "color": "#E5ECF6",
              "width": 0.5
             }
            },
            "type": "bar"
           }
          ],
          "barpolar": [
           {
            "marker": {
             "line": {
              "color": "#E5ECF6",
              "width": 0.5
             }
            },
            "type": "barpolar"
           }
          ],
          "carpet": [
           {
            "aaxis": {
             "endlinecolor": "#2a3f5f",
             "gridcolor": "white",
             "linecolor": "white",
             "minorgridcolor": "white",
             "startlinecolor": "#2a3f5f"
            },
            "baxis": {
             "endlinecolor": "#2a3f5f",
             "gridcolor": "white",
             "linecolor": "white",
             "minorgridcolor": "white",
             "startlinecolor": "#2a3f5f"
            },
            "type": "carpet"
           }
          ],
          "choropleth": [
           {
            "colorbar": {
             "outlinewidth": 0,
             "ticks": ""
            },
            "type": "choropleth"
           }
          ],
          "contour": [
           {
            "colorbar": {
             "outlinewidth": 0,
             "ticks": ""
            },
            "colorscale": [
             [
              0,
              "#0d0887"
             ],
             [
              0.1111111111111111,
              "#46039f"
             ],
             [
              0.2222222222222222,
              "#7201a8"
             ],
             [
              0.3333333333333333,
              "#9c179e"
             ],
             [
              0.4444444444444444,
              "#bd3786"
             ],
             [
              0.5555555555555556,
              "#d8576b"
             ],
             [
              0.6666666666666666,
              "#ed7953"
             ],
             [
              0.7777777777777778,
              "#fb9f3a"
             ],
             [
              0.8888888888888888,
              "#fdca26"
             ],
             [
              1,
              "#f0f921"
             ]
            ],
            "type": "contour"
           }
          ],
          "contourcarpet": [
           {
            "colorbar": {
             "outlinewidth": 0,
             "ticks": ""
            },
            "type": "contourcarpet"
           }
          ],
          "heatmap": [
           {
            "colorbar": {
             "outlinewidth": 0,
             "ticks": ""
            },
            "colorscale": [
             [
              0,
              "#0d0887"
             ],
             [
              0.1111111111111111,
              "#46039f"
             ],
             [
              0.2222222222222222,
              "#7201a8"
             ],
             [
              0.3333333333333333,
              "#9c179e"
             ],
             [
              0.4444444444444444,
              "#bd3786"
             ],
             [
              0.5555555555555556,
              "#d8576b"
             ],
             [
              0.6666666666666666,
              "#ed7953"
             ],
             [
              0.7777777777777778,
              "#fb9f3a"
             ],
             [
              0.8888888888888888,
              "#fdca26"
             ],
             [
              1,
              "#f0f921"
             ]
            ],
            "type": "heatmap"
           }
          ],
          "heatmapgl": [
           {
            "colorbar": {
             "outlinewidth": 0,
             "ticks": ""
            },
            "colorscale": [
             [
              0,
              "#0d0887"
             ],
             [
              0.1111111111111111,
              "#46039f"
             ],
             [
              0.2222222222222222,
              "#7201a8"
             ],
             [
              0.3333333333333333,
              "#9c179e"
             ],
             [
              0.4444444444444444,
              "#bd3786"
             ],
             [
              0.5555555555555556,
              "#d8576b"
             ],
             [
              0.6666666666666666,
              "#ed7953"
             ],
             [
              0.7777777777777778,
              "#fb9f3a"
             ],
             [
              0.8888888888888888,
              "#fdca26"
             ],
             [
              1,
              "#f0f921"
             ]
            ],
            "type": "heatmapgl"
           }
          ],
          "histogram": [
           {
            "marker": {
             "colorbar": {
              "outlinewidth": 0,
              "ticks": ""
             }
            },
            "type": "histogram"
           }
          ],
          "histogram2d": [
           {
            "colorbar": {
             "outlinewidth": 0,
             "ticks": ""
            },
            "colorscale": [
             [
              0,
              "#0d0887"
             ],
             [
              0.1111111111111111,
              "#46039f"
             ],
             [
              0.2222222222222222,
              "#7201a8"
             ],
             [
              0.3333333333333333,
              "#9c179e"
             ],
             [
              0.4444444444444444,
              "#bd3786"
             ],
             [
              0.5555555555555556,
              "#d8576b"
             ],
             [
              0.6666666666666666,
              "#ed7953"
             ],
             [
              0.7777777777777778,
              "#fb9f3a"
             ],
             [
              0.8888888888888888,
              "#fdca26"
             ],
             [
              1,
              "#f0f921"
             ]
            ],
            "type": "histogram2d"
           }
          ],
          "histogram2dcontour": [
           {
            "colorbar": {
             "outlinewidth": 0,
             "ticks": ""
            },
            "colorscale": [
             [
              0,
              "#0d0887"
             ],
             [
              0.1111111111111111,
              "#46039f"
             ],
             [
              0.2222222222222222,
              "#7201a8"
             ],
             [
              0.3333333333333333,
              "#9c179e"
             ],
             [
              0.4444444444444444,
              "#bd3786"
             ],
             [
              0.5555555555555556,
              "#d8576b"
             ],
             [
              0.6666666666666666,
              "#ed7953"
             ],
             [
              0.7777777777777778,
              "#fb9f3a"
             ],
             [
              0.8888888888888888,
              "#fdca26"
             ],
             [
              1,
              "#f0f921"
             ]
            ],
            "type": "histogram2dcontour"
           }
          ],
          "mesh3d": [
           {
            "colorbar": {
             "outlinewidth": 0,
             "ticks": ""
            },
            "type": "mesh3d"
           }
          ],
          "parcoords": [
           {
            "line": {
             "colorbar": {
              "outlinewidth": 0,
              "ticks": ""
             }
            },
            "type": "parcoords"
           }
          ],
          "pie": [
           {
            "automargin": true,
            "type": "pie"
           }
          ],
          "scatter": [
           {
            "marker": {
             "colorbar": {
              "outlinewidth": 0,
              "ticks": ""
             }
            },
            "type": "scatter"
           }
          ],
          "scatter3d": [
           {
            "line": {
             "colorbar": {
              "outlinewidth": 0,
              "ticks": ""
             }
            },
            "marker": {
             "colorbar": {
              "outlinewidth": 0,
              "ticks": ""
             }
            },
            "type": "scatter3d"
           }
          ],
          "scattercarpet": [
           {
            "marker": {
             "colorbar": {
              "outlinewidth": 0,
              "ticks": ""
             }
            },
            "type": "scattercarpet"
           }
          ],
          "scattergeo": [
           {
            "marker": {
             "colorbar": {
              "outlinewidth": 0,
              "ticks": ""
             }
            },
            "type": "scattergeo"
           }
          ],
          "scattergl": [
           {
            "marker": {
             "colorbar": {
              "outlinewidth": 0,
              "ticks": ""
             }
            },
            "type": "scattergl"
           }
          ],
          "scattermapbox": [
           {
            "marker": {
             "colorbar": {
              "outlinewidth": 0,
              "ticks": ""
             }
            },
            "type": "scattermapbox"
           }
          ],
          "scatterpolar": [
           {
            "marker": {
             "colorbar": {
              "outlinewidth": 0,
              "ticks": ""
             }
            },
            "type": "scatterpolar"
           }
          ],
          "scatterpolargl": [
           {
            "marker": {
             "colorbar": {
              "outlinewidth": 0,
              "ticks": ""
             }
            },
            "type": "scatterpolargl"
           }
          ],
          "scatterternary": [
           {
            "marker": {
             "colorbar": {
              "outlinewidth": 0,
              "ticks": ""
             }
            },
            "type": "scatterternary"
           }
          ],
          "surface": [
           {
            "colorbar": {
             "outlinewidth": 0,
             "ticks": ""
            },
            "colorscale": [
             [
              0,
              "#0d0887"
             ],
             [
              0.1111111111111111,
              "#46039f"
             ],
             [
              0.2222222222222222,
              "#7201a8"
             ],
             [
              0.3333333333333333,
              "#9c179e"
             ],
             [
              0.4444444444444444,
              "#bd3786"
             ],
             [
              0.5555555555555556,
              "#d8576b"
             ],
             [
              0.6666666666666666,
              "#ed7953"
             ],
             [
              0.7777777777777778,
              "#fb9f3a"
             ],
             [
              0.8888888888888888,
              "#fdca26"
             ],
             [
              1,
              "#f0f921"
             ]
            ],
            "type": "surface"
           }
          ],
          "table": [
           {
            "cells": {
             "fill": {
              "color": "#EBF0F8"
             },
             "line": {
              "color": "white"
             }
            },
            "header": {
             "fill": {
              "color": "#C8D4E3"
             },
             "line": {
              "color": "white"
             }
            },
            "type": "table"
           }
          ]
         },
         "layout": {
          "annotationdefaults": {
           "arrowcolor": "#2a3f5f",
           "arrowhead": 0,
           "arrowwidth": 1
          },
          "autotypenumbers": "strict",
          "coloraxis": {
           "colorbar": {
            "outlinewidth": 0,
            "ticks": ""
           }
          },
          "colorscale": {
           "diverging": [
            [
             0,
             "#8e0152"
            ],
            [
             0.1,
             "#c51b7d"
            ],
            [
             0.2,
             "#de77ae"
            ],
            [
             0.3,
             "#f1b6da"
            ],
            [
             0.4,
             "#fde0ef"
            ],
            [
             0.5,
             "#f7f7f7"
            ],
            [
             0.6,
             "#e6f5d0"
            ],
            [
             0.7,
             "#b8e186"
            ],
            [
             0.8,
             "#7fbc41"
            ],
            [
             0.9,
             "#4d9221"
            ],
            [
             1,
             "#276419"
            ]
           ],
           "sequential": [
            [
             0,
             "#0d0887"
            ],
            [
             0.1111111111111111,
             "#46039f"
            ],
            [
             0.2222222222222222,
             "#7201a8"
            ],
            [
             0.3333333333333333,
             "#9c179e"
            ],
            [
             0.4444444444444444,
             "#bd3786"
            ],
            [
             0.5555555555555556,
             "#d8576b"
            ],
            [
             0.6666666666666666,
             "#ed7953"
            ],
            [
             0.7777777777777778,
             "#fb9f3a"
            ],
            [
             0.8888888888888888,
             "#fdca26"
            ],
            [
             1,
             "#f0f921"
            ]
           ],
           "sequentialminus": [
            [
             0,
             "#0d0887"
            ],
            [
             0.1111111111111111,
             "#46039f"
            ],
            [
             0.2222222222222222,
             "#7201a8"
            ],
            [
             0.3333333333333333,
             "#9c179e"
            ],
            [
             0.4444444444444444,
             "#bd3786"
            ],
            [
             0.5555555555555556,
             "#d8576b"
            ],
            [
             0.6666666666666666,
             "#ed7953"
            ],
            [
             0.7777777777777778,
             "#fb9f3a"
            ],
            [
             0.8888888888888888,
             "#fdca26"
            ],
            [
             1,
             "#f0f921"
            ]
           ]
          },
          "colorway": [
           "#636efa",
           "#EF553B",
           "#00cc96",
           "#ab63fa",
           "#FFA15A",
           "#19d3f3",
           "#FF6692",
           "#B6E880",
           "#FF97FF",
           "#FECB52"
          ],
          "font": {
           "color": "#2a3f5f"
          },
          "geo": {
           "bgcolor": "white",
           "lakecolor": "white",
           "landcolor": "#E5ECF6",
           "showlakes": true,
           "showland": true,
           "subunitcolor": "white"
          },
          "hoverlabel": {
           "align": "left"
          },
          "hovermode": "closest",
          "mapbox": {
           "style": "light"
          },
          "paper_bgcolor": "white",
          "plot_bgcolor": "#E5ECF6",
          "polar": {
           "angularaxis": {
            "gridcolor": "white",
            "linecolor": "white",
            "ticks": ""
           },
           "bgcolor": "#E5ECF6",
           "radialaxis": {
            "gridcolor": "white",
            "linecolor": "white",
            "ticks": ""
           }
          },
          "scene": {
           "xaxis": {
            "backgroundcolor": "#E5ECF6",
            "gridcolor": "white",
            "gridwidth": 2,
            "linecolor": "white",
            "showbackground": true,
            "ticks": "",
            "zerolinecolor": "white"
           },
           "yaxis": {
            "backgroundcolor": "#E5ECF6",
            "gridcolor": "white",
            "gridwidth": 2,
            "linecolor": "white",
            "showbackground": true,
            "ticks": "",
            "zerolinecolor": "white"
           },
           "zaxis": {
            "backgroundcolor": "#E5ECF6",
            "gridcolor": "white",
            "gridwidth": 2,
            "linecolor": "white",
            "showbackground": true,
            "ticks": "",
            "zerolinecolor": "white"
           }
          },
          "shapedefaults": {
           "line": {
            "color": "#2a3f5f"
           }
          },
          "ternary": {
           "aaxis": {
            "gridcolor": "white",
            "linecolor": "white",
            "ticks": ""
           },
           "baxis": {
            "gridcolor": "white",
            "linecolor": "white",
            "ticks": ""
           },
           "bgcolor": "#E5ECF6",
           "caxis": {
            "gridcolor": "white",
            "linecolor": "white",
            "ticks": ""
           }
          },
          "title": {
           "x": 0.05
          },
          "xaxis": {
           "automargin": true,
           "gridcolor": "white",
           "linecolor": "white",
           "ticks": "",
           "title": {
            "standoff": 15
           },
           "zerolinecolor": "white",
           "zerolinewidth": 2
          },
          "yaxis": {
           "automargin": true,
           "gridcolor": "white",
           "linecolor": "white",
           "ticks": "",
           "title": {
            "standoff": 15
           },
           "zerolinecolor": "white",
           "zerolinewidth": 2
          }
         }
        }
       }
      }
     },
     "metadata": {},
     "output_type": "display_data"
    }
   ],
   "source": [
    "# Tesla\n",
    "df_t = df_tesla.explode('nationality_label').groupby(by='nationality_label').count().reset_index()\n",
    "df_t.loc[df_t['date'] < 150, 'nationality_label'] = 'Others' \n",
    "# Chevrolet \n",
    "df_c = df_chevrolet.explode('nationality_label').groupby(by='nationality_label').count().reset_index()\n",
    "df_c.loc[df_c['date'] < 100, 'nationality_label'] = 'Others'\n",
    "fig = make_subplots(rows=1, cols=2, specs=[[{\"type\": \"pie\"}, {\"type\": \"pie\"}]])\n",
    "fig.add_trace(go.Pie(labels=df_t.nationality_label, values=df_t.date),row=1, col=1)\n",
    "fig.add_trace(go.Pie(labels=df_c.nationality_label, values=df_c.date),row=1, col=2)\n",
    "fig.show()"
   ]
  },
  {
   "cell_type": "code",
   "execution_count": 89,
   "metadata": {},
   "outputs": [
    {
     "data": {
      "application/vnd.plotly.v1+json": {
       "config": {
        "plotlyServerURL": "https://plot.ly"
       },
       "data": [
        {
         "domain": {
          "x": [
           0,
           1
          ],
          "y": [
           0,
           1
          ]
         },
         "hovertemplate": "occupation_label=%{label}<br>date=%{value}<extra></extra>",
         "labels": [
          0,
          "Others",
          "American football player",
          "Others",
          "Others",
          "Others",
          "Others",
          "Others",
          "Others",
          "Others",
          "Others",
          "Others",
          "Others",
          "Others",
          "Others",
          "Others",
          "Others",
          "Others",
          "Others",
          "Others",
          "Others",
          "Others",
          "Others",
          "Others",
          "Others",
          "Others",
          "Others",
          "Others",
          "Others",
          "Others",
          "Others",
          "Others",
          "Others",
          "Others",
          "Others",
          "Others",
          "Others",
          "Others",
          "Others",
          "Others",
          "Others",
          "Others",
          "Others",
          "actor",
          "Others",
          "Others",
          "Others",
          "Others",
          "Others",
          "Others",
          "Others",
          "Others",
          "Others",
          "Others",
          "Others",
          "Others",
          "Others",
          "Others",
          "Others",
          "Others",
          "Others",
          "Others",
          "Others",
          "Others",
          "Others",
          "Others",
          "Others",
          "Others",
          "Others",
          "Others",
          "Others",
          "Others",
          "Others",
          "Others",
          "Others",
          "Others",
          "Others",
          "Others",
          "Others",
          "association football player",
          "Others",
          "Others",
          "Others",
          "Others",
          "Others",
          "Others",
          "Others",
          "Others",
          "Others",
          "Others",
          "Others",
          "Others",
          "Others",
          "Others",
          "Others",
          "Others",
          "Others",
          "Others",
          "Others",
          "Others",
          "Others",
          "Others",
          "Others",
          "Others",
          "Others",
          "Others",
          "Others",
          "Others",
          "baseball player",
          "Others",
          "basketball player",
          "Others",
          "Others",
          "Others",
          "Others",
          "Others",
          "Others",
          "Others",
          "Others",
          "Others",
          "Others",
          "Others",
          "Others",
          "Others",
          "Others",
          "Others",
          "Others",
          "Others",
          "Others",
          "Others",
          "Others",
          "Others",
          "Others",
          "Others",
          "Others",
          "Others",
          "Others",
          "Others",
          "Others",
          "Others",
          "Others",
          "Others",
          "Others",
          "Others",
          "Others",
          "Others",
          "business executive",
          "Others",
          "Others",
          "Others",
          "Others",
          "businessperson",
          "Others",
          "Others",
          "Others",
          "Others",
          "Others",
          "Others",
          "Others",
          "Others",
          "Others",
          "Others",
          "Others",
          "Others",
          "Others",
          "Others",
          "Others",
          "Others",
          "Others",
          "Others",
          "Others",
          "Others",
          "Others",
          "Others",
          "Others",
          "Others",
          "Others",
          "Others",
          "Others",
          "chief executive officer",
          "Others",
          "Others",
          "Others",
          "Others",
          "Others",
          "Others",
          "Others",
          "Others",
          "Others",
          "Others",
          "Others",
          "Others",
          "Others",
          "Others",
          "Others",
          "Others",
          "Others",
          "Others",
          "Others",
          "Others",
          "Others",
          "Others",
          "Others",
          "Others",
          "Others",
          "Others",
          "Others",
          "Others",
          "Others",
          "Others",
          "Others",
          "Others",
          "Others",
          "composer",
          "Others",
          "Others",
          "computer scientist",
          "Others",
          "Others",
          "Others",
          "Others",
          "Others",
          "Others",
          "Others",
          "Others",
          "Others",
          "Others",
          "Others",
          "Others",
          "Others",
          "Others",
          "Others",
          "Others",
          "Others",
          "Others",
          "cricketer",
          "Others",
          "Others",
          "Others",
          "Others",
          "Others",
          "Others",
          "Others",
          "Others",
          "Others",
          "Others",
          "Others",
          "Others",
          "Others",
          "Others",
          "Others",
          "Others",
          "Others",
          "Others",
          "Others",
          "Others",
          "Others",
          "Others",
          "Others",
          "Others",
          "Others",
          "Others",
          "Others",
          "Others",
          "Others",
          "Others",
          "Others",
          "Others",
          "Others",
          "Others",
          "Others",
          "Others",
          "Others",
          "Others",
          "Others",
          "Others",
          "Others",
          "Others",
          "economist",
          "Others",
          "Others",
          "Others",
          "Others",
          "Others",
          "Others",
          "Others",
          "Others",
          "Others",
          "Others",
          "Others",
          "engineer",
          "Others",
          "Others",
          "entrepreneur",
          "Others",
          "Others",
          "Others",
          "Others",
          "Others",
          "Others",
          "Others",
          "Others",
          "Others",
          "Others",
          "Others",
          "Others",
          "Others",
          "Others",
          "Others",
          "Others",
          "Others",
          "Others",
          "Others",
          "Others",
          "Others",
          "Others",
          "Others",
          "Others",
          "Others",
          "Others",
          "Others",
          "Others",
          "film actor",
          "Others",
          "film director",
          "Others",
          "Others",
          "film producer",
          "Others",
          "Others",
          "Others",
          "financier",
          "Others",
          "Others",
          "Others",
          "Others",
          "Others",
          "Others",
          "Others",
          "Others",
          "Others",
          "Others",
          "Others",
          "Others",
          "Others",
          "Others",
          "Others",
          "Others",
          "Others",
          "Others",
          "Others",
          "Others",
          "Others",
          "Others",
          "guitarist",
          "Others",
          "Others",
          "Others",
          "Others",
          "Others",
          "Others",
          "Others",
          "Others",
          "Others",
          "Others",
          "Others",
          "Others",
          "Others",
          "Others",
          "Others",
          "Others",
          "Others",
          "Others",
          "Others",
          "Others",
          "Others",
          "Others",
          "Others",
          "Others",
          "Others",
          "Others",
          "Others",
          "Others",
          "Others",
          "ice hockey player",
          "Others",
          "Others",
          "Others",
          "Others",
          "Others",
          "Others",
          "Others",
          "Others",
          "Others",
          "Others",
          "Others",
          "Others",
          "Others",
          "inventor",
          "Others",
          "Others",
          "Others",
          "Others",
          "Others",
          "Others",
          "Others",
          "journalist",
          "Others",
          "Others",
          "Others",
          "Others",
          "Others",
          "Others",
          "Others",
          "Others",
          "Others",
          "Others",
          "Others",
          "lawyer",
          "Others",
          "Others",
          "Others",
          "Others",
          "Others",
          "Others",
          "Others",
          "Others",
          "Others",
          "Others",
          "Others",
          "Others",
          "Others",
          "Others",
          "Others",
          "Others",
          "Others",
          "Others",
          "Others",
          "Others",
          "Others",
          "Others",
          "Others",
          "Others",
          "Others",
          "Others",
          "Others",
          "Others",
          "Others",
          "Others",
          "Others",
          "Others",
          "Others",
          "Others",
          "Others",
          "Others",
          "Others",
          "Others",
          "Others",
          "Others",
          "Others",
          "Others",
          "Others",
          "Others",
          "Others",
          "Others",
          "Others",
          "Others",
          "Others",
          "Others",
          "Others",
          "Others",
          "Others",
          "Others",
          "Others",
          "Others",
          "model",
          "Others",
          "Others",
          "Others",
          "Others",
          "Others",
          "Others",
          "Others",
          "Others",
          "Others",
          "Others",
          "Others",
          "Others",
          "Others",
          "Others",
          "Others",
          "Others",
          "Others",
          "Others",
          "Others",
          "musician",
          "Others",
          "Others",
          "Others",
          "Others",
          "Others",
          "Others",
          "Others",
          "Others",
          "Others",
          "Others",
          "Others",
          "novelist",
          "Others",
          "Others",
          "Others",
          "Others",
          "Others",
          "Others",
          "Others",
          "Others",
          "Others",
          "Others",
          "Others",
          "Others",
          "Others",
          "Others",
          "Others",
          "Others",
          "Others",
          "Others",
          "Others",
          "painter",
          "Others",
          "Others",
          "Others",
          "Others",
          "Others",
          "Others",
          "Others",
          "Others",
          "Others",
          "Others",
          "Others",
          "Others",
          "Others",
          "Others",
          "Others",
          "Others",
          "Others",
          "Others",
          "Others",
          "Others",
          "Others",
          "Others",
          "Others",
          "Others",
          "Others",
          "Others",
          "Others",
          "Others",
          "Others",
          "Others",
          "Others",
          "Others",
          "Others",
          "Others",
          "Others",
          "Others",
          "Others",
          "Others",
          "Others",
          "Others",
          "Others",
          "Others",
          "Others",
          "Others",
          "Others",
          "politician",
          "Others",
          "Others",
          "Others",
          "Others",
          "Others",
          "Others",
          "Others",
          "Others",
          "Others",
          "Others",
          "Others",
          "Others",
          "Others",
          "Others",
          "Others",
          "Others",
          "Others",
          "Others",
          "Others",
          "Others",
          "Others",
          "Others",
          "Others",
          "Others",
          "Others",
          "Others",
          "Others",
          "Others",
          "Others",
          "Others",
          "Others",
          "Others",
          "Others",
          "Others",
          "Others",
          "Others",
          "Others",
          "radio personality",
          "Others",
          "Others",
          "Others",
          "Others",
          "Others",
          "Others",
          "Others",
          "record producer",
          "Others",
          "Others",
          "Others",
          "Others",
          "Others",
          "researcher",
          "Others",
          "Others",
          "Others",
          "Others",
          "Others",
          "Others",
          "Others",
          "Others",
          "Others",
          "Others",
          "Others",
          "Others",
          "Others",
          "Others",
          "Others",
          "Others",
          "Others",
          "Others",
          "Others",
          "Others",
          "Others",
          "Others",
          "screenwriter",
          "Others",
          "Others",
          "Others",
          "Others",
          "Others",
          "Others",
          "Others",
          "Others",
          "Others",
          "Others",
          "Others",
          "Others",
          "Others",
          "singer",
          "singer-songwriter",
          "Others",
          "Others",
          "Others",
          "Others",
          "Others",
          "Others",
          "Others",
          "Others",
          "Others",
          "Others",
          "Others",
          "Others",
          "Others",
          "Others",
          "Others",
          "Others",
          "Others",
          "songwriter",
          "Others",
          "Others",
          "Others",
          "Others",
          "Others",
          "Others",
          "Others",
          "Others",
          "Others",
          "Others",
          "Others",
          "Others",
          "Others",
          "Others",
          "Others",
          "Others",
          "Others",
          "Others",
          "Others",
          "Others",
          "Others",
          "Others",
          "Others",
          "Others",
          "stockbroker",
          "Others",
          "Others",
          "Others",
          "Others",
          "Others",
          "Others",
          "Others",
          "Others",
          "Others",
          "Others",
          "Others",
          "Others",
          "Others",
          "Others",
          "Others",
          "Others",
          "Others",
          "Others",
          "Others",
          "Others",
          "teacher",
          "Others",
          "television actor",
          "Others",
          "Others",
          "Others",
          "Others",
          "television presenter",
          "television producer",
          "Others",
          "Others",
          "Others",
          "Others",
          "Others",
          "Others",
          "Others",
          "Others",
          "Others",
          "Others",
          "Others",
          "Others",
          "Others",
          "Others",
          "Others",
          "Others",
          "Others",
          "Others",
          "Others",
          "Others",
          "Others",
          "Others",
          "Others",
          "Others",
          "Others",
          "Others",
          "Others",
          "Others",
          "university teacher",
          "Others",
          "Others",
          "Others",
          "Others",
          "Others",
          "Others",
          "Others",
          "Others",
          "Others",
          "Others",
          "Others",
          "Others",
          "Others",
          "Others",
          "Others",
          "Others",
          "Others",
          "Others",
          "Others",
          "voice actor",
          "Others",
          "Others",
          "Others",
          "Others",
          "Others",
          "Others",
          "Others",
          "Others",
          "Others",
          "Others",
          "Others",
          "Others",
          "Others",
          "Others",
          "Others",
          "Others",
          "writer",
          "Others"
         ],
         "legendgroup": "",
         "name": "",
         "showlegend": true,
         "type": "pie",
         "values": [
          511,
          2,
          367,
          3,
          2,
          1,
          6,
          68,
          1,
          1,
          37,
          1,
          16,
          1,
          1,
          1,
          12,
          9,
          1,
          1,
          4,
          1,
          1,
          2,
          22,
          1,
          10,
          4,
          2,
          1,
          2,
          1,
          1,
          6,
          1,
          7,
          1,
          1,
          41,
          40,
          2,
          24,
          32,
          804,
          1,
          8,
          4,
          2,
          3,
          1,
          30,
          1,
          2,
          1,
          12,
          1,
          13,
          1,
          36,
          5,
          15,
          2,
          1,
          6,
          3,
          28,
          1,
          6,
          7,
          2,
          3,
          4,
          42,
          78,
          9,
          1,
          1,
          1,
          74,
          432,
          3,
          5,
          34,
          16,
          43,
          3,
          47,
          1,
          8,
          78,
          1,
          59,
          2,
          3,
          1,
          30,
          3,
          6,
          4,
          5,
          2,
          2,
          1,
          32,
          3,
          1,
          2,
          4,
          162,
          65,
          181,
          8,
          7,
          18,
          5,
          2,
          14,
          14,
          9,
          15,
          6,
          25,
          11,
          2,
          1,
          1,
          73,
          2,
          5,
          1,
          1,
          1,
          5,
          17,
          1,
          2,
          2,
          35,
          1,
          6,
          2,
          3,
          1,
          1,
          1,
          5,
          109,
          2,
          15,
          2,
          3,
          960,
          1,
          1,
          5,
          2,
          5,
          1,
          14,
          50,
          2,
          2,
          2,
          1,
          14,
          1,
          9,
          1,
          2,
          4,
          2,
          1,
          6,
          1,
          4,
          16,
          4,
          35,
          26,
          161,
          3,
          1,
          48,
          12,
          19,
          1,
          8,
          15,
          3,
          1,
          27,
          3,
          1,
          2,
          1,
          1,
          29,
          14,
          1,
          1,
          18,
          1,
          1,
          3,
          34,
          77,
          10,
          1,
          14,
          2,
          1,
          6,
          7,
          156,
          2,
          3,
          237,
          2,
          1,
          1,
          17,
          6,
          1,
          16,
          19,
          3,
          1,
          1,
          8,
          3,
          2,
          2,
          5,
          1,
          1,
          135,
          4,
          1,
          1,
          4,
          2,
          1,
          1,
          1,
          2,
          1,
          4,
          5,
          6,
          3,
          2,
          1,
          31,
          6,
          1,
          1,
          6,
          1,
          69,
          2,
          12,
          50,
          30,
          1,
          1,
          1,
          24,
          3,
          1,
          1,
          1,
          5,
          1,
          1,
          23,
          3,
          6,
          6,
          191,
          80,
          3,
          1,
          4,
          1,
          7,
          1,
          4,
          4,
          1,
          2,
          401,
          7,
          14,
          394,
          50,
          3,
          2,
          12,
          1,
          1,
          2,
          1,
          23,
          1,
          9,
          4,
          2,
          2,
          23,
          43,
          2,
          1,
          2,
          8,
          5,
          1,
          1,
          2,
          4,
          13,
          1,
          1,
          367,
          11,
          190,
          16,
          2,
          233,
          22,
          4,
          1,
          150,
          1,
          2,
          3,
          2,
          1,
          1,
          6,
          1,
          5,
          14,
          1,
          4,
          20,
          1,
          7,
          8,
          2,
          1,
          1,
          3,
          21,
          9,
          144,
          1,
          1,
          5,
          1,
          1,
          40,
          1,
          3,
          68,
          3,
          1,
          7,
          4,
          1,
          87,
          1,
          3,
          1,
          7,
          3,
          13,
          4,
          2,
          4,
          12,
          1,
          1,
          4,
          2,
          164,
          1,
          9,
          5,
          2,
          1,
          7,
          1,
          3,
          1,
          1,
          2,
          5,
          5,
          126,
          23,
          59,
          2,
          97,
          1,
          9,
          1,
          629,
          62,
          49,
          33,
          7,
          3,
          3,
          2,
          6,
          7,
          3,
          2,
          479,
          1,
          4,
          2,
          1,
          6,
          1,
          2,
          14,
          2,
          9,
          1,
          1,
          23,
          1,
          2,
          4,
          3,
          11,
          7,
          7,
          2,
          2,
          2,
          51,
          1,
          12,
          2,
          1,
          2,
          1,
          2,
          1,
          1,
          1,
          2,
          1,
          1,
          37,
          3,
          4,
          4,
          2,
          1,
          16,
          13,
          4,
          6,
          3,
          2,
          97,
          23,
          2,
          3,
          1,
          4,
          15,
          188,
          1,
          8,
          12,
          1,
          5,
          2,
          3,
          14,
          1,
          1,
          4,
          2,
          6,
          3,
          5,
          38,
          1,
          1,
          2,
          264,
          3,
          2,
          9,
          2,
          2,
          13,
          4,
          6,
          2,
          2,
          52,
          106,
          2,
          3,
          3,
          2,
          5,
          8,
          5,
          1,
          7,
          6,
          13,
          9,
          5,
          2,
          2,
          5,
          1,
          2,
          1,
          125,
          4,
          4,
          1,
          1,
          9,
          9,
          5,
          1,
          3,
          9,
          1,
          4,
          2,
          11,
          21,
          2,
          1,
          41,
          86,
          2,
          24,
          68,
          1,
          1,
          28,
          1,
          2,
          11,
          1,
          4,
          36,
          42,
          2,
          67,
          1,
          7,
          5,
          10,
          4,
          2,
          1,
          4,
          21,
          1,
          5,
          1573,
          3,
          1,
          15,
          1,
          2,
          1,
          1,
          21,
          1,
          3,
          59,
          1,
          4,
          1,
          3,
          3,
          16,
          61,
          95,
          1,
          3,
          5,
          2,
          2,
          21,
          3,
          22,
          7,
          2,
          1,
          1,
          5,
          4,
          83,
          74,
          2,
          1,
          150,
          1,
          2,
          66,
          2,
          14,
          15,
          6,
          101,
          34,
          1,
          1,
          4,
          14,
          592,
          53,
          1,
          11,
          1,
          2,
          43,
          63,
          1,
          2,
          55,
          13,
          1,
          2,
          1,
          19,
          4,
          3,
          9,
          4,
          21,
          7,
          68,
          255,
          3,
          22,
          1,
          1,
          1,
          6,
          1,
          1,
          1,
          2,
          1,
          16,
          1,
          408,
          180,
          3,
          4,
          1,
          1,
          1,
          1,
          3,
          3,
          3,
          11,
          30,
          6,
          14,
          4,
          3,
          6,
          6,
          184,
          2,
          1,
          1,
          8,
          5,
          17,
          45,
          11,
          5,
          4,
          3,
          20,
          13,
          6,
          5,
          1,
          14,
          3,
          6,
          88,
          23,
          14,
          10,
          1,
          105,
          16,
          3,
          1,
          1,
          7,
          3,
          3,
          2,
          13,
          17,
          1,
          4,
          12,
          1,
          5,
          4,
          1,
          1,
          2,
          6,
          106,
          4,
          352,
          25,
          1,
          2,
          5,
          158,
          193,
          1,
          2,
          23,
          2,
          1,
          2,
          9,
          1,
          5,
          7,
          1,
          1,
          5,
          26,
          2,
          2,
          3,
          1,
          1,
          1,
          9,
          1,
          2,
          2,
          1,
          2,
          1,
          1,
          276,
          6,
          25,
          1,
          2,
          2,
          13,
          3,
          2,
          2,
          1,
          3,
          68,
          1,
          1,
          1,
          6,
          1,
          1,
          1,
          130,
          1,
          22,
          1,
          5,
          1,
          2,
          4,
          2,
          3,
          1,
          2,
          3,
          1,
          3,
          1,
          1,
          601,
          14
         ]
        }
       ],
       "layout": {
        "legend": {
         "tracegroupgap": 0
        },
        "margin": {
         "t": 60
        },
        "piecolorway": [
         "rgb(103,0,31)",
         "rgb(178,24,43)",
         "rgb(214,96,77)",
         "rgb(244,165,130)",
         "rgb(253,219,199)",
         "rgb(247,247,247)",
         "rgb(209,229,240)",
         "rgb(146,197,222)",
         "rgb(67,147,195)",
         "rgb(33,102,172)",
         "rgb(5,48,97)"
        ],
        "template": {
         "data": {
          "bar": [
           {
            "error_x": {
             "color": "#2a3f5f"
            },
            "error_y": {
             "color": "#2a3f5f"
            },
            "marker": {
             "line": {
              "color": "#E5ECF6",
              "width": 0.5
             }
            },
            "type": "bar"
           }
          ],
          "barpolar": [
           {
            "marker": {
             "line": {
              "color": "#E5ECF6",
              "width": 0.5
             }
            },
            "type": "barpolar"
           }
          ],
          "carpet": [
           {
            "aaxis": {
             "endlinecolor": "#2a3f5f",
             "gridcolor": "white",
             "linecolor": "white",
             "minorgridcolor": "white",
             "startlinecolor": "#2a3f5f"
            },
            "baxis": {
             "endlinecolor": "#2a3f5f",
             "gridcolor": "white",
             "linecolor": "white",
             "minorgridcolor": "white",
             "startlinecolor": "#2a3f5f"
            },
            "type": "carpet"
           }
          ],
          "choropleth": [
           {
            "colorbar": {
             "outlinewidth": 0,
             "ticks": ""
            },
            "type": "choropleth"
           }
          ],
          "contour": [
           {
            "colorbar": {
             "outlinewidth": 0,
             "ticks": ""
            },
            "colorscale": [
             [
              0,
              "#0d0887"
             ],
             [
              0.1111111111111111,
              "#46039f"
             ],
             [
              0.2222222222222222,
              "#7201a8"
             ],
             [
              0.3333333333333333,
              "#9c179e"
             ],
             [
              0.4444444444444444,
              "#bd3786"
             ],
             [
              0.5555555555555556,
              "#d8576b"
             ],
             [
              0.6666666666666666,
              "#ed7953"
             ],
             [
              0.7777777777777778,
              "#fb9f3a"
             ],
             [
              0.8888888888888888,
              "#fdca26"
             ],
             [
              1,
              "#f0f921"
             ]
            ],
            "type": "contour"
           }
          ],
          "contourcarpet": [
           {
            "colorbar": {
             "outlinewidth": 0,
             "ticks": ""
            },
            "type": "contourcarpet"
           }
          ],
          "heatmap": [
           {
            "colorbar": {
             "outlinewidth": 0,
             "ticks": ""
            },
            "colorscale": [
             [
              0,
              "#0d0887"
             ],
             [
              0.1111111111111111,
              "#46039f"
             ],
             [
              0.2222222222222222,
              "#7201a8"
             ],
             [
              0.3333333333333333,
              "#9c179e"
             ],
             [
              0.4444444444444444,
              "#bd3786"
             ],
             [
              0.5555555555555556,
              "#d8576b"
             ],
             [
              0.6666666666666666,
              "#ed7953"
             ],
             [
              0.7777777777777778,
              "#fb9f3a"
             ],
             [
              0.8888888888888888,
              "#fdca26"
             ],
             [
              1,
              "#f0f921"
             ]
            ],
            "type": "heatmap"
           }
          ],
          "heatmapgl": [
           {
            "colorbar": {
             "outlinewidth": 0,
             "ticks": ""
            },
            "colorscale": [
             [
              0,
              "#0d0887"
             ],
             [
              0.1111111111111111,
              "#46039f"
             ],
             [
              0.2222222222222222,
              "#7201a8"
             ],
             [
              0.3333333333333333,
              "#9c179e"
             ],
             [
              0.4444444444444444,
              "#bd3786"
             ],
             [
              0.5555555555555556,
              "#d8576b"
             ],
             [
              0.6666666666666666,
              "#ed7953"
             ],
             [
              0.7777777777777778,
              "#fb9f3a"
             ],
             [
              0.8888888888888888,
              "#fdca26"
             ],
             [
              1,
              "#f0f921"
             ]
            ],
            "type": "heatmapgl"
           }
          ],
          "histogram": [
           {
            "marker": {
             "colorbar": {
              "outlinewidth": 0,
              "ticks": ""
             }
            },
            "type": "histogram"
           }
          ],
          "histogram2d": [
           {
            "colorbar": {
             "outlinewidth": 0,
             "ticks": ""
            },
            "colorscale": [
             [
              0,
              "#0d0887"
             ],
             [
              0.1111111111111111,
              "#46039f"
             ],
             [
              0.2222222222222222,
              "#7201a8"
             ],
             [
              0.3333333333333333,
              "#9c179e"
             ],
             [
              0.4444444444444444,
              "#bd3786"
             ],
             [
              0.5555555555555556,
              "#d8576b"
             ],
             [
              0.6666666666666666,
              "#ed7953"
             ],
             [
              0.7777777777777778,
              "#fb9f3a"
             ],
             [
              0.8888888888888888,
              "#fdca26"
             ],
             [
              1,
              "#f0f921"
             ]
            ],
            "type": "histogram2d"
           }
          ],
          "histogram2dcontour": [
           {
            "colorbar": {
             "outlinewidth": 0,
             "ticks": ""
            },
            "colorscale": [
             [
              0,
              "#0d0887"
             ],
             [
              0.1111111111111111,
              "#46039f"
             ],
             [
              0.2222222222222222,
              "#7201a8"
             ],
             [
              0.3333333333333333,
              "#9c179e"
             ],
             [
              0.4444444444444444,
              "#bd3786"
             ],
             [
              0.5555555555555556,
              "#d8576b"
             ],
             [
              0.6666666666666666,
              "#ed7953"
             ],
             [
              0.7777777777777778,
              "#fb9f3a"
             ],
             [
              0.8888888888888888,
              "#fdca26"
             ],
             [
              1,
              "#f0f921"
             ]
            ],
            "type": "histogram2dcontour"
           }
          ],
          "mesh3d": [
           {
            "colorbar": {
             "outlinewidth": 0,
             "ticks": ""
            },
            "type": "mesh3d"
           }
          ],
          "parcoords": [
           {
            "line": {
             "colorbar": {
              "outlinewidth": 0,
              "ticks": ""
             }
            },
            "type": "parcoords"
           }
          ],
          "pie": [
           {
            "automargin": true,
            "type": "pie"
           }
          ],
          "scatter": [
           {
            "marker": {
             "colorbar": {
              "outlinewidth": 0,
              "ticks": ""
             }
            },
            "type": "scatter"
           }
          ],
          "scatter3d": [
           {
            "line": {
             "colorbar": {
              "outlinewidth": 0,
              "ticks": ""
             }
            },
            "marker": {
             "colorbar": {
              "outlinewidth": 0,
              "ticks": ""
             }
            },
            "type": "scatter3d"
           }
          ],
          "scattercarpet": [
           {
            "marker": {
             "colorbar": {
              "outlinewidth": 0,
              "ticks": ""
             }
            },
            "type": "scattercarpet"
           }
          ],
          "scattergeo": [
           {
            "marker": {
             "colorbar": {
              "outlinewidth": 0,
              "ticks": ""
             }
            },
            "type": "scattergeo"
           }
          ],
          "scattergl": [
           {
            "marker": {
             "colorbar": {
              "outlinewidth": 0,
              "ticks": ""
             }
            },
            "type": "scattergl"
           }
          ],
          "scattermapbox": [
           {
            "marker": {
             "colorbar": {
              "outlinewidth": 0,
              "ticks": ""
             }
            },
            "type": "scattermapbox"
           }
          ],
          "scatterpolar": [
           {
            "marker": {
             "colorbar": {
              "outlinewidth": 0,
              "ticks": ""
             }
            },
            "type": "scatterpolar"
           }
          ],
          "scatterpolargl": [
           {
            "marker": {
             "colorbar": {
              "outlinewidth": 0,
              "ticks": ""
             }
            },
            "type": "scatterpolargl"
           }
          ],
          "scatterternary": [
           {
            "marker": {
             "colorbar": {
              "outlinewidth": 0,
              "ticks": ""
             }
            },
            "type": "scatterternary"
           }
          ],
          "surface": [
           {
            "colorbar": {
             "outlinewidth": 0,
             "ticks": ""
            },
            "colorscale": [
             [
              0,
              "#0d0887"
             ],
             [
              0.1111111111111111,
              "#46039f"
             ],
             [
              0.2222222222222222,
              "#7201a8"
             ],
             [
              0.3333333333333333,
              "#9c179e"
             ],
             [
              0.4444444444444444,
              "#bd3786"
             ],
             [
              0.5555555555555556,
              "#d8576b"
             ],
             [
              0.6666666666666666,
              "#ed7953"
             ],
             [
              0.7777777777777778,
              "#fb9f3a"
             ],
             [
              0.8888888888888888,
              "#fdca26"
             ],
             [
              1,
              "#f0f921"
             ]
            ],
            "type": "surface"
           }
          ],
          "table": [
           {
            "cells": {
             "fill": {
              "color": "#EBF0F8"
             },
             "line": {
              "color": "white"
             }
            },
            "header": {
             "fill": {
              "color": "#C8D4E3"
             },
             "line": {
              "color": "white"
             }
            },
            "type": "table"
           }
          ]
         },
         "layout": {
          "annotationdefaults": {
           "arrowcolor": "#2a3f5f",
           "arrowhead": 0,
           "arrowwidth": 1
          },
          "autotypenumbers": "strict",
          "coloraxis": {
           "colorbar": {
            "outlinewidth": 0,
            "ticks": ""
           }
          },
          "colorscale": {
           "diverging": [
            [
             0,
             "#8e0152"
            ],
            [
             0.1,
             "#c51b7d"
            ],
            [
             0.2,
             "#de77ae"
            ],
            [
             0.3,
             "#f1b6da"
            ],
            [
             0.4,
             "#fde0ef"
            ],
            [
             0.5,
             "#f7f7f7"
            ],
            [
             0.6,
             "#e6f5d0"
            ],
            [
             0.7,
             "#b8e186"
            ],
            [
             0.8,
             "#7fbc41"
            ],
            [
             0.9,
             "#4d9221"
            ],
            [
             1,
             "#276419"
            ]
           ],
           "sequential": [
            [
             0,
             "#0d0887"
            ],
            [
             0.1111111111111111,
             "#46039f"
            ],
            [
             0.2222222222222222,
             "#7201a8"
            ],
            [
             0.3333333333333333,
             "#9c179e"
            ],
            [
             0.4444444444444444,
             "#bd3786"
            ],
            [
             0.5555555555555556,
             "#d8576b"
            ],
            [
             0.6666666666666666,
             "#ed7953"
            ],
            [
             0.7777777777777778,
             "#fb9f3a"
            ],
            [
             0.8888888888888888,
             "#fdca26"
            ],
            [
             1,
             "#f0f921"
            ]
           ],
           "sequentialminus": [
            [
             0,
             "#0d0887"
            ],
            [
             0.1111111111111111,
             "#46039f"
            ],
            [
             0.2222222222222222,
             "#7201a8"
            ],
            [
             0.3333333333333333,
             "#9c179e"
            ],
            [
             0.4444444444444444,
             "#bd3786"
            ],
            [
             0.5555555555555556,
             "#d8576b"
            ],
            [
             0.6666666666666666,
             "#ed7953"
            ],
            [
             0.7777777777777778,
             "#fb9f3a"
            ],
            [
             0.8888888888888888,
             "#fdca26"
            ],
            [
             1,
             "#f0f921"
            ]
           ]
          },
          "colorway": [
           "#636efa",
           "#EF553B",
           "#00cc96",
           "#ab63fa",
           "#FFA15A",
           "#19d3f3",
           "#FF6692",
           "#B6E880",
           "#FF97FF",
           "#FECB52"
          ],
          "font": {
           "color": "#2a3f5f"
          },
          "geo": {
           "bgcolor": "white",
           "lakecolor": "white",
           "landcolor": "#E5ECF6",
           "showlakes": true,
           "showland": true,
           "subunitcolor": "white"
          },
          "hoverlabel": {
           "align": "left"
          },
          "hovermode": "closest",
          "mapbox": {
           "style": "light"
          },
          "paper_bgcolor": "white",
          "plot_bgcolor": "#E5ECF6",
          "polar": {
           "angularaxis": {
            "gridcolor": "white",
            "linecolor": "white",
            "ticks": ""
           },
           "bgcolor": "#E5ECF6",
           "radialaxis": {
            "gridcolor": "white",
            "linecolor": "white",
            "ticks": ""
           }
          },
          "scene": {
           "xaxis": {
            "backgroundcolor": "#E5ECF6",
            "gridcolor": "white",
            "gridwidth": 2,
            "linecolor": "white",
            "showbackground": true,
            "ticks": "",
            "zerolinecolor": "white"
           },
           "yaxis": {
            "backgroundcolor": "#E5ECF6",
            "gridcolor": "white",
            "gridwidth": 2,
            "linecolor": "white",
            "showbackground": true,
            "ticks": "",
            "zerolinecolor": "white"
           },
           "zaxis": {
            "backgroundcolor": "#E5ECF6",
            "gridcolor": "white",
            "gridwidth": 2,
            "linecolor": "white",
            "showbackground": true,
            "ticks": "",
            "zerolinecolor": "white"
           }
          },
          "shapedefaults": {
           "line": {
            "color": "#2a3f5f"
           }
          },
          "ternary": {
           "aaxis": {
            "gridcolor": "white",
            "linecolor": "white",
            "ticks": ""
           },
           "baxis": {
            "gridcolor": "white",
            "linecolor": "white",
            "ticks": ""
           },
           "bgcolor": "#E5ECF6",
           "caxis": {
            "gridcolor": "white",
            "linecolor": "white",
            "ticks": ""
           }
          },
          "title": {
           "x": 0.05
          },
          "xaxis": {
           "automargin": true,
           "gridcolor": "white",
           "linecolor": "white",
           "ticks": "",
           "title": {
            "standoff": 15
           },
           "zerolinecolor": "white",
           "zerolinewidth": 2
          },
          "yaxis": {
           "automargin": true,
           "gridcolor": "white",
           "linecolor": "white",
           "ticks": "",
           "title": {
            "standoff": 15
           },
           "zerolinecolor": "white",
           "zerolinewidth": 2
          }
         }
        }
       }
      }
     },
     "metadata": {},
     "output_type": "display_data"
    }
   ],
   "source": []
  },
  {
   "cell_type": "code",
   "execution_count": 90,
   "metadata": {},
   "outputs": [
    {
     "data": {
      "application/vnd.plotly.v1+json": {
       "config": {
        "plotlyServerURL": "https://plot.ly"
       },
       "data": [
        {
         "domain": {
          "x": [
           0,
           1
          ],
          "y": [
           0,
           1
          ]
         },
         "hovertemplate": "occupation_label=%{label}<br>date=%{value}<extra></extra>",
         "labels": [
          0,
          "American football player",
          "Others",
          "Others",
          "Others",
          "Others",
          "Others",
          "Others",
          "Others",
          "NASCAR team owner",
          "Others",
          "Others",
          "Others",
          "Others",
          "Others",
          "Others",
          "actor",
          "Others",
          "Others",
          "Others",
          "Others",
          "Others",
          "Others",
          "Others",
          "Others",
          "Others",
          "Others",
          "Others",
          "Others",
          "Others",
          "Others",
          "Others",
          "association football player",
          "Others",
          "Others",
          "Others",
          "Others",
          "Others",
          "Others",
          "Others",
          "Others",
          "Others",
          "Others",
          "Others",
          "Others",
          "Others",
          "Others",
          "Others",
          "Others",
          "Others",
          "Others",
          "Others",
          "Others",
          "Others",
          "Others",
          "Others",
          "Others",
          "Others",
          "Others",
          "Others",
          "Others",
          "Others",
          "Others",
          "businessperson",
          "Others",
          "Others",
          "Others",
          "Others",
          "Others",
          "Others",
          "Others",
          "Others",
          "Others",
          "Others",
          "Others",
          "Others",
          "Others",
          "Others",
          "Others",
          "Others",
          "Others",
          "Others",
          "Others",
          "Others",
          "Others",
          "Others",
          "Others",
          "Others",
          "Others",
          "Others",
          "Others",
          "Others",
          "Others",
          "Others",
          "Others",
          "Others",
          "Others",
          "Others",
          "Others",
          "Others",
          "Others",
          "Others",
          "Others",
          "Others",
          "Others",
          "Others",
          "Others",
          "Others",
          "Others",
          "Others",
          "Others",
          "engineer",
          "Others",
          "Others",
          "Others",
          "Others",
          "Others",
          "Others",
          "Others",
          "Others",
          "Others",
          "Others",
          "Others",
          "Others",
          "Others",
          "Others",
          "Others",
          "film actor",
          "Others",
          "Others",
          "Others",
          "Others",
          "Others",
          "Others",
          "Others",
          "Others",
          "Others",
          "Others",
          "Others",
          "Others",
          "Others",
          "Others",
          "Others",
          "Others",
          "Others",
          "Others",
          "Others",
          "Others",
          "Others",
          "Others",
          "Others",
          "Others",
          "Others",
          "Others",
          "Others",
          "Others",
          "Others",
          "Others",
          "Others",
          "Others",
          "Others",
          "Others",
          "Others",
          "Others",
          "Others",
          "Others",
          "Others",
          "Others",
          "Others",
          "Others",
          "Others",
          "Others",
          "Others",
          "Others",
          "Others",
          "Others",
          "Others",
          "Others",
          "Others",
          "Others",
          "Others",
          "Others",
          "Others",
          "Others",
          "Others",
          "Others",
          "Others",
          "Others",
          "Others",
          "Others",
          "Others",
          "Others",
          "Others",
          "Others",
          "Others",
          "Others",
          "Others",
          "Others",
          "Others",
          "Others",
          "Others",
          "Others",
          "Others",
          "Others",
          "Others",
          "Others",
          "Others",
          "Others",
          "Others",
          "Others",
          "Others",
          "Others",
          "Others",
          "Others",
          "Others",
          "Others",
          "Others",
          "Others",
          "Others",
          "Others",
          "Others",
          "Others",
          "politician",
          "Others",
          "Others",
          "Others",
          "Others",
          "Others",
          "Others",
          "Others",
          "Others",
          "Others",
          "Others",
          "Others",
          "Others",
          "Others",
          "Others",
          "Others",
          "Others",
          "Others",
          "Others",
          "racing automobile driver",
          "racing driver",
          "Others",
          "Others",
          "Others",
          "Others",
          "Others",
          "Others",
          "Others",
          "Others",
          "Others",
          "Others",
          "Others",
          "Others",
          "Others",
          "Others",
          "Others",
          "Others",
          "Others",
          "Others",
          "Others",
          "Others",
          "Others",
          "Others",
          "Others",
          "Others",
          "Others",
          "singer",
          "Others",
          "Others",
          "Others",
          "Others",
          "Others",
          "Others",
          "Others",
          "Others",
          "Others",
          "Others",
          "Others",
          "Others",
          "Others",
          "Others",
          "Others",
          "Others",
          "Others",
          "Others",
          "Others",
          "Others",
          "Others",
          "Others",
          "Others",
          "Others",
          "Others",
          "Others",
          "television actor",
          "Others",
          "Others",
          "Others",
          "Others",
          "Others",
          "Others",
          "Others",
          "Others",
          "Others",
          "Others",
          "Others",
          "Others",
          "Others",
          "Others",
          "Others",
          "Others",
          "Others",
          "Others",
          "Others",
          "Others",
          "Others",
          "Others"
         ],
         "legendgroup": "",
         "name": "",
         "showlegend": true,
         "type": "pie",
         "values": [
          129,
          110,
          1,
          19,
          12,
          2,
          74,
          3,
          1,
          196,
          1,
          1,
          1,
          3,
          3,
          3,
          162,
          1,
          1,
          5,
          4,
          2,
          4,
          8,
          2,
          5,
          5,
          1,
          2,
          6,
          2,
          7,
          172,
          2,
          31,
          21,
          1,
          1,
          7,
          9,
          1,
          2,
          3,
          1,
          2,
          1,
          1,
          52,
          6,
          72,
          8,
          2,
          1,
          15,
          4,
          1,
          3,
          1,
          1,
          1,
          21,
          57,
          15,
          122,
          2,
          2,
          3,
          1,
          1,
          1,
          1,
          3,
          28,
          4,
          7,
          1,
          20,
          1,
          1,
          1,
          1,
          5,
          3,
          16,
          4,
          36,
          4,
          7,
          15,
          5,
          2,
          1,
          1,
          21,
          2,
          3,
          1,
          2,
          1,
          6,
          1,
          47,
          2,
          4,
          2,
          3,
          1,
          8,
          1,
          2,
          1,
          114,
          1,
          38,
          2,
          1,
          1,
          1,
          4,
          2,
          1,
          2,
          1,
          1,
          1,
          13,
          2,
          146,
          1,
          26,
          2,
          49,
          5,
          1,
          2,
          15,
          2,
          1,
          19,
          4,
          41,
          2,
          1,
          2,
          1,
          13,
          4,
          10,
          1,
          58,
          1,
          3,
          3,
          18,
          1,
          10,
          1,
          2,
          45,
          6,
          5,
          1,
          1,
          2,
          28,
          1,
          1,
          1,
          2,
          1,
          34,
          3,
          2,
          3,
          3,
          1,
          14,
          1,
          1,
          76,
          1,
          1,
          1,
          5,
          1,
          3,
          1,
          1,
          2,
          42,
          1,
          1,
          1,
          15,
          13,
          1,
          2,
          2,
          3,
          1,
          2,
          15,
          1,
          2,
          1,
          1,
          1,
          1,
          2,
          2,
          2,
          12,
          1,
          3,
          8,
          2,
          2,
          5,
          1,
          1,
          1,
          2,
          167,
          3,
          1,
          2,
          1,
          1,
          2,
          3,
          11,
          5,
          3,
          3,
          3,
          1,
          1,
          1,
          1,
          1,
          3,
          1159,
          552,
          6,
          13,
          1,
          15,
          15,
          29,
          6,
          1,
          46,
          15,
          1,
          2,
          9,
          2,
          27,
          4,
          1,
          4,
          40,
          3,
          1,
          1,
          10,
          1,
          1,
          112,
          34,
          1,
          1,
          3,
          30,
          1,
          1,
          4,
          1,
          42,
          4,
          4,
          1,
          6,
          4,
          3,
          1,
          2,
          1,
          1,
          3,
          12,
          9,
          1,
          1,
          4,
          103,
          2,
          27,
          44,
          5,
          2,
          8,
          1,
          5,
          35,
          1,
          24,
          1,
          1,
          4,
          15,
          4,
          1,
          1,
          1,
          1,
          71,
          1
         ]
        }
       ],
       "layout": {
        "legend": {
         "tracegroupgap": 0
        },
        "margin": {
         "t": 60
        },
        "piecolorway": [
         "rgb(103,0,31)",
         "rgb(178,24,43)",
         "rgb(214,96,77)",
         "rgb(244,165,130)",
         "rgb(253,219,199)",
         "rgb(247,247,247)",
         "rgb(209,229,240)",
         "rgb(146,197,222)",
         "rgb(67,147,195)",
         "rgb(33,102,172)",
         "rgb(5,48,97)"
        ],
        "template": {
         "data": {
          "bar": [
           {
            "error_x": {
             "color": "#2a3f5f"
            },
            "error_y": {
             "color": "#2a3f5f"
            },
            "marker": {
             "line": {
              "color": "#E5ECF6",
              "width": 0.5
             }
            },
            "type": "bar"
           }
          ],
          "barpolar": [
           {
            "marker": {
             "line": {
              "color": "#E5ECF6",
              "width": 0.5
             }
            },
            "type": "barpolar"
           }
          ],
          "carpet": [
           {
            "aaxis": {
             "endlinecolor": "#2a3f5f",
             "gridcolor": "white",
             "linecolor": "white",
             "minorgridcolor": "white",
             "startlinecolor": "#2a3f5f"
            },
            "baxis": {
             "endlinecolor": "#2a3f5f",
             "gridcolor": "white",
             "linecolor": "white",
             "minorgridcolor": "white",
             "startlinecolor": "#2a3f5f"
            },
            "type": "carpet"
           }
          ],
          "choropleth": [
           {
            "colorbar": {
             "outlinewidth": 0,
             "ticks": ""
            },
            "type": "choropleth"
           }
          ],
          "contour": [
           {
            "colorbar": {
             "outlinewidth": 0,
             "ticks": ""
            },
            "colorscale": [
             [
              0,
              "#0d0887"
             ],
             [
              0.1111111111111111,
              "#46039f"
             ],
             [
              0.2222222222222222,
              "#7201a8"
             ],
             [
              0.3333333333333333,
              "#9c179e"
             ],
             [
              0.4444444444444444,
              "#bd3786"
             ],
             [
              0.5555555555555556,
              "#d8576b"
             ],
             [
              0.6666666666666666,
              "#ed7953"
             ],
             [
              0.7777777777777778,
              "#fb9f3a"
             ],
             [
              0.8888888888888888,
              "#fdca26"
             ],
             [
              1,
              "#f0f921"
             ]
            ],
            "type": "contour"
           }
          ],
          "contourcarpet": [
           {
            "colorbar": {
             "outlinewidth": 0,
             "ticks": ""
            },
            "type": "contourcarpet"
           }
          ],
          "heatmap": [
           {
            "colorbar": {
             "outlinewidth": 0,
             "ticks": ""
            },
            "colorscale": [
             [
              0,
              "#0d0887"
             ],
             [
              0.1111111111111111,
              "#46039f"
             ],
             [
              0.2222222222222222,
              "#7201a8"
             ],
             [
              0.3333333333333333,
              "#9c179e"
             ],
             [
              0.4444444444444444,
              "#bd3786"
             ],
             [
              0.5555555555555556,
              "#d8576b"
             ],
             [
              0.6666666666666666,
              "#ed7953"
             ],
             [
              0.7777777777777778,
              "#fb9f3a"
             ],
             [
              0.8888888888888888,
              "#fdca26"
             ],
             [
              1,
              "#f0f921"
             ]
            ],
            "type": "heatmap"
           }
          ],
          "heatmapgl": [
           {
            "colorbar": {
             "outlinewidth": 0,
             "ticks": ""
            },
            "colorscale": [
             [
              0,
              "#0d0887"
             ],
             [
              0.1111111111111111,
              "#46039f"
             ],
             [
              0.2222222222222222,
              "#7201a8"
             ],
             [
              0.3333333333333333,
              "#9c179e"
             ],
             [
              0.4444444444444444,
              "#bd3786"
             ],
             [
              0.5555555555555556,
              "#d8576b"
             ],
             [
              0.6666666666666666,
              "#ed7953"
             ],
             [
              0.7777777777777778,
              "#fb9f3a"
             ],
             [
              0.8888888888888888,
              "#fdca26"
             ],
             [
              1,
              "#f0f921"
             ]
            ],
            "type": "heatmapgl"
           }
          ],
          "histogram": [
           {
            "marker": {
             "colorbar": {
              "outlinewidth": 0,
              "ticks": ""
             }
            },
            "type": "histogram"
           }
          ],
          "histogram2d": [
           {
            "colorbar": {
             "outlinewidth": 0,
             "ticks": ""
            },
            "colorscale": [
             [
              0,
              "#0d0887"
             ],
             [
              0.1111111111111111,
              "#46039f"
             ],
             [
              0.2222222222222222,
              "#7201a8"
             ],
             [
              0.3333333333333333,
              "#9c179e"
             ],
             [
              0.4444444444444444,
              "#bd3786"
             ],
             [
              0.5555555555555556,
              "#d8576b"
             ],
             [
              0.6666666666666666,
              "#ed7953"
             ],
             [
              0.7777777777777778,
              "#fb9f3a"
             ],
             [
              0.8888888888888888,
              "#fdca26"
             ],
             [
              1,
              "#f0f921"
             ]
            ],
            "type": "histogram2d"
           }
          ],
          "histogram2dcontour": [
           {
            "colorbar": {
             "outlinewidth": 0,
             "ticks": ""
            },
            "colorscale": [
             [
              0,
              "#0d0887"
             ],
             [
              0.1111111111111111,
              "#46039f"
             ],
             [
              0.2222222222222222,
              "#7201a8"
             ],
             [
              0.3333333333333333,
              "#9c179e"
             ],
             [
              0.4444444444444444,
              "#bd3786"
             ],
             [
              0.5555555555555556,
              "#d8576b"
             ],
             [
              0.6666666666666666,
              "#ed7953"
             ],
             [
              0.7777777777777778,
              "#fb9f3a"
             ],
             [
              0.8888888888888888,
              "#fdca26"
             ],
             [
              1,
              "#f0f921"
             ]
            ],
            "type": "histogram2dcontour"
           }
          ],
          "mesh3d": [
           {
            "colorbar": {
             "outlinewidth": 0,
             "ticks": ""
            },
            "type": "mesh3d"
           }
          ],
          "parcoords": [
           {
            "line": {
             "colorbar": {
              "outlinewidth": 0,
              "ticks": ""
             }
            },
            "type": "parcoords"
           }
          ],
          "pie": [
           {
            "automargin": true,
            "type": "pie"
           }
          ],
          "scatter": [
           {
            "marker": {
             "colorbar": {
              "outlinewidth": 0,
              "ticks": ""
             }
            },
            "type": "scatter"
           }
          ],
          "scatter3d": [
           {
            "line": {
             "colorbar": {
              "outlinewidth": 0,
              "ticks": ""
             }
            },
            "marker": {
             "colorbar": {
              "outlinewidth": 0,
              "ticks": ""
             }
            },
            "type": "scatter3d"
           }
          ],
          "scattercarpet": [
           {
            "marker": {
             "colorbar": {
              "outlinewidth": 0,
              "ticks": ""
             }
            },
            "type": "scattercarpet"
           }
          ],
          "scattergeo": [
           {
            "marker": {
             "colorbar": {
              "outlinewidth": 0,
              "ticks": ""
             }
            },
            "type": "scattergeo"
           }
          ],
          "scattergl": [
           {
            "marker": {
             "colorbar": {
              "outlinewidth": 0,
              "ticks": ""
             }
            },
            "type": "scattergl"
           }
          ],
          "scattermapbox": [
           {
            "marker": {
             "colorbar": {
              "outlinewidth": 0,
              "ticks": ""
             }
            },
            "type": "scattermapbox"
           }
          ],
          "scatterpolar": [
           {
            "marker": {
             "colorbar": {
              "outlinewidth": 0,
              "ticks": ""
             }
            },
            "type": "scatterpolar"
           }
          ],
          "scatterpolargl": [
           {
            "marker": {
             "colorbar": {
              "outlinewidth": 0,
              "ticks": ""
             }
            },
            "type": "scatterpolargl"
           }
          ],
          "scatterternary": [
           {
            "marker": {
             "colorbar": {
              "outlinewidth": 0,
              "ticks": ""
             }
            },
            "type": "scatterternary"
           }
          ],
          "surface": [
           {
            "colorbar": {
             "outlinewidth": 0,
             "ticks": ""
            },
            "colorscale": [
             [
              0,
              "#0d0887"
             ],
             [
              0.1111111111111111,
              "#46039f"
             ],
             [
              0.2222222222222222,
              "#7201a8"
             ],
             [
              0.3333333333333333,
              "#9c179e"
             ],
             [
              0.4444444444444444,
              "#bd3786"
             ],
             [
              0.5555555555555556,
              "#d8576b"
             ],
             [
              0.6666666666666666,
              "#ed7953"
             ],
             [
              0.7777777777777778,
              "#fb9f3a"
             ],
             [
              0.8888888888888888,
              "#fdca26"
             ],
             [
              1,
              "#f0f921"
             ]
            ],
            "type": "surface"
           }
          ],
          "table": [
           {
            "cells": {
             "fill": {
              "color": "#EBF0F8"
             },
             "line": {
              "color": "white"
             }
            },
            "header": {
             "fill": {
              "color": "#C8D4E3"
             },
             "line": {
              "color": "white"
             }
            },
            "type": "table"
           }
          ]
         },
         "layout": {
          "annotationdefaults": {
           "arrowcolor": "#2a3f5f",
           "arrowhead": 0,
           "arrowwidth": 1
          },
          "autotypenumbers": "strict",
          "coloraxis": {
           "colorbar": {
            "outlinewidth": 0,
            "ticks": ""
           }
          },
          "colorscale": {
           "diverging": [
            [
             0,
             "#8e0152"
            ],
            [
             0.1,
             "#c51b7d"
            ],
            [
             0.2,
             "#de77ae"
            ],
            [
             0.3,
             "#f1b6da"
            ],
            [
             0.4,
             "#fde0ef"
            ],
            [
             0.5,
             "#f7f7f7"
            ],
            [
             0.6,
             "#e6f5d0"
            ],
            [
             0.7,
             "#b8e186"
            ],
            [
             0.8,
             "#7fbc41"
            ],
            [
             0.9,
             "#4d9221"
            ],
            [
             1,
             "#276419"
            ]
           ],
           "sequential": [
            [
             0,
             "#0d0887"
            ],
            [
             0.1111111111111111,
             "#46039f"
            ],
            [
             0.2222222222222222,
             "#7201a8"
            ],
            [
             0.3333333333333333,
             "#9c179e"
            ],
            [
             0.4444444444444444,
             "#bd3786"
            ],
            [
             0.5555555555555556,
             "#d8576b"
            ],
            [
             0.6666666666666666,
             "#ed7953"
            ],
            [
             0.7777777777777778,
             "#fb9f3a"
            ],
            [
             0.8888888888888888,
             "#fdca26"
            ],
            [
             1,
             "#f0f921"
            ]
           ],
           "sequentialminus": [
            [
             0,
             "#0d0887"
            ],
            [
             0.1111111111111111,
             "#46039f"
            ],
            [
             0.2222222222222222,
             "#7201a8"
            ],
            [
             0.3333333333333333,
             "#9c179e"
            ],
            [
             0.4444444444444444,
             "#bd3786"
            ],
            [
             0.5555555555555556,
             "#d8576b"
            ],
            [
             0.6666666666666666,
             "#ed7953"
            ],
            [
             0.7777777777777778,
             "#fb9f3a"
            ],
            [
             0.8888888888888888,
             "#fdca26"
            ],
            [
             1,
             "#f0f921"
            ]
           ]
          },
          "colorway": [
           "#636efa",
           "#EF553B",
           "#00cc96",
           "#ab63fa",
           "#FFA15A",
           "#19d3f3",
           "#FF6692",
           "#B6E880",
           "#FF97FF",
           "#FECB52"
          ],
          "font": {
           "color": "#2a3f5f"
          },
          "geo": {
           "bgcolor": "white",
           "lakecolor": "white",
           "landcolor": "#E5ECF6",
           "showlakes": true,
           "showland": true,
           "subunitcolor": "white"
          },
          "hoverlabel": {
           "align": "left"
          },
          "hovermode": "closest",
          "mapbox": {
           "style": "light"
          },
          "paper_bgcolor": "white",
          "plot_bgcolor": "#E5ECF6",
          "polar": {
           "angularaxis": {
            "gridcolor": "white",
            "linecolor": "white",
            "ticks": ""
           },
           "bgcolor": "#E5ECF6",
           "radialaxis": {
            "gridcolor": "white",
            "linecolor": "white",
            "ticks": ""
           }
          },
          "scene": {
           "xaxis": {
            "backgroundcolor": "#E5ECF6",
            "gridcolor": "white",
            "gridwidth": 2,
            "linecolor": "white",
            "showbackground": true,
            "ticks": "",
            "zerolinecolor": "white"
           },
           "yaxis": {
            "backgroundcolor": "#E5ECF6",
            "gridcolor": "white",
            "gridwidth": 2,
            "linecolor": "white",
            "showbackground": true,
            "ticks": "",
            "zerolinecolor": "white"
           },
           "zaxis": {
            "backgroundcolor": "#E5ECF6",
            "gridcolor": "white",
            "gridwidth": 2,
            "linecolor": "white",
            "showbackground": true,
            "ticks": "",
            "zerolinecolor": "white"
           }
          },
          "shapedefaults": {
           "line": {
            "color": "#2a3f5f"
           }
          },
          "ternary": {
           "aaxis": {
            "gridcolor": "white",
            "linecolor": "white",
            "ticks": ""
           },
           "baxis": {
            "gridcolor": "white",
            "linecolor": "white",
            "ticks": ""
           },
           "bgcolor": "#E5ECF6",
           "caxis": {
            "gridcolor": "white",
            "linecolor": "white",
            "ticks": ""
           }
          },
          "title": {
           "x": 0.05
          },
          "xaxis": {
           "automargin": true,
           "gridcolor": "white",
           "linecolor": "white",
           "ticks": "",
           "title": {
            "standoff": 15
           },
           "zerolinecolor": "white",
           "zerolinewidth": 2
          },
          "yaxis": {
           "automargin": true,
           "gridcolor": "white",
           "linecolor": "white",
           "ticks": "",
           "title": {
            "standoff": 15
           },
           "zerolinecolor": "white",
           "zerolinewidth": 2
          }
         }
        }
       }
      }
     },
     "metadata": {},
     "output_type": "display_data"
    }
   ],
   "source": [
    "# Chevrolet \n",
    "df = df_chevrolet.explode('occupation_label').groupby(by='occupation_label').count().reset_index()\n",
    "df.loc[df['date'] < 100, 'occupation_label'] = 'Others' # Represent only large countries\n",
    "\n",
    "fig = px.pie(df, values='date', names='occupation_label', color_discrete_sequence=px.colors.sequential.RdBu)\n",
    "fig.show()"
   ]
  },
  {
   "cell_type": "code",
   "execution_count": 84,
   "metadata": {},
   "outputs": [
    {
     "data": {
      "application/vnd.plotly.v1+json": {
       "config": {
        "plotlyServerURL": "https://plot.ly"
       },
       "data": [
        {
         "domain": {
          "x": [
           0,
           1
          ],
          "y": [
           0,
           1
          ]
         },
         "hovertemplate": "occupation_label=%{label}<br>date=%{value}<extra></extra>",
         "labels": [
          0,
          "American football player",
          "Others",
          "Others",
          "Others",
          "Others",
          "Formula One driver",
          "Others",
          "Others",
          "NASCAR team owner",
          "Others",
          "Others",
          "Others",
          "Others",
          "Others",
          "Others",
          "actor",
          "Others",
          "Others",
          "Others",
          "Others",
          "Others",
          "Others",
          "Others",
          "Others",
          "Others",
          "Others",
          "Others",
          "Others",
          "Others",
          "Others",
          "Others",
          "association football player",
          "Others",
          "Others",
          "Others",
          "Others",
          "Others",
          "Others",
          "Others",
          "Others",
          "Others",
          "Others",
          "Others",
          "Others",
          "Others",
          "Others",
          "baseball player",
          "Others",
          "basketball player",
          "Others",
          "Others",
          "Others",
          "Others",
          "Others",
          "Others",
          "Others",
          "Others",
          "Others",
          "Others",
          "Others",
          "business executive",
          "Others",
          "businessperson",
          "Others",
          "Others",
          "Others",
          "Others",
          "Others",
          "Others",
          "Others",
          "Others",
          "Others",
          "Others",
          "Others",
          "Others",
          "Others",
          "Others",
          "Others",
          "Others",
          "Others",
          "Others",
          "Others",
          "Others",
          "Others",
          "Others",
          "Others",
          "Others",
          "Others",
          "Others",
          "Others",
          "Others",
          "Others",
          "Others",
          "Others",
          "Others",
          "Others",
          "Others",
          "Others",
          "Others",
          "Others",
          "diplomat",
          "Others",
          "Others",
          "Others",
          "Others",
          "Others",
          "Others",
          "Others",
          "Others",
          "Others",
          "engineer",
          "Others",
          "Others",
          "Others",
          "Others",
          "Others",
          "Others",
          "Others",
          "Others",
          "Others",
          "Others",
          "Others",
          "Others",
          "Others",
          "Others",
          "Others",
          "film actor",
          "Others",
          "Others",
          "Others",
          "film producer",
          "Others",
          "Others",
          "Others",
          "Others",
          "Others",
          "Others",
          "Others",
          "Others",
          "guitarist",
          "Others",
          "Others",
          "Others",
          "Others",
          "Others",
          "Others",
          "Others",
          "Others",
          "ice hockey player",
          "Others",
          "Others",
          "Others",
          "Others",
          "Others",
          "Others",
          "Others",
          "Others",
          "journalist",
          "Others",
          "Others",
          "Others",
          "Others",
          "Others",
          "Others",
          "Others",
          "Others",
          "Others",
          "Others",
          "Others",
          "Others",
          "Others",
          "Others",
          "Others",
          "Others",
          "Others",
          "Others",
          "Others",
          "Others",
          "model",
          "Others",
          "Others",
          "Others",
          "Others",
          "Others",
          "Others",
          "Others",
          "Others",
          "Others",
          "musician",
          "Others",
          "Others",
          "Others",
          "Others",
          "Others",
          "Others",
          "Others",
          "Others",
          "Others",
          "Others",
          "Others",
          "Others",
          "Others",
          "Others",
          "Others",
          "Others",
          "Others",
          "Others",
          "Others",
          "Others",
          "Others",
          "Others",
          "Others",
          "Others",
          "Others",
          "Others",
          "Others",
          "Others",
          "Others",
          "Others",
          "Others",
          "Others",
          "politician",
          "Others",
          "Others",
          "Others",
          "Others",
          "Others",
          "Others",
          "Others",
          "Others",
          "Others",
          "Others",
          "Others",
          "Others",
          "Others",
          "Others",
          "Others",
          "Others",
          "Others",
          "Others",
          "racing automobile driver",
          "racing driver",
          "Others",
          "Others",
          "Others",
          "Others",
          "Others",
          "Others",
          "Others",
          "Others",
          "researcher",
          "Others",
          "Others",
          "Others",
          "Others",
          "Others",
          "Others",
          "Others",
          "Others",
          "Others",
          "screenwriter",
          "Others",
          "Others",
          "Others",
          "Others",
          "Others",
          "Others",
          "singer",
          "Others",
          "Others",
          "Others",
          "Others",
          "Others",
          "Others",
          "Others",
          "Others",
          "Others",
          "sports commentator",
          "Others",
          "Others",
          "Others",
          "Others",
          "Others",
          "Others",
          "Others",
          "Others",
          "Others",
          "Others",
          "Others",
          "Others",
          "Others",
          "Others",
          "Others",
          "Others",
          "television actor",
          "Others",
          "Others",
          "television producer",
          "Others",
          "Others",
          "Others",
          "Others",
          "Others",
          "Others",
          "Others",
          "Others",
          "Others",
          "Others",
          "Others",
          "Others",
          "Others",
          "Others",
          "Others",
          "Others",
          "Others",
          "writer",
          "Others"
         ],
         "legendgroup": "",
         "name": "",
         "showlegend": true,
         "type": "pie",
         "values": [
          129,
          110,
          1,
          19,
          12,
          2,
          74,
          3,
          1,
          196,
          1,
          1,
          1,
          3,
          3,
          3,
          162,
          1,
          1,
          5,
          4,
          2,
          4,
          8,
          2,
          5,
          5,
          1,
          2,
          6,
          2,
          7,
          172,
          2,
          31,
          21,
          1,
          1,
          7,
          9,
          1,
          2,
          3,
          1,
          2,
          1,
          1,
          52,
          6,
          72,
          8,
          2,
          1,
          15,
          4,
          1,
          3,
          1,
          1,
          1,
          21,
          57,
          15,
          122,
          2,
          2,
          3,
          1,
          1,
          1,
          1,
          3,
          28,
          4,
          7,
          1,
          20,
          1,
          1,
          1,
          1,
          5,
          3,
          16,
          4,
          36,
          4,
          7,
          15,
          5,
          2,
          1,
          1,
          21,
          2,
          3,
          1,
          2,
          1,
          6,
          1,
          47,
          2,
          4,
          2,
          3,
          1,
          8,
          1,
          2,
          1,
          114,
          1,
          38,
          2,
          1,
          1,
          1,
          4,
          2,
          1,
          2,
          1,
          1,
          1,
          13,
          2,
          146,
          1,
          26,
          2,
          49,
          5,
          1,
          2,
          15,
          2,
          1,
          19,
          4,
          41,
          2,
          1,
          2,
          1,
          13,
          4,
          10,
          1,
          58,
          1,
          3,
          3,
          18,
          1,
          10,
          1,
          2,
          45,
          6,
          5,
          1,
          1,
          2,
          28,
          1,
          1,
          1,
          2,
          1,
          34,
          3,
          2,
          3,
          3,
          1,
          14,
          1,
          1,
          76,
          1,
          1,
          1,
          5,
          1,
          3,
          1,
          1,
          2,
          42,
          1,
          1,
          1,
          15,
          13,
          1,
          2,
          2,
          3,
          1,
          2,
          15,
          1,
          2,
          1,
          1,
          1,
          1,
          2,
          2,
          2,
          12,
          1,
          3,
          8,
          2,
          2,
          5,
          1,
          1,
          1,
          2,
          167,
          3,
          1,
          2,
          1,
          1,
          2,
          3,
          11,
          5,
          3,
          3,
          3,
          1,
          1,
          1,
          1,
          1,
          3,
          1159,
          552,
          6,
          13,
          1,
          15,
          15,
          29,
          6,
          1,
          46,
          15,
          1,
          2,
          9,
          2,
          27,
          4,
          1,
          4,
          40,
          3,
          1,
          1,
          10,
          1,
          1,
          112,
          34,
          1,
          1,
          3,
          30,
          1,
          1,
          4,
          1,
          42,
          4,
          4,
          1,
          6,
          4,
          3,
          1,
          2,
          1,
          1,
          3,
          12,
          9,
          1,
          1,
          4,
          103,
          2,
          27,
          44,
          5,
          2,
          8,
          1,
          5,
          35,
          1,
          24,
          1,
          1,
          4,
          15,
          4,
          1,
          1,
          1,
          1,
          71,
          1
         ]
        }
       ],
       "layout": {
        "legend": {
         "tracegroupgap": 0
        },
        "margin": {
         "t": 60
        },
        "piecolorway": [
         "rgb(103,0,31)",
         "rgb(178,24,43)",
         "rgb(214,96,77)",
         "rgb(244,165,130)",
         "rgb(253,219,199)",
         "rgb(247,247,247)",
         "rgb(209,229,240)",
         "rgb(146,197,222)",
         "rgb(67,147,195)",
         "rgb(33,102,172)",
         "rgb(5,48,97)"
        ],
        "template": {
         "data": {
          "bar": [
           {
            "error_x": {
             "color": "#2a3f5f"
            },
            "error_y": {
             "color": "#2a3f5f"
            },
            "marker": {
             "line": {
              "color": "#E5ECF6",
              "width": 0.5
             }
            },
            "type": "bar"
           }
          ],
          "barpolar": [
           {
            "marker": {
             "line": {
              "color": "#E5ECF6",
              "width": 0.5
             }
            },
            "type": "barpolar"
           }
          ],
          "carpet": [
           {
            "aaxis": {
             "endlinecolor": "#2a3f5f",
             "gridcolor": "white",
             "linecolor": "white",
             "minorgridcolor": "white",
             "startlinecolor": "#2a3f5f"
            },
            "baxis": {
             "endlinecolor": "#2a3f5f",
             "gridcolor": "white",
             "linecolor": "white",
             "minorgridcolor": "white",
             "startlinecolor": "#2a3f5f"
            },
            "type": "carpet"
           }
          ],
          "choropleth": [
           {
            "colorbar": {
             "outlinewidth": 0,
             "ticks": ""
            },
            "type": "choropleth"
           }
          ],
          "contour": [
           {
            "colorbar": {
             "outlinewidth": 0,
             "ticks": ""
            },
            "colorscale": [
             [
              0,
              "#0d0887"
             ],
             [
              0.1111111111111111,
              "#46039f"
             ],
             [
              0.2222222222222222,
              "#7201a8"
             ],
             [
              0.3333333333333333,
              "#9c179e"
             ],
             [
              0.4444444444444444,
              "#bd3786"
             ],
             [
              0.5555555555555556,
              "#d8576b"
             ],
             [
              0.6666666666666666,
              "#ed7953"
             ],
             [
              0.7777777777777778,
              "#fb9f3a"
             ],
             [
              0.8888888888888888,
              "#fdca26"
             ],
             [
              1,
              "#f0f921"
             ]
            ],
            "type": "contour"
           }
          ],
          "contourcarpet": [
           {
            "colorbar": {
             "outlinewidth": 0,
             "ticks": ""
            },
            "type": "contourcarpet"
           }
          ],
          "heatmap": [
           {
            "colorbar": {
             "outlinewidth": 0,
             "ticks": ""
            },
            "colorscale": [
             [
              0,
              "#0d0887"
             ],
             [
              0.1111111111111111,
              "#46039f"
             ],
             [
              0.2222222222222222,
              "#7201a8"
             ],
             [
              0.3333333333333333,
              "#9c179e"
             ],
             [
              0.4444444444444444,
              "#bd3786"
             ],
             [
              0.5555555555555556,
              "#d8576b"
             ],
             [
              0.6666666666666666,
              "#ed7953"
             ],
             [
              0.7777777777777778,
              "#fb9f3a"
             ],
             [
              0.8888888888888888,
              "#fdca26"
             ],
             [
              1,
              "#f0f921"
             ]
            ],
            "type": "heatmap"
           }
          ],
          "heatmapgl": [
           {
            "colorbar": {
             "outlinewidth": 0,
             "ticks": ""
            },
            "colorscale": [
             [
              0,
              "#0d0887"
             ],
             [
              0.1111111111111111,
              "#46039f"
             ],
             [
              0.2222222222222222,
              "#7201a8"
             ],
             [
              0.3333333333333333,
              "#9c179e"
             ],
             [
              0.4444444444444444,
              "#bd3786"
             ],
             [
              0.5555555555555556,
              "#d8576b"
             ],
             [
              0.6666666666666666,
              "#ed7953"
             ],
             [
              0.7777777777777778,
              "#fb9f3a"
             ],
             [
              0.8888888888888888,
              "#fdca26"
             ],
             [
              1,
              "#f0f921"
             ]
            ],
            "type": "heatmapgl"
           }
          ],
          "histogram": [
           {
            "marker": {
             "colorbar": {
              "outlinewidth": 0,
              "ticks": ""
             }
            },
            "type": "histogram"
           }
          ],
          "histogram2d": [
           {
            "colorbar": {
             "outlinewidth": 0,
             "ticks": ""
            },
            "colorscale": [
             [
              0,
              "#0d0887"
             ],
             [
              0.1111111111111111,
              "#46039f"
             ],
             [
              0.2222222222222222,
              "#7201a8"
             ],
             [
              0.3333333333333333,
              "#9c179e"
             ],
             [
              0.4444444444444444,
              "#bd3786"
             ],
             [
              0.5555555555555556,
              "#d8576b"
             ],
             [
              0.6666666666666666,
              "#ed7953"
             ],
             [
              0.7777777777777778,
              "#fb9f3a"
             ],
             [
              0.8888888888888888,
              "#fdca26"
             ],
             [
              1,
              "#f0f921"
             ]
            ],
            "type": "histogram2d"
           }
          ],
          "histogram2dcontour": [
           {
            "colorbar": {
             "outlinewidth": 0,
             "ticks": ""
            },
            "colorscale": [
             [
              0,
              "#0d0887"
             ],
             [
              0.1111111111111111,
              "#46039f"
             ],
             [
              0.2222222222222222,
              "#7201a8"
             ],
             [
              0.3333333333333333,
              "#9c179e"
             ],
             [
              0.4444444444444444,
              "#bd3786"
             ],
             [
              0.5555555555555556,
              "#d8576b"
             ],
             [
              0.6666666666666666,
              "#ed7953"
             ],
             [
              0.7777777777777778,
              "#fb9f3a"
             ],
             [
              0.8888888888888888,
              "#fdca26"
             ],
             [
              1,
              "#f0f921"
             ]
            ],
            "type": "histogram2dcontour"
           }
          ],
          "mesh3d": [
           {
            "colorbar": {
             "outlinewidth": 0,
             "ticks": ""
            },
            "type": "mesh3d"
           }
          ],
          "parcoords": [
           {
            "line": {
             "colorbar": {
              "outlinewidth": 0,
              "ticks": ""
             }
            },
            "type": "parcoords"
           }
          ],
          "pie": [
           {
            "automargin": true,
            "type": "pie"
           }
          ],
          "scatter": [
           {
            "marker": {
             "colorbar": {
              "outlinewidth": 0,
              "ticks": ""
             }
            },
            "type": "scatter"
           }
          ],
          "scatter3d": [
           {
            "line": {
             "colorbar": {
              "outlinewidth": 0,
              "ticks": ""
             }
            },
            "marker": {
             "colorbar": {
              "outlinewidth": 0,
              "ticks": ""
             }
            },
            "type": "scatter3d"
           }
          ],
          "scattercarpet": [
           {
            "marker": {
             "colorbar": {
              "outlinewidth": 0,
              "ticks": ""
             }
            },
            "type": "scattercarpet"
           }
          ],
          "scattergeo": [
           {
            "marker": {
             "colorbar": {
              "outlinewidth": 0,
              "ticks": ""
             }
            },
            "type": "scattergeo"
           }
          ],
          "scattergl": [
           {
            "marker": {
             "colorbar": {
              "outlinewidth": 0,
              "ticks": ""
             }
            },
            "type": "scattergl"
           }
          ],
          "scattermapbox": [
           {
            "marker": {
             "colorbar": {
              "outlinewidth": 0,
              "ticks": ""
             }
            },
            "type": "scattermapbox"
           }
          ],
          "scatterpolar": [
           {
            "marker": {
             "colorbar": {
              "outlinewidth": 0,
              "ticks": ""
             }
            },
            "type": "scatterpolar"
           }
          ],
          "scatterpolargl": [
           {
            "marker": {
             "colorbar": {
              "outlinewidth": 0,
              "ticks": ""
             }
            },
            "type": "scatterpolargl"
           }
          ],
          "scatterternary": [
           {
            "marker": {
             "colorbar": {
              "outlinewidth": 0,
              "ticks": ""
             }
            },
            "type": "scatterternary"
           }
          ],
          "surface": [
           {
            "colorbar": {
             "outlinewidth": 0,
             "ticks": ""
            },
            "colorscale": [
             [
              0,
              "#0d0887"
             ],
             [
              0.1111111111111111,
              "#46039f"
             ],
             [
              0.2222222222222222,
              "#7201a8"
             ],
             [
              0.3333333333333333,
              "#9c179e"
             ],
             [
              0.4444444444444444,
              "#bd3786"
             ],
             [
              0.5555555555555556,
              "#d8576b"
             ],
             [
              0.6666666666666666,
              "#ed7953"
             ],
             [
              0.7777777777777778,
              "#fb9f3a"
             ],
             [
              0.8888888888888888,
              "#fdca26"
             ],
             [
              1,
              "#f0f921"
             ]
            ],
            "type": "surface"
           }
          ],
          "table": [
           {
            "cells": {
             "fill": {
              "color": "#EBF0F8"
             },
             "line": {
              "color": "white"
             }
            },
            "header": {
             "fill": {
              "color": "#C8D4E3"
             },
             "line": {
              "color": "white"
             }
            },
            "type": "table"
           }
          ]
         },
         "layout": {
          "annotationdefaults": {
           "arrowcolor": "#2a3f5f",
           "arrowhead": 0,
           "arrowwidth": 1
          },
          "autotypenumbers": "strict",
          "coloraxis": {
           "colorbar": {
            "outlinewidth": 0,
            "ticks": ""
           }
          },
          "colorscale": {
           "diverging": [
            [
             0,
             "#8e0152"
            ],
            [
             0.1,
             "#c51b7d"
            ],
            [
             0.2,
             "#de77ae"
            ],
            [
             0.3,
             "#f1b6da"
            ],
            [
             0.4,
             "#fde0ef"
            ],
            [
             0.5,
             "#f7f7f7"
            ],
            [
             0.6,
             "#e6f5d0"
            ],
            [
             0.7,
             "#b8e186"
            ],
            [
             0.8,
             "#7fbc41"
            ],
            [
             0.9,
             "#4d9221"
            ],
            [
             1,
             "#276419"
            ]
           ],
           "sequential": [
            [
             0,
             "#0d0887"
            ],
            [
             0.1111111111111111,
             "#46039f"
            ],
            [
             0.2222222222222222,
             "#7201a8"
            ],
            [
             0.3333333333333333,
             "#9c179e"
            ],
            [
             0.4444444444444444,
             "#bd3786"
            ],
            [
             0.5555555555555556,
             "#d8576b"
            ],
            [
             0.6666666666666666,
             "#ed7953"
            ],
            [
             0.7777777777777778,
             "#fb9f3a"
            ],
            [
             0.8888888888888888,
             "#fdca26"
            ],
            [
             1,
             "#f0f921"
            ]
           ],
           "sequentialminus": [
            [
             0,
             "#0d0887"
            ],
            [
             0.1111111111111111,
             "#46039f"
            ],
            [
             0.2222222222222222,
             "#7201a8"
            ],
            [
             0.3333333333333333,
             "#9c179e"
            ],
            [
             0.4444444444444444,
             "#bd3786"
            ],
            [
             0.5555555555555556,
             "#d8576b"
            ],
            [
             0.6666666666666666,
             "#ed7953"
            ],
            [
             0.7777777777777778,
             "#fb9f3a"
            ],
            [
             0.8888888888888888,
             "#fdca26"
            ],
            [
             1,
             "#f0f921"
            ]
           ]
          },
          "colorway": [
           "#636efa",
           "#EF553B",
           "#00cc96",
           "#ab63fa",
           "#FFA15A",
           "#19d3f3",
           "#FF6692",
           "#B6E880",
           "#FF97FF",
           "#FECB52"
          ],
          "font": {
           "color": "#2a3f5f"
          },
          "geo": {
           "bgcolor": "white",
           "lakecolor": "white",
           "landcolor": "#E5ECF6",
           "showlakes": true,
           "showland": true,
           "subunitcolor": "white"
          },
          "hoverlabel": {
           "align": "left"
          },
          "hovermode": "closest",
          "mapbox": {
           "style": "light"
          },
          "paper_bgcolor": "white",
          "plot_bgcolor": "#E5ECF6",
          "polar": {
           "angularaxis": {
            "gridcolor": "white",
            "linecolor": "white",
            "ticks": ""
           },
           "bgcolor": "#E5ECF6",
           "radialaxis": {
            "gridcolor": "white",
            "linecolor": "white",
            "ticks": ""
           }
          },
          "scene": {
           "xaxis": {
            "backgroundcolor": "#E5ECF6",
            "gridcolor": "white",
            "gridwidth": 2,
            "linecolor": "white",
            "showbackground": true,
            "ticks": "",
            "zerolinecolor": "white"
           },
           "yaxis": {
            "backgroundcolor": "#E5ECF6",
            "gridcolor": "white",
            "gridwidth": 2,
            "linecolor": "white",
            "showbackground": true,
            "ticks": "",
            "zerolinecolor": "white"
           },
           "zaxis": {
            "backgroundcolor": "#E5ECF6",
            "gridcolor": "white",
            "gridwidth": 2,
            "linecolor": "white",
            "showbackground": true,
            "ticks": "",
            "zerolinecolor": "white"
           }
          },
          "shapedefaults": {
           "line": {
            "color": "#2a3f5f"
           }
          },
          "ternary": {
           "aaxis": {
            "gridcolor": "white",
            "linecolor": "white",
            "ticks": ""
           },
           "baxis": {
            "gridcolor": "white",
            "linecolor": "white",
            "ticks": ""
           },
           "bgcolor": "#E5ECF6",
           "caxis": {
            "gridcolor": "white",
            "linecolor": "white",
            "ticks": ""
           }
          },
          "title": {
           "x": 0.05
          },
          "xaxis": {
           "automargin": true,
           "gridcolor": "white",
           "linecolor": "white",
           "ticks": "",
           "title": {
            "standoff": 15
           },
           "zerolinecolor": "white",
           "zerolinewidth": 2
          },
          "yaxis": {
           "automargin": true,
           "gridcolor": "white",
           "linecolor": "white",
           "ticks": "",
           "title": {
            "standoff": 15
           },
           "zerolinecolor": "white",
           "zerolinewidth": 2
          }
         }
        }
       }
      }
     },
     "metadata": {},
     "output_type": "display_data"
    }
   ],
   "source": []
  },
  {
   "cell_type": "code",
   "execution_count": 69,
   "metadata": {},
   "outputs": [
    {
     "data": {
      "application/vnd.plotly.v1+json": {
       "config": {
        "plotlyServerURL": "https://plot.ly"
       },
       "data": [
        {
         "domain": {
          "x": [
           0,
           1
          ],
          "y": [
           0,
           1
          ]
         },
         "hovertemplate": "country=%{label}<br>pop=%{value}<extra></extra>",
         "labels": [
          "Albania",
          "Austria",
          "Belgium",
          "Bosnia and Herzegovina",
          "Bulgaria",
          "Croatia",
          "Czech Republic",
          "Denmark",
          "Finland",
          "France",
          "Germany",
          "Greece",
          "Hungary",
          "Iceland",
          "Ireland",
          "Italy",
          "Montenegro",
          "Netherlands",
          "Norway",
          "Poland",
          "Portugal",
          "Romania",
          "Serbia",
          "Slovak Republic",
          "Slovenia",
          "Spain",
          "Sweden",
          "Switzerland",
          "Turkey",
          "United Kingdom"
         ],
         "legendgroup": "",
         "name": "",
         "showlegend": true,
         "type": "pie",
         "values": [
          3600523,
          8199783,
          10392226,
          4552198,
          7322858,
          4493312,
          10228744,
          5468120,
          5238460,
          61083916,
          82400996,
          10706290,
          9956108,
          301931,
          4109086,
          58147733,
          684736,
          16570613,
          4627926,
          38518241,
          10642836,
          22276056,
          10150265,
          5447502,
          2009245,
          40448191,
          9031088,
          7554661,
          71158647,
          60776238
         ]
        }
       ],
       "layout": {
        "legend": {
         "tracegroupgap": 0
        },
        "template": {
         "data": {
          "bar": [
           {
            "error_x": {
             "color": "#2a3f5f"
            },
            "error_y": {
             "color": "#2a3f5f"
            },
            "marker": {
             "line": {
              "color": "#E5ECF6",
              "width": 0.5
             }
            },
            "type": "bar"
           }
          ],
          "barpolar": [
           {
            "marker": {
             "line": {
              "color": "#E5ECF6",
              "width": 0.5
             }
            },
            "type": "barpolar"
           }
          ],
          "carpet": [
           {
            "aaxis": {
             "endlinecolor": "#2a3f5f",
             "gridcolor": "white",
             "linecolor": "white",
             "minorgridcolor": "white",
             "startlinecolor": "#2a3f5f"
            },
            "baxis": {
             "endlinecolor": "#2a3f5f",
             "gridcolor": "white",
             "linecolor": "white",
             "minorgridcolor": "white",
             "startlinecolor": "#2a3f5f"
            },
            "type": "carpet"
           }
          ],
          "choropleth": [
           {
            "colorbar": {
             "outlinewidth": 0,
             "ticks": ""
            },
            "type": "choropleth"
           }
          ],
          "contour": [
           {
            "colorbar": {
             "outlinewidth": 0,
             "ticks": ""
            },
            "colorscale": [
             [
              0,
              "#0d0887"
             ],
             [
              0.1111111111111111,
              "#46039f"
             ],
             [
              0.2222222222222222,
              "#7201a8"
             ],
             [
              0.3333333333333333,
              "#9c179e"
             ],
             [
              0.4444444444444444,
              "#bd3786"
             ],
             [
              0.5555555555555556,
              "#d8576b"
             ],
             [
              0.6666666666666666,
              "#ed7953"
             ],
             [
              0.7777777777777778,
              "#fb9f3a"
             ],
             [
              0.8888888888888888,
              "#fdca26"
             ],
             [
              1,
              "#f0f921"
             ]
            ],
            "type": "contour"
           }
          ],
          "contourcarpet": [
           {
            "colorbar": {
             "outlinewidth": 0,
             "ticks": ""
            },
            "type": "contourcarpet"
           }
          ],
          "heatmap": [
           {
            "colorbar": {
             "outlinewidth": 0,
             "ticks": ""
            },
            "colorscale": [
             [
              0,
              "#0d0887"
             ],
             [
              0.1111111111111111,
              "#46039f"
             ],
             [
              0.2222222222222222,
              "#7201a8"
             ],
             [
              0.3333333333333333,
              "#9c179e"
             ],
             [
              0.4444444444444444,
              "#bd3786"
             ],
             [
              0.5555555555555556,
              "#d8576b"
             ],
             [
              0.6666666666666666,
              "#ed7953"
             ],
             [
              0.7777777777777778,
              "#fb9f3a"
             ],
             [
              0.8888888888888888,
              "#fdca26"
             ],
             [
              1,
              "#f0f921"
             ]
            ],
            "type": "heatmap"
           }
          ],
          "heatmapgl": [
           {
            "colorbar": {
             "outlinewidth": 0,
             "ticks": ""
            },
            "colorscale": [
             [
              0,
              "#0d0887"
             ],
             [
              0.1111111111111111,
              "#46039f"
             ],
             [
              0.2222222222222222,
              "#7201a8"
             ],
             [
              0.3333333333333333,
              "#9c179e"
             ],
             [
              0.4444444444444444,
              "#bd3786"
             ],
             [
              0.5555555555555556,
              "#d8576b"
             ],
             [
              0.6666666666666666,
              "#ed7953"
             ],
             [
              0.7777777777777778,
              "#fb9f3a"
             ],
             [
              0.8888888888888888,
              "#fdca26"
             ],
             [
              1,
              "#f0f921"
             ]
            ],
            "type": "heatmapgl"
           }
          ],
          "histogram": [
           {
            "marker": {
             "colorbar": {
              "outlinewidth": 0,
              "ticks": ""
             }
            },
            "type": "histogram"
           }
          ],
          "histogram2d": [
           {
            "colorbar": {
             "outlinewidth": 0,
             "ticks": ""
            },
            "colorscale": [
             [
              0,
              "#0d0887"
             ],
             [
              0.1111111111111111,
              "#46039f"
             ],
             [
              0.2222222222222222,
              "#7201a8"
             ],
             [
              0.3333333333333333,
              "#9c179e"
             ],
             [
              0.4444444444444444,
              "#bd3786"
             ],
             [
              0.5555555555555556,
              "#d8576b"
             ],
             [
              0.6666666666666666,
              "#ed7953"
             ],
             [
              0.7777777777777778,
              "#fb9f3a"
             ],
             [
              0.8888888888888888,
              "#fdca26"
             ],
             [
              1,
              "#f0f921"
             ]
            ],
            "type": "histogram2d"
           }
          ],
          "histogram2dcontour": [
           {
            "colorbar": {
             "outlinewidth": 0,
             "ticks": ""
            },
            "colorscale": [
             [
              0,
              "#0d0887"
             ],
             [
              0.1111111111111111,
              "#46039f"
             ],
             [
              0.2222222222222222,
              "#7201a8"
             ],
             [
              0.3333333333333333,
              "#9c179e"
             ],
             [
              0.4444444444444444,
              "#bd3786"
             ],
             [
              0.5555555555555556,
              "#d8576b"
             ],
             [
              0.6666666666666666,
              "#ed7953"
             ],
             [
              0.7777777777777778,
              "#fb9f3a"
             ],
             [
              0.8888888888888888,
              "#fdca26"
             ],
             [
              1,
              "#f0f921"
             ]
            ],
            "type": "histogram2dcontour"
           }
          ],
          "mesh3d": [
           {
            "colorbar": {
             "outlinewidth": 0,
             "ticks": ""
            },
            "type": "mesh3d"
           }
          ],
          "parcoords": [
           {
            "line": {
             "colorbar": {
              "outlinewidth": 0,
              "ticks": ""
             }
            },
            "type": "parcoords"
           }
          ],
          "pie": [
           {
            "automargin": true,
            "type": "pie"
           }
          ],
          "scatter": [
           {
            "marker": {
             "colorbar": {
              "outlinewidth": 0,
              "ticks": ""
             }
            },
            "type": "scatter"
           }
          ],
          "scatter3d": [
           {
            "line": {
             "colorbar": {
              "outlinewidth": 0,
              "ticks": ""
             }
            },
            "marker": {
             "colorbar": {
              "outlinewidth": 0,
              "ticks": ""
             }
            },
            "type": "scatter3d"
           }
          ],
          "scattercarpet": [
           {
            "marker": {
             "colorbar": {
              "outlinewidth": 0,
              "ticks": ""
             }
            },
            "type": "scattercarpet"
           }
          ],
          "scattergeo": [
           {
            "marker": {
             "colorbar": {
              "outlinewidth": 0,
              "ticks": ""
             }
            },
            "type": "scattergeo"
           }
          ],
          "scattergl": [
           {
            "marker": {
             "colorbar": {
              "outlinewidth": 0,
              "ticks": ""
             }
            },
            "type": "scattergl"
           }
          ],
          "scattermapbox": [
           {
            "marker": {
             "colorbar": {
              "outlinewidth": 0,
              "ticks": ""
             }
            },
            "type": "scattermapbox"
           }
          ],
          "scatterpolar": [
           {
            "marker": {
             "colorbar": {
              "outlinewidth": 0,
              "ticks": ""
             }
            },
            "type": "scatterpolar"
           }
          ],
          "scatterpolargl": [
           {
            "marker": {
             "colorbar": {
              "outlinewidth": 0,
              "ticks": ""
             }
            },
            "type": "scatterpolargl"
           }
          ],
          "scatterternary": [
           {
            "marker": {
             "colorbar": {
              "outlinewidth": 0,
              "ticks": ""
             }
            },
            "type": "scatterternary"
           }
          ],
          "surface": [
           {
            "colorbar": {
             "outlinewidth": 0,
             "ticks": ""
            },
            "colorscale": [
             [
              0,
              "#0d0887"
             ],
             [
              0.1111111111111111,
              "#46039f"
             ],
             [
              0.2222222222222222,
              "#7201a8"
             ],
             [
              0.3333333333333333,
              "#9c179e"
             ],
             [
              0.4444444444444444,
              "#bd3786"
             ],
             [
              0.5555555555555556,
              "#d8576b"
             ],
             [
              0.6666666666666666,
              "#ed7953"
             ],
             [
              0.7777777777777778,
              "#fb9f3a"
             ],
             [
              0.8888888888888888,
              "#fdca26"
             ],
             [
              1,
              "#f0f921"
             ]
            ],
            "type": "surface"
           }
          ],
          "table": [
           {
            "cells": {
             "fill": {
              "color": "#EBF0F8"
             },
             "line": {
              "color": "white"
             }
            },
            "header": {
             "fill": {
              "color": "#C8D4E3"
             },
             "line": {
              "color": "white"
             }
            },
            "type": "table"
           }
          ]
         },
         "layout": {
          "annotationdefaults": {
           "arrowcolor": "#2a3f5f",
           "arrowhead": 0,
           "arrowwidth": 1
          },
          "autotypenumbers": "strict",
          "coloraxis": {
           "colorbar": {
            "outlinewidth": 0,
            "ticks": ""
           }
          },
          "colorscale": {
           "diverging": [
            [
             0,
             "#8e0152"
            ],
            [
             0.1,
             "#c51b7d"
            ],
            [
             0.2,
             "#de77ae"
            ],
            [
             0.3,
             "#f1b6da"
            ],
            [
             0.4,
             "#fde0ef"
            ],
            [
             0.5,
             "#f7f7f7"
            ],
            [
             0.6,
             "#e6f5d0"
            ],
            [
             0.7,
             "#b8e186"
            ],
            [
             0.8,
             "#7fbc41"
            ],
            [
             0.9,
             "#4d9221"
            ],
            [
             1,
             "#276419"
            ]
           ],
           "sequential": [
            [
             0,
             "#0d0887"
            ],
            [
             0.1111111111111111,
             "#46039f"
            ],
            [
             0.2222222222222222,
             "#7201a8"
            ],
            [
             0.3333333333333333,
             "#9c179e"
            ],
            [
             0.4444444444444444,
             "#bd3786"
            ],
            [
             0.5555555555555556,
             "#d8576b"
            ],
            [
             0.6666666666666666,
             "#ed7953"
            ],
            [
             0.7777777777777778,
             "#fb9f3a"
            ],
            [
             0.8888888888888888,
             "#fdca26"
            ],
            [
             1,
             "#f0f921"
            ]
           ],
           "sequentialminus": [
            [
             0,
             "#0d0887"
            ],
            [
             0.1111111111111111,
             "#46039f"
            ],
            [
             0.2222222222222222,
             "#7201a8"
            ],
            [
             0.3333333333333333,
             "#9c179e"
            ],
            [
             0.4444444444444444,
             "#bd3786"
            ],
            [
             0.5555555555555556,
             "#d8576b"
            ],
            [
             0.6666666666666666,
             "#ed7953"
            ],
            [
             0.7777777777777778,
             "#fb9f3a"
            ],
            [
             0.8888888888888888,
             "#fdca26"
            ],
            [
             1,
             "#f0f921"
            ]
           ]
          },
          "colorway": [
           "#636efa",
           "#EF553B",
           "#00cc96",
           "#ab63fa",
           "#FFA15A",
           "#19d3f3",
           "#FF6692",
           "#B6E880",
           "#FF97FF",
           "#FECB52"
          ],
          "font": {
           "color": "#2a3f5f"
          },
          "geo": {
           "bgcolor": "white",
           "lakecolor": "white",
           "landcolor": "#E5ECF6",
           "showlakes": true,
           "showland": true,
           "subunitcolor": "white"
          },
          "hoverlabel": {
           "align": "left"
          },
          "hovermode": "closest",
          "mapbox": {
           "style": "light"
          },
          "paper_bgcolor": "white",
          "plot_bgcolor": "#E5ECF6",
          "polar": {
           "angularaxis": {
            "gridcolor": "white",
            "linecolor": "white",
            "ticks": ""
           },
           "bgcolor": "#E5ECF6",
           "radialaxis": {
            "gridcolor": "white",
            "linecolor": "white",
            "ticks": ""
           }
          },
          "scene": {
           "xaxis": {
            "backgroundcolor": "#E5ECF6",
            "gridcolor": "white",
            "gridwidth": 2,
            "linecolor": "white",
            "showbackground": true,
            "ticks": "",
            "zerolinecolor": "white"
           },
           "yaxis": {
            "backgroundcolor": "#E5ECF6",
            "gridcolor": "white",
            "gridwidth": 2,
            "linecolor": "white",
            "showbackground": true,
            "ticks": "",
            "zerolinecolor": "white"
           },
           "zaxis": {
            "backgroundcolor": "#E5ECF6",
            "gridcolor": "white",
            "gridwidth": 2,
            "linecolor": "white",
            "showbackground": true,
            "ticks": "",
            "zerolinecolor": "white"
           }
          },
          "shapedefaults": {
           "line": {
            "color": "#2a3f5f"
           }
          },
          "ternary": {
           "aaxis": {
            "gridcolor": "white",
            "linecolor": "white",
            "ticks": ""
           },
           "baxis": {
            "gridcolor": "white",
            "linecolor": "white",
            "ticks": ""
           },
           "bgcolor": "#E5ECF6",
           "caxis": {
            "gridcolor": "white",
            "linecolor": "white",
            "ticks": ""
           }
          },
          "title": {
           "x": 0.05
          },
          "xaxis": {
           "automargin": true,
           "gridcolor": "white",
           "linecolor": "white",
           "ticks": "",
           "title": {
            "standoff": 15
           },
           "zerolinecolor": "white",
           "zerolinewidth": 2
          },
          "yaxis": {
           "automargin": true,
           "gridcolor": "white",
           "linecolor": "white",
           "ticks": "",
           "title": {
            "standoff": 15
           },
           "zerolinecolor": "white",
           "zerolinewidth": 2
          }
         }
        },
        "title": {
         "text": "Population of European continent"
        }
       }
      }
     },
     "metadata": {},
     "output_type": "display_data"
    }
   ],
   "source": [
    "import plotly.express as px\n",
    "df = px.data.gapminder().query(\"year == 2007\").query(\"continent == 'Europe'\")\n",
    "#df.loc[df['pop'] < 2.e6, 'country'] = 'Other countries' # Represent only large countries\n",
    "fig = px.pie(df, values='pop', names='country', title='Population of European continent')\n",
    "fig.show()"
   ]
  },
  {
   "cell_type": "code",
   "execution_count": 70,
   "metadata": {},
   "outputs": [
    {
     "data": {
      "text/html": [
       "<div>\n",
       "<style scoped>\n",
       "    .dataframe tbody tr th:only-of-type {\n",
       "        vertical-align: middle;\n",
       "    }\n",
       "\n",
       "    .dataframe tbody tr th {\n",
       "        vertical-align: top;\n",
       "    }\n",
       "\n",
       "    .dataframe thead th {\n",
       "        text-align: right;\n",
       "    }\n",
       "</style>\n",
       "<table border=\"1\" class=\"dataframe\">\n",
       "  <thead>\n",
       "    <tr style=\"text-align: right;\">\n",
       "      <th></th>\n",
       "      <th>country</th>\n",
       "      <th>continent</th>\n",
       "      <th>year</th>\n",
       "      <th>lifeExp</th>\n",
       "      <th>pop</th>\n",
       "      <th>gdpPercap</th>\n",
       "      <th>iso_alpha</th>\n",
       "      <th>iso_num</th>\n",
       "    </tr>\n",
       "  </thead>\n",
       "  <tbody>\n",
       "    <tr>\n",
       "      <th>23</th>\n",
       "      <td>Albania</td>\n",
       "      <td>Europe</td>\n",
       "      <td>2007</td>\n",
       "      <td>76.423</td>\n",
       "      <td>3600523</td>\n",
       "      <td>5937.029526</td>\n",
       "      <td>ALB</td>\n",
       "      <td>8</td>\n",
       "    </tr>\n",
       "    <tr>\n",
       "      <th>83</th>\n",
       "      <td>Austria</td>\n",
       "      <td>Europe</td>\n",
       "      <td>2007</td>\n",
       "      <td>79.829</td>\n",
       "      <td>8199783</td>\n",
       "      <td>36126.492700</td>\n",
       "      <td>AUT</td>\n",
       "      <td>40</td>\n",
       "    </tr>\n",
       "    <tr>\n",
       "      <th>119</th>\n",
       "      <td>Belgium</td>\n",
       "      <td>Europe</td>\n",
       "      <td>2007</td>\n",
       "      <td>79.441</td>\n",
       "      <td>10392226</td>\n",
       "      <td>33692.605080</td>\n",
       "      <td>BEL</td>\n",
       "      <td>56</td>\n",
       "    </tr>\n",
       "    <tr>\n",
       "      <th>155</th>\n",
       "      <td>Bosnia and Herzegovina</td>\n",
       "      <td>Europe</td>\n",
       "      <td>2007</td>\n",
       "      <td>74.852</td>\n",
       "      <td>4552198</td>\n",
       "      <td>7446.298803</td>\n",
       "      <td>BIH</td>\n",
       "      <td>70</td>\n",
       "    </tr>\n",
       "    <tr>\n",
       "      <th>191</th>\n",
       "      <td>Bulgaria</td>\n",
       "      <td>Europe</td>\n",
       "      <td>2007</td>\n",
       "      <td>73.005</td>\n",
       "      <td>7322858</td>\n",
       "      <td>10680.792820</td>\n",
       "      <td>BGR</td>\n",
       "      <td>100</td>\n",
       "    </tr>\n",
       "    <tr>\n",
       "      <th>383</th>\n",
       "      <td>Croatia</td>\n",
       "      <td>Europe</td>\n",
       "      <td>2007</td>\n",
       "      <td>75.748</td>\n",
       "      <td>4493312</td>\n",
       "      <td>14619.222720</td>\n",
       "      <td>HRV</td>\n",
       "      <td>191</td>\n",
       "    </tr>\n",
       "    <tr>\n",
       "      <th>407</th>\n",
       "      <td>Czech Republic</td>\n",
       "      <td>Europe</td>\n",
       "      <td>2007</td>\n",
       "      <td>76.486</td>\n",
       "      <td>10228744</td>\n",
       "      <td>22833.308510</td>\n",
       "      <td>CZE</td>\n",
       "      <td>203</td>\n",
       "    </tr>\n",
       "    <tr>\n",
       "      <th>419</th>\n",
       "      <td>Denmark</td>\n",
       "      <td>Europe</td>\n",
       "      <td>2007</td>\n",
       "      <td>78.332</td>\n",
       "      <td>5468120</td>\n",
       "      <td>35278.418740</td>\n",
       "      <td>DNK</td>\n",
       "      <td>208</td>\n",
       "    </tr>\n",
       "    <tr>\n",
       "      <th>527</th>\n",
       "      <td>Finland</td>\n",
       "      <td>Europe</td>\n",
       "      <td>2007</td>\n",
       "      <td>79.313</td>\n",
       "      <td>5238460</td>\n",
       "      <td>33207.084400</td>\n",
       "      <td>FIN</td>\n",
       "      <td>246</td>\n",
       "    </tr>\n",
       "    <tr>\n",
       "      <th>539</th>\n",
       "      <td>France</td>\n",
       "      <td>Europe</td>\n",
       "      <td>2007</td>\n",
       "      <td>80.657</td>\n",
       "      <td>61083916</td>\n",
       "      <td>30470.016700</td>\n",
       "      <td>FRA</td>\n",
       "      <td>250</td>\n",
       "    </tr>\n",
       "    <tr>\n",
       "      <th>575</th>\n",
       "      <td>Germany</td>\n",
       "      <td>Europe</td>\n",
       "      <td>2007</td>\n",
       "      <td>79.406</td>\n",
       "      <td>82400996</td>\n",
       "      <td>32170.374420</td>\n",
       "      <td>DEU</td>\n",
       "      <td>276</td>\n",
       "    </tr>\n",
       "    <tr>\n",
       "      <th>599</th>\n",
       "      <td>Greece</td>\n",
       "      <td>Europe</td>\n",
       "      <td>2007</td>\n",
       "      <td>79.483</td>\n",
       "      <td>10706290</td>\n",
       "      <td>27538.411880</td>\n",
       "      <td>GRC</td>\n",
       "      <td>300</td>\n",
       "    </tr>\n",
       "    <tr>\n",
       "      <th>683</th>\n",
       "      <td>Hungary</td>\n",
       "      <td>Europe</td>\n",
       "      <td>2007</td>\n",
       "      <td>73.338</td>\n",
       "      <td>9956108</td>\n",
       "      <td>18008.944440</td>\n",
       "      <td>HUN</td>\n",
       "      <td>348</td>\n",
       "    </tr>\n",
       "    <tr>\n",
       "      <th>695</th>\n",
       "      <td>Iceland</td>\n",
       "      <td>Europe</td>\n",
       "      <td>2007</td>\n",
       "      <td>81.757</td>\n",
       "      <td>301931</td>\n",
       "      <td>36180.789190</td>\n",
       "      <td>ISL</td>\n",
       "      <td>352</td>\n",
       "    </tr>\n",
       "    <tr>\n",
       "      <th>755</th>\n",
       "      <td>Ireland</td>\n",
       "      <td>Europe</td>\n",
       "      <td>2007</td>\n",
       "      <td>78.885</td>\n",
       "      <td>4109086</td>\n",
       "      <td>40675.996350</td>\n",
       "      <td>IRL</td>\n",
       "      <td>372</td>\n",
       "    </tr>\n",
       "    <tr>\n",
       "      <th>779</th>\n",
       "      <td>Italy</td>\n",
       "      <td>Europe</td>\n",
       "      <td>2007</td>\n",
       "      <td>80.546</td>\n",
       "      <td>58147733</td>\n",
       "      <td>28569.719700</td>\n",
       "      <td>ITA</td>\n",
       "      <td>380</td>\n",
       "    </tr>\n",
       "    <tr>\n",
       "      <th>1019</th>\n",
       "      <td>Montenegro</td>\n",
       "      <td>Europe</td>\n",
       "      <td>2007</td>\n",
       "      <td>74.543</td>\n",
       "      <td>684736</td>\n",
       "      <td>9253.896111</td>\n",
       "      <td>MNE</td>\n",
       "      <td>499</td>\n",
       "    </tr>\n",
       "    <tr>\n",
       "      <th>1091</th>\n",
       "      <td>Netherlands</td>\n",
       "      <td>Europe</td>\n",
       "      <td>2007</td>\n",
       "      <td>79.762</td>\n",
       "      <td>16570613</td>\n",
       "      <td>36797.933320</td>\n",
       "      <td>NLD</td>\n",
       "      <td>528</td>\n",
       "    </tr>\n",
       "    <tr>\n",
       "      <th>1151</th>\n",
       "      <td>Norway</td>\n",
       "      <td>Europe</td>\n",
       "      <td>2007</td>\n",
       "      <td>80.196</td>\n",
       "      <td>4627926</td>\n",
       "      <td>49357.190170</td>\n",
       "      <td>NOR</td>\n",
       "      <td>578</td>\n",
       "    </tr>\n",
       "    <tr>\n",
       "      <th>1235</th>\n",
       "      <td>Poland</td>\n",
       "      <td>Europe</td>\n",
       "      <td>2007</td>\n",
       "      <td>75.563</td>\n",
       "      <td>38518241</td>\n",
       "      <td>15389.924680</td>\n",
       "      <td>POL</td>\n",
       "      <td>616</td>\n",
       "    </tr>\n",
       "    <tr>\n",
       "      <th>1247</th>\n",
       "      <td>Portugal</td>\n",
       "      <td>Europe</td>\n",
       "      <td>2007</td>\n",
       "      <td>78.098</td>\n",
       "      <td>10642836</td>\n",
       "      <td>20509.647770</td>\n",
       "      <td>PRT</td>\n",
       "      <td>620</td>\n",
       "    </tr>\n",
       "    <tr>\n",
       "      <th>1283</th>\n",
       "      <td>Romania</td>\n",
       "      <td>Europe</td>\n",
       "      <td>2007</td>\n",
       "      <td>72.476</td>\n",
       "      <td>22276056</td>\n",
       "      <td>10808.475610</td>\n",
       "      <td>ROU</td>\n",
       "      <td>642</td>\n",
       "    </tr>\n",
       "    <tr>\n",
       "      <th>1343</th>\n",
       "      <td>Serbia</td>\n",
       "      <td>Europe</td>\n",
       "      <td>2007</td>\n",
       "      <td>74.002</td>\n",
       "      <td>10150265</td>\n",
       "      <td>9786.534714</td>\n",
       "      <td>SRB</td>\n",
       "      <td>688</td>\n",
       "    </tr>\n",
       "    <tr>\n",
       "      <th>1379</th>\n",
       "      <td>Slovak Republic</td>\n",
       "      <td>Europe</td>\n",
       "      <td>2007</td>\n",
       "      <td>74.663</td>\n",
       "      <td>5447502</td>\n",
       "      <td>18678.314350</td>\n",
       "      <td>SVK</td>\n",
       "      <td>703</td>\n",
       "    </tr>\n",
       "    <tr>\n",
       "      <th>1391</th>\n",
       "      <td>Slovenia</td>\n",
       "      <td>Europe</td>\n",
       "      <td>2007</td>\n",
       "      <td>77.926</td>\n",
       "      <td>2009245</td>\n",
       "      <td>25768.257590</td>\n",
       "      <td>SVN</td>\n",
       "      <td>705</td>\n",
       "    </tr>\n",
       "    <tr>\n",
       "      <th>1427</th>\n",
       "      <td>Spain</td>\n",
       "      <td>Europe</td>\n",
       "      <td>2007</td>\n",
       "      <td>80.941</td>\n",
       "      <td>40448191</td>\n",
       "      <td>28821.063700</td>\n",
       "      <td>ESP</td>\n",
       "      <td>724</td>\n",
       "    </tr>\n",
       "    <tr>\n",
       "      <th>1475</th>\n",
       "      <td>Sweden</td>\n",
       "      <td>Europe</td>\n",
       "      <td>2007</td>\n",
       "      <td>80.884</td>\n",
       "      <td>9031088</td>\n",
       "      <td>33859.748350</td>\n",
       "      <td>SWE</td>\n",
       "      <td>752</td>\n",
       "    </tr>\n",
       "    <tr>\n",
       "      <th>1487</th>\n",
       "      <td>Switzerland</td>\n",
       "      <td>Europe</td>\n",
       "      <td>2007</td>\n",
       "      <td>81.701</td>\n",
       "      <td>7554661</td>\n",
       "      <td>37506.419070</td>\n",
       "      <td>CHE</td>\n",
       "      <td>756</td>\n",
       "    </tr>\n",
       "    <tr>\n",
       "      <th>1583</th>\n",
       "      <td>Turkey</td>\n",
       "      <td>Europe</td>\n",
       "      <td>2007</td>\n",
       "      <td>71.777</td>\n",
       "      <td>71158647</td>\n",
       "      <td>8458.276384</td>\n",
       "      <td>TUR</td>\n",
       "      <td>792</td>\n",
       "    </tr>\n",
       "    <tr>\n",
       "      <th>1607</th>\n",
       "      <td>United Kingdom</td>\n",
       "      <td>Europe</td>\n",
       "      <td>2007</td>\n",
       "      <td>79.425</td>\n",
       "      <td>60776238</td>\n",
       "      <td>33203.261280</td>\n",
       "      <td>GBR</td>\n",
       "      <td>826</td>\n",
       "    </tr>\n",
       "  </tbody>\n",
       "</table>\n",
       "</div>"
      ],
      "text/plain": [
       "                     country continent  year  lifeExp       pop     gdpPercap  \\\n",
       "23                   Albania    Europe  2007   76.423   3600523   5937.029526   \n",
       "83                   Austria    Europe  2007   79.829   8199783  36126.492700   \n",
       "119                  Belgium    Europe  2007   79.441  10392226  33692.605080   \n",
       "155   Bosnia and Herzegovina    Europe  2007   74.852   4552198   7446.298803   \n",
       "191                 Bulgaria    Europe  2007   73.005   7322858  10680.792820   \n",
       "383                  Croatia    Europe  2007   75.748   4493312  14619.222720   \n",
       "407           Czech Republic    Europe  2007   76.486  10228744  22833.308510   \n",
       "419                  Denmark    Europe  2007   78.332   5468120  35278.418740   \n",
       "527                  Finland    Europe  2007   79.313   5238460  33207.084400   \n",
       "539                   France    Europe  2007   80.657  61083916  30470.016700   \n",
       "575                  Germany    Europe  2007   79.406  82400996  32170.374420   \n",
       "599                   Greece    Europe  2007   79.483  10706290  27538.411880   \n",
       "683                  Hungary    Europe  2007   73.338   9956108  18008.944440   \n",
       "695                  Iceland    Europe  2007   81.757    301931  36180.789190   \n",
       "755                  Ireland    Europe  2007   78.885   4109086  40675.996350   \n",
       "779                    Italy    Europe  2007   80.546  58147733  28569.719700   \n",
       "1019              Montenegro    Europe  2007   74.543    684736   9253.896111   \n",
       "1091             Netherlands    Europe  2007   79.762  16570613  36797.933320   \n",
       "1151                  Norway    Europe  2007   80.196   4627926  49357.190170   \n",
       "1235                  Poland    Europe  2007   75.563  38518241  15389.924680   \n",
       "1247                Portugal    Europe  2007   78.098  10642836  20509.647770   \n",
       "1283                 Romania    Europe  2007   72.476  22276056  10808.475610   \n",
       "1343                  Serbia    Europe  2007   74.002  10150265   9786.534714   \n",
       "1379         Slovak Republic    Europe  2007   74.663   5447502  18678.314350   \n",
       "1391                Slovenia    Europe  2007   77.926   2009245  25768.257590   \n",
       "1427                   Spain    Europe  2007   80.941  40448191  28821.063700   \n",
       "1475                  Sweden    Europe  2007   80.884   9031088  33859.748350   \n",
       "1487             Switzerland    Europe  2007   81.701   7554661  37506.419070   \n",
       "1583                  Turkey    Europe  2007   71.777  71158647   8458.276384   \n",
       "1607          United Kingdom    Europe  2007   79.425  60776238  33203.261280   \n",
       "\n",
       "     iso_alpha  iso_num  \n",
       "23         ALB        8  \n",
       "83         AUT       40  \n",
       "119        BEL       56  \n",
       "155        BIH       70  \n",
       "191        BGR      100  \n",
       "383        HRV      191  \n",
       "407        CZE      203  \n",
       "419        DNK      208  \n",
       "527        FIN      246  \n",
       "539        FRA      250  \n",
       "575        DEU      276  \n",
       "599        GRC      300  \n",
       "683        HUN      348  \n",
       "695        ISL      352  \n",
       "755        IRL      372  \n",
       "779        ITA      380  \n",
       "1019       MNE      499  \n",
       "1091       NLD      528  \n",
       "1151       NOR      578  \n",
       "1235       POL      616  \n",
       "1247       PRT      620  \n",
       "1283       ROU      642  \n",
       "1343       SRB      688  \n",
       "1379       SVK      703  \n",
       "1391       SVN      705  \n",
       "1427       ESP      724  \n",
       "1475       SWE      752  \n",
       "1487       CHE      756  \n",
       "1583       TUR      792  \n",
       "1607       GBR      826  "
      ]
     },
     "execution_count": 70,
     "metadata": {},
     "output_type": "execute_result"
    }
   ],
   "source": [
    "df"
   ]
  },
  {
   "cell_type": "code",
   "execution_count": null,
   "metadata": {},
   "outputs": [],
   "source": []
  }
 ],
 "metadata": {
  "interpreter": {
   "hash": "e7370f93d1d0cde622a1f8e1c04877d8463912d04d973331ad4851f04de6915a"
  },
  "kernelspec": {
   "display_name": "Python 3.8.10 64-bit",
   "language": "python",
   "name": "python3"
  },
  "language_info": {
   "codemirror_mode": {
    "name": "ipython",
    "version": 3
   },
   "file_extension": ".py",
   "mimetype": "text/x-python",
   "name": "python",
   "nbconvert_exporter": "python",
   "pygments_lexer": "ipython3",
   "version": "3.9.5"
  },
  "orig_nbformat": 4
 },
 "nbformat": 4,
 "nbformat_minor": 2
}
