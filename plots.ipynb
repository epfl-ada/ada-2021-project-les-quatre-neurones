{
 "cells": [
  {
   "cell_type": "code",
   "execution_count": 101,
   "metadata": {},
   "outputs": [],
   "source": [
    "import pandas as pd\n",
    "import numpy as np\n",
    "import bz2\n",
    "import json\n",
    "from datetime import datetime\n",
    "import plotly.express as px\n",
    "from datetime import timedelta as dt\n",
    "import plotly.graph_objects as go\n",
    "from plotly.subplots import make_subplots\n",
    "pd.options.mode.chained_assignment = None"
   ]
  },
  {
   "cell_type": "markdown",
   "metadata": {},
   "source": [
    "#### Dict and DF useful for this notebook"
   ]
  },
  {
   "cell_type": "code",
   "execution_count": 102,
   "metadata": {},
   "outputs": [],
   "source": [
    "from_qids_to_label_occupation = pd.read_json('data/occupations.json') \n",
    "from_qids_to_label_ethnics = pd.read_json('data/ethnic.json' ) \n",
    "from_qids_to_label_religion = pd.read_json('data/religion.json') \n",
    "from_qids_to_label_nationality = pd.read_json('data/nationality.json') \n",
    "from_qids_to_label_party = pd.read_json('data/party.json') \n",
    "from_qids_to_label_gender = pd.read_json('data/gender.json') \n",
    "\n",
    "df_speakers_attributes = pd.read_parquet('data/speaker_attributes.parquet')"
   ]
  },
  {
   "cell_type": "code",
   "execution_count": 103,
   "metadata": {},
   "outputs": [],
   "source": [
    "id_musk = df_speakers_attributes[df_speakers_attributes.label =='Elon Musk'].id.values[0]"
   ]
  },
  {
   "cell_type": "markdown",
   "metadata": {},
   "source": [
    "### Process for the speaker attributs"
   ]
  },
  {
   "cell_type": "code",
   "execution_count": 104,
   "metadata": {},
   "outputs": [],
   "source": [
    "def map_qids_labels(list_qids,df_):\n",
    "    \"\"\"Transform a list of QIDS into a list of labels, return 0 if the list is empty (which is equal to 0 in the dataframe).\"\"\"\n",
    "    if(type(list_qids)!=int):\n",
    "        return [df_[df_.qids == x].values[0][1] for x in list_qids if x!=0 and len(df_[df_.qids == x].values)>=1]    \n",
    "    else:\n",
    "        return 0  "
   ]
  },
  {
   "cell_type": "code",
   "execution_count": 105,
   "metadata": {},
   "outputs": [],
   "source": [
    "def process_speakers_attributes(df_speakers_attributes):\n",
    "    \"\"\"Add the columns for the party, occupation, religion, ethnics and nationality their labels. Take as input the dataframe with the selected speakers and return the same dataframe with the columns added.\"\"\"\n",
    "    df = df_speakers_attributes[['date_of_birth','nationality','gender','ethnic_group','occupation','id','label','religion','party']]\n",
    "    df = df.rename(columns={'date_of_birth':'birth','nationality':'nationality_qids','gender':'gender_qids','ethnic_group':'ethnics_qids','occupation':'occupations_qids','id':'name_qids','label':'name_label','religion':'religion_qids','party':'party_qids','gender':'gender_qids'})\n",
    "    # Add labels for occupations, ethincs, religion, nationality, party\n",
    "    df = df.fillna(0)\n",
    "    df['occupation_label']= df['occupations_qids'].apply(lambda x : map_qids_labels(x,from_qids_to_label_occupation))\n",
    "    df['ethnics_label']= df['ethnics_qids'].apply(lambda x : map_qids_labels(x,from_qids_to_label_ethnics))\n",
    "    df['religion_label']= df['religion_qids'].apply(lambda x : map_qids_labels(x,from_qids_to_label_religion))\n",
    "    df['nationality_label']= df['nationality_qids'].apply(lambda x : map_qids_labels(x,from_qids_to_label_nationality))\n",
    "    df['party_label']= df['party_qids'].apply(lambda x : map_qids_labels(x,from_qids_to_label_party))\n",
    "    df['gender_label']= df['gender_qids'].apply(lambda x : map_qids_labels(x,from_qids_to_label_gender))\n",
    "    return df\n",
    "    "
   ]
  },
  {
   "cell_type": "markdown",
   "metadata": {},
   "source": [
    "#### Select only the QIDS needed in the analysis"
   ]
  },
  {
   "cell_type": "code",
   "execution_count": 106,
   "metadata": {},
   "outputs": [],
   "source": [
    "def select_speakers(list_qids):\n",
    "    \"\"\"From a list of QIDS of speakers, return the dataframe with only the speakers that are in the list.\"\"\"\n",
    "    return df_speakers_attributes[df_speakers_attributes.id.isin(list_qids)]"
   ]
  },
  {
   "cell_type": "markdown",
   "metadata": {},
   "source": [
    "### Process for the quotes dataframe"
   ]
  },
  {
   "cell_type": "code",
   "execution_count": null,
   "metadata": {},
   "outputs": [],
   "source": [
    "def process_dataframe_quotes(df_sent, speakers):\n",
    "    \"\"\" Transform the date into a datetime object ('%Y-%m-%d %H:%M:%S). Join the quotes dataframe with the speakers dataframe on the name_qids.\"\"\"\n",
    "    \n",
    "    # Rename the columns and keep only the one needed\n",
    "    df_1 = df_sent[['name_qids','quotation','quote_qids','review','Vader_Sentiment']]\n",
    "    \n",
    "    # Change timestamp in datetime object and add the perdio depending on the time_range list\n",
    "    df_sent['date']= df_sent['date'].apply(lambda x :datetime.strptime(str(x), '%Y-%m-%d %H:%M:%S'))\n",
    "    df_sent['year_month']= df_sent['date'].apply(lambda x :datetime.strptime(str(x)[:7], '%Y-%m'))\n",
    "    \n",
    "    #Join the dataframe with the speakers attributes on the name_qids\n",
    "    df = df_sent.merge(speakers, on='name_qids')\n",
    "    return df\n",
    "  "
   ]
  },
  {
   "cell_type": "markdown",
   "metadata": {},
   "source": [
    "#### Chevrolet"
   ]
  },
  {
   "cell_type": "code",
   "execution_count": null,
   "metadata": {},
   "outputs": [],
   "source": [
    "df_chevrolet= pd.read_json('data/chevrolet_sentiment.json')\n",
    "\n",
    "list_qids_chevrolet = df_chevrolet.drop_duplicates(['name_qids']).name_qids.values\n",
    "df = select_speakers(list_qids_chevrolet)\n",
    "df_speakers_att_chevrolet = process_speakers_attributes(df)\n",
    "\n",
    "speakers = df_speakers_att_chevrolet[['name_qids','name_label','occupations_qids']]\n",
    "df_chevrolet = process_dataframe_quotes(df_chevrolet, speakers)\n",
    "df_chevrolet.head(3)"
   ]
  },
  {
   "cell_type": "markdown",
   "metadata": {},
   "source": [
    "#### Tesla"
   ]
  },
  {
   "cell_type": "code",
   "execution_count": 126,
   "metadata": {},
   "outputs": [
    {
     "data": {
      "text/html": [
       "<div>\n",
       "<style scoped>\n",
       "    .dataframe tbody tr th:only-of-type {\n",
       "        vertical-align: middle;\n",
       "    }\n",
       "\n",
       "    .dataframe tbody tr th {\n",
       "        vertical-align: top;\n",
       "    }\n",
       "\n",
       "    .dataframe thead th {\n",
       "        text-align: right;\n",
       "    }\n",
       "</style>\n",
       "<table border=\"1\" class=\"dataframe\">\n",
       "  <thead>\n",
       "    <tr style=\"text-align: right;\">\n",
       "      <th></th>\n",
       "      <th>date</th>\n",
       "      <th>name_qids</th>\n",
       "      <th>quotation</th>\n",
       "      <th>quote_qids</th>\n",
       "      <th>Vader_Sentiment</th>\n",
       "      <th>emotion</th>\n",
       "      <th>review</th>\n",
       "      <th>year_month</th>\n",
       "      <th>name_label_x</th>\n",
       "      <th>occupations_qids_x</th>\n",
       "      <th>occupation_label</th>\n",
       "      <th>nationality_label</th>\n",
       "      <th>name_label_y</th>\n",
       "      <th>occupations_qids_y</th>\n",
       "    </tr>\n",
       "  </thead>\n",
       "  <tbody>\n",
       "    <tr>\n",
       "      <th>0</th>\n",
       "      <td>2015-04-17 17:55:00</td>\n",
       "      <td>Q6751189</td>\n",
       "      <td>The policy will concentrate on `A' category st...</td>\n",
       "      <td>76279</td>\n",
       "      <td>0.0000</td>\n",
       "      <td>Fear</td>\n",
       "      <td>4</td>\n",
       "      <td>2015-04-01</td>\n",
       "      <td>Manoj Sinha</td>\n",
       "      <td>[Q82955]</td>\n",
       "      <td>[politician]</td>\n",
       "      <td>[India]</td>\n",
       "      <td>Manoj Sinha</td>\n",
       "      <td>[Q82955]</td>\n",
       "    </tr>\n",
       "    <tr>\n",
       "      <th>1</th>\n",
       "      <td>2015-10-29 16:31:31</td>\n",
       "      <td>Q4934</td>\n",
       "      <td>As Sergey and I wrote in the original founders...</td>\n",
       "      <td>10100</td>\n",
       "      <td>0.6908</td>\n",
       "      <td>Surprise</td>\n",
       "      <td>4</td>\n",
       "      <td>2015-10-01</td>\n",
       "      <td>Larry Page</td>\n",
       "      <td>[Q131524, Q82594, Q81096]</td>\n",
       "      <td>[entrepreneur, computer scientist, engineer]</td>\n",
       "      <td>[United States of America]</td>\n",
       "      <td>Larry Page</td>\n",
       "      <td>[Q131524, Q82594, Q81096]</td>\n",
       "    </tr>\n",
       "    <tr>\n",
       "      <th>2</th>\n",
       "      <td>2015-04-20 23:38:36</td>\n",
       "      <td>Q4934</td>\n",
       "      <td>In the first week of March 2013, Musk reached ...</td>\n",
       "      <td>30429</td>\n",
       "      <td>0.5423</td>\n",
       "      <td>Fear</td>\n",
       "      <td>1</td>\n",
       "      <td>2015-04-01</td>\n",
       "      <td>Larry Page</td>\n",
       "      <td>[Q131524, Q82594, Q81096]</td>\n",
       "      <td>[entrepreneur, computer scientist, engineer]</td>\n",
       "      <td>[United States of America]</td>\n",
       "      <td>Larry Page</td>\n",
       "      <td>[Q131524, Q82594, Q81096]</td>\n",
       "    </tr>\n",
       "  </tbody>\n",
       "</table>\n",
       "</div>"
      ],
      "text/plain": [
       "                 date name_qids  \\\n",
       "0 2015-04-17 17:55:00  Q6751189   \n",
       "1 2015-10-29 16:31:31     Q4934   \n",
       "2 2015-04-20 23:38:36     Q4934   \n",
       "\n",
       "                                           quotation  quote_qids  \\\n",
       "0  The policy will concentrate on `A' category st...       76279   \n",
       "1  As Sergey and I wrote in the original founders...       10100   \n",
       "2  In the first week of March 2013, Musk reached ...       30429   \n",
       "\n",
       "   Vader_Sentiment   emotion  review year_month name_label_x  \\\n",
       "0           0.0000      Fear       4 2015-04-01  Manoj Sinha   \n",
       "1           0.6908  Surprise       4 2015-10-01   Larry Page   \n",
       "2           0.5423      Fear       1 2015-04-01   Larry Page   \n",
       "\n",
       "          occupations_qids_x                              occupation_label  \\\n",
       "0                   [Q82955]                                  [politician]   \n",
       "1  [Q131524, Q82594, Q81096]  [entrepreneur, computer scientist, engineer]   \n",
       "2  [Q131524, Q82594, Q81096]  [entrepreneur, computer scientist, engineer]   \n",
       "\n",
       "            nationality_label name_label_y         occupations_qids_y  \n",
       "0                     [India]  Manoj Sinha                   [Q82955]  \n",
       "1  [United States of America]   Larry Page  [Q131524, Q82594, Q81096]  \n",
       "2  [United States of America]   Larry Page  [Q131524, Q82594, Q81096]  "
      ]
     },
     "execution_count": 126,
     "metadata": {},
     "output_type": "execute_result"
    }
   ],
   "source": [
    "df_tesla= pd.read_json('data/tesla_sentiment.json')\n",
    "df_tesla.head(3)\n",
    "\n",
    "#list_qids_tesla = [x for x in df_tesla.drop_duplicates(['name_qids']).name_qids.values if x!= id_musk]\n",
    "list_qids_tesla = [x for x in df_tesla.drop_duplicates(['name_qids']).name_qids.values]\n",
    "\n",
    "df = select_speakers(list_qids_tesla)\n",
    "df_speakers_att_tesla = process_speakers_attributes(df)\n",
    "df_speakers_att_tesla.head(3)\n",
    "\n",
    "speakers = df_speakers_att_tesla[['name_qids','name_label','occupations_qids']]\n",
    "df_tesla = process_dataframe_quotes(df_tesla, speakers)\n",
    "df_tesla.head(3)"
   ]
  },
  {
   "cell_type": "markdown",
   "metadata": {},
   "source": [
    "#### Toyota"
   ]
  },
  {
   "cell_type": "code",
   "execution_count": 108,
   "metadata": {},
   "outputs": [
    {
     "data": {
      "text/html": [
       "<div>\n",
       "<style scoped>\n",
       "    .dataframe tbody tr th:only-of-type {\n",
       "        vertical-align: middle;\n",
       "    }\n",
       "\n",
       "    .dataframe tbody tr th {\n",
       "        vertical-align: top;\n",
       "    }\n",
       "\n",
       "    .dataframe thead th {\n",
       "        text-align: right;\n",
       "    }\n",
       "</style>\n",
       "<table border=\"1\" class=\"dataframe\">\n",
       "  <thead>\n",
       "    <tr style=\"text-align: right;\">\n",
       "      <th></th>\n",
       "      <th>date</th>\n",
       "      <th>name_qids</th>\n",
       "      <th>quotation</th>\n",
       "      <th>quote_qids</th>\n",
       "      <th>Vader_Sentiment</th>\n",
       "      <th>emotion</th>\n",
       "      <th>review</th>\n",
       "      <th>year_month</th>\n",
       "      <th>name_label_x</th>\n",
       "      <th>occupations_qids_x</th>\n",
       "      <th>occupation_label</th>\n",
       "      <th>nationality_label</th>\n",
       "      <th>name_label_y</th>\n",
       "      <th>occupations_qids_y</th>\n",
       "    </tr>\n",
       "  </thead>\n",
       "  <tbody>\n",
       "    <tr>\n",
       "      <th>0</th>\n",
       "      <td>2015-06-22 19:28:00</td>\n",
       "      <td>Q1701249</td>\n",
       "      <td>It's like seeing your father cry for the first...</td>\n",
       "      <td>23803</td>\n",
       "      <td>-0.1531</td>\n",
       "      <td>Fear</td>\n",
       "      <td>4</td>\n",
       "      <td>2015-06-01</td>\n",
       "      <td>John Oliver</td>\n",
       "      <td>[Q36834, Q158852]</td>\n",
       "      <td>[composer, conductor]</td>\n",
       "      <td>[United States of America]</td>\n",
       "      <td>John Oliver</td>\n",
       "      <td>[Q36834, Q158852]</td>\n",
       "    </tr>\n",
       "    <tr>\n",
       "      <th>1</th>\n",
       "      <td>2015-08-20 01:36:57</td>\n",
       "      <td>Q1701249</td>\n",
       "      <td>as morally dubious as Toyota's short-lived slo...</td>\n",
       "      <td>9746</td>\n",
       "      <td>-0.4767</td>\n",
       "      <td>Angry</td>\n",
       "      <td>1</td>\n",
       "      <td>2015-08-01</td>\n",
       "      <td>John Oliver</td>\n",
       "      <td>[Q36834, Q158852]</td>\n",
       "      <td>[composer, conductor]</td>\n",
       "      <td>[United States of America]</td>\n",
       "      <td>John Oliver</td>\n",
       "      <td>[Q36834, Q158852]</td>\n",
       "    </tr>\n",
       "    <tr>\n",
       "      <th>2</th>\n",
       "      <td>2015-11-17 03:05:31</td>\n",
       "      <td>Q1701249</td>\n",
       "      <td>Toyota is famous for making dependable vehicle...</td>\n",
       "      <td>116071</td>\n",
       "      <td>0.2732</td>\n",
       "      <td>Surprise</td>\n",
       "      <td>3</td>\n",
       "      <td>2015-11-01</td>\n",
       "      <td>John Oliver</td>\n",
       "      <td>[Q36834, Q158852]</td>\n",
       "      <td>[composer, conductor]</td>\n",
       "      <td>[United States of America]</td>\n",
       "      <td>John Oliver</td>\n",
       "      <td>[Q36834, Q158852]</td>\n",
       "    </tr>\n",
       "  </tbody>\n",
       "</table>\n",
       "</div>"
      ],
      "text/plain": [
       "                 date name_qids  \\\n",
       "0 2015-06-22 19:28:00  Q1701249   \n",
       "1 2015-08-20 01:36:57  Q1701249   \n",
       "2 2015-11-17 03:05:31  Q1701249   \n",
       "\n",
       "                                           quotation  quote_qids  \\\n",
       "0  It's like seeing your father cry for the first...       23803   \n",
       "1  as morally dubious as Toyota's short-lived slo...        9746   \n",
       "2  Toyota is famous for making dependable vehicle...      116071   \n",
       "\n",
       "   Vader_Sentiment   emotion  review year_month name_label_x  \\\n",
       "0          -0.1531      Fear       4 2015-06-01  John Oliver   \n",
       "1          -0.4767     Angry       1 2015-08-01  John Oliver   \n",
       "2           0.2732  Surprise       3 2015-11-01  John Oliver   \n",
       "\n",
       "  occupations_qids_x       occupation_label           nationality_label  \\\n",
       "0  [Q36834, Q158852]  [composer, conductor]  [United States of America]   \n",
       "1  [Q36834, Q158852]  [composer, conductor]  [United States of America]   \n",
       "2  [Q36834, Q158852]  [composer, conductor]  [United States of America]   \n",
       "\n",
       "  name_label_y occupations_qids_y  \n",
       "0  John Oliver  [Q36834, Q158852]  \n",
       "1  John Oliver  [Q36834, Q158852]  \n",
       "2  John Oliver  [Q36834, Q158852]  "
      ]
     },
     "execution_count": 108,
     "metadata": {},
     "output_type": "execute_result"
    }
   ],
   "source": [
    "df_toyota= pd.read_json('data/toyota_sentiment.json')\n",
    "df_toyota.head(3)\n",
    "\n",
    "list_qids_toyota = [x for x in df_toyota.drop_duplicates(['name_qids']).name_qids.values if x!= id_musk]\n",
    "\n",
    "df = select_speakers(list_qids_toyota)\n",
    "df_speakers_att_toyota = process_speakers_attributes(df)\n",
    "df_speakers_att_toyota.head(3)\n",
    "\n",
    "speakers = df_speakers_att_toyota[['name_qids','name_label','occupations_qids']]\n",
    "df_toyota = process_dataframe_quotes(df_toyota, speakers)\n",
    "df_toyota.head(3)"
   ]
  },
  {
   "cell_type": "markdown",
   "metadata": {},
   "source": [
    "### DO TO TATY\n",
    "- rajouter les axes et titres pour les general plots (tesla, chevrolet, toyota)\n",
    "- proportion of quotes/removed\n",
    "- boxplot des events (tesla 2x, chevrolet 2x) et commenter\n",
    "- piechart des occupations/nationalité (tesla vs chevrolet)\n"
   ]
  },
  {
   "cell_type": "markdown",
   "metadata": {},
   "source": [
    "### General Plot"
   ]
  },
  {
   "cell_type": "code",
   "execution_count": 127,
   "metadata": {},
   "outputs": [
    {
     "data": {
      "application/vnd.plotly.v1+json": {
       "config": {
        "plotlyServerURL": "https://plot.ly"
       },
       "data": [
        {
         "name": "Number of quotes groupy by months",
         "type": "bar",
         "x": [
          "2015-01-01T00:00:00",
          "2015-02-01T00:00:00",
          "2015-03-01T00:00:00",
          "2015-04-01T00:00:00",
          "2015-05-01T00:00:00",
          "2015-06-01T00:00:00",
          "2015-07-01T00:00:00",
          "2015-08-01T00:00:00",
          "2015-09-01T00:00:00",
          "2015-10-01T00:00:00",
          "2015-11-01T00:00:00",
          "2015-12-01T00:00:00",
          "2016-01-01T00:00:00",
          "2016-02-01T00:00:00",
          "2016-04-01T00:00:00",
          "2016-05-01T00:00:00",
          "2016-06-01T00:00:00",
          "2016-07-01T00:00:00",
          "2016-08-01T00:00:00",
          "2016-09-01T00:00:00",
          "2016-10-01T00:00:00",
          "2016-11-01T00:00:00",
          "2016-12-01T00:00:00",
          "2017-01-01T00:00:00",
          "2017-02-01T00:00:00",
          "2017-03-01T00:00:00",
          "2017-04-01T00:00:00",
          "2017-05-01T00:00:00",
          "2017-06-01T00:00:00",
          "2017-07-01T00:00:00",
          "2017-08-01T00:00:00",
          "2017-09-01T00:00:00",
          "2017-10-01T00:00:00",
          "2017-11-01T00:00:00",
          "2017-12-01T00:00:00",
          "2018-01-01T00:00:00",
          "2018-02-01T00:00:00",
          "2018-03-01T00:00:00",
          "2018-04-01T00:00:00",
          "2018-05-01T00:00:00",
          "2018-06-01T00:00:00",
          "2018-07-01T00:00:00",
          "2018-08-01T00:00:00",
          "2018-09-01T00:00:00",
          "2018-10-01T00:00:00",
          "2018-11-01T00:00:00",
          "2018-12-01T00:00:00",
          "2019-01-01T00:00:00",
          "2019-02-01T00:00:00",
          "2019-03-01T00:00:00",
          "2019-04-01T00:00:00",
          "2019-05-01T00:00:00",
          "2019-06-01T00:00:00",
          "2019-07-01T00:00:00",
          "2019-08-01T00:00:00",
          "2019-09-01T00:00:00",
          "2019-10-01T00:00:00",
          "2019-11-01T00:00:00",
          "2019-12-01T00:00:00",
          "2020-01-01T00:00:00",
          "2020-02-01T00:00:00",
          "2020-03-01T00:00:00",
          "2020-04-01T00:00:00"
         ],
         "xaxis": "x",
         "y": [
          63,
          76,
          77,
          86,
          75,
          51,
          66,
          61,
          76,
          96,
          60,
          28,
          1,
          43,
          48,
          112,
          2,
          87,
          106,
          92,
          2,
          5,
          26,
          1,
          30,
          81,
          61,
          91,
          74,
          109,
          95,
          86,
          62,
          73,
          40,
          45,
          47,
          61,
          80,
          73,
          75,
          89,
          61,
          59,
          26,
          46,
          41,
          37,
          45,
          59,
          74,
          78,
          53,
          53,
          64,
          23,
          50,
          33,
          18,
          27,
          28,
          16,
          7
         ],
         "yaxis": "y"
        },
        {
         "name": "Vader sentiment score by month (mean)",
         "type": "scatter",
         "x": [
          "2015-01-01T00:00:00",
          "2015-02-01T00:00:00",
          "2015-03-01T00:00:00",
          "2015-04-01T00:00:00",
          "2015-05-01T00:00:00",
          "2015-06-01T00:00:00",
          "2015-07-01T00:00:00",
          "2015-08-01T00:00:00",
          "2015-09-01T00:00:00",
          "2015-10-01T00:00:00",
          "2015-11-01T00:00:00",
          "2015-12-01T00:00:00",
          "2016-01-01T00:00:00",
          "2016-02-01T00:00:00",
          "2016-04-01T00:00:00",
          "2016-05-01T00:00:00",
          "2016-06-01T00:00:00",
          "2016-07-01T00:00:00",
          "2016-08-01T00:00:00",
          "2016-09-01T00:00:00",
          "2016-10-01T00:00:00",
          "2016-11-01T00:00:00",
          "2016-12-01T00:00:00",
          "2017-01-01T00:00:00",
          "2017-02-01T00:00:00",
          "2017-03-01T00:00:00",
          "2017-04-01T00:00:00",
          "2017-05-01T00:00:00",
          "2017-06-01T00:00:00",
          "2017-07-01T00:00:00",
          "2017-08-01T00:00:00",
          "2017-09-01T00:00:00",
          "2017-10-01T00:00:00",
          "2017-11-01T00:00:00",
          "2017-12-01T00:00:00",
          "2018-01-01T00:00:00",
          "2018-02-01T00:00:00",
          "2018-03-01T00:00:00",
          "2018-04-01T00:00:00",
          "2018-05-01T00:00:00",
          "2018-06-01T00:00:00",
          "2018-07-01T00:00:00",
          "2018-08-01T00:00:00",
          "2018-09-01T00:00:00",
          "2018-10-01T00:00:00",
          "2018-11-01T00:00:00",
          "2018-12-01T00:00:00",
          "2019-01-01T00:00:00",
          "2019-02-01T00:00:00",
          "2019-03-01T00:00:00",
          "2019-04-01T00:00:00",
          "2019-05-01T00:00:00",
          "2019-06-01T00:00:00",
          "2019-07-01T00:00:00",
          "2019-08-01T00:00:00",
          "2019-09-01T00:00:00",
          "2019-10-01T00:00:00",
          "2019-11-01T00:00:00",
          "2019-12-01T00:00:00",
          "2020-01-01T00:00:00",
          "2020-02-01T00:00:00",
          "2020-03-01T00:00:00",
          "2020-04-01T00:00:00"
         ],
         "xaxis": "x2",
         "y": [
          0.5575476190476191,
          0.6126921052631576,
          0.5490805194805195,
          0.6053476744186047,
          0.5441093333333336,
          0.49725490196078426,
          0.5294681818181819,
          0.6201606557377048,
          0.611813157894737,
          0.6074322916666669,
          0.5375850000000002,
          0.37864642857142855,
          0.9661000000000001,
          0.5879674418604651,
          0.54966875,
          0.5960178571428575,
          0.45680000000000004,
          0.5808160919540232,
          0.6204858490566036,
          0.5635717391304347,
          -0.16120000000000004,
          0.43846000000000007,
          0.43718461538461545,
          0,
          0.5106166666666668,
          0.5291617283950619,
          0.45891967213114754,
          0.5525340659340661,
          0.5352918918918919,
          0.5233321100917431,
          0.49886,
          0.6136779069767441,
          0.34325806451612917,
          0.5026191780821917,
          0.339005,
          0.5946888888888889,
          0.31800851063829777,
          0.4471557377049182,
          0.5131725000000005,
          0.5182657534246577,
          0.5912266666666667,
          0.5197303370786515,
          0.5044032786885246,
          0.4900593220338983,
          0.49790384615384625,
          0.41714565217391314,
          0.5022609756097562,
          0.4700756756756756,
          0.5218666666666668,
          0.5197762711864405,
          0.5903554054054052,
          0.628035897435897,
          0.4677849056603772,
          0.5122962264150944,
          0.4817250000000001,
          0.4242652173913043,
          0.42854200000000003,
          0.4948969696969697,
          0.32167777777777784,
          0.5451333333333334,
          0.49432142857142874,
          0.31726250000000006,
          0.7915
         ],
         "yaxis": "y2"
        }
       ],
       "layout": {
        "template": {
         "data": {
          "bar": [
           {
            "error_x": {
             "color": "#2a3f5f"
            },
            "error_y": {
             "color": "#2a3f5f"
            },
            "marker": {
             "line": {
              "color": "#E5ECF6",
              "width": 0.5
             }
            },
            "type": "bar"
           }
          ],
          "barpolar": [
           {
            "marker": {
             "line": {
              "color": "#E5ECF6",
              "width": 0.5
             }
            },
            "type": "barpolar"
           }
          ],
          "carpet": [
           {
            "aaxis": {
             "endlinecolor": "#2a3f5f",
             "gridcolor": "white",
             "linecolor": "white",
             "minorgridcolor": "white",
             "startlinecolor": "#2a3f5f"
            },
            "baxis": {
             "endlinecolor": "#2a3f5f",
             "gridcolor": "white",
             "linecolor": "white",
             "minorgridcolor": "white",
             "startlinecolor": "#2a3f5f"
            },
            "type": "carpet"
           }
          ],
          "choropleth": [
           {
            "colorbar": {
             "outlinewidth": 0,
             "ticks": ""
            },
            "type": "choropleth"
           }
          ],
          "contour": [
           {
            "colorbar": {
             "outlinewidth": 0,
             "ticks": ""
            },
            "colorscale": [
             [
              0,
              "#0d0887"
             ],
             [
              0.1111111111111111,
              "#46039f"
             ],
             [
              0.2222222222222222,
              "#7201a8"
             ],
             [
              0.3333333333333333,
              "#9c179e"
             ],
             [
              0.4444444444444444,
              "#bd3786"
             ],
             [
              0.5555555555555556,
              "#d8576b"
             ],
             [
              0.6666666666666666,
              "#ed7953"
             ],
             [
              0.7777777777777778,
              "#fb9f3a"
             ],
             [
              0.8888888888888888,
              "#fdca26"
             ],
             [
              1,
              "#f0f921"
             ]
            ],
            "type": "contour"
           }
          ],
          "contourcarpet": [
           {
            "colorbar": {
             "outlinewidth": 0,
             "ticks": ""
            },
            "type": "contourcarpet"
           }
          ],
          "heatmap": [
           {
            "colorbar": {
             "outlinewidth": 0,
             "ticks": ""
            },
            "colorscale": [
             [
              0,
              "#0d0887"
             ],
             [
              0.1111111111111111,
              "#46039f"
             ],
             [
              0.2222222222222222,
              "#7201a8"
             ],
             [
              0.3333333333333333,
              "#9c179e"
             ],
             [
              0.4444444444444444,
              "#bd3786"
             ],
             [
              0.5555555555555556,
              "#d8576b"
             ],
             [
              0.6666666666666666,
              "#ed7953"
             ],
             [
              0.7777777777777778,
              "#fb9f3a"
             ],
             [
              0.8888888888888888,
              "#fdca26"
             ],
             [
              1,
              "#f0f921"
             ]
            ],
            "type": "heatmap"
           }
          ],
          "heatmapgl": [
           {
            "colorbar": {
             "outlinewidth": 0,
             "ticks": ""
            },
            "colorscale": [
             [
              0,
              "#0d0887"
             ],
             [
              0.1111111111111111,
              "#46039f"
             ],
             [
              0.2222222222222222,
              "#7201a8"
             ],
             [
              0.3333333333333333,
              "#9c179e"
             ],
             [
              0.4444444444444444,
              "#bd3786"
             ],
             [
              0.5555555555555556,
              "#d8576b"
             ],
             [
              0.6666666666666666,
              "#ed7953"
             ],
             [
              0.7777777777777778,
              "#fb9f3a"
             ],
             [
              0.8888888888888888,
              "#fdca26"
             ],
             [
              1,
              "#f0f921"
             ]
            ],
            "type": "heatmapgl"
           }
          ],
          "histogram": [
           {
            "marker": {
             "colorbar": {
              "outlinewidth": 0,
              "ticks": ""
             }
            },
            "type": "histogram"
           }
          ],
          "histogram2d": [
           {
            "colorbar": {
             "outlinewidth": 0,
             "ticks": ""
            },
            "colorscale": [
             [
              0,
              "#0d0887"
             ],
             [
              0.1111111111111111,
              "#46039f"
             ],
             [
              0.2222222222222222,
              "#7201a8"
             ],
             [
              0.3333333333333333,
              "#9c179e"
             ],
             [
              0.4444444444444444,
              "#bd3786"
             ],
             [
              0.5555555555555556,
              "#d8576b"
             ],
             [
              0.6666666666666666,
              "#ed7953"
             ],
             [
              0.7777777777777778,
              "#fb9f3a"
             ],
             [
              0.8888888888888888,
              "#fdca26"
             ],
             [
              1,
              "#f0f921"
             ]
            ],
            "type": "histogram2d"
           }
          ],
          "histogram2dcontour": [
           {
            "colorbar": {
             "outlinewidth": 0,
             "ticks": ""
            },
            "colorscale": [
             [
              0,
              "#0d0887"
             ],
             [
              0.1111111111111111,
              "#46039f"
             ],
             [
              0.2222222222222222,
              "#7201a8"
             ],
             [
              0.3333333333333333,
              "#9c179e"
             ],
             [
              0.4444444444444444,
              "#bd3786"
             ],
             [
              0.5555555555555556,
              "#d8576b"
             ],
             [
              0.6666666666666666,
              "#ed7953"
             ],
             [
              0.7777777777777778,
              "#fb9f3a"
             ],
             [
              0.8888888888888888,
              "#fdca26"
             ],
             [
              1,
              "#f0f921"
             ]
            ],
            "type": "histogram2dcontour"
           }
          ],
          "mesh3d": [
           {
            "colorbar": {
             "outlinewidth": 0,
             "ticks": ""
            },
            "type": "mesh3d"
           }
          ],
          "parcoords": [
           {
            "line": {
             "colorbar": {
              "outlinewidth": 0,
              "ticks": ""
             }
            },
            "type": "parcoords"
           }
          ],
          "pie": [
           {
            "automargin": true,
            "type": "pie"
           }
          ],
          "scatter": [
           {
            "marker": {
             "colorbar": {
              "outlinewidth": 0,
              "ticks": ""
             }
            },
            "type": "scatter"
           }
          ],
          "scatter3d": [
           {
            "line": {
             "colorbar": {
              "outlinewidth": 0,
              "ticks": ""
             }
            },
            "marker": {
             "colorbar": {
              "outlinewidth": 0,
              "ticks": ""
             }
            },
            "type": "scatter3d"
           }
          ],
          "scattercarpet": [
           {
            "marker": {
             "colorbar": {
              "outlinewidth": 0,
              "ticks": ""
             }
            },
            "type": "scattercarpet"
           }
          ],
          "scattergeo": [
           {
            "marker": {
             "colorbar": {
              "outlinewidth": 0,
              "ticks": ""
             }
            },
            "type": "scattergeo"
           }
          ],
          "scattergl": [
           {
            "marker": {
             "colorbar": {
              "outlinewidth": 0,
              "ticks": ""
             }
            },
            "type": "scattergl"
           }
          ],
          "scattermapbox": [
           {
            "marker": {
             "colorbar": {
              "outlinewidth": 0,
              "ticks": ""
             }
            },
            "type": "scattermapbox"
           }
          ],
          "scatterpolar": [
           {
            "marker": {
             "colorbar": {
              "outlinewidth": 0,
              "ticks": ""
             }
            },
            "type": "scatterpolar"
           }
          ],
          "scatterpolargl": [
           {
            "marker": {
             "colorbar": {
              "outlinewidth": 0,
              "ticks": ""
             }
            },
            "type": "scatterpolargl"
           }
          ],
          "scatterternary": [
           {
            "marker": {
             "colorbar": {
              "outlinewidth": 0,
              "ticks": ""
             }
            },
            "type": "scatterternary"
           }
          ],
          "surface": [
           {
            "colorbar": {
             "outlinewidth": 0,
             "ticks": ""
            },
            "colorscale": [
             [
              0,
              "#0d0887"
             ],
             [
              0.1111111111111111,
              "#46039f"
             ],
             [
              0.2222222222222222,
              "#7201a8"
             ],
             [
              0.3333333333333333,
              "#9c179e"
             ],
             [
              0.4444444444444444,
              "#bd3786"
             ],
             [
              0.5555555555555556,
              "#d8576b"
             ],
             [
              0.6666666666666666,
              "#ed7953"
             ],
             [
              0.7777777777777778,
              "#fb9f3a"
             ],
             [
              0.8888888888888888,
              "#fdca26"
             ],
             [
              1,
              "#f0f921"
             ]
            ],
            "type": "surface"
           }
          ],
          "table": [
           {
            "cells": {
             "fill": {
              "color": "#EBF0F8"
             },
             "line": {
              "color": "white"
             }
            },
            "header": {
             "fill": {
              "color": "#C8D4E3"
             },
             "line": {
              "color": "white"
             }
            },
            "type": "table"
           }
          ]
         },
         "layout": {
          "annotationdefaults": {
           "arrowcolor": "#2a3f5f",
           "arrowhead": 0,
           "arrowwidth": 1
          },
          "autotypenumbers": "strict",
          "coloraxis": {
           "colorbar": {
            "outlinewidth": 0,
            "ticks": ""
           }
          },
          "colorscale": {
           "diverging": [
            [
             0,
             "#8e0152"
            ],
            [
             0.1,
             "#c51b7d"
            ],
            [
             0.2,
             "#de77ae"
            ],
            [
             0.3,
             "#f1b6da"
            ],
            [
             0.4,
             "#fde0ef"
            ],
            [
             0.5,
             "#f7f7f7"
            ],
            [
             0.6,
             "#e6f5d0"
            ],
            [
             0.7,
             "#b8e186"
            ],
            [
             0.8,
             "#7fbc41"
            ],
            [
             0.9,
             "#4d9221"
            ],
            [
             1,
             "#276419"
            ]
           ],
           "sequential": [
            [
             0,
             "#0d0887"
            ],
            [
             0.1111111111111111,
             "#46039f"
            ],
            [
             0.2222222222222222,
             "#7201a8"
            ],
            [
             0.3333333333333333,
             "#9c179e"
            ],
            [
             0.4444444444444444,
             "#bd3786"
            ],
            [
             0.5555555555555556,
             "#d8576b"
            ],
            [
             0.6666666666666666,
             "#ed7953"
            ],
            [
             0.7777777777777778,
             "#fb9f3a"
            ],
            [
             0.8888888888888888,
             "#fdca26"
            ],
            [
             1,
             "#f0f921"
            ]
           ],
           "sequentialminus": [
            [
             0,
             "#0d0887"
            ],
            [
             0.1111111111111111,
             "#46039f"
            ],
            [
             0.2222222222222222,
             "#7201a8"
            ],
            [
             0.3333333333333333,
             "#9c179e"
            ],
            [
             0.4444444444444444,
             "#bd3786"
            ],
            [
             0.5555555555555556,
             "#d8576b"
            ],
            [
             0.6666666666666666,
             "#ed7953"
            ],
            [
             0.7777777777777778,
             "#fb9f3a"
            ],
            [
             0.8888888888888888,
             "#fdca26"
            ],
            [
             1,
             "#f0f921"
            ]
           ]
          },
          "colorway": [
           "#636efa",
           "#EF553B",
           "#00cc96",
           "#ab63fa",
           "#FFA15A",
           "#19d3f3",
           "#FF6692",
           "#B6E880",
           "#FF97FF",
           "#FECB52"
          ],
          "font": {
           "color": "#2a3f5f"
          },
          "geo": {
           "bgcolor": "white",
           "lakecolor": "white",
           "landcolor": "#E5ECF6",
           "showlakes": true,
           "showland": true,
           "subunitcolor": "white"
          },
          "hoverlabel": {
           "align": "left"
          },
          "hovermode": "closest",
          "mapbox": {
           "style": "light"
          },
          "paper_bgcolor": "white",
          "plot_bgcolor": "#E5ECF6",
          "polar": {
           "angularaxis": {
            "gridcolor": "white",
            "linecolor": "white",
            "ticks": ""
           },
           "bgcolor": "#E5ECF6",
           "radialaxis": {
            "gridcolor": "white",
            "linecolor": "white",
            "ticks": ""
           }
          },
          "scene": {
           "xaxis": {
            "backgroundcolor": "#E5ECF6",
            "gridcolor": "white",
            "gridwidth": 2,
            "linecolor": "white",
            "showbackground": true,
            "ticks": "",
            "zerolinecolor": "white"
           },
           "yaxis": {
            "backgroundcolor": "#E5ECF6",
            "gridcolor": "white",
            "gridwidth": 2,
            "linecolor": "white",
            "showbackground": true,
            "ticks": "",
            "zerolinecolor": "white"
           },
           "zaxis": {
            "backgroundcolor": "#E5ECF6",
            "gridcolor": "white",
            "gridwidth": 2,
            "linecolor": "white",
            "showbackground": true,
            "ticks": "",
            "zerolinecolor": "white"
           }
          },
          "shapedefaults": {
           "line": {
            "color": "#2a3f5f"
           }
          },
          "ternary": {
           "aaxis": {
            "gridcolor": "white",
            "linecolor": "white",
            "ticks": ""
           },
           "baxis": {
            "gridcolor": "white",
            "linecolor": "white",
            "ticks": ""
           },
           "bgcolor": "#E5ECF6",
           "caxis": {
            "gridcolor": "white",
            "linecolor": "white",
            "ticks": ""
           }
          },
          "title": {
           "x": 0.05
          },
          "xaxis": {
           "automargin": true,
           "gridcolor": "white",
           "linecolor": "white",
           "ticks": "",
           "title": {
            "standoff": 15
           },
           "zerolinecolor": "white",
           "zerolinewidth": 2
          },
          "yaxis": {
           "automargin": true,
           "gridcolor": "white",
           "linecolor": "white",
           "ticks": "",
           "title": {
            "standoff": 15
           },
           "zerolinecolor": "white",
           "zerolinewidth": 2
          }
         }
        },
        "title": {
         "text": "General Analysis on the Chevrolet's quotes "
        },
        "xaxis": {
         "anchor": "y",
         "domain": [
          0,
          1
         ]
        },
        "xaxis2": {
         "anchor": "y2",
         "domain": [
          0,
          1
         ]
        },
        "yaxis": {
         "anchor": "x",
         "domain": [
          0.4,
          1
         ]
        },
        "yaxis2": {
         "anchor": "x2",
         "domain": [
          0,
          0.3
         ]
        }
       }
      }
     },
     "metadata": {},
     "output_type": "display_data"
    }
   ],
   "source": [
    "df_chevrolet_plot = df_chevrolet.groupby(by='year_month').mean().reset_index()\n",
    "df_chevrolet_plot_review = df_chevrolet_plot[['year_month','Vader_Sentiment']]\n",
    "df_chevrolet_plot_review['count_'] = df_chevrolet.groupby(by='year_month').count().reset_index()['date']\n",
    "\n",
    "fig = make_subplots(rows=2, cols=1, row_heights=[2, 1],vertical_spacing=0.1)\n",
    "fig.add_trace(go.Bar(x=df_chevrolet_plot_review.year_month, y=df_chevrolet_plot_review.count_,name=\"Number of quotes groupy by months\"),row=1, col=1 )\n",
    "fig.add_trace(go.Scatter(x=df_chevrolet_plot_review.year_month, y=df_chevrolet_plot_review.Vader_Sentiment,name=\"Vader sentiment score by month (mean)\"),row=2, col=1)\n",
    "fig.update_layout(\n",
    "    title=\"General Analysis on the Chevrolet's quotes \")\n",
    "fig.show()"
   ]
  },
  {
   "cell_type": "code",
   "execution_count": 128,
   "metadata": {},
   "outputs": [
    {
     "data": {
      "application/vnd.plotly.v1+json": {
       "config": {
        "plotlyServerURL": "https://plot.ly"
       },
       "data": [
        {
         "name": "Number of quotes groupy by months",
         "type": "bar",
         "x": [
          "2015-01-01T00:00:00",
          "2015-02-01T00:00:00",
          "2015-03-01T00:00:00",
          "2015-04-01T00:00:00",
          "2015-05-01T00:00:00",
          "2015-06-01T00:00:00",
          "2015-07-01T00:00:00",
          "2015-08-01T00:00:00",
          "2015-09-01T00:00:00",
          "2015-10-01T00:00:00",
          "2015-11-01T00:00:00",
          "2015-12-01T00:00:00",
          "2016-01-01T00:00:00",
          "2016-02-01T00:00:00",
          "2016-03-01T00:00:00",
          "2016-04-01T00:00:00",
          "2016-05-01T00:00:00",
          "2016-06-01T00:00:00",
          "2016-07-01T00:00:00",
          "2016-08-01T00:00:00",
          "2016-09-01T00:00:00",
          "2016-10-01T00:00:00",
          "2016-11-01T00:00:00",
          "2016-12-01T00:00:00",
          "2017-01-01T00:00:00",
          "2017-02-01T00:00:00",
          "2017-03-01T00:00:00",
          "2017-04-01T00:00:00",
          "2017-05-01T00:00:00",
          "2017-06-01T00:00:00",
          "2017-07-01T00:00:00",
          "2017-08-01T00:00:00",
          "2017-09-01T00:00:00",
          "2017-10-01T00:00:00",
          "2017-11-01T00:00:00",
          "2017-12-01T00:00:00",
          "2018-01-01T00:00:00",
          "2018-02-01T00:00:00",
          "2018-03-01T00:00:00",
          "2018-04-01T00:00:00",
          "2018-05-01T00:00:00",
          "2018-06-01T00:00:00",
          "2018-07-01T00:00:00",
          "2018-08-01T00:00:00",
          "2018-09-01T00:00:00",
          "2018-10-01T00:00:00",
          "2018-11-01T00:00:00",
          "2018-12-01T00:00:00",
          "2019-01-01T00:00:00",
          "2019-02-01T00:00:00",
          "2019-03-01T00:00:00",
          "2019-04-01T00:00:00",
          "2019-05-01T00:00:00",
          "2019-06-01T00:00:00",
          "2019-07-01T00:00:00",
          "2019-08-01T00:00:00",
          "2019-09-01T00:00:00",
          "2019-10-01T00:00:00",
          "2019-11-01T00:00:00",
          "2019-12-01T00:00:00",
          "2020-01-01T00:00:00",
          "2020-02-01T00:00:00",
          "2020-03-01T00:00:00",
          "2020-04-01T00:00:00"
         ],
         "xaxis": "x",
         "y": [
          163,
          178,
          196,
          123,
          121,
          85,
          109,
          200,
          207,
          248,
          162,
          140,
          5,
          78,
          3,
          126,
          303,
          14,
          395,
          294,
          263,
          5,
          13,
          188,
          8,
          114,
          238,
          259,
          347,
          275,
          343,
          323,
          242,
          323,
          360,
          234,
          272,
          304,
          288,
          330,
          439,
          344,
          278,
          491,
          368,
          343,
          287,
          220,
          315,
          251,
          334,
          266,
          261,
          239,
          193,
          192,
          187,
          266,
          312,
          187,
          268,
          238,
          140,
          70
         ],
         "yaxis": "y"
        },
        {
         "name": "Vader sentiment score by month (mean)",
         "type": "scatter",
         "x": [
          "2015-01-01T00:00:00",
          "2015-02-01T00:00:00",
          "2015-03-01T00:00:00",
          "2015-04-01T00:00:00",
          "2015-05-01T00:00:00",
          "2015-06-01T00:00:00",
          "2015-07-01T00:00:00",
          "2015-08-01T00:00:00",
          "2015-09-01T00:00:00",
          "2015-10-01T00:00:00",
          "2015-11-01T00:00:00",
          "2015-12-01T00:00:00",
          "2016-01-01T00:00:00",
          "2016-02-01T00:00:00",
          "2016-03-01T00:00:00",
          "2016-04-01T00:00:00",
          "2016-05-01T00:00:00",
          "2016-06-01T00:00:00",
          "2016-07-01T00:00:00",
          "2016-08-01T00:00:00",
          "2016-09-01T00:00:00",
          "2016-10-01T00:00:00",
          "2016-11-01T00:00:00",
          "2016-12-01T00:00:00",
          "2017-01-01T00:00:00",
          "2017-02-01T00:00:00",
          "2017-03-01T00:00:00",
          "2017-04-01T00:00:00",
          "2017-05-01T00:00:00",
          "2017-06-01T00:00:00",
          "2017-07-01T00:00:00",
          "2017-08-01T00:00:00",
          "2017-09-01T00:00:00",
          "2017-10-01T00:00:00",
          "2017-11-01T00:00:00",
          "2017-12-01T00:00:00",
          "2018-01-01T00:00:00",
          "2018-02-01T00:00:00",
          "2018-03-01T00:00:00",
          "2018-04-01T00:00:00",
          "2018-05-01T00:00:00",
          "2018-06-01T00:00:00",
          "2018-07-01T00:00:00",
          "2018-08-01T00:00:00",
          "2018-09-01T00:00:00",
          "2018-10-01T00:00:00",
          "2018-11-01T00:00:00",
          "2018-12-01T00:00:00",
          "2019-01-01T00:00:00",
          "2019-02-01T00:00:00",
          "2019-03-01T00:00:00",
          "2019-04-01T00:00:00",
          "2019-05-01T00:00:00",
          "2019-06-01T00:00:00",
          "2019-07-01T00:00:00",
          "2019-08-01T00:00:00",
          "2019-09-01T00:00:00",
          "2019-10-01T00:00:00",
          "2019-11-01T00:00:00",
          "2019-12-01T00:00:00",
          "2020-01-01T00:00:00",
          "2020-02-01T00:00:00",
          "2020-03-01T00:00:00",
          "2020-04-01T00:00:00"
         ],
         "xaxis": "x2",
         "y": [
          0.28192208588957035,
          0.2640432584269663,
          0.3019989795918366,
          0.2659918699186992,
          0.27110495867768597,
          0.23887764705882358,
          0.339877981651376,
          0.29672249999999994,
          0.3361038647342994,
          0.2516955645161291,
          0.36708086419753055,
          0.3359378571428573,
          0.44698000000000004,
          0.2808205128205129,
          0.24546666666666664,
          0.2773563492063492,
          0.27180462046204595,
          0.39447857142857146,
          0.21909291139240494,
          0.2722537414965987,
          0.2753577946768059,
          0.26772,
          0.2930615384615385,
          0.301884574468085,
          0.111425,
          0.246622807017544,
          0.3322739495798317,
          0.32996679536679535,
          0.3114717579250717,
          0.3361876363636364,
          0.25162303206997055,
          0.26793746130030943,
          0.28081900826446277,
          0.20387894736842108,
          0.20851888888888873,
          0.28542222222222224,
          0.24785147058823523,
          0.2840628289473683,
          0.3262017361111109,
          0.1848857575757576,
          0.19872779043280167,
          0.2401081395348836,
          0.2844312949640287,
          0.23672790224032553,
          0.23458043478260868,
          0.21542711370262377,
          0.2456174216027874,
          0.27263045454545465,
          0.31767841269841246,
          0.2627490039840638,
          0.21448952095808374,
          0.261392857142857,
          0.2781770114942528,
          0.24282175732217573,
          0.28746113989637295,
          0.2138682291666667,
          0.30464117647058825,
          0.28763984962406,
          0.2768775641025641,
          0.2820112299465242,
          0.22319962686567169,
          0.2588268907563025,
          0.24404785714285718,
          0.19796714285714287
         ],
         "yaxis": "y2"
        }
       ],
       "layout": {
        "template": {
         "data": {
          "bar": [
           {
            "error_x": {
             "color": "#2a3f5f"
            },
            "error_y": {
             "color": "#2a3f5f"
            },
            "marker": {
             "line": {
              "color": "#E5ECF6",
              "width": 0.5
             }
            },
            "type": "bar"
           }
          ],
          "barpolar": [
           {
            "marker": {
             "line": {
              "color": "#E5ECF6",
              "width": 0.5
             }
            },
            "type": "barpolar"
           }
          ],
          "carpet": [
           {
            "aaxis": {
             "endlinecolor": "#2a3f5f",
             "gridcolor": "white",
             "linecolor": "white",
             "minorgridcolor": "white",
             "startlinecolor": "#2a3f5f"
            },
            "baxis": {
             "endlinecolor": "#2a3f5f",
             "gridcolor": "white",
             "linecolor": "white",
             "minorgridcolor": "white",
             "startlinecolor": "#2a3f5f"
            },
            "type": "carpet"
           }
          ],
          "choropleth": [
           {
            "colorbar": {
             "outlinewidth": 0,
             "ticks": ""
            },
            "type": "choropleth"
           }
          ],
          "contour": [
           {
            "colorbar": {
             "outlinewidth": 0,
             "ticks": ""
            },
            "colorscale": [
             [
              0,
              "#0d0887"
             ],
             [
              0.1111111111111111,
              "#46039f"
             ],
             [
              0.2222222222222222,
              "#7201a8"
             ],
             [
              0.3333333333333333,
              "#9c179e"
             ],
             [
              0.4444444444444444,
              "#bd3786"
             ],
             [
              0.5555555555555556,
              "#d8576b"
             ],
             [
              0.6666666666666666,
              "#ed7953"
             ],
             [
              0.7777777777777778,
              "#fb9f3a"
             ],
             [
              0.8888888888888888,
              "#fdca26"
             ],
             [
              1,
              "#f0f921"
             ]
            ],
            "type": "contour"
           }
          ],
          "contourcarpet": [
           {
            "colorbar": {
             "outlinewidth": 0,
             "ticks": ""
            },
            "type": "contourcarpet"
           }
          ],
          "heatmap": [
           {
            "colorbar": {
             "outlinewidth": 0,
             "ticks": ""
            },
            "colorscale": [
             [
              0,
              "#0d0887"
             ],
             [
              0.1111111111111111,
              "#46039f"
             ],
             [
              0.2222222222222222,
              "#7201a8"
             ],
             [
              0.3333333333333333,
              "#9c179e"
             ],
             [
              0.4444444444444444,
              "#bd3786"
             ],
             [
              0.5555555555555556,
              "#d8576b"
             ],
             [
              0.6666666666666666,
              "#ed7953"
             ],
             [
              0.7777777777777778,
              "#fb9f3a"
             ],
             [
              0.8888888888888888,
              "#fdca26"
             ],
             [
              1,
              "#f0f921"
             ]
            ],
            "type": "heatmap"
           }
          ],
          "heatmapgl": [
           {
            "colorbar": {
             "outlinewidth": 0,
             "ticks": ""
            },
            "colorscale": [
             [
              0,
              "#0d0887"
             ],
             [
              0.1111111111111111,
              "#46039f"
             ],
             [
              0.2222222222222222,
              "#7201a8"
             ],
             [
              0.3333333333333333,
              "#9c179e"
             ],
             [
              0.4444444444444444,
              "#bd3786"
             ],
             [
              0.5555555555555556,
              "#d8576b"
             ],
             [
              0.6666666666666666,
              "#ed7953"
             ],
             [
              0.7777777777777778,
              "#fb9f3a"
             ],
             [
              0.8888888888888888,
              "#fdca26"
             ],
             [
              1,
              "#f0f921"
             ]
            ],
            "type": "heatmapgl"
           }
          ],
          "histogram": [
           {
            "marker": {
             "colorbar": {
              "outlinewidth": 0,
              "ticks": ""
             }
            },
            "type": "histogram"
           }
          ],
          "histogram2d": [
           {
            "colorbar": {
             "outlinewidth": 0,
             "ticks": ""
            },
            "colorscale": [
             [
              0,
              "#0d0887"
             ],
             [
              0.1111111111111111,
              "#46039f"
             ],
             [
              0.2222222222222222,
              "#7201a8"
             ],
             [
              0.3333333333333333,
              "#9c179e"
             ],
             [
              0.4444444444444444,
              "#bd3786"
             ],
             [
              0.5555555555555556,
              "#d8576b"
             ],
             [
              0.6666666666666666,
              "#ed7953"
             ],
             [
              0.7777777777777778,
              "#fb9f3a"
             ],
             [
              0.8888888888888888,
              "#fdca26"
             ],
             [
              1,
              "#f0f921"
             ]
            ],
            "type": "histogram2d"
           }
          ],
          "histogram2dcontour": [
           {
            "colorbar": {
             "outlinewidth": 0,
             "ticks": ""
            },
            "colorscale": [
             [
              0,
              "#0d0887"
             ],
             [
              0.1111111111111111,
              "#46039f"
             ],
             [
              0.2222222222222222,
              "#7201a8"
             ],
             [
              0.3333333333333333,
              "#9c179e"
             ],
             [
              0.4444444444444444,
              "#bd3786"
             ],
             [
              0.5555555555555556,
              "#d8576b"
             ],
             [
              0.6666666666666666,
              "#ed7953"
             ],
             [
              0.7777777777777778,
              "#fb9f3a"
             ],
             [
              0.8888888888888888,
              "#fdca26"
             ],
             [
              1,
              "#f0f921"
             ]
            ],
            "type": "histogram2dcontour"
           }
          ],
          "mesh3d": [
           {
            "colorbar": {
             "outlinewidth": 0,
             "ticks": ""
            },
            "type": "mesh3d"
           }
          ],
          "parcoords": [
           {
            "line": {
             "colorbar": {
              "outlinewidth": 0,
              "ticks": ""
             }
            },
            "type": "parcoords"
           }
          ],
          "pie": [
           {
            "automargin": true,
            "type": "pie"
           }
          ],
          "scatter": [
           {
            "marker": {
             "colorbar": {
              "outlinewidth": 0,
              "ticks": ""
             }
            },
            "type": "scatter"
           }
          ],
          "scatter3d": [
           {
            "line": {
             "colorbar": {
              "outlinewidth": 0,
              "ticks": ""
             }
            },
            "marker": {
             "colorbar": {
              "outlinewidth": 0,
              "ticks": ""
             }
            },
            "type": "scatter3d"
           }
          ],
          "scattercarpet": [
           {
            "marker": {
             "colorbar": {
              "outlinewidth": 0,
              "ticks": ""
             }
            },
            "type": "scattercarpet"
           }
          ],
          "scattergeo": [
           {
            "marker": {
             "colorbar": {
              "outlinewidth": 0,
              "ticks": ""
             }
            },
            "type": "scattergeo"
           }
          ],
          "scattergl": [
           {
            "marker": {
             "colorbar": {
              "outlinewidth": 0,
              "ticks": ""
             }
            },
            "type": "scattergl"
           }
          ],
          "scattermapbox": [
           {
            "marker": {
             "colorbar": {
              "outlinewidth": 0,
              "ticks": ""
             }
            },
            "type": "scattermapbox"
           }
          ],
          "scatterpolar": [
           {
            "marker": {
             "colorbar": {
              "outlinewidth": 0,
              "ticks": ""
             }
            },
            "type": "scatterpolar"
           }
          ],
          "scatterpolargl": [
           {
            "marker": {
             "colorbar": {
              "outlinewidth": 0,
              "ticks": ""
             }
            },
            "type": "scatterpolargl"
           }
          ],
          "scatterternary": [
           {
            "marker": {
             "colorbar": {
              "outlinewidth": 0,
              "ticks": ""
             }
            },
            "type": "scatterternary"
           }
          ],
          "surface": [
           {
            "colorbar": {
             "outlinewidth": 0,
             "ticks": ""
            },
            "colorscale": [
             [
              0,
              "#0d0887"
             ],
             [
              0.1111111111111111,
              "#46039f"
             ],
             [
              0.2222222222222222,
              "#7201a8"
             ],
             [
              0.3333333333333333,
              "#9c179e"
             ],
             [
              0.4444444444444444,
              "#bd3786"
             ],
             [
              0.5555555555555556,
              "#d8576b"
             ],
             [
              0.6666666666666666,
              "#ed7953"
             ],
             [
              0.7777777777777778,
              "#fb9f3a"
             ],
             [
              0.8888888888888888,
              "#fdca26"
             ],
             [
              1,
              "#f0f921"
             ]
            ],
            "type": "surface"
           }
          ],
          "table": [
           {
            "cells": {
             "fill": {
              "color": "#EBF0F8"
             },
             "line": {
              "color": "white"
             }
            },
            "header": {
             "fill": {
              "color": "#C8D4E3"
             },
             "line": {
              "color": "white"
             }
            },
            "type": "table"
           }
          ]
         },
         "layout": {
          "annotationdefaults": {
           "arrowcolor": "#2a3f5f",
           "arrowhead": 0,
           "arrowwidth": 1
          },
          "autotypenumbers": "strict",
          "coloraxis": {
           "colorbar": {
            "outlinewidth": 0,
            "ticks": ""
           }
          },
          "colorscale": {
           "diverging": [
            [
             0,
             "#8e0152"
            ],
            [
             0.1,
             "#c51b7d"
            ],
            [
             0.2,
             "#de77ae"
            ],
            [
             0.3,
             "#f1b6da"
            ],
            [
             0.4,
             "#fde0ef"
            ],
            [
             0.5,
             "#f7f7f7"
            ],
            [
             0.6,
             "#e6f5d0"
            ],
            [
             0.7,
             "#b8e186"
            ],
            [
             0.8,
             "#7fbc41"
            ],
            [
             0.9,
             "#4d9221"
            ],
            [
             1,
             "#276419"
            ]
           ],
           "sequential": [
            [
             0,
             "#0d0887"
            ],
            [
             0.1111111111111111,
             "#46039f"
            ],
            [
             0.2222222222222222,
             "#7201a8"
            ],
            [
             0.3333333333333333,
             "#9c179e"
            ],
            [
             0.4444444444444444,
             "#bd3786"
            ],
            [
             0.5555555555555556,
             "#d8576b"
            ],
            [
             0.6666666666666666,
             "#ed7953"
            ],
            [
             0.7777777777777778,
             "#fb9f3a"
            ],
            [
             0.8888888888888888,
             "#fdca26"
            ],
            [
             1,
             "#f0f921"
            ]
           ],
           "sequentialminus": [
            [
             0,
             "#0d0887"
            ],
            [
             0.1111111111111111,
             "#46039f"
            ],
            [
             0.2222222222222222,
             "#7201a8"
            ],
            [
             0.3333333333333333,
             "#9c179e"
            ],
            [
             0.4444444444444444,
             "#bd3786"
            ],
            [
             0.5555555555555556,
             "#d8576b"
            ],
            [
             0.6666666666666666,
             "#ed7953"
            ],
            [
             0.7777777777777778,
             "#fb9f3a"
            ],
            [
             0.8888888888888888,
             "#fdca26"
            ],
            [
             1,
             "#f0f921"
            ]
           ]
          },
          "colorway": [
           "#636efa",
           "#EF553B",
           "#00cc96",
           "#ab63fa",
           "#FFA15A",
           "#19d3f3",
           "#FF6692",
           "#B6E880",
           "#FF97FF",
           "#FECB52"
          ],
          "font": {
           "color": "#2a3f5f"
          },
          "geo": {
           "bgcolor": "white",
           "lakecolor": "white",
           "landcolor": "#E5ECF6",
           "showlakes": true,
           "showland": true,
           "subunitcolor": "white"
          },
          "hoverlabel": {
           "align": "left"
          },
          "hovermode": "closest",
          "mapbox": {
           "style": "light"
          },
          "paper_bgcolor": "white",
          "plot_bgcolor": "#E5ECF6",
          "polar": {
           "angularaxis": {
            "gridcolor": "white",
            "linecolor": "white",
            "ticks": ""
           },
           "bgcolor": "#E5ECF6",
           "radialaxis": {
            "gridcolor": "white",
            "linecolor": "white",
            "ticks": ""
           }
          },
          "scene": {
           "xaxis": {
            "backgroundcolor": "#E5ECF6",
            "gridcolor": "white",
            "gridwidth": 2,
            "linecolor": "white",
            "showbackground": true,
            "ticks": "",
            "zerolinecolor": "white"
           },
           "yaxis": {
            "backgroundcolor": "#E5ECF6",
            "gridcolor": "white",
            "gridwidth": 2,
            "linecolor": "white",
            "showbackground": true,
            "ticks": "",
            "zerolinecolor": "white"
           },
           "zaxis": {
            "backgroundcolor": "#E5ECF6",
            "gridcolor": "white",
            "gridwidth": 2,
            "linecolor": "white",
            "showbackground": true,
            "ticks": "",
            "zerolinecolor": "white"
           }
          },
          "shapedefaults": {
           "line": {
            "color": "#2a3f5f"
           }
          },
          "ternary": {
           "aaxis": {
            "gridcolor": "white",
            "linecolor": "white",
            "ticks": ""
           },
           "baxis": {
            "gridcolor": "white",
            "linecolor": "white",
            "ticks": ""
           },
           "bgcolor": "#E5ECF6",
           "caxis": {
            "gridcolor": "white",
            "linecolor": "white",
            "ticks": ""
           }
          },
          "title": {
           "x": 0.05
          },
          "xaxis": {
           "automargin": true,
           "gridcolor": "white",
           "linecolor": "white",
           "ticks": "",
           "title": {
            "standoff": 15
           },
           "zerolinecolor": "white",
           "zerolinewidth": 2
          },
          "yaxis": {
           "automargin": true,
           "gridcolor": "white",
           "linecolor": "white",
           "ticks": "",
           "title": {
            "standoff": 15
           },
           "zerolinecolor": "white",
           "zerolinewidth": 2
          }
         }
        },
        "title": {
         "text": "General Analysis on the Tesla's quotes "
        },
        "xaxis": {
         "anchor": "y",
         "domain": [
          0,
          1
         ]
        },
        "xaxis2": {
         "anchor": "y2",
         "domain": [
          0,
          1
         ]
        },
        "yaxis": {
         "anchor": "x",
         "domain": [
          0.4,
          1
         ]
        },
        "yaxis2": {
         "anchor": "x2",
         "domain": [
          0,
          0.3
         ]
        }
       }
      }
     },
     "metadata": {},
     "output_type": "display_data"
    }
   ],
   "source": [
    "df_tesla_plot = df_tesla.groupby(by='year_month').mean().reset_index()\n",
    "df_tesla_plot_review = df_tesla_plot[['year_month','Vader_Sentiment']]\n",
    "df_tesla_plot_review['count_'] = df_tesla.groupby(by='year_month').count().reset_index()['date']\n",
    "\n",
    "fig = make_subplots(rows=2, cols=1, row_heights=[2, 1],vertical_spacing=0.1)\n",
    "fig.add_trace(go.Bar(x=df_tesla_plot_review.year_month, y=df_tesla_plot_review.count_,name=\"Number of quotes groupy by months\"),row=1, col=1)\n",
    "fig.add_trace(go.Scatter(x=df_tesla_plot_review.year_month, y=df_tesla_plot_review.Vader_Sentiment,name=\"Vader sentiment score by month (mean)\"),row=2, col=1)\n",
    "fig.update_layout(\n",
    "    title=\"General Analysis on the Tesla's quotes \")\n",
    "fig.show()"
   ]
  },
  {
   "cell_type": "code",
   "execution_count": 129,
   "metadata": {},
   "outputs": [
    {
     "data": {
      "application/vnd.plotly.v1+json": {
       "config": {
        "plotlyServerURL": "https://plot.ly"
       },
       "data": [
        {
         "name": "Number of quotes groupy by months",
         "type": "bar",
         "x": [
          "2015-01-01T00:00:00",
          "2015-02-01T00:00:00",
          "2015-03-01T00:00:00",
          "2015-04-01T00:00:00",
          "2015-05-01T00:00:00",
          "2015-06-01T00:00:00",
          "2015-07-01T00:00:00",
          "2015-08-01T00:00:00",
          "2015-09-01T00:00:00",
          "2015-10-01T00:00:00",
          "2015-11-01T00:00:00",
          "2015-12-01T00:00:00",
          "2016-01-01T00:00:00",
          "2016-02-01T00:00:00",
          "2016-03-01T00:00:00",
          "2016-04-01T00:00:00",
          "2016-05-01T00:00:00",
          "2016-06-01T00:00:00",
          "2016-07-01T00:00:00",
          "2016-08-01T00:00:00",
          "2016-09-01T00:00:00",
          "2016-10-01T00:00:00",
          "2016-11-01T00:00:00",
          "2016-12-01T00:00:00",
          "2017-01-01T00:00:00",
          "2017-02-01T00:00:00",
          "2017-03-01T00:00:00",
          "2017-04-01T00:00:00",
          "2017-05-01T00:00:00",
          "2017-06-01T00:00:00",
          "2017-07-01T00:00:00",
          "2017-08-01T00:00:00",
          "2017-09-01T00:00:00",
          "2017-10-01T00:00:00",
          "2017-11-01T00:00:00",
          "2017-12-01T00:00:00",
          "2018-01-01T00:00:00",
          "2018-02-01T00:00:00",
          "2018-03-01T00:00:00",
          "2018-04-01T00:00:00",
          "2018-05-01T00:00:00",
          "2018-06-01T00:00:00",
          "2018-07-01T00:00:00",
          "2018-08-01T00:00:00",
          "2018-09-01T00:00:00",
          "2018-10-01T00:00:00",
          "2018-11-01T00:00:00",
          "2018-12-01T00:00:00",
          "2019-01-01T00:00:00",
          "2019-02-01T00:00:00",
          "2019-03-01T00:00:00",
          "2019-04-01T00:00:00",
          "2019-05-01T00:00:00",
          "2019-06-01T00:00:00",
          "2019-07-01T00:00:00",
          "2019-08-01T00:00:00",
          "2019-09-01T00:00:00",
          "2019-10-01T00:00:00",
          "2019-11-01T00:00:00",
          "2019-12-01T00:00:00",
          "2020-01-01T00:00:00",
          "2020-02-01T00:00:00",
          "2020-03-01T00:00:00",
          "2020-04-01T00:00:00"
         ],
         "xaxis": "x",
         "y": [
          100,
          93,
          122,
          122,
          70,
          53,
          70,
          101,
          109,
          119,
          93,
          81,
          5,
          93,
          4,
          44,
          120,
          4,
          121,
          102,
          113,
          3,
          3,
          97,
          14,
          53,
          152,
          150,
          124,
          136,
          140,
          165,
          195,
          170,
          142,
          87,
          192,
          122,
          132,
          138,
          129,
          125,
          138,
          128,
          89,
          102,
          106,
          57,
          102,
          86,
          136,
          99,
          124,
          111,
          55,
          82,
          113,
          99,
          67,
          62,
          83,
          62,
          52,
          19
         ],
         "yaxis": "y"
        },
        {
         "name": "Vader sentiment score by month (mean)",
         "type": "scatter",
         "x": [
          "2015-01-01T00:00:00",
          "2015-02-01T00:00:00",
          "2015-03-01T00:00:00",
          "2015-04-01T00:00:00",
          "2015-05-01T00:00:00",
          "2015-06-01T00:00:00",
          "2015-07-01T00:00:00",
          "2015-08-01T00:00:00",
          "2015-09-01T00:00:00",
          "2015-10-01T00:00:00",
          "2015-11-01T00:00:00",
          "2015-12-01T00:00:00",
          "2016-01-01T00:00:00",
          "2016-02-01T00:00:00",
          "2016-03-01T00:00:00",
          "2016-04-01T00:00:00",
          "2016-05-01T00:00:00",
          "2016-06-01T00:00:00",
          "2016-07-01T00:00:00",
          "2016-08-01T00:00:00",
          "2016-09-01T00:00:00",
          "2016-10-01T00:00:00",
          "2016-11-01T00:00:00",
          "2016-12-01T00:00:00",
          "2017-01-01T00:00:00",
          "2017-02-01T00:00:00",
          "2017-03-01T00:00:00",
          "2017-04-01T00:00:00",
          "2017-05-01T00:00:00",
          "2017-06-01T00:00:00",
          "2017-07-01T00:00:00",
          "2017-08-01T00:00:00",
          "2017-09-01T00:00:00",
          "2017-10-01T00:00:00",
          "2017-11-01T00:00:00",
          "2017-12-01T00:00:00",
          "2018-01-01T00:00:00",
          "2018-02-01T00:00:00",
          "2018-03-01T00:00:00",
          "2018-04-01T00:00:00",
          "2018-05-01T00:00:00",
          "2018-06-01T00:00:00",
          "2018-07-01T00:00:00",
          "2018-08-01T00:00:00",
          "2018-09-01T00:00:00",
          "2018-10-01T00:00:00",
          "2018-11-01T00:00:00",
          "2018-12-01T00:00:00",
          "2019-01-01T00:00:00",
          "2019-02-01T00:00:00",
          "2019-03-01T00:00:00",
          "2019-04-01T00:00:00",
          "2019-05-01T00:00:00",
          "2019-06-01T00:00:00",
          "2019-07-01T00:00:00",
          "2019-08-01T00:00:00",
          "2019-09-01T00:00:00",
          "2019-10-01T00:00:00",
          "2019-11-01T00:00:00",
          "2019-12-01T00:00:00",
          "2020-01-01T00:00:00",
          "2020-02-01T00:00:00",
          "2020-03-01T00:00:00",
          "2020-04-01T00:00:00"
         ],
         "xaxis": "x2",
         "y": [
          0.36143600000000015,
          0.38701182795698924,
          0.34949262295081973,
          0.41573524590163935,
          0.3616828571428571,
          0.4808377358490567,
          0.40260857142857137,
          0.4185069306930694,
          0.4259825688073395,
          0.25917815126050414,
          0.366994623655914,
          0.2930580246913581,
          -0.15022,
          0.34374946236559156,
          0.5145,
          0.352425,
          0.4282,
          0.3145,
          0.45838347107438027,
          0.4624529411764705,
          0.4993194690265488,
          0.21989999999999998,
          0.47480000000000006,
          0.3847216494845362,
          0.32002142857142857,
          0.45164339622641525,
          0.48413289473684173,
          0.38852133333333344,
          0.3965806451612903,
          0.34802647058823516,
          0.41591,
          0.4182006060606059,
          0.4025302564102563,
          0.3681288235294115,
          0.35776971830985893,
          0.24194482758620697,
          0.38559739583333313,
          0.4316598360655738,
          0.39186363636363625,
          0.4141826086956522,
          0.39049224806201555,
          0.39134079999999993,
          0.40973623188405794,
          0.4015687500000001,
          0.38836067415730335,
          0.42945392156862744,
          0.4435084905660376,
          0.33956315789473684,
          0.4459117647058821,
          0.43226976744186024,
          0.521072794117647,
          0.32536464646464647,
          0.37448225806451607,
          0.3739369369369369,
          0.4474672727272728,
          0.4403182926829268,
          0.48686637168141605,
          0.34286969696969705,
          0.40237164179104484,
          0.48781129032258075,
          0.47146746987951815,
          0.5144064516129033,
          0.380748076923077,
          0.3022842105263159
         ],
         "yaxis": "y2"
        }
       ],
       "layout": {
        "template": {
         "data": {
          "bar": [
           {
            "error_x": {
             "color": "#2a3f5f"
            },
            "error_y": {
             "color": "#2a3f5f"
            },
            "marker": {
             "line": {
              "color": "#E5ECF6",
              "width": 0.5
             }
            },
            "type": "bar"
           }
          ],
          "barpolar": [
           {
            "marker": {
             "line": {
              "color": "#E5ECF6",
              "width": 0.5
             }
            },
            "type": "barpolar"
           }
          ],
          "carpet": [
           {
            "aaxis": {
             "endlinecolor": "#2a3f5f",
             "gridcolor": "white",
             "linecolor": "white",
             "minorgridcolor": "white",
             "startlinecolor": "#2a3f5f"
            },
            "baxis": {
             "endlinecolor": "#2a3f5f",
             "gridcolor": "white",
             "linecolor": "white",
             "minorgridcolor": "white",
             "startlinecolor": "#2a3f5f"
            },
            "type": "carpet"
           }
          ],
          "choropleth": [
           {
            "colorbar": {
             "outlinewidth": 0,
             "ticks": ""
            },
            "type": "choropleth"
           }
          ],
          "contour": [
           {
            "colorbar": {
             "outlinewidth": 0,
             "ticks": ""
            },
            "colorscale": [
             [
              0,
              "#0d0887"
             ],
             [
              0.1111111111111111,
              "#46039f"
             ],
             [
              0.2222222222222222,
              "#7201a8"
             ],
             [
              0.3333333333333333,
              "#9c179e"
             ],
             [
              0.4444444444444444,
              "#bd3786"
             ],
             [
              0.5555555555555556,
              "#d8576b"
             ],
             [
              0.6666666666666666,
              "#ed7953"
             ],
             [
              0.7777777777777778,
              "#fb9f3a"
             ],
             [
              0.8888888888888888,
              "#fdca26"
             ],
             [
              1,
              "#f0f921"
             ]
            ],
            "type": "contour"
           }
          ],
          "contourcarpet": [
           {
            "colorbar": {
             "outlinewidth": 0,
             "ticks": ""
            },
            "type": "contourcarpet"
           }
          ],
          "heatmap": [
           {
            "colorbar": {
             "outlinewidth": 0,
             "ticks": ""
            },
            "colorscale": [
             [
              0,
              "#0d0887"
             ],
             [
              0.1111111111111111,
              "#46039f"
             ],
             [
              0.2222222222222222,
              "#7201a8"
             ],
             [
              0.3333333333333333,
              "#9c179e"
             ],
             [
              0.4444444444444444,
              "#bd3786"
             ],
             [
              0.5555555555555556,
              "#d8576b"
             ],
             [
              0.6666666666666666,
              "#ed7953"
             ],
             [
              0.7777777777777778,
              "#fb9f3a"
             ],
             [
              0.8888888888888888,
              "#fdca26"
             ],
             [
              1,
              "#f0f921"
             ]
            ],
            "type": "heatmap"
           }
          ],
          "heatmapgl": [
           {
            "colorbar": {
             "outlinewidth": 0,
             "ticks": ""
            },
            "colorscale": [
             [
              0,
              "#0d0887"
             ],
             [
              0.1111111111111111,
              "#46039f"
             ],
             [
              0.2222222222222222,
              "#7201a8"
             ],
             [
              0.3333333333333333,
              "#9c179e"
             ],
             [
              0.4444444444444444,
              "#bd3786"
             ],
             [
              0.5555555555555556,
              "#d8576b"
             ],
             [
              0.6666666666666666,
              "#ed7953"
             ],
             [
              0.7777777777777778,
              "#fb9f3a"
             ],
             [
              0.8888888888888888,
              "#fdca26"
             ],
             [
              1,
              "#f0f921"
             ]
            ],
            "type": "heatmapgl"
           }
          ],
          "histogram": [
           {
            "marker": {
             "colorbar": {
              "outlinewidth": 0,
              "ticks": ""
             }
            },
            "type": "histogram"
           }
          ],
          "histogram2d": [
           {
            "colorbar": {
             "outlinewidth": 0,
             "ticks": ""
            },
            "colorscale": [
             [
              0,
              "#0d0887"
             ],
             [
              0.1111111111111111,
              "#46039f"
             ],
             [
              0.2222222222222222,
              "#7201a8"
             ],
             [
              0.3333333333333333,
              "#9c179e"
             ],
             [
              0.4444444444444444,
              "#bd3786"
             ],
             [
              0.5555555555555556,
              "#d8576b"
             ],
             [
              0.6666666666666666,
              "#ed7953"
             ],
             [
              0.7777777777777778,
              "#fb9f3a"
             ],
             [
              0.8888888888888888,
              "#fdca26"
             ],
             [
              1,
              "#f0f921"
             ]
            ],
            "type": "histogram2d"
           }
          ],
          "histogram2dcontour": [
           {
            "colorbar": {
             "outlinewidth": 0,
             "ticks": ""
            },
            "colorscale": [
             [
              0,
              "#0d0887"
             ],
             [
              0.1111111111111111,
              "#46039f"
             ],
             [
              0.2222222222222222,
              "#7201a8"
             ],
             [
              0.3333333333333333,
              "#9c179e"
             ],
             [
              0.4444444444444444,
              "#bd3786"
             ],
             [
              0.5555555555555556,
              "#d8576b"
             ],
             [
              0.6666666666666666,
              "#ed7953"
             ],
             [
              0.7777777777777778,
              "#fb9f3a"
             ],
             [
              0.8888888888888888,
              "#fdca26"
             ],
             [
              1,
              "#f0f921"
             ]
            ],
            "type": "histogram2dcontour"
           }
          ],
          "mesh3d": [
           {
            "colorbar": {
             "outlinewidth": 0,
             "ticks": ""
            },
            "type": "mesh3d"
           }
          ],
          "parcoords": [
           {
            "line": {
             "colorbar": {
              "outlinewidth": 0,
              "ticks": ""
             }
            },
            "type": "parcoords"
           }
          ],
          "pie": [
           {
            "automargin": true,
            "type": "pie"
           }
          ],
          "scatter": [
           {
            "marker": {
             "colorbar": {
              "outlinewidth": 0,
              "ticks": ""
             }
            },
            "type": "scatter"
           }
          ],
          "scatter3d": [
           {
            "line": {
             "colorbar": {
              "outlinewidth": 0,
              "ticks": ""
             }
            },
            "marker": {
             "colorbar": {
              "outlinewidth": 0,
              "ticks": ""
             }
            },
            "type": "scatter3d"
           }
          ],
          "scattercarpet": [
           {
            "marker": {
             "colorbar": {
              "outlinewidth": 0,
              "ticks": ""
             }
            },
            "type": "scattercarpet"
           }
          ],
          "scattergeo": [
           {
            "marker": {
             "colorbar": {
              "outlinewidth": 0,
              "ticks": ""
             }
            },
            "type": "scattergeo"
           }
          ],
          "scattergl": [
           {
            "marker": {
             "colorbar": {
              "outlinewidth": 0,
              "ticks": ""
             }
            },
            "type": "scattergl"
           }
          ],
          "scattermapbox": [
           {
            "marker": {
             "colorbar": {
              "outlinewidth": 0,
              "ticks": ""
             }
            },
            "type": "scattermapbox"
           }
          ],
          "scatterpolar": [
           {
            "marker": {
             "colorbar": {
              "outlinewidth": 0,
              "ticks": ""
             }
            },
            "type": "scatterpolar"
           }
          ],
          "scatterpolargl": [
           {
            "marker": {
             "colorbar": {
              "outlinewidth": 0,
              "ticks": ""
             }
            },
            "type": "scatterpolargl"
           }
          ],
          "scatterternary": [
           {
            "marker": {
             "colorbar": {
              "outlinewidth": 0,
              "ticks": ""
             }
            },
            "type": "scatterternary"
           }
          ],
          "surface": [
           {
            "colorbar": {
             "outlinewidth": 0,
             "ticks": ""
            },
            "colorscale": [
             [
              0,
              "#0d0887"
             ],
             [
              0.1111111111111111,
              "#46039f"
             ],
             [
              0.2222222222222222,
              "#7201a8"
             ],
             [
              0.3333333333333333,
              "#9c179e"
             ],
             [
              0.4444444444444444,
              "#bd3786"
             ],
             [
              0.5555555555555556,
              "#d8576b"
             ],
             [
              0.6666666666666666,
              "#ed7953"
             ],
             [
              0.7777777777777778,
              "#fb9f3a"
             ],
             [
              0.8888888888888888,
              "#fdca26"
             ],
             [
              1,
              "#f0f921"
             ]
            ],
            "type": "surface"
           }
          ],
          "table": [
           {
            "cells": {
             "fill": {
              "color": "#EBF0F8"
             },
             "line": {
              "color": "white"
             }
            },
            "header": {
             "fill": {
              "color": "#C8D4E3"
             },
             "line": {
              "color": "white"
             }
            },
            "type": "table"
           }
          ]
         },
         "layout": {
          "annotationdefaults": {
           "arrowcolor": "#2a3f5f",
           "arrowhead": 0,
           "arrowwidth": 1
          },
          "autotypenumbers": "strict",
          "coloraxis": {
           "colorbar": {
            "outlinewidth": 0,
            "ticks": ""
           }
          },
          "colorscale": {
           "diverging": [
            [
             0,
             "#8e0152"
            ],
            [
             0.1,
             "#c51b7d"
            ],
            [
             0.2,
             "#de77ae"
            ],
            [
             0.3,
             "#f1b6da"
            ],
            [
             0.4,
             "#fde0ef"
            ],
            [
             0.5,
             "#f7f7f7"
            ],
            [
             0.6,
             "#e6f5d0"
            ],
            [
             0.7,
             "#b8e186"
            ],
            [
             0.8,
             "#7fbc41"
            ],
            [
             0.9,
             "#4d9221"
            ],
            [
             1,
             "#276419"
            ]
           ],
           "sequential": [
            [
             0,
             "#0d0887"
            ],
            [
             0.1111111111111111,
             "#46039f"
            ],
            [
             0.2222222222222222,
             "#7201a8"
            ],
            [
             0.3333333333333333,
             "#9c179e"
            ],
            [
             0.4444444444444444,
             "#bd3786"
            ],
            [
             0.5555555555555556,
             "#d8576b"
            ],
            [
             0.6666666666666666,
             "#ed7953"
            ],
            [
             0.7777777777777778,
             "#fb9f3a"
            ],
            [
             0.8888888888888888,
             "#fdca26"
            ],
            [
             1,
             "#f0f921"
            ]
           ],
           "sequentialminus": [
            [
             0,
             "#0d0887"
            ],
            [
             0.1111111111111111,
             "#46039f"
            ],
            [
             0.2222222222222222,
             "#7201a8"
            ],
            [
             0.3333333333333333,
             "#9c179e"
            ],
            [
             0.4444444444444444,
             "#bd3786"
            ],
            [
             0.5555555555555556,
             "#d8576b"
            ],
            [
             0.6666666666666666,
             "#ed7953"
            ],
            [
             0.7777777777777778,
             "#fb9f3a"
            ],
            [
             0.8888888888888888,
             "#fdca26"
            ],
            [
             1,
             "#f0f921"
            ]
           ]
          },
          "colorway": [
           "#636efa",
           "#EF553B",
           "#00cc96",
           "#ab63fa",
           "#FFA15A",
           "#19d3f3",
           "#FF6692",
           "#B6E880",
           "#FF97FF",
           "#FECB52"
          ],
          "font": {
           "color": "#2a3f5f"
          },
          "geo": {
           "bgcolor": "white",
           "lakecolor": "white",
           "landcolor": "#E5ECF6",
           "showlakes": true,
           "showland": true,
           "subunitcolor": "white"
          },
          "hoverlabel": {
           "align": "left"
          },
          "hovermode": "closest",
          "mapbox": {
           "style": "light"
          },
          "paper_bgcolor": "white",
          "plot_bgcolor": "#E5ECF6",
          "polar": {
           "angularaxis": {
            "gridcolor": "white",
            "linecolor": "white",
            "ticks": ""
           },
           "bgcolor": "#E5ECF6",
           "radialaxis": {
            "gridcolor": "white",
            "linecolor": "white",
            "ticks": ""
           }
          },
          "scene": {
           "xaxis": {
            "backgroundcolor": "#E5ECF6",
            "gridcolor": "white",
            "gridwidth": 2,
            "linecolor": "white",
            "showbackground": true,
            "ticks": "",
            "zerolinecolor": "white"
           },
           "yaxis": {
            "backgroundcolor": "#E5ECF6",
            "gridcolor": "white",
            "gridwidth": 2,
            "linecolor": "white",
            "showbackground": true,
            "ticks": "",
            "zerolinecolor": "white"
           },
           "zaxis": {
            "backgroundcolor": "#E5ECF6",
            "gridcolor": "white",
            "gridwidth": 2,
            "linecolor": "white",
            "showbackground": true,
            "ticks": "",
            "zerolinecolor": "white"
           }
          },
          "shapedefaults": {
           "line": {
            "color": "#2a3f5f"
           }
          },
          "ternary": {
           "aaxis": {
            "gridcolor": "white",
            "linecolor": "white",
            "ticks": ""
           },
           "baxis": {
            "gridcolor": "white",
            "linecolor": "white",
            "ticks": ""
           },
           "bgcolor": "#E5ECF6",
           "caxis": {
            "gridcolor": "white",
            "linecolor": "white",
            "ticks": ""
           }
          },
          "title": {
           "x": 0.05
          },
          "xaxis": {
           "automargin": true,
           "gridcolor": "white",
           "linecolor": "white",
           "ticks": "",
           "title": {
            "standoff": 15
           },
           "zerolinecolor": "white",
           "zerolinewidth": 2
          },
          "yaxis": {
           "automargin": true,
           "gridcolor": "white",
           "linecolor": "white",
           "ticks": "",
           "title": {
            "standoff": 15
           },
           "zerolinecolor": "white",
           "zerolinewidth": 2
          }
         }
        },
        "title": {
         "text": "General Analysis on the Toyota's quotes "
        },
        "xaxis": {
         "anchor": "y",
         "domain": [
          0,
          1
         ]
        },
        "xaxis2": {
         "anchor": "y2",
         "domain": [
          0,
          1
         ]
        },
        "yaxis": {
         "anchor": "x",
         "domain": [
          0.4,
          1
         ]
        },
        "yaxis2": {
         "anchor": "x2",
         "domain": [
          0,
          0.3
         ]
        }
       }
      }
     },
     "metadata": {},
     "output_type": "display_data"
    }
   ],
   "source": [
    "df_toyota_plot = df_toyota.groupby(by='year_month').mean().reset_index()\n",
    "df_toyota_plot_review = df_toyota_plot[['year_month','Vader_Sentiment']]\n",
    "df_toyota_plot_review['count_'] = df_toyota.groupby(by='year_month').count().reset_index()['date']\n",
    "\n",
    "fig = make_subplots(rows=2, cols=1, row_heights=[2, 1],vertical_spacing=0.1)\n",
    "fig.add_trace(go.Bar(x=df_toyota_plot_review.year_month, y=df_toyota_plot_review.count_,name=\"Number of quotes groupy by months\"),row=1, col=1)\n",
    "fig.add_trace(go.Scatter(x=df_toyota_plot_review.year_month, y=df_toyota_plot_review.Vader_Sentiment,name=\"Vader sentiment score by month (mean)\"),row=2, col=1)\n",
    "fig.update_layout(\n",
    "    title=\"General Analysis on the Toyota's quotes \")\n",
    "fig.show()"
   ]
  },
  {
   "cell_type": "code",
   "execution_count": 130,
   "metadata": {},
   "outputs": [],
   "source": [
    "def find_review_event(sortie, df, n_day,num_day_event):\n",
    "    df['year_month_day']= df['date'].apply(lambda x :datetime.strptime(str(x)[:10], '%Y-%m-%d'))\n",
    "    start_event = sortie - dt(days=num_day_event)\n",
    "    end_event = sortie + dt(days=num_day_event)\n",
    "    n_days_ago = sortie - dt(days=n_day+num_day_event)\n",
    "    n_days_after = sortie + dt(days=n_day+num_day_event)\n",
    "    \n",
    "    df_event = df[(df.year_month_day <= end_event) & (df.year_month_day >= start_event)]\n",
    "    df_event['type'] = ['during']*df_event.shape[0]\n",
    "    df_before_event = df[(df.year_month_day < start_event) & (df.year_month_day > n_days_ago)]\n",
    "    df_before_event['type'] = ['before']*df_before_event.shape[0]\n",
    "    df_after_event = df[(df.year_month_day < n_days_after) & (df.year_month_day > end_event)]\n",
    "    df_after_event['type'] = ['after']*df_after_event.shape[0]\n",
    "    \n",
    "    return pd.concat([df_before_event, df_event, df_after_event])"
   ]
  },
  {
   "cell_type": "markdown",
   "metadata": {},
   "source": [
    "## BoxPlot Event"
   ]
  },
  {
   "cell_type": "markdown",
   "metadata": {},
   "source": [
    "### Chevrolet"
   ]
  },
  {
   "cell_type": "code",
   "execution_count": 114,
   "metadata": {},
   "outputs": [
    {
     "data": {
      "application/vnd.plotly.v1+json": {
       "config": {
        "plotlyServerURL": "https://plot.ly"
       },
       "data": [
        {
         "alignmentgroup": "True",
         "hovertemplate": "type=%{x}<br>Vader_Sentiment=%{y}<extra></extra>",
         "legendgroup": "",
         "marker": {
          "color": "#636efa"
         },
         "name": "",
         "notched": false,
         "offsetgroup": "",
         "orientation": "v",
         "quartilemethod": "exclusive",
         "showlegend": false,
         "type": "box",
         "x": [
          "before",
          "before",
          "before",
          "before",
          "before",
          "before",
          "before",
          "before",
          "before",
          "before",
          "before",
          "before",
          "before",
          "before",
          "before",
          "during",
          "during",
          "during",
          "during",
          "during",
          "during",
          "during",
          "during",
          "during",
          "during",
          "during",
          "during",
          "during",
          "during",
          "during",
          "during",
          "during",
          "during",
          "during",
          "during",
          "during",
          "during",
          "after",
          "after",
          "after",
          "after",
          "after",
          "after",
          "after",
          "after",
          "after",
          "after",
          "after",
          "after",
          "after",
          "after",
          "after",
          "after",
          "after",
          "after",
          "after",
          "after",
          "after",
          "after",
          "after",
          "after",
          "after",
          "after",
          "after",
          "after",
          "after",
          "after",
          "after",
          "after"
         ],
         "x0": " ",
         "xaxis": "x",
         "y": [
          0.9552,
          0.6486000000000001,
          0,
          0.9653,
          -0.5994,
          0.7269,
          -0.3612,
          0.7579,
          -0.874,
          0.8126,
          0.42150000000000004,
          0.8074,
          0.7096,
          -0.42150000000000004,
          0.296,
          0.886,
          0.296,
          0,
          0.8885000000000001,
          0,
          0,
          0.836,
          -0.2023,
          0.34,
          0.9118,
          0.4939,
          0.891,
          0.8687,
          0.5719000000000001,
          -0.8481000000000001,
          0.6808000000000001,
          -0.128,
          -0.128,
          0.9741000000000001,
          0,
          0.8126,
          -0.0516,
          0.975,
          0.6249,
          0.9927,
          0.8271000000000001,
          0,
          0.296,
          0.34,
          0.8934000000000001,
          0.8176,
          0.38180000000000003,
          0.9460000000000001,
          0.8933000000000001,
          0.45880000000000004,
          0.8271000000000001,
          0.5859,
          0.891,
          0.8834000000000001,
          0.4927,
          0.6597000000000001,
          0.296,
          0.9524,
          0.8008000000000001,
          0.8016000000000001,
          0.9169,
          0.9921000000000001,
          0.4576,
          0.9678,
          0,
          0.5719000000000001,
          0,
          0.8316,
          -0.4939
         ],
         "y0": " ",
         "yaxis": "y"
        }
       ],
       "layout": {
        "boxmode": "group",
        "legend": {
         "tracegroupgap": 0
        },
        "margin": {
         "t": 60
        },
        "template": {
         "data": {
          "bar": [
           {
            "error_x": {
             "color": "#2a3f5f"
            },
            "error_y": {
             "color": "#2a3f5f"
            },
            "marker": {
             "line": {
              "color": "#E5ECF6",
              "width": 0.5
             }
            },
            "type": "bar"
           }
          ],
          "barpolar": [
           {
            "marker": {
             "line": {
              "color": "#E5ECF6",
              "width": 0.5
             }
            },
            "type": "barpolar"
           }
          ],
          "carpet": [
           {
            "aaxis": {
             "endlinecolor": "#2a3f5f",
             "gridcolor": "white",
             "linecolor": "white",
             "minorgridcolor": "white",
             "startlinecolor": "#2a3f5f"
            },
            "baxis": {
             "endlinecolor": "#2a3f5f",
             "gridcolor": "white",
             "linecolor": "white",
             "minorgridcolor": "white",
             "startlinecolor": "#2a3f5f"
            },
            "type": "carpet"
           }
          ],
          "choropleth": [
           {
            "colorbar": {
             "outlinewidth": 0,
             "ticks": ""
            },
            "type": "choropleth"
           }
          ],
          "contour": [
           {
            "colorbar": {
             "outlinewidth": 0,
             "ticks": ""
            },
            "colorscale": [
             [
              0,
              "#0d0887"
             ],
             [
              0.1111111111111111,
              "#46039f"
             ],
             [
              0.2222222222222222,
              "#7201a8"
             ],
             [
              0.3333333333333333,
              "#9c179e"
             ],
             [
              0.4444444444444444,
              "#bd3786"
             ],
             [
              0.5555555555555556,
              "#d8576b"
             ],
             [
              0.6666666666666666,
              "#ed7953"
             ],
             [
              0.7777777777777778,
              "#fb9f3a"
             ],
             [
              0.8888888888888888,
              "#fdca26"
             ],
             [
              1,
              "#f0f921"
             ]
            ],
            "type": "contour"
           }
          ],
          "contourcarpet": [
           {
            "colorbar": {
             "outlinewidth": 0,
             "ticks": ""
            },
            "type": "contourcarpet"
           }
          ],
          "heatmap": [
           {
            "colorbar": {
             "outlinewidth": 0,
             "ticks": ""
            },
            "colorscale": [
             [
              0,
              "#0d0887"
             ],
             [
              0.1111111111111111,
              "#46039f"
             ],
             [
              0.2222222222222222,
              "#7201a8"
             ],
             [
              0.3333333333333333,
              "#9c179e"
             ],
             [
              0.4444444444444444,
              "#bd3786"
             ],
             [
              0.5555555555555556,
              "#d8576b"
             ],
             [
              0.6666666666666666,
              "#ed7953"
             ],
             [
              0.7777777777777778,
              "#fb9f3a"
             ],
             [
              0.8888888888888888,
              "#fdca26"
             ],
             [
              1,
              "#f0f921"
             ]
            ],
            "type": "heatmap"
           }
          ],
          "heatmapgl": [
           {
            "colorbar": {
             "outlinewidth": 0,
             "ticks": ""
            },
            "colorscale": [
             [
              0,
              "#0d0887"
             ],
             [
              0.1111111111111111,
              "#46039f"
             ],
             [
              0.2222222222222222,
              "#7201a8"
             ],
             [
              0.3333333333333333,
              "#9c179e"
             ],
             [
              0.4444444444444444,
              "#bd3786"
             ],
             [
              0.5555555555555556,
              "#d8576b"
             ],
             [
              0.6666666666666666,
              "#ed7953"
             ],
             [
              0.7777777777777778,
              "#fb9f3a"
             ],
             [
              0.8888888888888888,
              "#fdca26"
             ],
             [
              1,
              "#f0f921"
             ]
            ],
            "type": "heatmapgl"
           }
          ],
          "histogram": [
           {
            "marker": {
             "colorbar": {
              "outlinewidth": 0,
              "ticks": ""
             }
            },
            "type": "histogram"
           }
          ],
          "histogram2d": [
           {
            "colorbar": {
             "outlinewidth": 0,
             "ticks": ""
            },
            "colorscale": [
             [
              0,
              "#0d0887"
             ],
             [
              0.1111111111111111,
              "#46039f"
             ],
             [
              0.2222222222222222,
              "#7201a8"
             ],
             [
              0.3333333333333333,
              "#9c179e"
             ],
             [
              0.4444444444444444,
              "#bd3786"
             ],
             [
              0.5555555555555556,
              "#d8576b"
             ],
             [
              0.6666666666666666,
              "#ed7953"
             ],
             [
              0.7777777777777778,
              "#fb9f3a"
             ],
             [
              0.8888888888888888,
              "#fdca26"
             ],
             [
              1,
              "#f0f921"
             ]
            ],
            "type": "histogram2d"
           }
          ],
          "histogram2dcontour": [
           {
            "colorbar": {
             "outlinewidth": 0,
             "ticks": ""
            },
            "colorscale": [
             [
              0,
              "#0d0887"
             ],
             [
              0.1111111111111111,
              "#46039f"
             ],
             [
              0.2222222222222222,
              "#7201a8"
             ],
             [
              0.3333333333333333,
              "#9c179e"
             ],
             [
              0.4444444444444444,
              "#bd3786"
             ],
             [
              0.5555555555555556,
              "#d8576b"
             ],
             [
              0.6666666666666666,
              "#ed7953"
             ],
             [
              0.7777777777777778,
              "#fb9f3a"
             ],
             [
              0.8888888888888888,
              "#fdca26"
             ],
             [
              1,
              "#f0f921"
             ]
            ],
            "type": "histogram2dcontour"
           }
          ],
          "mesh3d": [
           {
            "colorbar": {
             "outlinewidth": 0,
             "ticks": ""
            },
            "type": "mesh3d"
           }
          ],
          "parcoords": [
           {
            "line": {
             "colorbar": {
              "outlinewidth": 0,
              "ticks": ""
             }
            },
            "type": "parcoords"
           }
          ],
          "pie": [
           {
            "automargin": true,
            "type": "pie"
           }
          ],
          "scatter": [
           {
            "marker": {
             "colorbar": {
              "outlinewidth": 0,
              "ticks": ""
             }
            },
            "type": "scatter"
           }
          ],
          "scatter3d": [
           {
            "line": {
             "colorbar": {
              "outlinewidth": 0,
              "ticks": ""
             }
            },
            "marker": {
             "colorbar": {
              "outlinewidth": 0,
              "ticks": ""
             }
            },
            "type": "scatter3d"
           }
          ],
          "scattercarpet": [
           {
            "marker": {
             "colorbar": {
              "outlinewidth": 0,
              "ticks": ""
             }
            },
            "type": "scattercarpet"
           }
          ],
          "scattergeo": [
           {
            "marker": {
             "colorbar": {
              "outlinewidth": 0,
              "ticks": ""
             }
            },
            "type": "scattergeo"
           }
          ],
          "scattergl": [
           {
            "marker": {
             "colorbar": {
              "outlinewidth": 0,
              "ticks": ""
             }
            },
            "type": "scattergl"
           }
          ],
          "scattermapbox": [
           {
            "marker": {
             "colorbar": {
              "outlinewidth": 0,
              "ticks": ""
             }
            },
            "type": "scattermapbox"
           }
          ],
          "scatterpolar": [
           {
            "marker": {
             "colorbar": {
              "outlinewidth": 0,
              "ticks": ""
             }
            },
            "type": "scatterpolar"
           }
          ],
          "scatterpolargl": [
           {
            "marker": {
             "colorbar": {
              "outlinewidth": 0,
              "ticks": ""
             }
            },
            "type": "scatterpolargl"
           }
          ],
          "scatterternary": [
           {
            "marker": {
             "colorbar": {
              "outlinewidth": 0,
              "ticks": ""
             }
            },
            "type": "scatterternary"
           }
          ],
          "surface": [
           {
            "colorbar": {
             "outlinewidth": 0,
             "ticks": ""
            },
            "colorscale": [
             [
              0,
              "#0d0887"
             ],
             [
              0.1111111111111111,
              "#46039f"
             ],
             [
              0.2222222222222222,
              "#7201a8"
             ],
             [
              0.3333333333333333,
              "#9c179e"
             ],
             [
              0.4444444444444444,
              "#bd3786"
             ],
             [
              0.5555555555555556,
              "#d8576b"
             ],
             [
              0.6666666666666666,
              "#ed7953"
             ],
             [
              0.7777777777777778,
              "#fb9f3a"
             ],
             [
              0.8888888888888888,
              "#fdca26"
             ],
             [
              1,
              "#f0f921"
             ]
            ],
            "type": "surface"
           }
          ],
          "table": [
           {
            "cells": {
             "fill": {
              "color": "#EBF0F8"
             },
             "line": {
              "color": "white"
             }
            },
            "header": {
             "fill": {
              "color": "#C8D4E3"
             },
             "line": {
              "color": "white"
             }
            },
            "type": "table"
           }
          ]
         },
         "layout": {
          "annotationdefaults": {
           "arrowcolor": "#2a3f5f",
           "arrowhead": 0,
           "arrowwidth": 1
          },
          "autotypenumbers": "strict",
          "coloraxis": {
           "colorbar": {
            "outlinewidth": 0,
            "ticks": ""
           }
          },
          "colorscale": {
           "diverging": [
            [
             0,
             "#8e0152"
            ],
            [
             0.1,
             "#c51b7d"
            ],
            [
             0.2,
             "#de77ae"
            ],
            [
             0.3,
             "#f1b6da"
            ],
            [
             0.4,
             "#fde0ef"
            ],
            [
             0.5,
             "#f7f7f7"
            ],
            [
             0.6,
             "#e6f5d0"
            ],
            [
             0.7,
             "#b8e186"
            ],
            [
             0.8,
             "#7fbc41"
            ],
            [
             0.9,
             "#4d9221"
            ],
            [
             1,
             "#276419"
            ]
           ],
           "sequential": [
            [
             0,
             "#0d0887"
            ],
            [
             0.1111111111111111,
             "#46039f"
            ],
            [
             0.2222222222222222,
             "#7201a8"
            ],
            [
             0.3333333333333333,
             "#9c179e"
            ],
            [
             0.4444444444444444,
             "#bd3786"
            ],
            [
             0.5555555555555556,
             "#d8576b"
            ],
            [
             0.6666666666666666,
             "#ed7953"
            ],
            [
             0.7777777777777778,
             "#fb9f3a"
            ],
            [
             0.8888888888888888,
             "#fdca26"
            ],
            [
             1,
             "#f0f921"
            ]
           ],
           "sequentialminus": [
            [
             0,
             "#0d0887"
            ],
            [
             0.1111111111111111,
             "#46039f"
            ],
            [
             0.2222222222222222,
             "#7201a8"
            ],
            [
             0.3333333333333333,
             "#9c179e"
            ],
            [
             0.4444444444444444,
             "#bd3786"
            ],
            [
             0.5555555555555556,
             "#d8576b"
            ],
            [
             0.6666666666666666,
             "#ed7953"
            ],
            [
             0.7777777777777778,
             "#fb9f3a"
            ],
            [
             0.8888888888888888,
             "#fdca26"
            ],
            [
             1,
             "#f0f921"
            ]
           ]
          },
          "colorway": [
           "#636efa",
           "#EF553B",
           "#00cc96",
           "#ab63fa",
           "#FFA15A",
           "#19d3f3",
           "#FF6692",
           "#B6E880",
           "#FF97FF",
           "#FECB52"
          ],
          "font": {
           "color": "#2a3f5f"
          },
          "geo": {
           "bgcolor": "white",
           "lakecolor": "white",
           "landcolor": "#E5ECF6",
           "showlakes": true,
           "showland": true,
           "subunitcolor": "white"
          },
          "hoverlabel": {
           "align": "left"
          },
          "hovermode": "closest",
          "mapbox": {
           "style": "light"
          },
          "paper_bgcolor": "white",
          "plot_bgcolor": "#E5ECF6",
          "polar": {
           "angularaxis": {
            "gridcolor": "white",
            "linecolor": "white",
            "ticks": ""
           },
           "bgcolor": "#E5ECF6",
           "radialaxis": {
            "gridcolor": "white",
            "linecolor": "white",
            "ticks": ""
           }
          },
          "scene": {
           "xaxis": {
            "backgroundcolor": "#E5ECF6",
            "gridcolor": "white",
            "gridwidth": 2,
            "linecolor": "white",
            "showbackground": true,
            "ticks": "",
            "zerolinecolor": "white"
           },
           "yaxis": {
            "backgroundcolor": "#E5ECF6",
            "gridcolor": "white",
            "gridwidth": 2,
            "linecolor": "white",
            "showbackground": true,
            "ticks": "",
            "zerolinecolor": "white"
           },
           "zaxis": {
            "backgroundcolor": "#E5ECF6",
            "gridcolor": "white",
            "gridwidth": 2,
            "linecolor": "white",
            "showbackground": true,
            "ticks": "",
            "zerolinecolor": "white"
           }
          },
          "shapedefaults": {
           "line": {
            "color": "#2a3f5f"
           }
          },
          "ternary": {
           "aaxis": {
            "gridcolor": "white",
            "linecolor": "white",
            "ticks": ""
           },
           "baxis": {
            "gridcolor": "white",
            "linecolor": "white",
            "ticks": ""
           },
           "bgcolor": "#E5ECF6",
           "caxis": {
            "gridcolor": "white",
            "linecolor": "white",
            "ticks": ""
           }
          },
          "title": {
           "x": 0.05
          },
          "xaxis": {
           "automargin": true,
           "gridcolor": "white",
           "linecolor": "white",
           "ticks": "",
           "title": {
            "standoff": 15
           },
           "zerolinecolor": "white",
           "zerolinewidth": 2
          },
          "yaxis": {
           "automargin": true,
           "gridcolor": "white",
           "linecolor": "white",
           "ticks": "",
           "title": {
            "standoff": 15
           },
           "zerolinecolor": "white",
           "zerolinewidth": 2
          }
         }
        },
        "title": {
         "text": "Released of the Silverado 2019"
        },
        "xaxis": {
         "anchor": "y",
         "domain": [
          0,
          1
         ],
         "title": {
          "text": "Periods compared to the event"
         }
        },
        "yaxis": {
         "anchor": "x",
         "domain": [
          0,
          1
         ],
         "title": {
          "text": "Vader Sentiment Score"
         }
        }
       }
      }
     },
     "metadata": {},
     "output_type": "display_data"
    }
   ],
   "source": [
    "# Released of the Silverado 2019\n",
    "sortie_chev_1 = datetime.strptime(str('2019-01-15'), '%Y-%m-%d')\n",
    "n_day = 20\n",
    "num_day_event = 10\n",
    "df  = find_review_event(sortie_chev_1, df_chevrolet, n_day, num_day_event)\n",
    "\n",
    "fig = px.box(df, x=\"type\", y='Vader_Sentiment')\n",
    "fig.update_traces(quartilemethod=\"exclusive\")\n",
    "fig.update_layout(title=\"Released of the Silverado 2019\",\n",
    "    yaxis_title='Vader Sentiment Score',xaxis_title='Periods compared to the event')\n",
    "fig.show()"
   ]
  },
  {
   "cell_type": "code",
   "execution_count": 137,
   "metadata": {},
   "outputs": [
    {
     "data": {
      "application/vnd.plotly.v1+json": {
       "config": {
        "plotlyServerURL": "https://plot.ly"
       },
       "data": [
        {
         "alignmentgroup": "True",
         "hovertemplate": "type=%{x}<br>Vader_Sentiment=%{y}<extra></extra>",
         "legendgroup": "",
         "marker": {
          "color": "#636efa"
         },
         "name": "",
         "notched": false,
         "offsetgroup": "",
         "orientation": "v",
         "quartilemethod": "exclusive",
         "showlegend": false,
         "type": "box",
         "x": [
          "before",
          "before",
          "before",
          "before",
          "before",
          "before",
          "before",
          "before",
          "before",
          "before",
          "before",
          "before",
          "before",
          "before",
          "before",
          "before",
          "before",
          "before",
          "before",
          "before",
          "before",
          "before",
          "before",
          "before",
          "before",
          "before",
          "before",
          "during",
          "during",
          "during",
          "during",
          "during",
          "during",
          "during",
          "during",
          "during",
          "during",
          "during",
          "during",
          "during",
          "during",
          "during",
          "during",
          "during",
          "during",
          "during",
          "during",
          "during",
          "during",
          "during",
          "during",
          "during",
          "during",
          "during",
          "during",
          "during",
          "during",
          "during",
          "during",
          "during",
          "during",
          "during",
          "during",
          "during",
          "during",
          "during",
          "during",
          "during",
          "during",
          "during",
          "during",
          "during",
          "during",
          "during",
          "during",
          "during",
          "during",
          "during",
          "during",
          "during",
          "during",
          "during",
          "during",
          "during",
          "during",
          "during",
          "during",
          "during",
          "during",
          "during",
          "during",
          "after",
          "after",
          "after",
          "after",
          "after",
          "after",
          "after",
          "after",
          "after",
          "after",
          "after",
          "after",
          "after",
          "after",
          "after",
          "after",
          "after",
          "after",
          "after",
          "after",
          "after",
          "after",
          "after",
          "after",
          "after",
          "after",
          "after",
          "after",
          "after",
          "after",
          "after",
          "after",
          "after",
          "after",
          "after",
          "after",
          "after",
          "after",
          "after"
         ],
         "x0": " ",
         "xaxis": "x",
         "y": [
          0.9601000000000001,
          0.8442000000000001,
          0.4939,
          0.7269,
          0.9723,
          0.836,
          0.8807,
          0.9001,
          0.5719000000000001,
          0.34,
          0.7906000000000001,
          0,
          0.6597000000000001,
          0.872,
          0.7003,
          0.7184,
          0.2263,
          0,
          0.7783,
          0.9590000000000001,
          0.6705,
          0,
          0,
          0.4767,
          0.6808000000000001,
          0,
          -0.25,
          0.9902000000000001,
          0.8779,
          0,
          0.296,
          0.9839,
          0.9442,
          0.802,
          0.8988,
          0.9666,
          0.975,
          0.8176,
          0.9792000000000001,
          0.31820000000000004,
          0.9788,
          0.7906000000000001,
          0.9595,
          0.9496,
          0.926,
          0.9287000000000001,
          0.9648,
          0.7506,
          0.9596,
          0.9904000000000001,
          0.7269,
          0.9705,
          0.6808000000000001,
          0.8225,
          0.9460000000000001,
          0,
          0.9638000000000001,
          0.9453,
          0.9062,
          0.9652000000000001,
          -0.2177,
          0.981,
          0.6461,
          -0.5632,
          0.9678,
          0,
          0,
          -0.3612,
          0.9524,
          0.5118,
          0.9842000000000001,
          -0.3612,
          0.7717,
          0.936,
          0.9153,
          0.9201,
          -0.0258,
          0,
          0.7096,
          0.1779,
          0.42150000000000004,
          0.2023,
          0,
          0.5719000000000001,
          0.34,
          0,
          0.8934000000000001,
          0.8126,
          -0.25,
          0.1779,
          -0.4939,
          0.8442000000000001,
          -0.296,
          0,
          0.9867,
          0.9705,
          -0.128,
          0.4404,
          0.4404,
          0,
          0.765,
          0.9801000000000001,
          0.9666,
          0.6486000000000001,
          0.4767,
          0.9445,
          0.45880000000000004,
          0.5994,
          0.765,
          -0.0516,
          0.296,
          0.9779,
          0.802,
          0,
          0,
          -0.5859,
          0.34,
          0.34,
          0.8271000000000001,
          -0.5423,
          -0.4767,
          0.0772,
          0.8402000000000001,
          0,
          0.9854,
          0,
          0.42150000000000004,
          -0.34,
          0.6124,
          0
         ],
         "y0": " ",
         "yaxis": "y"
        }
       ],
       "layout": {
        "boxmode": "group",
        "legend": {
         "tracegroupgap": 0
        },
        "margin": {
         "t": 60
        },
        "template": {
         "data": {
          "bar": [
           {
            "error_x": {
             "color": "#2a3f5f"
            },
            "error_y": {
             "color": "#2a3f5f"
            },
            "marker": {
             "line": {
              "color": "#E5ECF6",
              "width": 0.5
             }
            },
            "type": "bar"
           }
          ],
          "barpolar": [
           {
            "marker": {
             "line": {
              "color": "#E5ECF6",
              "width": 0.5
             }
            },
            "type": "barpolar"
           }
          ],
          "carpet": [
           {
            "aaxis": {
             "endlinecolor": "#2a3f5f",
             "gridcolor": "white",
             "linecolor": "white",
             "minorgridcolor": "white",
             "startlinecolor": "#2a3f5f"
            },
            "baxis": {
             "endlinecolor": "#2a3f5f",
             "gridcolor": "white",
             "linecolor": "white",
             "minorgridcolor": "white",
             "startlinecolor": "#2a3f5f"
            },
            "type": "carpet"
           }
          ],
          "choropleth": [
           {
            "colorbar": {
             "outlinewidth": 0,
             "ticks": ""
            },
            "type": "choropleth"
           }
          ],
          "contour": [
           {
            "colorbar": {
             "outlinewidth": 0,
             "ticks": ""
            },
            "colorscale": [
             [
              0,
              "#0d0887"
             ],
             [
              0.1111111111111111,
              "#46039f"
             ],
             [
              0.2222222222222222,
              "#7201a8"
             ],
             [
              0.3333333333333333,
              "#9c179e"
             ],
             [
              0.4444444444444444,
              "#bd3786"
             ],
             [
              0.5555555555555556,
              "#d8576b"
             ],
             [
              0.6666666666666666,
              "#ed7953"
             ],
             [
              0.7777777777777778,
              "#fb9f3a"
             ],
             [
              0.8888888888888888,
              "#fdca26"
             ],
             [
              1,
              "#f0f921"
             ]
            ],
            "type": "contour"
           }
          ],
          "contourcarpet": [
           {
            "colorbar": {
             "outlinewidth": 0,
             "ticks": ""
            },
            "type": "contourcarpet"
           }
          ],
          "heatmap": [
           {
            "colorbar": {
             "outlinewidth": 0,
             "ticks": ""
            },
            "colorscale": [
             [
              0,
              "#0d0887"
             ],
             [
              0.1111111111111111,
              "#46039f"
             ],
             [
              0.2222222222222222,
              "#7201a8"
             ],
             [
              0.3333333333333333,
              "#9c179e"
             ],
             [
              0.4444444444444444,
              "#bd3786"
             ],
             [
              0.5555555555555556,
              "#d8576b"
             ],
             [
              0.6666666666666666,
              "#ed7953"
             ],
             [
              0.7777777777777778,
              "#fb9f3a"
             ],
             [
              0.8888888888888888,
              "#fdca26"
             ],
             [
              1,
              "#f0f921"
             ]
            ],
            "type": "heatmap"
           }
          ],
          "heatmapgl": [
           {
            "colorbar": {
             "outlinewidth": 0,
             "ticks": ""
            },
            "colorscale": [
             [
              0,
              "#0d0887"
             ],
             [
              0.1111111111111111,
              "#46039f"
             ],
             [
              0.2222222222222222,
              "#7201a8"
             ],
             [
              0.3333333333333333,
              "#9c179e"
             ],
             [
              0.4444444444444444,
              "#bd3786"
             ],
             [
              0.5555555555555556,
              "#d8576b"
             ],
             [
              0.6666666666666666,
              "#ed7953"
             ],
             [
              0.7777777777777778,
              "#fb9f3a"
             ],
             [
              0.8888888888888888,
              "#fdca26"
             ],
             [
              1,
              "#f0f921"
             ]
            ],
            "type": "heatmapgl"
           }
          ],
          "histogram": [
           {
            "marker": {
             "colorbar": {
              "outlinewidth": 0,
              "ticks": ""
             }
            },
            "type": "histogram"
           }
          ],
          "histogram2d": [
           {
            "colorbar": {
             "outlinewidth": 0,
             "ticks": ""
            },
            "colorscale": [
             [
              0,
              "#0d0887"
             ],
             [
              0.1111111111111111,
              "#46039f"
             ],
             [
              0.2222222222222222,
              "#7201a8"
             ],
             [
              0.3333333333333333,
              "#9c179e"
             ],
             [
              0.4444444444444444,
              "#bd3786"
             ],
             [
              0.5555555555555556,
              "#d8576b"
             ],
             [
              0.6666666666666666,
              "#ed7953"
             ],
             [
              0.7777777777777778,
              "#fb9f3a"
             ],
             [
              0.8888888888888888,
              "#fdca26"
             ],
             [
              1,
              "#f0f921"
             ]
            ],
            "type": "histogram2d"
           }
          ],
          "histogram2dcontour": [
           {
            "colorbar": {
             "outlinewidth": 0,
             "ticks": ""
            },
            "colorscale": [
             [
              0,
              "#0d0887"
             ],
             [
              0.1111111111111111,
              "#46039f"
             ],
             [
              0.2222222222222222,
              "#7201a8"
             ],
             [
              0.3333333333333333,
              "#9c179e"
             ],
             [
              0.4444444444444444,
              "#bd3786"
             ],
             [
              0.5555555555555556,
              "#d8576b"
             ],
             [
              0.6666666666666666,
              "#ed7953"
             ],
             [
              0.7777777777777778,
              "#fb9f3a"
             ],
             [
              0.8888888888888888,
              "#fdca26"
             ],
             [
              1,
              "#f0f921"
             ]
            ],
            "type": "histogram2dcontour"
           }
          ],
          "mesh3d": [
           {
            "colorbar": {
             "outlinewidth": 0,
             "ticks": ""
            },
            "type": "mesh3d"
           }
          ],
          "parcoords": [
           {
            "line": {
             "colorbar": {
              "outlinewidth": 0,
              "ticks": ""
             }
            },
            "type": "parcoords"
           }
          ],
          "pie": [
           {
            "automargin": true,
            "type": "pie"
           }
          ],
          "scatter": [
           {
            "marker": {
             "colorbar": {
              "outlinewidth": 0,
              "ticks": ""
             }
            },
            "type": "scatter"
           }
          ],
          "scatter3d": [
           {
            "line": {
             "colorbar": {
              "outlinewidth": 0,
              "ticks": ""
             }
            },
            "marker": {
             "colorbar": {
              "outlinewidth": 0,
              "ticks": ""
             }
            },
            "type": "scatter3d"
           }
          ],
          "scattercarpet": [
           {
            "marker": {
             "colorbar": {
              "outlinewidth": 0,
              "ticks": ""
             }
            },
            "type": "scattercarpet"
           }
          ],
          "scattergeo": [
           {
            "marker": {
             "colorbar": {
              "outlinewidth": 0,
              "ticks": ""
             }
            },
            "type": "scattergeo"
           }
          ],
          "scattergl": [
           {
            "marker": {
             "colorbar": {
              "outlinewidth": 0,
              "ticks": ""
             }
            },
            "type": "scattergl"
           }
          ],
          "scattermapbox": [
           {
            "marker": {
             "colorbar": {
              "outlinewidth": 0,
              "ticks": ""
             }
            },
            "type": "scattermapbox"
           }
          ],
          "scatterpolar": [
           {
            "marker": {
             "colorbar": {
              "outlinewidth": 0,
              "ticks": ""
             }
            },
            "type": "scatterpolar"
           }
          ],
          "scatterpolargl": [
           {
            "marker": {
             "colorbar": {
              "outlinewidth": 0,
              "ticks": ""
             }
            },
            "type": "scatterpolargl"
           }
          ],
          "scatterternary": [
           {
            "marker": {
             "colorbar": {
              "outlinewidth": 0,
              "ticks": ""
             }
            },
            "type": "scatterternary"
           }
          ],
          "surface": [
           {
            "colorbar": {
             "outlinewidth": 0,
             "ticks": ""
            },
            "colorscale": [
             [
              0,
              "#0d0887"
             ],
             [
              0.1111111111111111,
              "#46039f"
             ],
             [
              0.2222222222222222,
              "#7201a8"
             ],
             [
              0.3333333333333333,
              "#9c179e"
             ],
             [
              0.4444444444444444,
              "#bd3786"
             ],
             [
              0.5555555555555556,
              "#d8576b"
             ],
             [
              0.6666666666666666,
              "#ed7953"
             ],
             [
              0.7777777777777778,
              "#fb9f3a"
             ],
             [
              0.8888888888888888,
              "#fdca26"
             ],
             [
              1,
              "#f0f921"
             ]
            ],
            "type": "surface"
           }
          ],
          "table": [
           {
            "cells": {
             "fill": {
              "color": "#EBF0F8"
             },
             "line": {
              "color": "white"
             }
            },
            "header": {
             "fill": {
              "color": "#C8D4E3"
             },
             "line": {
              "color": "white"
             }
            },
            "type": "table"
           }
          ]
         },
         "layout": {
          "annotationdefaults": {
           "arrowcolor": "#2a3f5f",
           "arrowhead": 0,
           "arrowwidth": 1
          },
          "autotypenumbers": "strict",
          "coloraxis": {
           "colorbar": {
            "outlinewidth": 0,
            "ticks": ""
           }
          },
          "colorscale": {
           "diverging": [
            [
             0,
             "#8e0152"
            ],
            [
             0.1,
             "#c51b7d"
            ],
            [
             0.2,
             "#de77ae"
            ],
            [
             0.3,
             "#f1b6da"
            ],
            [
             0.4,
             "#fde0ef"
            ],
            [
             0.5,
             "#f7f7f7"
            ],
            [
             0.6,
             "#e6f5d0"
            ],
            [
             0.7,
             "#b8e186"
            ],
            [
             0.8,
             "#7fbc41"
            ],
            [
             0.9,
             "#4d9221"
            ],
            [
             1,
             "#276419"
            ]
           ],
           "sequential": [
            [
             0,
             "#0d0887"
            ],
            [
             0.1111111111111111,
             "#46039f"
            ],
            [
             0.2222222222222222,
             "#7201a8"
            ],
            [
             0.3333333333333333,
             "#9c179e"
            ],
            [
             0.4444444444444444,
             "#bd3786"
            ],
            [
             0.5555555555555556,
             "#d8576b"
            ],
            [
             0.6666666666666666,
             "#ed7953"
            ],
            [
             0.7777777777777778,
             "#fb9f3a"
            ],
            [
             0.8888888888888888,
             "#fdca26"
            ],
            [
             1,
             "#f0f921"
            ]
           ],
           "sequentialminus": [
            [
             0,
             "#0d0887"
            ],
            [
             0.1111111111111111,
             "#46039f"
            ],
            [
             0.2222222222222222,
             "#7201a8"
            ],
            [
             0.3333333333333333,
             "#9c179e"
            ],
            [
             0.4444444444444444,
             "#bd3786"
            ],
            [
             0.5555555555555556,
             "#d8576b"
            ],
            [
             0.6666666666666666,
             "#ed7953"
            ],
            [
             0.7777777777777778,
             "#fb9f3a"
            ],
            [
             0.8888888888888888,
             "#fdca26"
            ],
            [
             1,
             "#f0f921"
            ]
           ]
          },
          "colorway": [
           "#636efa",
           "#EF553B",
           "#00cc96",
           "#ab63fa",
           "#FFA15A",
           "#19d3f3",
           "#FF6692",
           "#B6E880",
           "#FF97FF",
           "#FECB52"
          ],
          "font": {
           "color": "#2a3f5f"
          },
          "geo": {
           "bgcolor": "white",
           "lakecolor": "white",
           "landcolor": "#E5ECF6",
           "showlakes": true,
           "showland": true,
           "subunitcolor": "white"
          },
          "hoverlabel": {
           "align": "left"
          },
          "hovermode": "closest",
          "mapbox": {
           "style": "light"
          },
          "paper_bgcolor": "white",
          "plot_bgcolor": "#E5ECF6",
          "polar": {
           "angularaxis": {
            "gridcolor": "white",
            "linecolor": "white",
            "ticks": ""
           },
           "bgcolor": "#E5ECF6",
           "radialaxis": {
            "gridcolor": "white",
            "linecolor": "white",
            "ticks": ""
           }
          },
          "scene": {
           "xaxis": {
            "backgroundcolor": "#E5ECF6",
            "gridcolor": "white",
            "gridwidth": 2,
            "linecolor": "white",
            "showbackground": true,
            "ticks": "",
            "zerolinecolor": "white"
           },
           "yaxis": {
            "backgroundcolor": "#E5ECF6",
            "gridcolor": "white",
            "gridwidth": 2,
            "linecolor": "white",
            "showbackground": true,
            "ticks": "",
            "zerolinecolor": "white"
           },
           "zaxis": {
            "backgroundcolor": "#E5ECF6",
            "gridcolor": "white",
            "gridwidth": 2,
            "linecolor": "white",
            "showbackground": true,
            "ticks": "",
            "zerolinecolor": "white"
           }
          },
          "shapedefaults": {
           "line": {
            "color": "#2a3f5f"
           }
          },
          "ternary": {
           "aaxis": {
            "gridcolor": "white",
            "linecolor": "white",
            "ticks": ""
           },
           "baxis": {
            "gridcolor": "white",
            "linecolor": "white",
            "ticks": ""
           },
           "bgcolor": "#E5ECF6",
           "caxis": {
            "gridcolor": "white",
            "linecolor": "white",
            "ticks": ""
           }
          },
          "title": {
           "x": 0.05
          },
          "xaxis": {
           "automargin": true,
           "gridcolor": "white",
           "linecolor": "white",
           "ticks": "",
           "title": {
            "standoff": 15
           },
           "zerolinecolor": "white",
           "zerolinewidth": 2
          },
          "yaxis": {
           "automargin": true,
           "gridcolor": "white",
           "linecolor": "white",
           "ticks": "",
           "title": {
            "standoff": 15
           },
           "zerolinecolor": "white",
           "zerolinewidth": 2
          }
         }
        },
        "title": {
         "text": "Released of the Camaro 2018 "
        },
        "xaxis": {
         "anchor": "y",
         "domain": [
          0,
          1
         ],
         "title": {
          "text": "Periods compared to the event"
         }
        },
        "yaxis": {
         "anchor": "x",
         "domain": [
          0,
          1
         ],
         "title": {
          "text": "Vader Sentiment Score"
         }
        }
       }
      }
     },
     "metadata": {},
     "output_type": "display_data"
    }
   ],
   "source": [
    "# Released of the Camaro (6th generation), April 2018\n",
    "sortie_chev_1 = datetime.strptime(str('2018-04-15'), '%Y-%m-%d')\n",
    "n_day = 20\n",
    "num_day_event = 10\n",
    "df  = find_review_event(sortie_chev_1, df_chevrolet, n_day, num_day_event)\n",
    "\n",
    "fig = px.box(df, x=\"type\", y='Vader_Sentiment')\n",
    "fig.update_traces(quartilemethod=\"exclusive\")\n",
    "fig.update_layout(title=\"Released of the Camaro 2018 \",\n",
    "    yaxis_title='Vader Sentiment Score',xaxis_title='Periods compared to the event')\n",
    "fig.show()"
   ]
  },
  {
   "cell_type": "code",
   "execution_count": 145,
   "metadata": {},
   "outputs": [
    {
     "data": {
      "application/vnd.plotly.v1+json": {
       "config": {
        "plotlyServerURL": "https://plot.ly"
       },
       "data": [
        {
         "alignmentgroup": "True",
         "hovertemplate": "type=%{x}<br>Vader_Sentiment=%{y}<extra></extra>",
         "legendgroup": "",
         "marker": {
          "color": "#636efa"
         },
         "name": "",
         "notched": false,
         "offsetgroup": "",
         "orientation": "v",
         "quartilemethod": "exclusive",
         "showlegend": false,
         "type": "box",
         "x": [
          "before",
          "before",
          "before",
          "before",
          "before",
          "before",
          "before",
          "before",
          "before",
          "before",
          "before",
          "before",
          "before",
          "before",
          "before",
          "before",
          "before",
          "before",
          "before",
          "before",
          "before",
          "before",
          "before",
          "before",
          "before",
          "before",
          "before",
          "before",
          "before",
          "before",
          "before",
          "before",
          "before",
          "before",
          "before",
          "before",
          "before",
          "before",
          "before",
          "before",
          "before",
          "before",
          "before",
          "before",
          "before",
          "before",
          "before",
          "before",
          "before",
          "before",
          "before",
          "before",
          "before",
          "before",
          "before",
          "before",
          "before",
          "before",
          "before",
          "before",
          "before",
          "before",
          "before",
          "before",
          "before",
          "before",
          "before",
          "before",
          "before",
          "before",
          "before",
          "before",
          "before",
          "before",
          "before",
          "before",
          "before",
          "before",
          "before",
          "before",
          "before",
          "before",
          "before",
          "before",
          "before",
          "before",
          "before",
          "before",
          "before",
          "before",
          "before",
          "before",
          "before",
          "before",
          "before",
          "before",
          "before",
          "before",
          "before",
          "before",
          "before",
          "before",
          "before",
          "before",
          "before",
          "before",
          "before",
          "before",
          "before",
          "before",
          "before",
          "before",
          "before",
          "before",
          "before",
          "before",
          "before",
          "before",
          "before",
          "before",
          "before",
          "before",
          "before",
          "before",
          "before",
          "before",
          "before",
          "before",
          "before",
          "before",
          "before",
          "before",
          "before",
          "before",
          "before",
          "before",
          "before",
          "before",
          "before",
          "before",
          "before",
          "before",
          "before",
          "before",
          "before",
          "before",
          "before",
          "before",
          "before",
          "before",
          "before",
          "before",
          "before",
          "before",
          "before",
          "before",
          "before",
          "before",
          "before",
          "before",
          "before",
          "before",
          "before",
          "before",
          "before",
          "before",
          "before",
          "before",
          "before",
          "before",
          "before",
          "before",
          "before",
          "before",
          "before",
          "before",
          "before",
          "before",
          "before",
          "during",
          "during",
          "during",
          "during",
          "during",
          "during",
          "during",
          "during",
          "during",
          "during",
          "during",
          "during",
          "during",
          "during",
          "during",
          "during",
          "during",
          "during",
          "during",
          "during",
          "during",
          "during",
          "during",
          "during",
          "during",
          "during",
          "during",
          "during",
          "during",
          "during",
          "during",
          "during",
          "during",
          "during",
          "during",
          "during",
          "during",
          "during",
          "during",
          "during",
          "during",
          "during",
          "during",
          "during",
          "during",
          "during",
          "during",
          "during",
          "during",
          "during",
          "during",
          "during",
          "during",
          "during",
          "during",
          "during",
          "during",
          "during",
          "during",
          "during",
          "during",
          "during",
          "during",
          "during",
          "during",
          "during",
          "during",
          "during",
          "during",
          "during",
          "during",
          "during",
          "during",
          "during",
          "during",
          "during",
          "during",
          "during",
          "during",
          "during",
          "during",
          "during",
          "during",
          "during",
          "during",
          "during",
          "during",
          "during",
          "during",
          "during",
          "during",
          "during",
          "during",
          "during",
          "during",
          "during",
          "during",
          "during",
          "during",
          "during",
          "during",
          "during",
          "during",
          "during",
          "during",
          "during",
          "during",
          "during",
          "during",
          "during",
          "during",
          "during",
          "during",
          "during",
          "during",
          "during",
          "during",
          "during",
          "during",
          "during",
          "during",
          "during",
          "during",
          "during",
          "during",
          "during",
          "during",
          "during",
          "during",
          "during",
          "during",
          "during",
          "during",
          "during",
          "during",
          "during",
          "during",
          "during",
          "during",
          "during",
          "during",
          "during",
          "during",
          "during",
          "during",
          "during",
          "during",
          "during",
          "during",
          "during",
          "during",
          "during",
          "during",
          "during",
          "during",
          "during",
          "during",
          "during",
          "during",
          "during",
          "during",
          "during",
          "during",
          "during",
          "during",
          "during",
          "during",
          "during",
          "during",
          "during",
          "during",
          "during",
          "during",
          "during",
          "during",
          "during",
          "during",
          "during",
          "during",
          "during",
          "during",
          "during",
          "during",
          "during",
          "during",
          "during",
          "during",
          "during",
          "during",
          "during",
          "during",
          "during",
          "during",
          "during",
          "during",
          "during",
          "during",
          "during",
          "during",
          "during",
          "during",
          "during",
          "during",
          "during",
          "during",
          "after",
          "after",
          "after",
          "after",
          "after",
          "after",
          "after",
          "after",
          "after",
          "after",
          "after",
          "after",
          "after",
          "after",
          "after",
          "after",
          "after",
          "after",
          "after",
          "after",
          "after",
          "after",
          "after",
          "after",
          "after",
          "after",
          "after",
          "after",
          "after",
          "after",
          "after",
          "after",
          "after",
          "after",
          "after",
          "after",
          "after",
          "after",
          "after",
          "after",
          "after",
          "after",
          "after",
          "after",
          "after",
          "after",
          "after",
          "after",
          "after",
          "after",
          "after",
          "after",
          "after",
          "after",
          "after",
          "after",
          "after",
          "after",
          "after",
          "after",
          "after",
          "after",
          "after",
          "after",
          "after",
          "after",
          "after",
          "after",
          "after",
          "after",
          "after",
          "after",
          "after",
          "after",
          "after",
          "after",
          "after",
          "after",
          "after",
          "after",
          "after",
          "after",
          "after",
          "after",
          "after",
          "after",
          "after",
          "after",
          "after",
          "after",
          "after",
          "after",
          "after"
         ],
         "x0": " ",
         "xaxis": "x",
         "y": [
          0,
          0.6486000000000001,
          0.8316,
          0.5106,
          0.0772,
          0.9118,
          0,
          0,
          0,
          0.9136000000000001,
          0.2023,
          -0.2263,
          0.6486000000000001,
          0,
          -0.5267000000000001,
          0.4404,
          -0.5994,
          -0.34,
          -0.6369,
          0.7269,
          0.6124,
          0,
          0.7506,
          0.31820000000000004,
          0,
          0,
          -0.2023,
          -0.8225,
          0.6808000000000001,
          0.128,
          0.6808000000000001,
          0.42150000000000004,
          0.802,
          0.6369,
          0.5574,
          0.8225,
          -0.31820000000000004,
          -0.4404,
          0.296,
          0.42150000000000004,
          0,
          0.1027,
          0,
          -0.2263,
          0.3612,
          -0.128,
          -0.4939,
          0.7269,
          0.38180000000000003,
          0,
          -0.2263,
          -0.6249,
          0.0772,
          0.8481000000000001,
          0.38180000000000003,
          0.8689,
          0.7845000000000001,
          0.7096,
          0.4767,
          0.4767,
          -0.42150000000000004,
          0.2023,
          0.40190000000000003,
          0,
          0.1531,
          0.1531,
          0.8176,
          0.802,
          0,
          0.6597000000000001,
          0,
          0.45880000000000004,
          0.4404,
          0.8519,
          0.7096,
          0.9578000000000001,
          0.6486000000000001,
          0.2023,
          -0.128,
          -0.8176,
          0.5690000000000001,
          0.9865,
          0.8948,
          0.2023,
          -0.5423,
          0,
          0,
          0,
          -0.7096,
          0.38180000000000003,
          0,
          0,
          0.4939,
          0.9492,
          -0.40190000000000003,
          -0.0258,
          -0.40190000000000003,
          -0.936,
          0,
          0.296,
          0,
          -0.34,
          0.6249,
          0.6249,
          0,
          -0.25,
          0,
          0.1027,
          -0.8834000000000001,
          -0.2732,
          0.1027,
          0.1027,
          0.659,
          0.6705,
          -0.1027,
          0,
          0.38180000000000003,
          0,
          0.9186000000000001,
          -0.2732,
          0.9325,
          -0.1027,
          0,
          0.1779,
          -0.765,
          0.5574,
          0.34,
          0.6808000000000001,
          0.802,
          0,
          0.6597000000000001,
          0,
          0.7351000000000001,
          0.34,
          0,
          0.4404,
          0.6124,
          -0.4404,
          0.0516,
          0.875,
          -0.4767,
          0.7096,
          0.936,
          0.128,
          -0.1027,
          0,
          0.6908000000000001,
          0.7096,
          0,
          0.7269,
          0.5859,
          0.6597000000000001,
          -0.3612,
          0,
          0.42150000000000004,
          -0.4404,
          -0.4404,
          0.0516,
          -0.34,
          0,
          0.743,
          0.4767,
          0,
          -0.1531,
          0,
          0.296,
          0.6908000000000001,
          0.40190000000000003,
          0,
          0.7845000000000001,
          -0.6486000000000001,
          -0.0516,
          0.42150000000000004,
          0.3612,
          0,
          0.9217000000000001,
          0.128,
          0.9442,
          0,
          0.38180000000000003,
          0,
          0,
          0.872,
          -0.6249,
          0.3415,
          0.5423,
          0.5719000000000001,
          0,
          -0.5256000000000001,
          0.45880000000000004,
          0.9337000000000001,
          0.2023,
          0.8555,
          0.42150000000000004,
          0,
          -0.3612,
          0,
          0.25,
          0,
          0,
          0.296,
          0.2023,
          0.8316,
          0,
          0.6124,
          0,
          0.8074,
          0,
          0.9147000000000001,
          0,
          0.31820000000000004,
          0,
          0,
          0.7096,
          0.8271000000000001,
          0.4939,
          0,
          0.5106,
          0.2732,
          0.31820000000000004,
          0,
          0,
          0.31820000000000004,
          0.7506,
          0.9371,
          -0.2023,
          -0.4767,
          0.1027,
          0.91,
          0,
          -0.8126,
          0.936,
          0,
          0.7672,
          0,
          0.0772,
          0.3612,
          0,
          -0.31820000000000004,
          -0.2023,
          0,
          0,
          0.5719000000000001,
          0.7096,
          0,
          0.8126,
          -0.3612,
          -0.6249,
          0,
          0.7096,
          0.7351000000000001,
          0.6369,
          0.8126,
          0.5106,
          -0.42150000000000004,
          0.34,
          0.6705,
          0.7351000000000001,
          0.25,
          0.6705,
          0.34,
          0.38180000000000003,
          0.6124,
          0.5106,
          0.7579,
          0.7845000000000001,
          -0.40190000000000003,
          -0.3612,
          0.34,
          0,
          0.2263,
          0.31820000000000004,
          0,
          -0.296,
          0,
          0,
          0.3612,
          0,
          0.7003,
          0.3612,
          0.7351000000000001,
          0.42150000000000004,
          0.2732,
          0.7297,
          0,
          -0.007200000000000001,
          0,
          -0.128,
          -0.128,
          0.7184,
          -0.2263,
          0.6908000000000001,
          -0.1779,
          0,
          -0.0258,
          0.40190000000000003,
          0.2732,
          0.6369,
          0.4939,
          0.8316,
          0,
          -0.296,
          -0.31820000000000004,
          0,
          0,
          0.7964,
          -0.40190000000000003,
          0.5106,
          0.1779,
          -0.6369,
          0.2263,
          0.7506,
          0.5267000000000001,
          0.42150000000000004,
          0,
          0.5994,
          0.7096,
          0.6249,
          -0.5994,
          0.3612,
          0,
          0,
          0,
          0.4767,
          0.38180000000000003,
          0.9001,
          0.4404,
          0.8074,
          0,
          0.40190000000000003,
          0.8126,
          -0.4404,
          0.6808000000000001,
          0.9716,
          0.7579,
          -0.31820000000000004,
          0.128,
          0.1779,
          -0.4404,
          0,
          0.4939,
          0.5106,
          0,
          0.296,
          0.1779,
          -0.5994,
          -0.1779,
          -0.7717,
          0.1779,
          0.6605000000000001,
          -0.5423,
          0.128,
          0.40190000000000003,
          0.6249,
          0.7906000000000001,
          0,
          0,
          0.5719000000000001,
          0.31820000000000004,
          0.8658,
          0.0516,
          0.8957,
          0,
          0.9828,
          0.6908000000000001,
          -0.128,
          0.45880000000000004,
          0.6249,
          0.875,
          0.38180000000000003,
          0.8271000000000001,
          0.38180000000000003,
          0.42150000000000004,
          0.5994,
          0,
          0.9423,
          0.5574,
          0,
          0.3612,
          0,
          -0.38180000000000003,
          0,
          0.3612,
          0.31820000000000004,
          0.5859,
          0.8402000000000001,
          0.42150000000000004,
          0.1935,
          0,
          -0.5859,
          0.31820000000000004,
          0,
          0.9477000000000001,
          0.5994,
          0.9274,
          0.7717,
          0.4404,
          0,
          0,
          0.38180000000000003,
          -0.7964,
          0,
          0.45880000000000004,
          0,
          0.5859,
          0,
          0.7783,
          0,
          -0.1531,
          0.1779,
          0,
          0,
          -0.3612,
          -0.3612,
          0.6705,
          0.7184,
          0.45880000000000004,
          0,
          0.4404,
          0,
          0,
          -0.128,
          0.9062,
          0.0772,
          0,
          0.40190000000000003,
          0,
          0.7184,
          0.3612,
          0.6249,
          0.2263,
          0.7717,
          -0.1779,
          0.5106,
          0,
          0.4939,
          0.7351000000000001,
          0.6124,
          0.4767,
          0.6369,
          0.0516,
          0,
          -0.8228000000000001,
          0,
          -0.3612,
          0,
          0.40190000000000003,
          0.6908000000000001,
          0,
          0,
          0,
          0.7003,
          0,
          0.31820000000000004,
          0.5574,
          0.9698,
          0,
          0.1531,
          0.5574,
          0.0772,
          0.5574,
          0.6369,
          0.9118,
          0.9231,
          0.34,
          0,
          0.2023,
          -0.40190000000000003,
          0.7717,
          0.6908000000000001,
          0,
          0.2023,
          0.6573,
          -0.765,
          0.38180000000000003,
          0.5356000000000001,
          0.38180000000000003
         ],
         "y0": " ",
         "yaxis": "y"
        }
       ],
       "layout": {
        "boxmode": "group",
        "legend": {
         "tracegroupgap": 0
        },
        "margin": {
         "t": 60
        },
        "template": {
         "data": {
          "bar": [
           {
            "error_x": {
             "color": "#2a3f5f"
            },
            "error_y": {
             "color": "#2a3f5f"
            },
            "marker": {
             "line": {
              "color": "#E5ECF6",
              "width": 0.5
             }
            },
            "type": "bar"
           }
          ],
          "barpolar": [
           {
            "marker": {
             "line": {
              "color": "#E5ECF6",
              "width": 0.5
             }
            },
            "type": "barpolar"
           }
          ],
          "carpet": [
           {
            "aaxis": {
             "endlinecolor": "#2a3f5f",
             "gridcolor": "white",
             "linecolor": "white",
             "minorgridcolor": "white",
             "startlinecolor": "#2a3f5f"
            },
            "baxis": {
             "endlinecolor": "#2a3f5f",
             "gridcolor": "white",
             "linecolor": "white",
             "minorgridcolor": "white",
             "startlinecolor": "#2a3f5f"
            },
            "type": "carpet"
           }
          ],
          "choropleth": [
           {
            "colorbar": {
             "outlinewidth": 0,
             "ticks": ""
            },
            "type": "choropleth"
           }
          ],
          "contour": [
           {
            "colorbar": {
             "outlinewidth": 0,
             "ticks": ""
            },
            "colorscale": [
             [
              0,
              "#0d0887"
             ],
             [
              0.1111111111111111,
              "#46039f"
             ],
             [
              0.2222222222222222,
              "#7201a8"
             ],
             [
              0.3333333333333333,
              "#9c179e"
             ],
             [
              0.4444444444444444,
              "#bd3786"
             ],
             [
              0.5555555555555556,
              "#d8576b"
             ],
             [
              0.6666666666666666,
              "#ed7953"
             ],
             [
              0.7777777777777778,
              "#fb9f3a"
             ],
             [
              0.8888888888888888,
              "#fdca26"
             ],
             [
              1,
              "#f0f921"
             ]
            ],
            "type": "contour"
           }
          ],
          "contourcarpet": [
           {
            "colorbar": {
             "outlinewidth": 0,
             "ticks": ""
            },
            "type": "contourcarpet"
           }
          ],
          "heatmap": [
           {
            "colorbar": {
             "outlinewidth": 0,
             "ticks": ""
            },
            "colorscale": [
             [
              0,
              "#0d0887"
             ],
             [
              0.1111111111111111,
              "#46039f"
             ],
             [
              0.2222222222222222,
              "#7201a8"
             ],
             [
              0.3333333333333333,
              "#9c179e"
             ],
             [
              0.4444444444444444,
              "#bd3786"
             ],
             [
              0.5555555555555556,
              "#d8576b"
             ],
             [
              0.6666666666666666,
              "#ed7953"
             ],
             [
              0.7777777777777778,
              "#fb9f3a"
             ],
             [
              0.8888888888888888,
              "#fdca26"
             ],
             [
              1,
              "#f0f921"
             ]
            ],
            "type": "heatmap"
           }
          ],
          "heatmapgl": [
           {
            "colorbar": {
             "outlinewidth": 0,
             "ticks": ""
            },
            "colorscale": [
             [
              0,
              "#0d0887"
             ],
             [
              0.1111111111111111,
              "#46039f"
             ],
             [
              0.2222222222222222,
              "#7201a8"
             ],
             [
              0.3333333333333333,
              "#9c179e"
             ],
             [
              0.4444444444444444,
              "#bd3786"
             ],
             [
              0.5555555555555556,
              "#d8576b"
             ],
             [
              0.6666666666666666,
              "#ed7953"
             ],
             [
              0.7777777777777778,
              "#fb9f3a"
             ],
             [
              0.8888888888888888,
              "#fdca26"
             ],
             [
              1,
              "#f0f921"
             ]
            ],
            "type": "heatmapgl"
           }
          ],
          "histogram": [
           {
            "marker": {
             "colorbar": {
              "outlinewidth": 0,
              "ticks": ""
             }
            },
            "type": "histogram"
           }
          ],
          "histogram2d": [
           {
            "colorbar": {
             "outlinewidth": 0,
             "ticks": ""
            },
            "colorscale": [
             [
              0,
              "#0d0887"
             ],
             [
              0.1111111111111111,
              "#46039f"
             ],
             [
              0.2222222222222222,
              "#7201a8"
             ],
             [
              0.3333333333333333,
              "#9c179e"
             ],
             [
              0.4444444444444444,
              "#bd3786"
             ],
             [
              0.5555555555555556,
              "#d8576b"
             ],
             [
              0.6666666666666666,
              "#ed7953"
             ],
             [
              0.7777777777777778,
              "#fb9f3a"
             ],
             [
              0.8888888888888888,
              "#fdca26"
             ],
             [
              1,
              "#f0f921"
             ]
            ],
            "type": "histogram2d"
           }
          ],
          "histogram2dcontour": [
           {
            "colorbar": {
             "outlinewidth": 0,
             "ticks": ""
            },
            "colorscale": [
             [
              0,
              "#0d0887"
             ],
             [
              0.1111111111111111,
              "#46039f"
             ],
             [
              0.2222222222222222,
              "#7201a8"
             ],
             [
              0.3333333333333333,
              "#9c179e"
             ],
             [
              0.4444444444444444,
              "#bd3786"
             ],
             [
              0.5555555555555556,
              "#d8576b"
             ],
             [
              0.6666666666666666,
              "#ed7953"
             ],
             [
              0.7777777777777778,
              "#fb9f3a"
             ],
             [
              0.8888888888888888,
              "#fdca26"
             ],
             [
              1,
              "#f0f921"
             ]
            ],
            "type": "histogram2dcontour"
           }
          ],
          "mesh3d": [
           {
            "colorbar": {
             "outlinewidth": 0,
             "ticks": ""
            },
            "type": "mesh3d"
           }
          ],
          "parcoords": [
           {
            "line": {
             "colorbar": {
              "outlinewidth": 0,
              "ticks": ""
             }
            },
            "type": "parcoords"
           }
          ],
          "pie": [
           {
            "automargin": true,
            "type": "pie"
           }
          ],
          "scatter": [
           {
            "marker": {
             "colorbar": {
              "outlinewidth": 0,
              "ticks": ""
             }
            },
            "type": "scatter"
           }
          ],
          "scatter3d": [
           {
            "line": {
             "colorbar": {
              "outlinewidth": 0,
              "ticks": ""
             }
            },
            "marker": {
             "colorbar": {
              "outlinewidth": 0,
              "ticks": ""
             }
            },
            "type": "scatter3d"
           }
          ],
          "scattercarpet": [
           {
            "marker": {
             "colorbar": {
              "outlinewidth": 0,
              "ticks": ""
             }
            },
            "type": "scattercarpet"
           }
          ],
          "scattergeo": [
           {
            "marker": {
             "colorbar": {
              "outlinewidth": 0,
              "ticks": ""
             }
            },
            "type": "scattergeo"
           }
          ],
          "scattergl": [
           {
            "marker": {
             "colorbar": {
              "outlinewidth": 0,
              "ticks": ""
             }
            },
            "type": "scattergl"
           }
          ],
          "scattermapbox": [
           {
            "marker": {
             "colorbar": {
              "outlinewidth": 0,
              "ticks": ""
             }
            },
            "type": "scattermapbox"
           }
          ],
          "scatterpolar": [
           {
            "marker": {
             "colorbar": {
              "outlinewidth": 0,
              "ticks": ""
             }
            },
            "type": "scatterpolar"
           }
          ],
          "scatterpolargl": [
           {
            "marker": {
             "colorbar": {
              "outlinewidth": 0,
              "ticks": ""
             }
            },
            "type": "scatterpolargl"
           }
          ],
          "scatterternary": [
           {
            "marker": {
             "colorbar": {
              "outlinewidth": 0,
              "ticks": ""
             }
            },
            "type": "scatterternary"
           }
          ],
          "surface": [
           {
            "colorbar": {
             "outlinewidth": 0,
             "ticks": ""
            },
            "colorscale": [
             [
              0,
              "#0d0887"
             ],
             [
              0.1111111111111111,
              "#46039f"
             ],
             [
              0.2222222222222222,
              "#7201a8"
             ],
             [
              0.3333333333333333,
              "#9c179e"
             ],
             [
              0.4444444444444444,
              "#bd3786"
             ],
             [
              0.5555555555555556,
              "#d8576b"
             ],
             [
              0.6666666666666666,
              "#ed7953"
             ],
             [
              0.7777777777777778,
              "#fb9f3a"
             ],
             [
              0.8888888888888888,
              "#fdca26"
             ],
             [
              1,
              "#f0f921"
             ]
            ],
            "type": "surface"
           }
          ],
          "table": [
           {
            "cells": {
             "fill": {
              "color": "#EBF0F8"
             },
             "line": {
              "color": "white"
             }
            },
            "header": {
             "fill": {
              "color": "#C8D4E3"
             },
             "line": {
              "color": "white"
             }
            },
            "type": "table"
           }
          ]
         },
         "layout": {
          "annotationdefaults": {
           "arrowcolor": "#2a3f5f",
           "arrowhead": 0,
           "arrowwidth": 1
          },
          "autotypenumbers": "strict",
          "coloraxis": {
           "colorbar": {
            "outlinewidth": 0,
            "ticks": ""
           }
          },
          "colorscale": {
           "diverging": [
            [
             0,
             "#8e0152"
            ],
            [
             0.1,
             "#c51b7d"
            ],
            [
             0.2,
             "#de77ae"
            ],
            [
             0.3,
             "#f1b6da"
            ],
            [
             0.4,
             "#fde0ef"
            ],
            [
             0.5,
             "#f7f7f7"
            ],
            [
             0.6,
             "#e6f5d0"
            ],
            [
             0.7,
             "#b8e186"
            ],
            [
             0.8,
             "#7fbc41"
            ],
            [
             0.9,
             "#4d9221"
            ],
            [
             1,
             "#276419"
            ]
           ],
           "sequential": [
            [
             0,
             "#0d0887"
            ],
            [
             0.1111111111111111,
             "#46039f"
            ],
            [
             0.2222222222222222,
             "#7201a8"
            ],
            [
             0.3333333333333333,
             "#9c179e"
            ],
            [
             0.4444444444444444,
             "#bd3786"
            ],
            [
             0.5555555555555556,
             "#d8576b"
            ],
            [
             0.6666666666666666,
             "#ed7953"
            ],
            [
             0.7777777777777778,
             "#fb9f3a"
            ],
            [
             0.8888888888888888,
             "#fdca26"
            ],
            [
             1,
             "#f0f921"
            ]
           ],
           "sequentialminus": [
            [
             0,
             "#0d0887"
            ],
            [
             0.1111111111111111,
             "#46039f"
            ],
            [
             0.2222222222222222,
             "#7201a8"
            ],
            [
             0.3333333333333333,
             "#9c179e"
            ],
            [
             0.4444444444444444,
             "#bd3786"
            ],
            [
             0.5555555555555556,
             "#d8576b"
            ],
            [
             0.6666666666666666,
             "#ed7953"
            ],
            [
             0.7777777777777778,
             "#fb9f3a"
            ],
            [
             0.8888888888888888,
             "#fdca26"
            ],
            [
             1,
             "#f0f921"
            ]
           ]
          },
          "colorway": [
           "#636efa",
           "#EF553B",
           "#00cc96",
           "#ab63fa",
           "#FFA15A",
           "#19d3f3",
           "#FF6692",
           "#B6E880",
           "#FF97FF",
           "#FECB52"
          ],
          "font": {
           "color": "#2a3f5f"
          },
          "geo": {
           "bgcolor": "white",
           "lakecolor": "white",
           "landcolor": "#E5ECF6",
           "showlakes": true,
           "showland": true,
           "subunitcolor": "white"
          },
          "hoverlabel": {
           "align": "left"
          },
          "hovermode": "closest",
          "mapbox": {
           "style": "light"
          },
          "paper_bgcolor": "white",
          "plot_bgcolor": "#E5ECF6",
          "polar": {
           "angularaxis": {
            "gridcolor": "white",
            "linecolor": "white",
            "ticks": ""
           },
           "bgcolor": "#E5ECF6",
           "radialaxis": {
            "gridcolor": "white",
            "linecolor": "white",
            "ticks": ""
           }
          },
          "scene": {
           "xaxis": {
            "backgroundcolor": "#E5ECF6",
            "gridcolor": "white",
            "gridwidth": 2,
            "linecolor": "white",
            "showbackground": true,
            "ticks": "",
            "zerolinecolor": "white"
           },
           "yaxis": {
            "backgroundcolor": "#E5ECF6",
            "gridcolor": "white",
            "gridwidth": 2,
            "linecolor": "white",
            "showbackground": true,
            "ticks": "",
            "zerolinecolor": "white"
           },
           "zaxis": {
            "backgroundcolor": "#E5ECF6",
            "gridcolor": "white",
            "gridwidth": 2,
            "linecolor": "white",
            "showbackground": true,
            "ticks": "",
            "zerolinecolor": "white"
           }
          },
          "shapedefaults": {
           "line": {
            "color": "#2a3f5f"
           }
          },
          "ternary": {
           "aaxis": {
            "gridcolor": "white",
            "linecolor": "white",
            "ticks": ""
           },
           "baxis": {
            "gridcolor": "white",
            "linecolor": "white",
            "ticks": ""
           },
           "bgcolor": "#E5ECF6",
           "caxis": {
            "gridcolor": "white",
            "linecolor": "white",
            "ticks": ""
           }
          },
          "title": {
           "x": 0.05
          },
          "xaxis": {
           "automargin": true,
           "gridcolor": "white",
           "linecolor": "white",
           "ticks": "",
           "title": {
            "standoff": 15
           },
           "zerolinecolor": "white",
           "zerolinewidth": 2
          },
          "yaxis": {
           "automargin": true,
           "gridcolor": "white",
           "linecolor": "white",
           "ticks": "",
           "title": {
            "standoff": 15
           },
           "zerolinecolor": "white",
           "zerolinewidth": 2
          }
         }
        },
        "title": {
         "text": "Toyota Yaris (February, 2020)"
        },
        "xaxis": {
         "anchor": "y",
         "domain": [
          0,
          1
         ],
         "title": {
          "text": "Periods compared to the event"
         }
        },
        "yaxis": {
         "anchor": "x",
         "domain": [
          0,
          1
         ],
         "title": {
          "text": "Vader Sentiment Score"
         }
        }
       }
      }
     },
     "metadata": {},
     "output_type": "display_data"
    }
   ],
   "source": [
    "# Toyota Yaris (February, 2020)\n",
    "sortie_tesla_1 = datetime.strptime(str('2020-02-10'), '%Y-%m-%d')\n",
    "n_day = 20\n",
    "num_day_event = 10\n",
    "df  = find_review_event(sortie_tesla_1, df_tesla, n_day, num_day_event)\n",
    "\n",
    "fig = px.box(df, x=\"type\", y='Vader_Sentiment')\n",
    "fig.update_traces(quartilemethod=\"exclusive\")\n",
    "fig.update_layout(title=\"Toyota Yaris (February, 2020)\",\n",
    "    yaxis_title='Vader Sentiment Score',xaxis_title='Periods compared to the event')\n",
    "fig.show()"
   ]
  },
  {
   "cell_type": "code",
   "execution_count": 135,
   "metadata": {},
   "outputs": [
    {
     "data": {
      "application/vnd.plotly.v1+json": {
       "config": {
        "plotlyServerURL": "https://plot.ly"
       },
       "data": [
        {
         "alignmentgroup": "True",
         "hovertemplate": "type=%{x}<br>Vader_Sentiment=%{y}<extra></extra>",
         "legendgroup": "",
         "marker": {
          "color": "#636efa"
         },
         "name": "",
         "notched": false,
         "offsetgroup": "",
         "orientation": "v",
         "quartilemethod": "exclusive",
         "showlegend": false,
         "type": "box",
         "x": [
          "before",
          "before",
          "before",
          "before",
          "before",
          "before",
          "before",
          "before",
          "before",
          "before",
          "before",
          "before",
          "before",
          "before",
          "before",
          "before",
          "before",
          "before",
          "before",
          "before",
          "before",
          "before",
          "before",
          "before",
          "before",
          "before",
          "before",
          "before",
          "before",
          "before",
          "before",
          "before",
          "before",
          "before",
          "before",
          "before",
          "before",
          "before",
          "before",
          "before",
          "before",
          "before",
          "before",
          "before",
          "before",
          "before",
          "before",
          "before",
          "before",
          "before",
          "before",
          "before",
          "before",
          "before",
          "before",
          "before",
          "before",
          "before",
          "before",
          "before",
          "before",
          "before",
          "before",
          "before",
          "before",
          "before",
          "before",
          "before",
          "before",
          "before",
          "before",
          "before",
          "before",
          "before",
          "before",
          "before",
          "before",
          "before",
          "before",
          "before",
          "before",
          "before",
          "before",
          "before",
          "before",
          "before",
          "before",
          "before",
          "before",
          "before",
          "before",
          "before",
          "before",
          "before",
          "before",
          "before",
          "before",
          "before",
          "before",
          "before",
          "before",
          "before",
          "before",
          "before",
          "before",
          "before",
          "before",
          "before",
          "before",
          "before",
          "before",
          "before",
          "before",
          "before",
          "before",
          "before",
          "before",
          "before",
          "before",
          "before",
          "before",
          "before",
          "before",
          "before",
          "before",
          "before",
          "before",
          "before",
          "before",
          "before",
          "before",
          "before",
          "before",
          "before",
          "before",
          "before",
          "before",
          "before",
          "before",
          "before",
          "before",
          "before",
          "before",
          "before",
          "before",
          "before",
          "before",
          "before",
          "before",
          "before",
          "before",
          "before",
          "before",
          "before",
          "before",
          "before",
          "before",
          "before",
          "before",
          "before",
          "before",
          "before",
          "before",
          "before",
          "before",
          "before",
          "before",
          "before",
          "before",
          "before",
          "before",
          "before",
          "before",
          "before",
          "before",
          "before",
          "before",
          "before",
          "before",
          "before",
          "before",
          "before",
          "before",
          "before",
          "before",
          "before",
          "before",
          "before",
          "before",
          "before",
          "before",
          "before",
          "before",
          "before",
          "before",
          "before",
          "before",
          "before",
          "before",
          "before",
          "before",
          "during",
          "during",
          "during",
          "during",
          "during",
          "during",
          "during",
          "during",
          "during",
          "during",
          "during",
          "during",
          "during",
          "during",
          "during",
          "during",
          "during",
          "during",
          "during",
          "during",
          "during",
          "during",
          "during",
          "during",
          "during",
          "during",
          "during",
          "during",
          "during",
          "during",
          "during",
          "during",
          "during",
          "during",
          "during",
          "during",
          "during",
          "during",
          "during",
          "during",
          "during",
          "during",
          "during",
          "during",
          "during",
          "during",
          "during",
          "during",
          "during",
          "during",
          "during",
          "during",
          "during",
          "during",
          "during",
          "during",
          "during",
          "during",
          "during",
          "during",
          "during",
          "during",
          "during",
          "during",
          "during",
          "during",
          "during",
          "during",
          "during",
          "during",
          "during",
          "during",
          "during",
          "during",
          "during",
          "during",
          "during",
          "during",
          "during",
          "during",
          "during",
          "during",
          "during",
          "during",
          "during",
          "during",
          "during",
          "during",
          "during",
          "during",
          "during",
          "during",
          "during",
          "during",
          "during",
          "during",
          "during",
          "during",
          "during",
          "during",
          "during",
          "during",
          "during",
          "during",
          "during",
          "during",
          "during",
          "during",
          "during",
          "during",
          "during",
          "during",
          "during",
          "during",
          "during",
          "during",
          "during",
          "during",
          "during",
          "during",
          "during",
          "during",
          "during",
          "during",
          "during",
          "during",
          "during",
          "during",
          "during",
          "during",
          "during",
          "during",
          "during",
          "during",
          "during",
          "during",
          "during",
          "during",
          "during",
          "during",
          "during",
          "during",
          "during",
          "during",
          "during",
          "during",
          "during",
          "during",
          "during",
          "during",
          "during",
          "during",
          "during",
          "during",
          "during",
          "during",
          "during",
          "during",
          "during",
          "during",
          "during",
          "during",
          "during",
          "during",
          "during",
          "during",
          "during",
          "during",
          "during",
          "during",
          "during",
          "during",
          "during",
          "during",
          "during",
          "during",
          "during",
          "during",
          "during",
          "during",
          "during",
          "during",
          "during",
          "during",
          "during",
          "during",
          "during",
          "during",
          "during",
          "during",
          "during",
          "during",
          "during",
          "during",
          "during",
          "during",
          "during",
          "during",
          "during",
          "during",
          "during",
          "during",
          "during",
          "during",
          "during",
          "during",
          "during",
          "during",
          "during",
          "during",
          "during",
          "during",
          "during",
          "during",
          "during",
          "during",
          "during",
          "during",
          "during",
          "during",
          "during",
          "during",
          "during",
          "during",
          "during",
          "during",
          "during",
          "during",
          "during",
          "during",
          "during",
          "during",
          "during",
          "during",
          "after",
          "after",
          "after",
          "after",
          "after",
          "after",
          "after",
          "after",
          "after",
          "after",
          "after",
          "after",
          "after",
          "after",
          "after",
          "after",
          "after",
          "after",
          "after",
          "after",
          "after",
          "after",
          "after",
          "after",
          "after",
          "after",
          "after",
          "after",
          "after",
          "after",
          "after",
          "after",
          "after",
          "after",
          "after",
          "after",
          "after",
          "after",
          "after",
          "after",
          "after",
          "after",
          "after",
          "after",
          "after",
          "after",
          "after",
          "after",
          "after",
          "after",
          "after",
          "after",
          "after",
          "after",
          "after",
          "after",
          "after",
          "after",
          "after",
          "after",
          "after",
          "after",
          "after",
          "after",
          "after",
          "after",
          "after",
          "after",
          "after",
          "after",
          "after",
          "after",
          "after",
          "after",
          "after",
          "after",
          "after",
          "after",
          "after",
          "after",
          "after",
          "after",
          "after",
          "after",
          "after",
          "after",
          "after",
          "after",
          "after",
          "after",
          "after",
          "after",
          "after",
          "after",
          "after",
          "after",
          "after",
          "after",
          "after",
          "after",
          "after",
          "after",
          "after",
          "after",
          "after",
          "after",
          "after",
          "after",
          "after",
          "after",
          "after",
          "after",
          "after",
          "after",
          "after",
          "after",
          "after",
          "after",
          "after",
          "after",
          "after",
          "after",
          "after",
          "after",
          "after",
          "after",
          "after",
          "after",
          "after",
          "after",
          "after",
          "after",
          "after",
          "after",
          "after",
          "after",
          "after",
          "after",
          "after",
          "after",
          "after"
         ],
         "x0": " ",
         "xaxis": "x",
         "y": [
          0.9001,
          0.765,
          0.5267000000000001,
          0.9186000000000001,
          0.34,
          0.5859,
          0,
          -0.3612,
          0,
          0.9186000000000001,
          0,
          0.5994,
          -0.4939,
          -0.0772,
          0.6597000000000001,
          0,
          0.6249,
          0,
          0.7579,
          -0.4767,
          0.765,
          0,
          0,
          0,
          0,
          0,
          0,
          0,
          0.1531,
          0,
          0.8555,
          0.6369,
          -0.1531,
          0,
          -0.0772,
          0.4939,
          0.6369,
          0.9664,
          0.2263,
          0.9584,
          0,
          0,
          0.4404,
          -0.38180000000000003,
          0.8779,
          0,
          0,
          0.3612,
          -0.1531,
          0.5267000000000001,
          0,
          0.31820000000000004,
          0.40190000000000003,
          0.2732,
          0,
          0.6486000000000001,
          0,
          0.2732,
          0.38180000000000003,
          0.9477000000000001,
          0,
          0.3612,
          0.6124,
          0.0772,
          -0.2263,
          0.3612,
          0.45880000000000004,
          -0.42150000000000004,
          -0.5994,
          0.42150000000000004,
          0.45880000000000004,
          0.3612,
          0,
          -0.5574,
          0.5267000000000001,
          0,
          0.2732,
          0.7003,
          0.9313,
          0,
          0,
          0.7269,
          0.5423,
          0.7579,
          0,
          0.4939,
          0,
          0,
          -0.2023,
          -0.2023,
          -0.5106,
          0.2023,
          0.3612,
          -0.2263,
          0.7579,
          0.5859,
          0,
          -0.4767,
          0.9287000000000001,
          -0.6486000000000001,
          0,
          0.7003,
          0.4404,
          0.8126,
          0.45880000000000004,
          0.7906000000000001,
          0.7506,
          0.2975,
          -0.5859,
          -0.1027,
          -0.34,
          0,
          0,
          0.34,
          0,
          -0.6486000000000001,
          0.4466,
          0.6682,
          0.6486000000000001,
          0,
          -0.8059000000000001,
          0.8074,
          0.7579,
          0.4404,
          0.6369,
          0,
          0.33840000000000003,
          0,
          0.1779,
          0.40190000000000003,
          0.936,
          0.9217000000000001,
          0,
          0.6369,
          0.7269,
          0.0772,
          -0.5859,
          0.25,
          0.6705,
          0.7717,
          0,
          0.9702000000000001,
          0.5267000000000001,
          0.2263,
          0.7845000000000001,
          -0.2732,
          0.5106,
          0.5574,
          0.45880000000000004,
          0.7096,
          0.3612,
          0,
          0,
          0.7906000000000001,
          0.836,
          0,
          0.802,
          -0.0772,
          0.9356000000000001,
          0.4767,
          0.765,
          0.8779,
          0.7579,
          -0.4939,
          -0.31670000000000004,
          0.875,
          0,
          0.2732,
          0.1027,
          0.2732,
          0.6369,
          -0.23500000000000001,
          0.7506,
          0.9246000000000001,
          0.6597000000000001,
          0.9246000000000001,
          0.875,
          0.6705,
          0.8834000000000001,
          0.7351000000000001,
          0.6705,
          -0.6808000000000001,
          -0.2732,
          0,
          0.3612,
          0.1779,
          0.2263,
          0.6369,
          0.38180000000000003,
          0.5719000000000001,
          0.8519,
          -0.891,
          -0.2263,
          0.8176,
          0.38180000000000003,
          -0.5267000000000001,
          0.1531,
          0.8591000000000001,
          0,
          0.7096,
          -0.31820000000000004,
          0.5574,
          0.38180000000000003,
          0,
          0.7717,
          0,
          0.2023,
          -0.3612,
          0,
          0,
          0,
          0,
          0.743,
          0,
          0,
          0.5994,
          0,
          0,
          0.2732,
          0,
          0.128,
          0.42150000000000004,
          0,
          0.5750000000000001,
          0.34,
          0.4404,
          -0.1027,
          0,
          0,
          0.4939,
          0.9081,
          0.7717,
          0.872,
          0.7096,
          0.42150000000000004,
          0.6369,
          -0.1027,
          0.6369,
          0,
          0,
          0,
          0.6486000000000001,
          0,
          0,
          0.3612,
          0,
          0,
          0.38180000000000003,
          -0.6705,
          0,
          -0.5267000000000001,
          0,
          -0.1779,
          0,
          0,
          -0.4939,
          -0.5574,
          0.25,
          0,
          0.6908000000000001,
          -0.7003,
          0,
          0.9604,
          -0.4404,
          0.5423,
          0,
          0.5719000000000001,
          0.31820000000000004,
          0.3612,
          0,
          0.42150000000000004,
          0,
          0.8519,
          0.8176,
          0.8225,
          0.2263,
          0.8173,
          0.3612,
          0,
          0,
          0.5574,
          0.42150000000000004,
          0.9118,
          0.42150000000000004,
          0.872,
          -0.2939,
          0.42150000000000004,
          -0.6369,
          0.26480000000000004,
          0,
          -0.5859,
          0.7351000000000001,
          0.42150000000000004,
          0.8126,
          0.5719000000000001,
          -0.5859,
          -0.3612,
          0,
          0.8591000000000001,
          -0.5106,
          -0.7351000000000001,
          0.5859,
          0.7096,
          0,
          0.6369,
          0,
          0,
          0.7579,
          0,
          0.4939,
          0.4404,
          0.6249,
          0.0516,
          0,
          0.0772,
          -0.802,
          0.4404,
          0.1531,
          0,
          0.9531000000000001,
          0.42150000000000004,
          0.45880000000000004,
          0.5719000000000001,
          0.5267000000000001,
          0.8271000000000001,
          0.8316,
          -0.4939,
          0.5574,
          0.2263,
          0,
          0.0258,
          -0.296,
          0.6597000000000001,
          0.2023,
          -0.1796,
          0.7269,
          0.7783,
          0.7351000000000001,
          0.7096,
          0,
          0.4939,
          -0.4939,
          -0.0772,
          -0.45880000000000004,
          -0.40190000000000003,
          -0.7964,
          0.7845000000000001,
          0.25,
          0.45880000000000004,
          0.40190000000000003,
          0,
          0.7964,
          0.40190000000000003,
          0.7184,
          0.0772,
          0.4939,
          0.42150000000000004,
          0.6808000000000001,
          0.42150000000000004,
          0,
          0.7506,
          0.8074,
          0.9517,
          0.6901,
          -0.25,
          0.5267000000000001,
          0.9274,
          0.9333,
          0,
          -0.31820000000000004,
          0,
          0.6249,
          0.9153,
          0,
          -0.1779,
          0,
          0,
          0,
          0,
          0.25,
          0.6124,
          0,
          0.38180000000000003,
          -0.34,
          0.7003,
          -0.2732,
          0.6705,
          0,
          0.6705,
          -0.7579,
          0.4939,
          0,
          0.9509000000000001,
          -0.1027,
          0.6249,
          0.743,
          0,
          0.7269,
          0.6705,
          0.0772,
          0,
          0.31820000000000004,
          0.9726,
          0.6369,
          0,
          0,
          -0.2263,
          -0.1531,
          0.31820000000000004,
          0.42150000000000004,
          0,
          0.8442000000000001,
          0.0258,
          0.31820000000000004,
          0.3612,
          0.4404,
          -0.29460000000000003,
          0,
          0.9118,
          0.5719000000000001,
          0.6597000000000001,
          0,
          0.9081,
          -0.8225,
          0.8225,
          0.38180000000000003,
          0.296,
          0,
          0.2732,
          0.9633,
          0.31820000000000004,
          0.5719000000000001,
          0.25,
          0,
          0.5574,
          0.40190000000000003,
          -0.31820000000000004,
          0.1027,
          0.7351000000000001,
          0.40190000000000003,
          -0.5574,
          0.5106,
          0.6808000000000001,
          0.7964,
          0.0516,
          -0.42150000000000004,
          0.7717,
          0.45220000000000005,
          0.6908000000000001,
          0.1531,
          -0.296,
          0,
          0.38180000000000003,
          0,
          0,
          0.91,
          0,
          0,
          -0.0772,
          0.6908000000000001,
          0.4404,
          0,
          -0.3612,
          0,
          0.7351000000000001,
          0,
          0.8442000000000001,
          0,
          -0.5719000000000001,
          -0.5423,
          0.2732,
          0.7351000000000001,
          0.8442000000000001,
          0.25,
          0,
          0,
          -0.6249,
          0.765,
          -0.296,
          0.3612,
          -0.128,
          0.42150000000000004,
          0.6249,
          0.6249,
          -0.0772,
          0,
          0.5719000000000001,
          0.9231,
          0,
          0.6124,
          0,
          0.6249,
          -0.5859,
          0.7096,
          0.3254,
          0.4404,
          -0.1531,
          0.38180000000000003,
          0.9154,
          0.9485,
          0.3612,
          0.8555,
          0.5994,
          0,
          0.8834000000000001,
          -0.6597000000000001,
          0.9423,
          0.8519,
          0.5106,
          0.5267000000000001,
          0,
          0.5267000000000001,
          0.7717,
          0,
          0.6808000000000001,
          0.8271000000000001,
          0.3612,
          0.296,
          0.7269,
          0.5106,
          0.40190000000000003,
          0.7579,
          0.9538000000000001,
          0.5106,
          0.7964,
          0.7351000000000001,
          0.34,
          0.7717,
          0.2023,
          0.4767,
          0.34,
          0.4404,
          0.6369,
          -0.6486000000000001,
          0,
          -0.296,
          -0.1531,
          0,
          0.6808000000000001,
          -0.34,
          -0.1779,
          0.8402000000000001,
          0.31820000000000004,
          0,
          0.2732,
          0.6369,
          0.7964,
          0.7579,
          0,
          0,
          0.3612,
          0.8442000000000001,
          0.7351000000000001,
          0.6908000000000001,
          0.9042,
          -0.6705,
          0.8074,
          0,
          0,
          -0.5106,
          0,
          0,
          0.4939,
          0.7184,
          0.8316,
          0.0772,
          0,
          0,
          0.6808000000000001,
          0.8074,
          0.40190000000000003,
          0.6249,
          -0.1027,
          0,
          0.0258,
          0.4404
         ],
         "y0": " ",
         "yaxis": "y"
        }
       ],
       "layout": {
        "boxmode": "group",
        "legend": {
         "tracegroupgap": 0
        },
        "margin": {
         "t": 60
        },
        "template": {
         "data": {
          "bar": [
           {
            "error_x": {
             "color": "#2a3f5f"
            },
            "error_y": {
             "color": "#2a3f5f"
            },
            "marker": {
             "line": {
              "color": "#E5ECF6",
              "width": 0.5
             }
            },
            "type": "bar"
           }
          ],
          "barpolar": [
           {
            "marker": {
             "line": {
              "color": "#E5ECF6",
              "width": 0.5
             }
            },
            "type": "barpolar"
           }
          ],
          "carpet": [
           {
            "aaxis": {
             "endlinecolor": "#2a3f5f",
             "gridcolor": "white",
             "linecolor": "white",
             "minorgridcolor": "white",
             "startlinecolor": "#2a3f5f"
            },
            "baxis": {
             "endlinecolor": "#2a3f5f",
             "gridcolor": "white",
             "linecolor": "white",
             "minorgridcolor": "white",
             "startlinecolor": "#2a3f5f"
            },
            "type": "carpet"
           }
          ],
          "choropleth": [
           {
            "colorbar": {
             "outlinewidth": 0,
             "ticks": ""
            },
            "type": "choropleth"
           }
          ],
          "contour": [
           {
            "colorbar": {
             "outlinewidth": 0,
             "ticks": ""
            },
            "colorscale": [
             [
              0,
              "#0d0887"
             ],
             [
              0.1111111111111111,
              "#46039f"
             ],
             [
              0.2222222222222222,
              "#7201a8"
             ],
             [
              0.3333333333333333,
              "#9c179e"
             ],
             [
              0.4444444444444444,
              "#bd3786"
             ],
             [
              0.5555555555555556,
              "#d8576b"
             ],
             [
              0.6666666666666666,
              "#ed7953"
             ],
             [
              0.7777777777777778,
              "#fb9f3a"
             ],
             [
              0.8888888888888888,
              "#fdca26"
             ],
             [
              1,
              "#f0f921"
             ]
            ],
            "type": "contour"
           }
          ],
          "contourcarpet": [
           {
            "colorbar": {
             "outlinewidth": 0,
             "ticks": ""
            },
            "type": "contourcarpet"
           }
          ],
          "heatmap": [
           {
            "colorbar": {
             "outlinewidth": 0,
             "ticks": ""
            },
            "colorscale": [
             [
              0,
              "#0d0887"
             ],
             [
              0.1111111111111111,
              "#46039f"
             ],
             [
              0.2222222222222222,
              "#7201a8"
             ],
             [
              0.3333333333333333,
              "#9c179e"
             ],
             [
              0.4444444444444444,
              "#bd3786"
             ],
             [
              0.5555555555555556,
              "#d8576b"
             ],
             [
              0.6666666666666666,
              "#ed7953"
             ],
             [
              0.7777777777777778,
              "#fb9f3a"
             ],
             [
              0.8888888888888888,
              "#fdca26"
             ],
             [
              1,
              "#f0f921"
             ]
            ],
            "type": "heatmap"
           }
          ],
          "heatmapgl": [
           {
            "colorbar": {
             "outlinewidth": 0,
             "ticks": ""
            },
            "colorscale": [
             [
              0,
              "#0d0887"
             ],
             [
              0.1111111111111111,
              "#46039f"
             ],
             [
              0.2222222222222222,
              "#7201a8"
             ],
             [
              0.3333333333333333,
              "#9c179e"
             ],
             [
              0.4444444444444444,
              "#bd3786"
             ],
             [
              0.5555555555555556,
              "#d8576b"
             ],
             [
              0.6666666666666666,
              "#ed7953"
             ],
             [
              0.7777777777777778,
              "#fb9f3a"
             ],
             [
              0.8888888888888888,
              "#fdca26"
             ],
             [
              1,
              "#f0f921"
             ]
            ],
            "type": "heatmapgl"
           }
          ],
          "histogram": [
           {
            "marker": {
             "colorbar": {
              "outlinewidth": 0,
              "ticks": ""
             }
            },
            "type": "histogram"
           }
          ],
          "histogram2d": [
           {
            "colorbar": {
             "outlinewidth": 0,
             "ticks": ""
            },
            "colorscale": [
             [
              0,
              "#0d0887"
             ],
             [
              0.1111111111111111,
              "#46039f"
             ],
             [
              0.2222222222222222,
              "#7201a8"
             ],
             [
              0.3333333333333333,
              "#9c179e"
             ],
             [
              0.4444444444444444,
              "#bd3786"
             ],
             [
              0.5555555555555556,
              "#d8576b"
             ],
             [
              0.6666666666666666,
              "#ed7953"
             ],
             [
              0.7777777777777778,
              "#fb9f3a"
             ],
             [
              0.8888888888888888,
              "#fdca26"
             ],
             [
              1,
              "#f0f921"
             ]
            ],
            "type": "histogram2d"
           }
          ],
          "histogram2dcontour": [
           {
            "colorbar": {
             "outlinewidth": 0,
             "ticks": ""
            },
            "colorscale": [
             [
              0,
              "#0d0887"
             ],
             [
              0.1111111111111111,
              "#46039f"
             ],
             [
              0.2222222222222222,
              "#7201a8"
             ],
             [
              0.3333333333333333,
              "#9c179e"
             ],
             [
              0.4444444444444444,
              "#bd3786"
             ],
             [
              0.5555555555555556,
              "#d8576b"
             ],
             [
              0.6666666666666666,
              "#ed7953"
             ],
             [
              0.7777777777777778,
              "#fb9f3a"
             ],
             [
              0.8888888888888888,
              "#fdca26"
             ],
             [
              1,
              "#f0f921"
             ]
            ],
            "type": "histogram2dcontour"
           }
          ],
          "mesh3d": [
           {
            "colorbar": {
             "outlinewidth": 0,
             "ticks": ""
            },
            "type": "mesh3d"
           }
          ],
          "parcoords": [
           {
            "line": {
             "colorbar": {
              "outlinewidth": 0,
              "ticks": ""
             }
            },
            "type": "parcoords"
           }
          ],
          "pie": [
           {
            "automargin": true,
            "type": "pie"
           }
          ],
          "scatter": [
           {
            "marker": {
             "colorbar": {
              "outlinewidth": 0,
              "ticks": ""
             }
            },
            "type": "scatter"
           }
          ],
          "scatter3d": [
           {
            "line": {
             "colorbar": {
              "outlinewidth": 0,
              "ticks": ""
             }
            },
            "marker": {
             "colorbar": {
              "outlinewidth": 0,
              "ticks": ""
             }
            },
            "type": "scatter3d"
           }
          ],
          "scattercarpet": [
           {
            "marker": {
             "colorbar": {
              "outlinewidth": 0,
              "ticks": ""
             }
            },
            "type": "scattercarpet"
           }
          ],
          "scattergeo": [
           {
            "marker": {
             "colorbar": {
              "outlinewidth": 0,
              "ticks": ""
             }
            },
            "type": "scattergeo"
           }
          ],
          "scattergl": [
           {
            "marker": {
             "colorbar": {
              "outlinewidth": 0,
              "ticks": ""
             }
            },
            "type": "scattergl"
           }
          ],
          "scattermapbox": [
           {
            "marker": {
             "colorbar": {
              "outlinewidth": 0,
              "ticks": ""
             }
            },
            "type": "scattermapbox"
           }
          ],
          "scatterpolar": [
           {
            "marker": {
             "colorbar": {
              "outlinewidth": 0,
              "ticks": ""
             }
            },
            "type": "scatterpolar"
           }
          ],
          "scatterpolargl": [
           {
            "marker": {
             "colorbar": {
              "outlinewidth": 0,
              "ticks": ""
             }
            },
            "type": "scatterpolargl"
           }
          ],
          "scatterternary": [
           {
            "marker": {
             "colorbar": {
              "outlinewidth": 0,
              "ticks": ""
             }
            },
            "type": "scatterternary"
           }
          ],
          "surface": [
           {
            "colorbar": {
             "outlinewidth": 0,
             "ticks": ""
            },
            "colorscale": [
             [
              0,
              "#0d0887"
             ],
             [
              0.1111111111111111,
              "#46039f"
             ],
             [
              0.2222222222222222,
              "#7201a8"
             ],
             [
              0.3333333333333333,
              "#9c179e"
             ],
             [
              0.4444444444444444,
              "#bd3786"
             ],
             [
              0.5555555555555556,
              "#d8576b"
             ],
             [
              0.6666666666666666,
              "#ed7953"
             ],
             [
              0.7777777777777778,
              "#fb9f3a"
             ],
             [
              0.8888888888888888,
              "#fdca26"
             ],
             [
              1,
              "#f0f921"
             ]
            ],
            "type": "surface"
           }
          ],
          "table": [
           {
            "cells": {
             "fill": {
              "color": "#EBF0F8"
             },
             "line": {
              "color": "white"
             }
            },
            "header": {
             "fill": {
              "color": "#C8D4E3"
             },
             "line": {
              "color": "white"
             }
            },
            "type": "table"
           }
          ]
         },
         "layout": {
          "annotationdefaults": {
           "arrowcolor": "#2a3f5f",
           "arrowhead": 0,
           "arrowwidth": 1
          },
          "autotypenumbers": "strict",
          "coloraxis": {
           "colorbar": {
            "outlinewidth": 0,
            "ticks": ""
           }
          },
          "colorscale": {
           "diverging": [
            [
             0,
             "#8e0152"
            ],
            [
             0.1,
             "#c51b7d"
            ],
            [
             0.2,
             "#de77ae"
            ],
            [
             0.3,
             "#f1b6da"
            ],
            [
             0.4,
             "#fde0ef"
            ],
            [
             0.5,
             "#f7f7f7"
            ],
            [
             0.6,
             "#e6f5d0"
            ],
            [
             0.7,
             "#b8e186"
            ],
            [
             0.8,
             "#7fbc41"
            ],
            [
             0.9,
             "#4d9221"
            ],
            [
             1,
             "#276419"
            ]
           ],
           "sequential": [
            [
             0,
             "#0d0887"
            ],
            [
             0.1111111111111111,
             "#46039f"
            ],
            [
             0.2222222222222222,
             "#7201a8"
            ],
            [
             0.3333333333333333,
             "#9c179e"
            ],
            [
             0.4444444444444444,
             "#bd3786"
            ],
            [
             0.5555555555555556,
             "#d8576b"
            ],
            [
             0.6666666666666666,
             "#ed7953"
            ],
            [
             0.7777777777777778,
             "#fb9f3a"
            ],
            [
             0.8888888888888888,
             "#fdca26"
            ],
            [
             1,
             "#f0f921"
            ]
           ],
           "sequentialminus": [
            [
             0,
             "#0d0887"
            ],
            [
             0.1111111111111111,
             "#46039f"
            ],
            [
             0.2222222222222222,
             "#7201a8"
            ],
            [
             0.3333333333333333,
             "#9c179e"
            ],
            [
             0.4444444444444444,
             "#bd3786"
            ],
            [
             0.5555555555555556,
             "#d8576b"
            ],
            [
             0.6666666666666666,
             "#ed7953"
            ],
            [
             0.7777777777777778,
             "#fb9f3a"
            ],
            [
             0.8888888888888888,
             "#fdca26"
            ],
            [
             1,
             "#f0f921"
            ]
           ]
          },
          "colorway": [
           "#636efa",
           "#EF553B",
           "#00cc96",
           "#ab63fa",
           "#FFA15A",
           "#19d3f3",
           "#FF6692",
           "#B6E880",
           "#FF97FF",
           "#FECB52"
          ],
          "font": {
           "color": "#2a3f5f"
          },
          "geo": {
           "bgcolor": "white",
           "lakecolor": "white",
           "landcolor": "#E5ECF6",
           "showlakes": true,
           "showland": true,
           "subunitcolor": "white"
          },
          "hoverlabel": {
           "align": "left"
          },
          "hovermode": "closest",
          "mapbox": {
           "style": "light"
          },
          "paper_bgcolor": "white",
          "plot_bgcolor": "#E5ECF6",
          "polar": {
           "angularaxis": {
            "gridcolor": "white",
            "linecolor": "white",
            "ticks": ""
           },
           "bgcolor": "#E5ECF6",
           "radialaxis": {
            "gridcolor": "white",
            "linecolor": "white",
            "ticks": ""
           }
          },
          "scene": {
           "xaxis": {
            "backgroundcolor": "#E5ECF6",
            "gridcolor": "white",
            "gridwidth": 2,
            "linecolor": "white",
            "showbackground": true,
            "ticks": "",
            "zerolinecolor": "white"
           },
           "yaxis": {
            "backgroundcolor": "#E5ECF6",
            "gridcolor": "white",
            "gridwidth": 2,
            "linecolor": "white",
            "showbackground": true,
            "ticks": "",
            "zerolinecolor": "white"
           },
           "zaxis": {
            "backgroundcolor": "#E5ECF6",
            "gridcolor": "white",
            "gridwidth": 2,
            "linecolor": "white",
            "showbackground": true,
            "ticks": "",
            "zerolinecolor": "white"
           }
          },
          "shapedefaults": {
           "line": {
            "color": "#2a3f5f"
           }
          },
          "ternary": {
           "aaxis": {
            "gridcolor": "white",
            "linecolor": "white",
            "ticks": ""
           },
           "baxis": {
            "gridcolor": "white",
            "linecolor": "white",
            "ticks": ""
           },
           "bgcolor": "#E5ECF6",
           "caxis": {
            "gridcolor": "white",
            "linecolor": "white",
            "ticks": ""
           }
          },
          "title": {
           "x": 0.05
          },
          "xaxis": {
           "automargin": true,
           "gridcolor": "white",
           "linecolor": "white",
           "ticks": "",
           "title": {
            "standoff": 15
           },
           "zerolinecolor": "white",
           "zerolinewidth": 2
          },
          "yaxis": {
           "automargin": true,
           "gridcolor": "white",
           "linecolor": "white",
           "ticks": "",
           "title": {
            "standoff": 15
           },
           "zerolinecolor": "white",
           "zerolinewidth": 2
          }
         }
        },
        "title": {
         "text": "Release Cyber Truck 2019 (November)"
        },
        "xaxis": {
         "anchor": "y",
         "domain": [
          0,
          1
         ],
         "title": {
          "text": "Periods compared to the event"
         }
        },
        "yaxis": {
         "anchor": "x",
         "domain": [
          0,
          1
         ],
         "title": {
          "text": "Vader Sentiment Score"
         }
        }
       }
      }
     },
     "metadata": {},
     "output_type": "display_data"
    }
   ],
   "source": [
    "# Release Cyber Truck 2019 (November)\n",
    "sortie_tesla_1 = datetime.strptime(str('2019-11-21'), '%Y-%m-%d')\n",
    "n_day = 20\n",
    "num_day_event = 10\n",
    "df  = find_review_event(sortie_tesla_1, df_tesla, n_day, num_day_event)\n",
    "\n",
    "fig = px.box(df, x=\"type\", y='Vader_Sentiment')\n",
    "fig.update_traces(quartilemethod=\"exclusive\")\n",
    "fig.update_layout(title=\"Release Cyber Truck 2019 (November)\",\n",
    "    yaxis_title='Vader Sentiment Score',xaxis_title='Periods compared to the event')\n",
    "fig.show()"
   ]
  },
  {
   "cell_type": "code",
   "execution_count": 136,
   "metadata": {},
   "outputs": [
    {
     "data": {
      "application/vnd.plotly.v1+json": {
       "config": {
        "plotlyServerURL": "https://plot.ly"
       },
       "data": [
        {
         "alignmentgroup": "True",
         "hovertemplate": "type=%{x}<br>Vader_Sentiment=%{y}<extra></extra>",
         "legendgroup": "",
         "marker": {
          "color": "#636efa"
         },
         "name": "",
         "notched": false,
         "offsetgroup": "",
         "orientation": "v",
         "quartilemethod": "exclusive",
         "showlegend": false,
         "type": "box",
         "x": [
          "before",
          "before",
          "before",
          "before",
          "before",
          "before",
          "before",
          "before",
          "before",
          "before",
          "before",
          "before",
          "before",
          "before",
          "before",
          "before",
          "before",
          "before",
          "before",
          "before",
          "before",
          "before",
          "before",
          "before",
          "before",
          "before",
          "before",
          "before",
          "before",
          "before",
          "before",
          "before",
          "before",
          "before",
          "before",
          "before",
          "before",
          "before",
          "before",
          "before",
          "before",
          "before",
          "before",
          "before",
          "before",
          "before",
          "before",
          "before",
          "before",
          "before",
          "before",
          "before",
          "before",
          "before",
          "before",
          "before",
          "before",
          "before",
          "before",
          "before",
          "before",
          "before",
          "before",
          "before",
          "before",
          "before",
          "before",
          "before",
          "before",
          "before",
          "before",
          "before",
          "before",
          "before",
          "before",
          "before",
          "before",
          "before",
          "before",
          "before",
          "before",
          "before",
          "before",
          "before",
          "before",
          "before",
          "before",
          "before",
          "before",
          "before",
          "before",
          "before",
          "before",
          "before",
          "before",
          "before",
          "before",
          "before",
          "before",
          "before",
          "before",
          "before",
          "before",
          "before",
          "before",
          "before",
          "before",
          "before",
          "before",
          "before",
          "before",
          "before",
          "before",
          "before",
          "before",
          "before",
          "before",
          "before",
          "before",
          "before",
          "before",
          "before",
          "before",
          "before",
          "before",
          "before",
          "before",
          "before",
          "during",
          "during",
          "during",
          "during",
          "during",
          "during",
          "during",
          "during",
          "during",
          "during",
          "during",
          "during",
          "during",
          "during",
          "during",
          "during",
          "during",
          "during",
          "during",
          "during",
          "during",
          "during",
          "during",
          "during",
          "during",
          "during",
          "during",
          "during",
          "during",
          "during",
          "during",
          "during",
          "during",
          "during",
          "during",
          "during",
          "during",
          "during",
          "during",
          "during",
          "during",
          "during",
          "during",
          "during",
          "during",
          "during",
          "during",
          "during",
          "during",
          "during",
          "during",
          "during",
          "during",
          "during",
          "during",
          "during",
          "during",
          "during",
          "during",
          "during",
          "during",
          "during",
          "during",
          "during",
          "during",
          "during",
          "during",
          "during",
          "during",
          "during",
          "during",
          "during",
          "during",
          "during",
          "during",
          "during",
          "during",
          "during",
          "during",
          "during",
          "during",
          "during",
          "during",
          "during",
          "during",
          "during",
          "during",
          "during",
          "during",
          "during",
          "during",
          "during",
          "during",
          "during",
          "during",
          "during",
          "during",
          "during",
          "during",
          "during",
          "during",
          "during",
          "during",
          "during",
          "during",
          "during",
          "during",
          "during",
          "during",
          "during",
          "during",
          "during",
          "during",
          "during",
          "during",
          "during",
          "during",
          "after",
          "after",
          "after",
          "after",
          "after",
          "after",
          "after",
          "after",
          "after",
          "after",
          "after",
          "after",
          "after",
          "after",
          "after",
          "after",
          "after",
          "after",
          "after",
          "after",
          "after",
          "after",
          "after",
          "after",
          "after",
          "after",
          "after",
          "after",
          "after",
          "after",
          "after",
          "after",
          "after",
          "after",
          "after",
          "after",
          "after",
          "after",
          "after",
          "after",
          "after",
          "after",
          "after",
          "after",
          "after",
          "after",
          "after",
          "after",
          "after",
          "after",
          "after",
          "after",
          "after",
          "after",
          "after",
          "after",
          "after",
          "after",
          "after",
          "after",
          "after",
          "after",
          "after",
          "after",
          "after",
          "after",
          "after",
          "after",
          "after",
          "after",
          "after",
          "after",
          "after",
          "after",
          "after",
          "after",
          "after",
          "after",
          "after",
          "after",
          "after",
          "after",
          "after",
          "after",
          "after",
          "after",
          "after",
          "after",
          "after",
          "after",
          "after",
          "after",
          "after",
          "after",
          "after",
          "after",
          "after",
          "after",
          "after",
          "after",
          "after",
          "after",
          "after",
          "after",
          "after",
          "after",
          "after",
          "after",
          "after",
          "after",
          "after",
          "after",
          "after",
          "after",
          "after",
          "after",
          "after",
          "after",
          "after",
          "after",
          "after",
          "after",
          "after",
          "after",
          "after",
          "after",
          "after",
          "after",
          "after",
          "after",
          "after",
          "after",
          "after",
          "after",
          "after",
          "after",
          "after",
          "after",
          "after",
          "after",
          "after",
          "after",
          "after",
          "after",
          "after",
          "after",
          "after",
          "after",
          "after",
          "after",
          "after",
          "after",
          "after",
          "after",
          "after",
          "after",
          "after"
         ],
         "x0": " ",
         "xaxis": "x",
         "y": [
          0.3612,
          0.31820000000000004,
          0.2263,
          0,
          0.5106,
          0.6908000000000001,
          0.7783,
          0.8481000000000001,
          0,
          0.5719000000000001,
          -0.2023,
          0.765,
          0,
          0.7783,
          0,
          0,
          0,
          0.128,
          0,
          -0.5719000000000001,
          0,
          0.296,
          0.9441,
          0.40190000000000003,
          0,
          0.6124,
          0.1779,
          0,
          0.9313,
          0,
          0,
          0.9022,
          0.4404,
          0.8625,
          0,
          -0.128,
          0.0772,
          0,
          0.6124,
          0.9001,
          -0.128,
          0.6249,
          0.9485,
          0.2732,
          0.31820000000000004,
          -0.3612,
          0.6486000000000001,
          0,
          0.0772,
          0.31820000000000004,
          0.31820000000000004,
          0.42150000000000004,
          0.7096,
          0.7906000000000001,
          0.8934000000000001,
          0.9538000000000001,
          0.9451,
          0.7964,
          0.91,
          0.5859,
          0.5859,
          0.4939,
          0.9325,
          0,
          0.7964,
          0.9217000000000001,
          0,
          0.743,
          0.3612,
          0.5719000000000001,
          0.296,
          0.296,
          0.7845000000000001,
          0.9738,
          0.8074,
          -0.0258,
          0,
          0.7717,
          0.40190000000000003,
          0.5574,
          0.0772,
          0,
          0,
          0.2023,
          0,
          -0.31820000000000004,
          0,
          0.7783,
          0.3612,
          0,
          0.891,
          0.38180000000000003,
          0.6124,
          -0.6597000000000001,
          -0.2732,
          0.6124,
          0.5267000000000001,
          -0.0516,
          0,
          0.31820000000000004,
          0,
          0.5859,
          -0.6249,
          0.40190000000000003,
          0,
          -0.8555,
          0.5106,
          -0.7003,
          0.5994,
          0.3612,
          0.4767,
          0.5859,
          0.0772,
          0.8316,
          0.42150000000000004,
          0,
          0.34,
          0.9698,
          -0.296,
          -0.40190000000000003,
          0,
          0,
          -0.4404,
          0.6369,
          0,
          0.3612,
          0.5267000000000001,
          0.7717,
          0,
          0.4939,
          0,
          0,
          0.31820000000000004,
          0,
          0,
          0.40190000000000003,
          0.552,
          0,
          0.5859,
          -0.40190000000000003,
          0,
          0.8696,
          0.2023,
          0.0772,
          0.6597000000000001,
          0.8598,
          0.7717,
          0.9169,
          -0.6486000000000001,
          0.8074,
          0.8689,
          0.6369,
          0.802,
          -0.40190000000000003,
          -0.6908000000000001,
          0.5859,
          0.5106,
          0.0772,
          0.33530000000000004,
          0.8074,
          0,
          0.9628000000000001,
          0,
          0,
          0,
          0,
          0.9022,
          0,
          0,
          0.6249,
          0.8807,
          0,
          0,
          0.7003,
          0.926,
          0,
          0,
          0.42150000000000004,
          0.4404,
          0,
          0,
          0.8402000000000001,
          0.4767,
          0,
          0.5106,
          0,
          0.0516,
          -0.1779,
          0,
          -0.128,
          -0.5106,
          0,
          0.38180000000000003,
          0,
          0,
          0.3612,
          0.7579,
          0.25,
          0,
          0.42150000000000004,
          0.6705,
          0,
          0.42150000000000004,
          0.743,
          0.8402000000000001,
          0.6124,
          0.9118,
          -0.5859,
          0.8588,
          0,
          -0.40190000000000003,
          0,
          0.31820000000000004,
          0,
          0.40190000000000003,
          -0.1027,
          0.40190000000000003,
          0,
          0.31820000000000004,
          0.875,
          0.9915,
          0.3612,
          0.40190000000000003,
          0.9571000000000001,
          0.9432,
          0.7512000000000001,
          0.2023,
          0.9393,
          0,
          0.2263,
          0.8658,
          0.875,
          -0.31820000000000004,
          0,
          0.4939,
          0,
          0.38180000000000003,
          -0.0516,
          0,
          0,
          0.975,
          0.743,
          0.6908000000000001,
          0.45880000000000004,
          0,
          -0.38180000000000003,
          -0.5574,
          -0.7003,
          0.42150000000000004,
          0.8834000000000001,
          0,
          0.1027,
          0.6486000000000001,
          0.8225,
          -0.3612,
          0.40190000000000003,
          0.5719000000000001,
          0.4404,
          0.4939,
          0,
          0,
          -0.2185,
          -0.1779,
          0.2023,
          0.886,
          0.3612,
          0.38180000000000003,
          0.3612,
          -0.296,
          0.6486000000000001,
          0.228,
          -0.296,
          0,
          0,
          0,
          0,
          0.8519,
          -0.4767,
          0,
          0.1779,
          0.6808000000000001,
          0.5574,
          0,
          0,
          0,
          0.872,
          0,
          0,
          0.1779,
          0.6908000000000001,
          0.6369,
          0.3612,
          0.5106,
          0.8555,
          0,
          0.5267000000000001,
          0.42150000000000004,
          0.6369,
          0.5994,
          0.9799,
          0,
          0.9313,
          0.7717,
          0,
          0.3612,
          0.6369,
          0.8676,
          0.5994,
          0.9118,
          0.6597000000000001,
          0.9571000000000001,
          0.743,
          0.886,
          -0.4939,
          -0.7269,
          0,
          0.0258,
          0.9022,
          0,
          -0.1531,
          -0.0772,
          0.0772,
          0.31820000000000004,
          -0.2732,
          0.5106,
          0,
          0,
          -0.45880000000000004,
          -0.2023,
          0.6808000000000001,
          0,
          0,
          0,
          0.5859,
          0.6124,
          0.1779,
          0.9274,
          0.5574,
          0.6597000000000001,
          0.5106,
          0.45880000000000004,
          0.4404,
          0.9382,
          0,
          0.6249,
          0,
          0,
          0.8074,
          0.128,
          0.25,
          0,
          0,
          0,
          0.7003,
          0,
          0.7184,
          0.7964,
          -0.0516,
          -0.1779,
          0,
          0.8402000000000001,
          0.4404,
          0.6486000000000001,
          0.8979,
          0,
          0.128,
          0,
          0,
          -0.6908000000000001,
          0,
          0.38180000000000003,
          0.6597000000000001,
          0,
          0.38180000000000003,
          0.42150000000000004,
          0.802,
          -0.7184,
          0.5267000000000001,
          0,
          0,
          0,
          0.8689,
          0.5267000000000001,
          0,
          0,
          0.886,
          0.891,
          0.9747,
          0.42150000000000004,
          0,
          0.6369,
          -0.0772,
          0.9808,
          0,
          0.9382,
          0.8885000000000001,
          0.45880000000000004,
          0.4767,
          0.765,
          0,
          0.42150000000000004,
          0.7845000000000001
         ],
         "y0": " ",
         "yaxis": "y"
        }
       ],
       "layout": {
        "boxmode": "group",
        "legend": {
         "tracegroupgap": 0
        },
        "margin": {
         "t": 60
        },
        "template": {
         "data": {
          "bar": [
           {
            "error_x": {
             "color": "#2a3f5f"
            },
            "error_y": {
             "color": "#2a3f5f"
            },
            "marker": {
             "line": {
              "color": "#E5ECF6",
              "width": 0.5
             }
            },
            "type": "bar"
           }
          ],
          "barpolar": [
           {
            "marker": {
             "line": {
              "color": "#E5ECF6",
              "width": 0.5
             }
            },
            "type": "barpolar"
           }
          ],
          "carpet": [
           {
            "aaxis": {
             "endlinecolor": "#2a3f5f",
             "gridcolor": "white",
             "linecolor": "white",
             "minorgridcolor": "white",
             "startlinecolor": "#2a3f5f"
            },
            "baxis": {
             "endlinecolor": "#2a3f5f",
             "gridcolor": "white",
             "linecolor": "white",
             "minorgridcolor": "white",
             "startlinecolor": "#2a3f5f"
            },
            "type": "carpet"
           }
          ],
          "choropleth": [
           {
            "colorbar": {
             "outlinewidth": 0,
             "ticks": ""
            },
            "type": "choropleth"
           }
          ],
          "contour": [
           {
            "colorbar": {
             "outlinewidth": 0,
             "ticks": ""
            },
            "colorscale": [
             [
              0,
              "#0d0887"
             ],
             [
              0.1111111111111111,
              "#46039f"
             ],
             [
              0.2222222222222222,
              "#7201a8"
             ],
             [
              0.3333333333333333,
              "#9c179e"
             ],
             [
              0.4444444444444444,
              "#bd3786"
             ],
             [
              0.5555555555555556,
              "#d8576b"
             ],
             [
              0.6666666666666666,
              "#ed7953"
             ],
             [
              0.7777777777777778,
              "#fb9f3a"
             ],
             [
              0.8888888888888888,
              "#fdca26"
             ],
             [
              1,
              "#f0f921"
             ]
            ],
            "type": "contour"
           }
          ],
          "contourcarpet": [
           {
            "colorbar": {
             "outlinewidth": 0,
             "ticks": ""
            },
            "type": "contourcarpet"
           }
          ],
          "heatmap": [
           {
            "colorbar": {
             "outlinewidth": 0,
             "ticks": ""
            },
            "colorscale": [
             [
              0,
              "#0d0887"
             ],
             [
              0.1111111111111111,
              "#46039f"
             ],
             [
              0.2222222222222222,
              "#7201a8"
             ],
             [
              0.3333333333333333,
              "#9c179e"
             ],
             [
              0.4444444444444444,
              "#bd3786"
             ],
             [
              0.5555555555555556,
              "#d8576b"
             ],
             [
              0.6666666666666666,
              "#ed7953"
             ],
             [
              0.7777777777777778,
              "#fb9f3a"
             ],
             [
              0.8888888888888888,
              "#fdca26"
             ],
             [
              1,
              "#f0f921"
             ]
            ],
            "type": "heatmap"
           }
          ],
          "heatmapgl": [
           {
            "colorbar": {
             "outlinewidth": 0,
             "ticks": ""
            },
            "colorscale": [
             [
              0,
              "#0d0887"
             ],
             [
              0.1111111111111111,
              "#46039f"
             ],
             [
              0.2222222222222222,
              "#7201a8"
             ],
             [
              0.3333333333333333,
              "#9c179e"
             ],
             [
              0.4444444444444444,
              "#bd3786"
             ],
             [
              0.5555555555555556,
              "#d8576b"
             ],
             [
              0.6666666666666666,
              "#ed7953"
             ],
             [
              0.7777777777777778,
              "#fb9f3a"
             ],
             [
              0.8888888888888888,
              "#fdca26"
             ],
             [
              1,
              "#f0f921"
             ]
            ],
            "type": "heatmapgl"
           }
          ],
          "histogram": [
           {
            "marker": {
             "colorbar": {
              "outlinewidth": 0,
              "ticks": ""
             }
            },
            "type": "histogram"
           }
          ],
          "histogram2d": [
           {
            "colorbar": {
             "outlinewidth": 0,
             "ticks": ""
            },
            "colorscale": [
             [
              0,
              "#0d0887"
             ],
             [
              0.1111111111111111,
              "#46039f"
             ],
             [
              0.2222222222222222,
              "#7201a8"
             ],
             [
              0.3333333333333333,
              "#9c179e"
             ],
             [
              0.4444444444444444,
              "#bd3786"
             ],
             [
              0.5555555555555556,
              "#d8576b"
             ],
             [
              0.6666666666666666,
              "#ed7953"
             ],
             [
              0.7777777777777778,
              "#fb9f3a"
             ],
             [
              0.8888888888888888,
              "#fdca26"
             ],
             [
              1,
              "#f0f921"
             ]
            ],
            "type": "histogram2d"
           }
          ],
          "histogram2dcontour": [
           {
            "colorbar": {
             "outlinewidth": 0,
             "ticks": ""
            },
            "colorscale": [
             [
              0,
              "#0d0887"
             ],
             [
              0.1111111111111111,
              "#46039f"
             ],
             [
              0.2222222222222222,
              "#7201a8"
             ],
             [
              0.3333333333333333,
              "#9c179e"
             ],
             [
              0.4444444444444444,
              "#bd3786"
             ],
             [
              0.5555555555555556,
              "#d8576b"
             ],
             [
              0.6666666666666666,
              "#ed7953"
             ],
             [
              0.7777777777777778,
              "#fb9f3a"
             ],
             [
              0.8888888888888888,
              "#fdca26"
             ],
             [
              1,
              "#f0f921"
             ]
            ],
            "type": "histogram2dcontour"
           }
          ],
          "mesh3d": [
           {
            "colorbar": {
             "outlinewidth": 0,
             "ticks": ""
            },
            "type": "mesh3d"
           }
          ],
          "parcoords": [
           {
            "line": {
             "colorbar": {
              "outlinewidth": 0,
              "ticks": ""
             }
            },
            "type": "parcoords"
           }
          ],
          "pie": [
           {
            "automargin": true,
            "type": "pie"
           }
          ],
          "scatter": [
           {
            "marker": {
             "colorbar": {
              "outlinewidth": 0,
              "ticks": ""
             }
            },
            "type": "scatter"
           }
          ],
          "scatter3d": [
           {
            "line": {
             "colorbar": {
              "outlinewidth": 0,
              "ticks": ""
             }
            },
            "marker": {
             "colorbar": {
              "outlinewidth": 0,
              "ticks": ""
             }
            },
            "type": "scatter3d"
           }
          ],
          "scattercarpet": [
           {
            "marker": {
             "colorbar": {
              "outlinewidth": 0,
              "ticks": ""
             }
            },
            "type": "scattercarpet"
           }
          ],
          "scattergeo": [
           {
            "marker": {
             "colorbar": {
              "outlinewidth": 0,
              "ticks": ""
             }
            },
            "type": "scattergeo"
           }
          ],
          "scattergl": [
           {
            "marker": {
             "colorbar": {
              "outlinewidth": 0,
              "ticks": ""
             }
            },
            "type": "scattergl"
           }
          ],
          "scattermapbox": [
           {
            "marker": {
             "colorbar": {
              "outlinewidth": 0,
              "ticks": ""
             }
            },
            "type": "scattermapbox"
           }
          ],
          "scatterpolar": [
           {
            "marker": {
             "colorbar": {
              "outlinewidth": 0,
              "ticks": ""
             }
            },
            "type": "scatterpolar"
           }
          ],
          "scatterpolargl": [
           {
            "marker": {
             "colorbar": {
              "outlinewidth": 0,
              "ticks": ""
             }
            },
            "type": "scatterpolargl"
           }
          ],
          "scatterternary": [
           {
            "marker": {
             "colorbar": {
              "outlinewidth": 0,
              "ticks": ""
             }
            },
            "type": "scatterternary"
           }
          ],
          "surface": [
           {
            "colorbar": {
             "outlinewidth": 0,
             "ticks": ""
            },
            "colorscale": [
             [
              0,
              "#0d0887"
             ],
             [
              0.1111111111111111,
              "#46039f"
             ],
             [
              0.2222222222222222,
              "#7201a8"
             ],
             [
              0.3333333333333333,
              "#9c179e"
             ],
             [
              0.4444444444444444,
              "#bd3786"
             ],
             [
              0.5555555555555556,
              "#d8576b"
             ],
             [
              0.6666666666666666,
              "#ed7953"
             ],
             [
              0.7777777777777778,
              "#fb9f3a"
             ],
             [
              0.8888888888888888,
              "#fdca26"
             ],
             [
              1,
              "#f0f921"
             ]
            ],
            "type": "surface"
           }
          ],
          "table": [
           {
            "cells": {
             "fill": {
              "color": "#EBF0F8"
             },
             "line": {
              "color": "white"
             }
            },
            "header": {
             "fill": {
              "color": "#C8D4E3"
             },
             "line": {
              "color": "white"
             }
            },
            "type": "table"
           }
          ]
         },
         "layout": {
          "annotationdefaults": {
           "arrowcolor": "#2a3f5f",
           "arrowhead": 0,
           "arrowwidth": 1
          },
          "autotypenumbers": "strict",
          "coloraxis": {
           "colorbar": {
            "outlinewidth": 0,
            "ticks": ""
           }
          },
          "colorscale": {
           "diverging": [
            [
             0,
             "#8e0152"
            ],
            [
             0.1,
             "#c51b7d"
            ],
            [
             0.2,
             "#de77ae"
            ],
            [
             0.3,
             "#f1b6da"
            ],
            [
             0.4,
             "#fde0ef"
            ],
            [
             0.5,
             "#f7f7f7"
            ],
            [
             0.6,
             "#e6f5d0"
            ],
            [
             0.7,
             "#b8e186"
            ],
            [
             0.8,
             "#7fbc41"
            ],
            [
             0.9,
             "#4d9221"
            ],
            [
             1,
             "#276419"
            ]
           ],
           "sequential": [
            [
             0,
             "#0d0887"
            ],
            [
             0.1111111111111111,
             "#46039f"
            ],
            [
             0.2222222222222222,
             "#7201a8"
            ],
            [
             0.3333333333333333,
             "#9c179e"
            ],
            [
             0.4444444444444444,
             "#bd3786"
            ],
            [
             0.5555555555555556,
             "#d8576b"
            ],
            [
             0.6666666666666666,
             "#ed7953"
            ],
            [
             0.7777777777777778,
             "#fb9f3a"
            ],
            [
             0.8888888888888888,
             "#fdca26"
            ],
            [
             1,
             "#f0f921"
            ]
           ],
           "sequentialminus": [
            [
             0,
             "#0d0887"
            ],
            [
             0.1111111111111111,
             "#46039f"
            ],
            [
             0.2222222222222222,
             "#7201a8"
            ],
            [
             0.3333333333333333,
             "#9c179e"
            ],
            [
             0.4444444444444444,
             "#bd3786"
            ],
            [
             0.5555555555555556,
             "#d8576b"
            ],
            [
             0.6666666666666666,
             "#ed7953"
            ],
            [
             0.7777777777777778,
             "#fb9f3a"
            ],
            [
             0.8888888888888888,
             "#fdca26"
            ],
            [
             1,
             "#f0f921"
            ]
           ]
          },
          "colorway": [
           "#636efa",
           "#EF553B",
           "#00cc96",
           "#ab63fa",
           "#FFA15A",
           "#19d3f3",
           "#FF6692",
           "#B6E880",
           "#FF97FF",
           "#FECB52"
          ],
          "font": {
           "color": "#2a3f5f"
          },
          "geo": {
           "bgcolor": "white",
           "lakecolor": "white",
           "landcolor": "#E5ECF6",
           "showlakes": true,
           "showland": true,
           "subunitcolor": "white"
          },
          "hoverlabel": {
           "align": "left"
          },
          "hovermode": "closest",
          "mapbox": {
           "style": "light"
          },
          "paper_bgcolor": "white",
          "plot_bgcolor": "#E5ECF6",
          "polar": {
           "angularaxis": {
            "gridcolor": "white",
            "linecolor": "white",
            "ticks": ""
           },
           "bgcolor": "#E5ECF6",
           "radialaxis": {
            "gridcolor": "white",
            "linecolor": "white",
            "ticks": ""
           }
          },
          "scene": {
           "xaxis": {
            "backgroundcolor": "#E5ECF6",
            "gridcolor": "white",
            "gridwidth": 2,
            "linecolor": "white",
            "showbackground": true,
            "ticks": "",
            "zerolinecolor": "white"
           },
           "yaxis": {
            "backgroundcolor": "#E5ECF6",
            "gridcolor": "white",
            "gridwidth": 2,
            "linecolor": "white",
            "showbackground": true,
            "ticks": "",
            "zerolinecolor": "white"
           },
           "zaxis": {
            "backgroundcolor": "#E5ECF6",
            "gridcolor": "white",
            "gridwidth": 2,
            "linecolor": "white",
            "showbackground": true,
            "ticks": "",
            "zerolinecolor": "white"
           }
          },
          "shapedefaults": {
           "line": {
            "color": "#2a3f5f"
           }
          },
          "ternary": {
           "aaxis": {
            "gridcolor": "white",
            "linecolor": "white",
            "ticks": ""
           },
           "baxis": {
            "gridcolor": "white",
            "linecolor": "white",
            "ticks": ""
           },
           "bgcolor": "#E5ECF6",
           "caxis": {
            "gridcolor": "white",
            "linecolor": "white",
            "ticks": ""
           }
          },
          "title": {
           "x": 0.05
          },
          "xaxis": {
           "automargin": true,
           "gridcolor": "white",
           "linecolor": "white",
           "ticks": "",
           "title": {
            "standoff": 15
           },
           "zerolinecolor": "white",
           "zerolinewidth": 2
          },
          "yaxis": {
           "automargin": true,
           "gridcolor": "white",
           "linecolor": "white",
           "ticks": "",
           "title": {
            "standoff": 15
           },
           "zerolinecolor": "white",
           "zerolinewidth": 2
          }
         }
        },
        "title": {
         "text": "Release Model X (September 2015)"
        },
        "xaxis": {
         "anchor": "y",
         "domain": [
          0,
          1
         ],
         "title": {
          "text": "Periods compared to the event"
         }
        },
        "yaxis": {
         "anchor": "x",
         "domain": [
          0,
          1
         ],
         "title": {
          "text": "Vader Sentiment Score"
         }
        }
       }
      }
     },
     "metadata": {},
     "output_type": "display_data"
    }
   ],
   "source": [
    "# Release Model X (September 2015)\n",
    "sortie_tesla_1 = datetime.strptime(str('2015-09-15'), '%Y-%m-%d')\n",
    "n_day = 20\n",
    "num_day_event = 10\n",
    "df  = find_review_event(sortie_tesla_1, df_tesla, n_day, num_day_event)\n",
    "\n",
    "fig = px.box(df, x=\"type\", y='Vader_Sentiment')\n",
    "fig.update_traces(quartilemethod=\"exclusive\")\n",
    "fig.update_layout(title=\"Release Model X (September 2015)\",\n",
    "    yaxis_title='Vader Sentiment Score',xaxis_title='Periods compared to the event')\n",
    "fig.show()"
   ]
  },
  {
   "cell_type": "markdown",
   "metadata": {},
   "source": [
    "### PieChart"
   ]
  },
  {
   "cell_type": "code",
   "execution_count": 141,
   "metadata": {},
   "outputs": [],
   "source": [
    "def update_qids_freq(df_old, percentage, type_):\n",
    "    df_ = df_old.explode(type_).groupby(by=type_).count().reset_index()\n",
    "    tot = sum(df_['date'])\n",
    "    df_['percentage'] = df_['date'].apply(lambda x: (x*100)/tot)\n",
    "    df_new = df_[df_['percentage'] > percentage]\n",
    "    df_new = df_new[df_new[type_] != 0]\n",
    "    return df_new"
   ]
  },
  {
   "cell_type": "markdown",
   "metadata": {},
   "source": [
    "#### Occupations "
   ]
  },
  {
   "cell_type": "code",
   "execution_count": 142,
   "metadata": {},
   "outputs": [
    {
     "data": {
      "application/vnd.plotly.v1+json": {
       "config": {
        "plotlyServerURL": "https://plot.ly"
       },
       "data": [
        {
         "domain": {
          "x": [
           0,
           0.45
          ],
          "y": [
           0,
           1
          ]
         },
         "labels": [
          "actor",
          "aerospace engineer",
          "association football player",
          "businessperson",
          "engineer",
          "entrepreneur",
          "inventor",
          "journalist",
          "lawyer",
          "politician",
          "programmer",
          "researcher",
          "writer"
         ],
         "type": "pie",
         "values": [
          4263,
          3461,
          432,
          960,
          3860,
          3853,
          3585,
          629,
          479,
          1573,
          3554,
          592,
          601
         ]
        },
        {
         "domain": {
          "x": [
           0.55,
           1
          ],
          "y": [
           0,
           1
          ]
         },
         "labels": [
          "American football player",
          "Formula One driver",
          "NASCAR team owner",
          "actor",
          "association football player",
          "basketball player",
          "business executive",
          "businessperson",
          "engineer",
          "film actor",
          "ice hockey player",
          "model",
          "politician",
          "racing automobile driver",
          "racing driver",
          "singer",
          "television actor",
          "writer"
         ],
         "type": "pie",
         "values": [
          110,
          74,
          196,
          162,
          172,
          72,
          57,
          122,
          114,
          146,
          58,
          76,
          167,
          1159,
          552,
          112,
          103,
          71
         ]
        }
       ],
       "layout": {
        "annotations": [
         {
          "font": {
           "size": 16
          },
          "showarrow": false,
          "text": "Tesla",
          "x": 0.225,
          "xanchor": "center",
          "xref": "paper",
          "y": 1,
          "yanchor": "bottom",
          "yref": "paper"
         },
         {
          "font": {
           "size": 16
          },
          "showarrow": false,
          "text": "Chevrolet",
          "x": 0.775,
          "xanchor": "center",
          "xref": "paper",
          "y": 1,
          "yanchor": "bottom",
          "yref": "paper"
         }
        ],
        "template": {
         "data": {
          "bar": [
           {
            "error_x": {
             "color": "#2a3f5f"
            },
            "error_y": {
             "color": "#2a3f5f"
            },
            "marker": {
             "line": {
              "color": "#E5ECF6",
              "width": 0.5
             }
            },
            "type": "bar"
           }
          ],
          "barpolar": [
           {
            "marker": {
             "line": {
              "color": "#E5ECF6",
              "width": 0.5
             }
            },
            "type": "barpolar"
           }
          ],
          "carpet": [
           {
            "aaxis": {
             "endlinecolor": "#2a3f5f",
             "gridcolor": "white",
             "linecolor": "white",
             "minorgridcolor": "white",
             "startlinecolor": "#2a3f5f"
            },
            "baxis": {
             "endlinecolor": "#2a3f5f",
             "gridcolor": "white",
             "linecolor": "white",
             "minorgridcolor": "white",
             "startlinecolor": "#2a3f5f"
            },
            "type": "carpet"
           }
          ],
          "choropleth": [
           {
            "colorbar": {
             "outlinewidth": 0,
             "ticks": ""
            },
            "type": "choropleth"
           }
          ],
          "contour": [
           {
            "colorbar": {
             "outlinewidth": 0,
             "ticks": ""
            },
            "colorscale": [
             [
              0,
              "#0d0887"
             ],
             [
              0.1111111111111111,
              "#46039f"
             ],
             [
              0.2222222222222222,
              "#7201a8"
             ],
             [
              0.3333333333333333,
              "#9c179e"
             ],
             [
              0.4444444444444444,
              "#bd3786"
             ],
             [
              0.5555555555555556,
              "#d8576b"
             ],
             [
              0.6666666666666666,
              "#ed7953"
             ],
             [
              0.7777777777777778,
              "#fb9f3a"
             ],
             [
              0.8888888888888888,
              "#fdca26"
             ],
             [
              1,
              "#f0f921"
             ]
            ],
            "type": "contour"
           }
          ],
          "contourcarpet": [
           {
            "colorbar": {
             "outlinewidth": 0,
             "ticks": ""
            },
            "type": "contourcarpet"
           }
          ],
          "heatmap": [
           {
            "colorbar": {
             "outlinewidth": 0,
             "ticks": ""
            },
            "colorscale": [
             [
              0,
              "#0d0887"
             ],
             [
              0.1111111111111111,
              "#46039f"
             ],
             [
              0.2222222222222222,
              "#7201a8"
             ],
             [
              0.3333333333333333,
              "#9c179e"
             ],
             [
              0.4444444444444444,
              "#bd3786"
             ],
             [
              0.5555555555555556,
              "#d8576b"
             ],
             [
              0.6666666666666666,
              "#ed7953"
             ],
             [
              0.7777777777777778,
              "#fb9f3a"
             ],
             [
              0.8888888888888888,
              "#fdca26"
             ],
             [
              1,
              "#f0f921"
             ]
            ],
            "type": "heatmap"
           }
          ],
          "heatmapgl": [
           {
            "colorbar": {
             "outlinewidth": 0,
             "ticks": ""
            },
            "colorscale": [
             [
              0,
              "#0d0887"
             ],
             [
              0.1111111111111111,
              "#46039f"
             ],
             [
              0.2222222222222222,
              "#7201a8"
             ],
             [
              0.3333333333333333,
              "#9c179e"
             ],
             [
              0.4444444444444444,
              "#bd3786"
             ],
             [
              0.5555555555555556,
              "#d8576b"
             ],
             [
              0.6666666666666666,
              "#ed7953"
             ],
             [
              0.7777777777777778,
              "#fb9f3a"
             ],
             [
              0.8888888888888888,
              "#fdca26"
             ],
             [
              1,
              "#f0f921"
             ]
            ],
            "type": "heatmapgl"
           }
          ],
          "histogram": [
           {
            "marker": {
             "colorbar": {
              "outlinewidth": 0,
              "ticks": ""
             }
            },
            "type": "histogram"
           }
          ],
          "histogram2d": [
           {
            "colorbar": {
             "outlinewidth": 0,
             "ticks": ""
            },
            "colorscale": [
             [
              0,
              "#0d0887"
             ],
             [
              0.1111111111111111,
              "#46039f"
             ],
             [
              0.2222222222222222,
              "#7201a8"
             ],
             [
              0.3333333333333333,
              "#9c179e"
             ],
             [
              0.4444444444444444,
              "#bd3786"
             ],
             [
              0.5555555555555556,
              "#d8576b"
             ],
             [
              0.6666666666666666,
              "#ed7953"
             ],
             [
              0.7777777777777778,
              "#fb9f3a"
             ],
             [
              0.8888888888888888,
              "#fdca26"
             ],
             [
              1,
              "#f0f921"
             ]
            ],
            "type": "histogram2d"
           }
          ],
          "histogram2dcontour": [
           {
            "colorbar": {
             "outlinewidth": 0,
             "ticks": ""
            },
            "colorscale": [
             [
              0,
              "#0d0887"
             ],
             [
              0.1111111111111111,
              "#46039f"
             ],
             [
              0.2222222222222222,
              "#7201a8"
             ],
             [
              0.3333333333333333,
              "#9c179e"
             ],
             [
              0.4444444444444444,
              "#bd3786"
             ],
             [
              0.5555555555555556,
              "#d8576b"
             ],
             [
              0.6666666666666666,
              "#ed7953"
             ],
             [
              0.7777777777777778,
              "#fb9f3a"
             ],
             [
              0.8888888888888888,
              "#fdca26"
             ],
             [
              1,
              "#f0f921"
             ]
            ],
            "type": "histogram2dcontour"
           }
          ],
          "mesh3d": [
           {
            "colorbar": {
             "outlinewidth": 0,
             "ticks": ""
            },
            "type": "mesh3d"
           }
          ],
          "parcoords": [
           {
            "line": {
             "colorbar": {
              "outlinewidth": 0,
              "ticks": ""
             }
            },
            "type": "parcoords"
           }
          ],
          "pie": [
           {
            "automargin": true,
            "type": "pie"
           }
          ],
          "scatter": [
           {
            "marker": {
             "colorbar": {
              "outlinewidth": 0,
              "ticks": ""
             }
            },
            "type": "scatter"
           }
          ],
          "scatter3d": [
           {
            "line": {
             "colorbar": {
              "outlinewidth": 0,
              "ticks": ""
             }
            },
            "marker": {
             "colorbar": {
              "outlinewidth": 0,
              "ticks": ""
             }
            },
            "type": "scatter3d"
           }
          ],
          "scattercarpet": [
           {
            "marker": {
             "colorbar": {
              "outlinewidth": 0,
              "ticks": ""
             }
            },
            "type": "scattercarpet"
           }
          ],
          "scattergeo": [
           {
            "marker": {
             "colorbar": {
              "outlinewidth": 0,
              "ticks": ""
             }
            },
            "type": "scattergeo"
           }
          ],
          "scattergl": [
           {
            "marker": {
             "colorbar": {
              "outlinewidth": 0,
              "ticks": ""
             }
            },
            "type": "scattergl"
           }
          ],
          "scattermapbox": [
           {
            "marker": {
             "colorbar": {
              "outlinewidth": 0,
              "ticks": ""
             }
            },
            "type": "scattermapbox"
           }
          ],
          "scatterpolar": [
           {
            "marker": {
             "colorbar": {
              "outlinewidth": 0,
              "ticks": ""
             }
            },
            "type": "scatterpolar"
           }
          ],
          "scatterpolargl": [
           {
            "marker": {
             "colorbar": {
              "outlinewidth": 0,
              "ticks": ""
             }
            },
            "type": "scatterpolargl"
           }
          ],
          "scatterternary": [
           {
            "marker": {
             "colorbar": {
              "outlinewidth": 0,
              "ticks": ""
             }
            },
            "type": "scatterternary"
           }
          ],
          "surface": [
           {
            "colorbar": {
             "outlinewidth": 0,
             "ticks": ""
            },
            "colorscale": [
             [
              0,
              "#0d0887"
             ],
             [
              0.1111111111111111,
              "#46039f"
             ],
             [
              0.2222222222222222,
              "#7201a8"
             ],
             [
              0.3333333333333333,
              "#9c179e"
             ],
             [
              0.4444444444444444,
              "#bd3786"
             ],
             [
              0.5555555555555556,
              "#d8576b"
             ],
             [
              0.6666666666666666,
              "#ed7953"
             ],
             [
              0.7777777777777778,
              "#fb9f3a"
             ],
             [
              0.8888888888888888,
              "#fdca26"
             ],
             [
              1,
              "#f0f921"
             ]
            ],
            "type": "surface"
           }
          ],
          "table": [
           {
            "cells": {
             "fill": {
              "color": "#EBF0F8"
             },
             "line": {
              "color": "white"
             }
            },
            "header": {
             "fill": {
              "color": "#C8D4E3"
             },
             "line": {
              "color": "white"
             }
            },
            "type": "table"
           }
          ]
         },
         "layout": {
          "annotationdefaults": {
           "arrowcolor": "#2a3f5f",
           "arrowhead": 0,
           "arrowwidth": 1
          },
          "autotypenumbers": "strict",
          "coloraxis": {
           "colorbar": {
            "outlinewidth": 0,
            "ticks": ""
           }
          },
          "colorscale": {
           "diverging": [
            [
             0,
             "#8e0152"
            ],
            [
             0.1,
             "#c51b7d"
            ],
            [
             0.2,
             "#de77ae"
            ],
            [
             0.3,
             "#f1b6da"
            ],
            [
             0.4,
             "#fde0ef"
            ],
            [
             0.5,
             "#f7f7f7"
            ],
            [
             0.6,
             "#e6f5d0"
            ],
            [
             0.7,
             "#b8e186"
            ],
            [
             0.8,
             "#7fbc41"
            ],
            [
             0.9,
             "#4d9221"
            ],
            [
             1,
             "#276419"
            ]
           ],
           "sequential": [
            [
             0,
             "#0d0887"
            ],
            [
             0.1111111111111111,
             "#46039f"
            ],
            [
             0.2222222222222222,
             "#7201a8"
            ],
            [
             0.3333333333333333,
             "#9c179e"
            ],
            [
             0.4444444444444444,
             "#bd3786"
            ],
            [
             0.5555555555555556,
             "#d8576b"
            ],
            [
             0.6666666666666666,
             "#ed7953"
            ],
            [
             0.7777777777777778,
             "#fb9f3a"
            ],
            [
             0.8888888888888888,
             "#fdca26"
            ],
            [
             1,
             "#f0f921"
            ]
           ],
           "sequentialminus": [
            [
             0,
             "#0d0887"
            ],
            [
             0.1111111111111111,
             "#46039f"
            ],
            [
             0.2222222222222222,
             "#7201a8"
            ],
            [
             0.3333333333333333,
             "#9c179e"
            ],
            [
             0.4444444444444444,
             "#bd3786"
            ],
            [
             0.5555555555555556,
             "#d8576b"
            ],
            [
             0.6666666666666666,
             "#ed7953"
            ],
            [
             0.7777777777777778,
             "#fb9f3a"
            ],
            [
             0.8888888888888888,
             "#fdca26"
            ],
            [
             1,
             "#f0f921"
            ]
           ]
          },
          "colorway": [
           "#636efa",
           "#EF553B",
           "#00cc96",
           "#ab63fa",
           "#FFA15A",
           "#19d3f3",
           "#FF6692",
           "#B6E880",
           "#FF97FF",
           "#FECB52"
          ],
          "font": {
           "color": "#2a3f5f"
          },
          "geo": {
           "bgcolor": "white",
           "lakecolor": "white",
           "landcolor": "#E5ECF6",
           "showlakes": true,
           "showland": true,
           "subunitcolor": "white"
          },
          "hoverlabel": {
           "align": "left"
          },
          "hovermode": "closest",
          "mapbox": {
           "style": "light"
          },
          "paper_bgcolor": "white",
          "plot_bgcolor": "#E5ECF6",
          "polar": {
           "angularaxis": {
            "gridcolor": "white",
            "linecolor": "white",
            "ticks": ""
           },
           "bgcolor": "#E5ECF6",
           "radialaxis": {
            "gridcolor": "white",
            "linecolor": "white",
            "ticks": ""
           }
          },
          "scene": {
           "xaxis": {
            "backgroundcolor": "#E5ECF6",
            "gridcolor": "white",
            "gridwidth": 2,
            "linecolor": "white",
            "showbackground": true,
            "ticks": "",
            "zerolinecolor": "white"
           },
           "yaxis": {
            "backgroundcolor": "#E5ECF6",
            "gridcolor": "white",
            "gridwidth": 2,
            "linecolor": "white",
            "showbackground": true,
            "ticks": "",
            "zerolinecolor": "white"
           },
           "zaxis": {
            "backgroundcolor": "#E5ECF6",
            "gridcolor": "white",
            "gridwidth": 2,
            "linecolor": "white",
            "showbackground": true,
            "ticks": "",
            "zerolinecolor": "white"
           }
          },
          "shapedefaults": {
           "line": {
            "color": "#2a3f5f"
           }
          },
          "ternary": {
           "aaxis": {
            "gridcolor": "white",
            "linecolor": "white",
            "ticks": ""
           },
           "baxis": {
            "gridcolor": "white",
            "linecolor": "white",
            "ticks": ""
           },
           "bgcolor": "#E5ECF6",
           "caxis": {
            "gridcolor": "white",
            "linecolor": "white",
            "ticks": ""
           }
          },
          "title": {
           "x": 0.05
          },
          "xaxis": {
           "automargin": true,
           "gridcolor": "white",
           "linecolor": "white",
           "ticks": "",
           "title": {
            "standoff": 15
           },
           "zerolinecolor": "white",
           "zerolinewidth": 2
          },
          "yaxis": {
           "automargin": true,
           "gridcolor": "white",
           "linecolor": "white",
           "ticks": "",
           "title": {
            "standoff": 15
           },
           "zerolinecolor": "white",
           "zerolinewidth": 2
          }
         }
        }
       }
      }
     },
     "metadata": {},
     "output_type": "display_data"
    }
   ],
   "source": [
    "percentage = 1\n",
    "# Tesla\n",
    "df_t = update_qids_freq(df_tesla, percentage,'occupation_label')\n",
    "#df_t = df_tesla.explode('occupation_label').groupby(by='occupation_label').count().reset_index()\n",
    "#df_t.loc[df_t['date'] < 150, 'occupation_label'] = 'Others' \n",
    "\n",
    "# Chevrolet \n",
    "df_c = update_qids_freq(df_chevrolet, percentage,'occupation_label')\n",
    "#df_c = df_chevrolet.explode('occupation_label').groupby(by='occupation_label').count().reset_index()\n",
    "#df_c.loc[df_c['date'] < 100, 'occupation_label'] = 'Others'\n",
    "\n",
    "# Create Figure\n",
    "fig = make_subplots(rows=1, cols=2, specs=[[{\"type\": \"pie\"}, {\"type\": \"pie\"}]],subplot_titles=('Tesla',  'Chevrolet'))\n",
    "fig.add_trace(go.Pie(labels=df_t.occupation_label, values=df_t.date),row=1, col=1)\n",
    "fig.add_trace(go.Pie(labels=df_c.occupation_label, values=df_c.date),row=1, col=2)\n",
    "\n",
    "fig.show()"
   ]
  },
  {
   "cell_type": "markdown",
   "metadata": {},
   "source": [
    "#### Nationality"
   ]
  },
  {
   "cell_type": "code",
   "execution_count": 144,
   "metadata": {},
   "outputs": [
    {
     "data": {
      "application/vnd.plotly.v1+json": {
       "config": {
        "plotlyServerURL": "https://plot.ly"
       },
       "data": [
        {
         "domain": {
          "x": [
           0,
           0.2888888888888889
          ],
          "y": [
           0,
           1
          ]
         },
         "labels": [
          "Australia",
          "Canada",
          "Germany",
          "India",
          "New Zealand",
          "South Africa",
          "United Kingdom",
          "United States of America"
         ],
         "type": "pie",
         "values": [
          442,
          3868,
          307,
          464,
          159,
          3542,
          1194,
          7928
         ]
        },
        {
         "domain": {
          "x": [
           0.35555555555555557,
           0.6444444444444445
          ],
          "y": [
           0,
           1
          ]
         },
         "labels": [
          "Australia",
          "Brazil",
          "Canada",
          "Colombia",
          "France",
          "Germany",
          "Ireland",
          "Mexico",
          "New Zealand",
          "South Africa",
          "United Kingdom",
          "United States of America"
         ],
         "type": "pie",
         "values": [
          58,
          98,
          176,
          21,
          95,
          29,
          28,
          24,
          112,
          24,
          255,
          1919
         ]
        },
        {
         "domain": {
          "x": [
           0.7111111111111111,
           1
          ],
          "y": [
           0,
           1
          ]
         },
         "labels": [
          "Australia",
          "Austria",
          "Canada",
          "France",
          "Germany",
          "India",
          "Ireland",
          "Japan",
          "New Zealand",
          "Nigeria",
          "Philippines",
          "South Africa",
          "Spain",
          "Switzerland",
          "United Kingdom",
          "United States of America"
         ],
         "type": "pie",
         "values": [
          235,
          47,
          204,
          103,
          71,
          107,
          56,
          460,
          146,
          40,
          36,
          128,
          59,
          55,
          645,
          2368
         ]
        }
       ],
       "layout": {
        "annotations": [
         {
          "font": {
           "size": 16
          },
          "showarrow": false,
          "text": "Tesla",
          "x": 0.14444444444444446,
          "xanchor": "center",
          "xref": "paper",
          "y": 1,
          "yanchor": "bottom",
          "yref": "paper"
         },
         {
          "font": {
           "size": 16
          },
          "showarrow": false,
          "text": "Chevrolet",
          "x": 0.5,
          "xanchor": "center",
          "xref": "paper",
          "y": 1,
          "yanchor": "bottom",
          "yref": "paper"
         },
         {
          "font": {
           "size": 16
          },
          "showarrow": false,
          "text": "Toyota",
          "x": 0.8555555555555556,
          "xanchor": "center",
          "xref": "paper",
          "y": 1,
          "yanchor": "bottom",
          "yref": "paper"
         }
        ],
        "template": {
         "data": {
          "bar": [
           {
            "error_x": {
             "color": "#2a3f5f"
            },
            "error_y": {
             "color": "#2a3f5f"
            },
            "marker": {
             "line": {
              "color": "#E5ECF6",
              "width": 0.5
             }
            },
            "type": "bar"
           }
          ],
          "barpolar": [
           {
            "marker": {
             "line": {
              "color": "#E5ECF6",
              "width": 0.5
             }
            },
            "type": "barpolar"
           }
          ],
          "carpet": [
           {
            "aaxis": {
             "endlinecolor": "#2a3f5f",
             "gridcolor": "white",
             "linecolor": "white",
             "minorgridcolor": "white",
             "startlinecolor": "#2a3f5f"
            },
            "baxis": {
             "endlinecolor": "#2a3f5f",
             "gridcolor": "white",
             "linecolor": "white",
             "minorgridcolor": "white",
             "startlinecolor": "#2a3f5f"
            },
            "type": "carpet"
           }
          ],
          "choropleth": [
           {
            "colorbar": {
             "outlinewidth": 0,
             "ticks": ""
            },
            "type": "choropleth"
           }
          ],
          "contour": [
           {
            "colorbar": {
             "outlinewidth": 0,
             "ticks": ""
            },
            "colorscale": [
             [
              0,
              "#0d0887"
             ],
             [
              0.1111111111111111,
              "#46039f"
             ],
             [
              0.2222222222222222,
              "#7201a8"
             ],
             [
              0.3333333333333333,
              "#9c179e"
             ],
             [
              0.4444444444444444,
              "#bd3786"
             ],
             [
              0.5555555555555556,
              "#d8576b"
             ],
             [
              0.6666666666666666,
              "#ed7953"
             ],
             [
              0.7777777777777778,
              "#fb9f3a"
             ],
             [
              0.8888888888888888,
              "#fdca26"
             ],
             [
              1,
              "#f0f921"
             ]
            ],
            "type": "contour"
           }
          ],
          "contourcarpet": [
           {
            "colorbar": {
             "outlinewidth": 0,
             "ticks": ""
            },
            "type": "contourcarpet"
           }
          ],
          "heatmap": [
           {
            "colorbar": {
             "outlinewidth": 0,
             "ticks": ""
            },
            "colorscale": [
             [
              0,
              "#0d0887"
             ],
             [
              0.1111111111111111,
              "#46039f"
             ],
             [
              0.2222222222222222,
              "#7201a8"
             ],
             [
              0.3333333333333333,
              "#9c179e"
             ],
             [
              0.4444444444444444,
              "#bd3786"
             ],
             [
              0.5555555555555556,
              "#d8576b"
             ],
             [
              0.6666666666666666,
              "#ed7953"
             ],
             [
              0.7777777777777778,
              "#fb9f3a"
             ],
             [
              0.8888888888888888,
              "#fdca26"
             ],
             [
              1,
              "#f0f921"
             ]
            ],
            "type": "heatmap"
           }
          ],
          "heatmapgl": [
           {
            "colorbar": {
             "outlinewidth": 0,
             "ticks": ""
            },
            "colorscale": [
             [
              0,
              "#0d0887"
             ],
             [
              0.1111111111111111,
              "#46039f"
             ],
             [
              0.2222222222222222,
              "#7201a8"
             ],
             [
              0.3333333333333333,
              "#9c179e"
             ],
             [
              0.4444444444444444,
              "#bd3786"
             ],
             [
              0.5555555555555556,
              "#d8576b"
             ],
             [
              0.6666666666666666,
              "#ed7953"
             ],
             [
              0.7777777777777778,
              "#fb9f3a"
             ],
             [
              0.8888888888888888,
              "#fdca26"
             ],
             [
              1,
              "#f0f921"
             ]
            ],
            "type": "heatmapgl"
           }
          ],
          "histogram": [
           {
            "marker": {
             "colorbar": {
              "outlinewidth": 0,
              "ticks": ""
             }
            },
            "type": "histogram"
           }
          ],
          "histogram2d": [
           {
            "colorbar": {
             "outlinewidth": 0,
             "ticks": ""
            },
            "colorscale": [
             [
              0,
              "#0d0887"
             ],
             [
              0.1111111111111111,
              "#46039f"
             ],
             [
              0.2222222222222222,
              "#7201a8"
             ],
             [
              0.3333333333333333,
              "#9c179e"
             ],
             [
              0.4444444444444444,
              "#bd3786"
             ],
             [
              0.5555555555555556,
              "#d8576b"
             ],
             [
              0.6666666666666666,
              "#ed7953"
             ],
             [
              0.7777777777777778,
              "#fb9f3a"
             ],
             [
              0.8888888888888888,
              "#fdca26"
             ],
             [
              1,
              "#f0f921"
             ]
            ],
            "type": "histogram2d"
           }
          ],
          "histogram2dcontour": [
           {
            "colorbar": {
             "outlinewidth": 0,
             "ticks": ""
            },
            "colorscale": [
             [
              0,
              "#0d0887"
             ],
             [
              0.1111111111111111,
              "#46039f"
             ],
             [
              0.2222222222222222,
              "#7201a8"
             ],
             [
              0.3333333333333333,
              "#9c179e"
             ],
             [
              0.4444444444444444,
              "#bd3786"
             ],
             [
              0.5555555555555556,
              "#d8576b"
             ],
             [
              0.6666666666666666,
              "#ed7953"
             ],
             [
              0.7777777777777778,
              "#fb9f3a"
             ],
             [
              0.8888888888888888,
              "#fdca26"
             ],
             [
              1,
              "#f0f921"
             ]
            ],
            "type": "histogram2dcontour"
           }
          ],
          "mesh3d": [
           {
            "colorbar": {
             "outlinewidth": 0,
             "ticks": ""
            },
            "type": "mesh3d"
           }
          ],
          "parcoords": [
           {
            "line": {
             "colorbar": {
              "outlinewidth": 0,
              "ticks": ""
             }
            },
            "type": "parcoords"
           }
          ],
          "pie": [
           {
            "automargin": true,
            "type": "pie"
           }
          ],
          "scatter": [
           {
            "marker": {
             "colorbar": {
              "outlinewidth": 0,
              "ticks": ""
             }
            },
            "type": "scatter"
           }
          ],
          "scatter3d": [
           {
            "line": {
             "colorbar": {
              "outlinewidth": 0,
              "ticks": ""
             }
            },
            "marker": {
             "colorbar": {
              "outlinewidth": 0,
              "ticks": ""
             }
            },
            "type": "scatter3d"
           }
          ],
          "scattercarpet": [
           {
            "marker": {
             "colorbar": {
              "outlinewidth": 0,
              "ticks": ""
             }
            },
            "type": "scattercarpet"
           }
          ],
          "scattergeo": [
           {
            "marker": {
             "colorbar": {
              "outlinewidth": 0,
              "ticks": ""
             }
            },
            "type": "scattergeo"
           }
          ],
          "scattergl": [
           {
            "marker": {
             "colorbar": {
              "outlinewidth": 0,
              "ticks": ""
             }
            },
            "type": "scattergl"
           }
          ],
          "scattermapbox": [
           {
            "marker": {
             "colorbar": {
              "outlinewidth": 0,
              "ticks": ""
             }
            },
            "type": "scattermapbox"
           }
          ],
          "scatterpolar": [
           {
            "marker": {
             "colorbar": {
              "outlinewidth": 0,
              "ticks": ""
             }
            },
            "type": "scatterpolar"
           }
          ],
          "scatterpolargl": [
           {
            "marker": {
             "colorbar": {
              "outlinewidth": 0,
              "ticks": ""
             }
            },
            "type": "scatterpolargl"
           }
          ],
          "scatterternary": [
           {
            "marker": {
             "colorbar": {
              "outlinewidth": 0,
              "ticks": ""
             }
            },
            "type": "scatterternary"
           }
          ],
          "surface": [
           {
            "colorbar": {
             "outlinewidth": 0,
             "ticks": ""
            },
            "colorscale": [
             [
              0,
              "#0d0887"
             ],
             [
              0.1111111111111111,
              "#46039f"
             ],
             [
              0.2222222222222222,
              "#7201a8"
             ],
             [
              0.3333333333333333,
              "#9c179e"
             ],
             [
              0.4444444444444444,
              "#bd3786"
             ],
             [
              0.5555555555555556,
              "#d8576b"
             ],
             [
              0.6666666666666666,
              "#ed7953"
             ],
             [
              0.7777777777777778,
              "#fb9f3a"
             ],
             [
              0.8888888888888888,
              "#fdca26"
             ],
             [
              1,
              "#f0f921"
             ]
            ],
            "type": "surface"
           }
          ],
          "table": [
           {
            "cells": {
             "fill": {
              "color": "#EBF0F8"
             },
             "line": {
              "color": "white"
             }
            },
            "header": {
             "fill": {
              "color": "#C8D4E3"
             },
             "line": {
              "color": "white"
             }
            },
            "type": "table"
           }
          ]
         },
         "layout": {
          "annotationdefaults": {
           "arrowcolor": "#2a3f5f",
           "arrowhead": 0,
           "arrowwidth": 1
          },
          "autotypenumbers": "strict",
          "coloraxis": {
           "colorbar": {
            "outlinewidth": 0,
            "ticks": ""
           }
          },
          "colorscale": {
           "diverging": [
            [
             0,
             "#8e0152"
            ],
            [
             0.1,
             "#c51b7d"
            ],
            [
             0.2,
             "#de77ae"
            ],
            [
             0.3,
             "#f1b6da"
            ],
            [
             0.4,
             "#fde0ef"
            ],
            [
             0.5,
             "#f7f7f7"
            ],
            [
             0.6,
             "#e6f5d0"
            ],
            [
             0.7,
             "#b8e186"
            ],
            [
             0.8,
             "#7fbc41"
            ],
            [
             0.9,
             "#4d9221"
            ],
            [
             1,
             "#276419"
            ]
           ],
           "sequential": [
            [
             0,
             "#0d0887"
            ],
            [
             0.1111111111111111,
             "#46039f"
            ],
            [
             0.2222222222222222,
             "#7201a8"
            ],
            [
             0.3333333333333333,
             "#9c179e"
            ],
            [
             0.4444444444444444,
             "#bd3786"
            ],
            [
             0.5555555555555556,
             "#d8576b"
            ],
            [
             0.6666666666666666,
             "#ed7953"
            ],
            [
             0.7777777777777778,
             "#fb9f3a"
            ],
            [
             0.8888888888888888,
             "#fdca26"
            ],
            [
             1,
             "#f0f921"
            ]
           ],
           "sequentialminus": [
            [
             0,
             "#0d0887"
            ],
            [
             0.1111111111111111,
             "#46039f"
            ],
            [
             0.2222222222222222,
             "#7201a8"
            ],
            [
             0.3333333333333333,
             "#9c179e"
            ],
            [
             0.4444444444444444,
             "#bd3786"
            ],
            [
             0.5555555555555556,
             "#d8576b"
            ],
            [
             0.6666666666666666,
             "#ed7953"
            ],
            [
             0.7777777777777778,
             "#fb9f3a"
            ],
            [
             0.8888888888888888,
             "#fdca26"
            ],
            [
             1,
             "#f0f921"
            ]
           ]
          },
          "colorway": [
           "#636efa",
           "#EF553B",
           "#00cc96",
           "#ab63fa",
           "#FFA15A",
           "#19d3f3",
           "#FF6692",
           "#B6E880",
           "#FF97FF",
           "#FECB52"
          ],
          "font": {
           "color": "#2a3f5f"
          },
          "geo": {
           "bgcolor": "white",
           "lakecolor": "white",
           "landcolor": "#E5ECF6",
           "showlakes": true,
           "showland": true,
           "subunitcolor": "white"
          },
          "hoverlabel": {
           "align": "left"
          },
          "hovermode": "closest",
          "mapbox": {
           "style": "light"
          },
          "paper_bgcolor": "white",
          "plot_bgcolor": "#E5ECF6",
          "polar": {
           "angularaxis": {
            "gridcolor": "white",
            "linecolor": "white",
            "ticks": ""
           },
           "bgcolor": "#E5ECF6",
           "radialaxis": {
            "gridcolor": "white",
            "linecolor": "white",
            "ticks": ""
           }
          },
          "scene": {
           "xaxis": {
            "backgroundcolor": "#E5ECF6",
            "gridcolor": "white",
            "gridwidth": 2,
            "linecolor": "white",
            "showbackground": true,
            "ticks": "",
            "zerolinecolor": "white"
           },
           "yaxis": {
            "backgroundcolor": "#E5ECF6",
            "gridcolor": "white",
            "gridwidth": 2,
            "linecolor": "white",
            "showbackground": true,
            "ticks": "",
            "zerolinecolor": "white"
           },
           "zaxis": {
            "backgroundcolor": "#E5ECF6",
            "gridcolor": "white",
            "gridwidth": 2,
            "linecolor": "white",
            "showbackground": true,
            "ticks": "",
            "zerolinecolor": "white"
           }
          },
          "shapedefaults": {
           "line": {
            "color": "#2a3f5f"
           }
          },
          "ternary": {
           "aaxis": {
            "gridcolor": "white",
            "linecolor": "white",
            "ticks": ""
           },
           "baxis": {
            "gridcolor": "white",
            "linecolor": "white",
            "ticks": ""
           },
           "bgcolor": "#E5ECF6",
           "caxis": {
            "gridcolor": "white",
            "linecolor": "white",
            "ticks": ""
           }
          },
          "title": {
           "x": 0.05
          },
          "xaxis": {
           "automargin": true,
           "gridcolor": "white",
           "linecolor": "white",
           "ticks": "",
           "title": {
            "standoff": 15
           },
           "zerolinecolor": "white",
           "zerolinewidth": 2
          },
          "yaxis": {
           "automargin": true,
           "gridcolor": "white",
           "linecolor": "white",
           "ticks": "",
           "title": {
            "standoff": 15
           },
           "zerolinecolor": "white",
           "zerolinewidth": 2
          }
         }
        }
       }
      }
     },
     "metadata": {},
     "output_type": "display_data"
    }
   ],
   "source": [
    "percentage = 0.5\n",
    "# Tesla\n",
    "df_t = update_qids_freq(df_tesla, percentage,'nationality_label')\n",
    "#df_t = df_tesla.explode('occupation_label').groupby(by='occupation_label').count().reset_index()\n",
    "#df_t.loc[df_t['date'] < 150, 'occupation_label'] = 'Others' \n",
    "\n",
    "# Chevrolet \n",
    "df_c = update_qids_freq(df_chevrolet, percentage,'nationality_label')\n",
    "\n",
    "# Toyota \n",
    "df_toyo = update_qids_freq(df_toyota, percentage,'nationality_label')\n",
    "#df_c = df_chevrolet.explode('occupation_label').groupby(by='occupation_label').count().reset_index()\n",
    "#df_c.loc[df_c['date'] < 100, 'occupation_label'] = 'Others'\n",
    "fig = make_subplots(rows=1, cols=3, specs=[[{\"type\": \"pie\"}, {\"type\": \"pie\"},{\"type\": \"pie\"}]],subplot_titles=('Tesla',  'Chevrolet','Toyota'))\n",
    "fig.add_trace(go.Pie(labels=df_t.nationality_label, values=df_t.date),row=1, col=1)\n",
    "fig.add_trace(go.Pie(labels=df_c.nationality_label, values=df_c.date),row=1, col=2)\n",
    "fig.add_trace(go.Pie(labels=df_toyo.nationality_label, values=df_toyo.date),row=1, col=3)\n",
    "fig.show()"
   ]
  },
  {
   "cell_type": "code",
   "execution_count": null,
   "metadata": {},
   "outputs": [],
   "source": []
  }
 ],
 "metadata": {
  "interpreter": {
   "hash": "e7370f93d1d0cde622a1f8e1c04877d8463912d04d973331ad4851f04de6915a"
  },
  "kernelspec": {
   "display_name": "Python 3.8.10 64-bit",
   "language": "python",
   "name": "python3"
  },
  "language_info": {
   "codemirror_mode": {
    "name": "ipython",
    "version": 3
   },
   "file_extension": ".py",
   "mimetype": "text/x-python",
   "name": "python",
   "nbconvert_exporter": "python",
   "pygments_lexer": "ipython3",
   "version": "3.9.5"
  },
  "orig_nbformat": 4
 },
 "nbformat": 4,
 "nbformat_minor": 2
}
