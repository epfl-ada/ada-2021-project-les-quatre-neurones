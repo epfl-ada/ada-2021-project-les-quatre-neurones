{
 "cells": [
  {
   "cell_type": "code",
   "execution_count": null,
   "metadata": {},
   "outputs": [],
   "source": [
    "import pandas as pd\n",
    "import numpy as np\n",
    "import bz2\n",
    "import json\n",
    "import findspark\n",
    "findspark.init('/Users/tatianacogne/spark')\n",
    "from pyspark.sql import SparkSession\n",
    "import pyspark.sql.functions as sf\n",
    "from datetime import datetime"
   ]
  },
  {
   "cell_type": "markdown",
   "metadata": {},
   "source": [
    "#### Dict and DF useful for this notebook"
   ]
  },
  {
   "cell_type": "code",
   "execution_count": null,
   "metadata": {},
   "outputs": [],
   "source": [
    "from_qids_to_label_occupation = pd.read_json('data/occupations.json') \n",
    "from_qids_to_label_ethnics = pd.read_json('data/ethnic.json' ) \n",
    "from_qids_to_label_religion = pd.read_json('data/religion.json') \n",
    "from_qids_to_label_nationality = pd.read_json('data/nationality.json') \n",
    "from_qids_to_label_party = pd.read_json('data/party.json') \n",
    "from_qids_to_label_gender = pd.read_json('data/gender.json') \n",
    "\n",
    "df_speakers_attributes = pd.read_parquet('data/speaker_attributes.parquet')"
   ]
  },
  {
   "cell_type": "markdown",
   "metadata": {},
   "source": [
    "#### Create a spark context "
   ]
  },
  {
   "cell_type": "code",
   "execution_count": null,
   "metadata": {},
   "outputs": [],
   "source": [
    "spark = SparkSession.builder.getOrCreate()\n",
    "sc = spark.sparkContext"
   ]
  },
  {
   "cell_type": "markdown",
   "metadata": {},
   "source": [
    "### Process for the speaker attributs"
   ]
  },
  {
   "cell_type": "code",
   "execution_count": null,
   "metadata": {},
   "outputs": [],
   "source": [
    "def map_qids_labels(list_qids,df_):\n",
    "    \"\"\"Transform a list of QIDS into a list of labels, return 0 if the list is empty (which is equal to 0 in the dataframe).\"\"\"\n",
    "    if(type(list_qids)!=int):\n",
    "        return [df_[df_.qids == x].values[0][1] for x in list_qids if x!=0]    \n",
    "    else:\n",
    "        return 0  "
   ]
  },
  {
   "cell_type": "code",
   "execution_count": null,
   "metadata": {},
   "outputs": [],
   "source": [
    "def process_speakers_attributes(df_speakers_attributes):\n",
    "    \"\"\"Add the columns for the party, occupation, religion, ethnics and nationality their labels. Take as input the dataframe with the selected speakers and return the same dataframe with the columns added.\"\"\"\n",
    "    df = df_speakers_attributes[['date_of_birth','nationality','gender','ethnic_group','occupation','id','label','religion','party']]\n",
    "    df = df.rename(columns={'date_of_birth':'birth','nationality':'nationality_qids','gender':'gender_qids','ethnic_group':'ethnics_qids','occupation':'occupations_qids','id':'name_qids','label':'name_label','religion':'religion_qids','party':'party_qids','gender':'gender_qids'})\n",
    "    # Add labels for occupations, ethincs, religion, nationality, party\n",
    "    df = df.fillna(0)\n",
    "    df['occupation_label']= df['occupations_qids'].apply(lambda x : map_qids_labels(x,from_qids_to_label_occupation))\n",
    "    df['ethnics_label']= df['ethnics_qids'].apply(lambda x : map_qids_labels(x,from_qids_to_label_ethnics))\n",
    "    df['religion_label']= df['religion_qids'].apply(lambda x : map_qids_labels(x,from_qids_to_label_religion))\n",
    "    df['nationality_label']= df['nationality_qids'].apply(lambda x : map_qids_labels(x,from_qids_to_label_nationality))\n",
    "    df['party_label']= df['party_qids'].apply(lambda x : map_qids_labels(x,from_qids_to_label_party))\n",
    "    df['gender_label']= df['gender_qids'].apply(lambda x : map_qids_labels(x,from_qids_to_label_gender))\n",
    "    return df\n",
    "    "
   ]
  },
  {
   "cell_type": "markdown",
   "metadata": {},
   "source": [
    "#### Select only the QIDS needed in the analysis"
   ]
  },
  {
   "cell_type": "code",
   "execution_count": null,
   "metadata": {},
   "outputs": [],
   "source": [
    "def select_speakers(list_qids):\n",
    "    \"\"\"From a list of QIDS of speakers, return the dataframe with only the speakers that are in the list.\"\"\"\n",
    "    return df_speakers_attributes[df_speakers_attributes.id.isin(list_qids)]"
   ]
  },
  {
   "cell_type": "markdown",
   "metadata": {},
   "source": [
    "### Process for the quotes dataframe"
   ]
  },
  {
   "cell_type": "markdown",
   "metadata": {},
   "source": [
    "#### Open quotes selected,processed and analysed in part 1 & part 2 (all years)"
   ]
  },
  {
   "cell_type": "code",
   "execution_count": null,
   "metadata": {},
   "outputs": [],
   "source": [
    "df_sent = pd.read_json('data/sentiment_quotes.json')\n",
    "df_sent.head(3)"
   ]
  },
  {
   "cell_type": "markdown",
   "metadata": {},
   "source": [
    "#### Split quotes by timeslots"
   ]
  },
  {
   "cell_type": "code",
   "execution_count": null,
   "metadata": {},
   "outputs": [],
   "source": [
    "def select_period(x,time_range):\n",
    "    if(x < time_range[0]):\n",
    "        return 'before'\n",
    "    if(time_range[0] <= x and x <= time_range[1]):\n",
    "        return 'during'\n",
    "    else:\n",
    "        return 'after'"
   ]
  },
  {
   "cell_type": "markdown",
   "metadata": {},
   "source": [
    "#### Change date and add the period of the quotes depending on the event"
   ]
  },
  {
   "cell_type": "code",
   "execution_count": null,
   "metadata": {},
   "outputs": [],
   "source": [
    "def process_dataframe_quotes(df_sent, time_range, speakers, explode_by):\n",
    "    \"\"\" Transform the date into a datetime object ('%Y-%m-%d %H:%M:%S)\n",
    "        Split with the time_range the dataframe df. Add a columns 'period' with the label before, during or after. \n",
    "        Join the quotes dataframe with the speakers dataframe on the name_qids.\n",
    "        Explode the dataframe depending on the column(s) in explode_by\"\"\"\n",
    "    \n",
    "    # Rename the columns and keep only the one needed\n",
    "    df_sent = df_sent.rename(columns={'qids':'name_qids','quoteID':'quote_qids','Emotion':'emotion'})\n",
    "    df_sent = df_sent[['date','name_qids','quotation','quote_qids','Vader_Sentiment','emotion','review']]\n",
    "    # Change timestamp in datetime object and add the perdio depending on the time_range list\n",
    "    df_sent['date']= df_sent['date'].apply(lambda x :datetime.strptime(str(x), '%Y-%m-%d %H:%M:%S'))\n",
    "    df_sent['year_month']= df_sent['date'].apply(lambda x :datetime.strptime(str(x)[:7], '%Y-%m'))\n",
    "    \n",
    "    #df_sent['period'] = df_sent['date'].apply(lambda x : select_period(x,time_range))\n",
    "    \n",
    "    #Join the dataframe with the speakers attributes on the name_qids\n",
    "    df = df_sent.merge(speakers, on='name_qids')\n",
    "\n",
    "    # Explode the df by the column(s) in explode_by\n",
    "    #df = df.explode(explode_by)\n",
    "    \n",
    "    return df\n",
    "  "
   ]
  },
  {
   "cell_type": "markdown",
   "metadata": {},
   "source": [
    "### WORK "
   ]
  },
  {
   "cell_type": "code",
   "execution_count": null,
   "metadata": {},
   "outputs": [],
   "source": [
    "list_qids = df_sent.drop_duplicates(['qids']).qids.values\n",
    "df = select_speakers(list_qids)\n",
    "df_speakers_att = process_speakers_attributes(df)\n",
    "df_speakers_att.head(3)"
   ]
  },
  {
   "cell_type": "code",
   "execution_count": null,
   "metadata": {},
   "outputs": [],
   "source": [
    "start = datetime.strptime(str('2017-07-28 00:00:00'), '%Y-%m-%d %H:%M:%S')\n",
    "end = datetime.strptime(str('2017-07-28 23:59:59'), '%Y-%m-%d %H:%M:%S')\n",
    "time_range = [start,end]\n",
    "speakers = df_speakers_att[['name_qids','name_label','occupations_qids']]\n",
    "explode_by = 'occupations_qids'\n",
    "df_sent = process_dataframe_quotes(df_sent, time_range, speakers, explode_by)\n",
    "df_sent"
   ]
  },
  {
   "cell_type": "code",
   "execution_count": null,
   "metadata": {},
   "outputs": [],
   "source": [
    "test = df_sent.explode('occupations_qids')\n",
    "test"
   ]
  },
  {
   "cell_type": "markdown",
   "metadata": {},
   "source": [
    "#### Plot "
   ]
  },
  {
   "cell_type": "code",
   "execution_count": null,
   "metadata": {},
   "outputs": [],
   "source": [
    "import plotly.express as px\n",
    "\n",
    "fig = px.bar(df_sent, x=\"period\", color=\"emotion\", category_orders={\"period\": [\"before\",'during','after']})\n",
    "fig.show()"
   ]
  },
  {
   "cell_type": "code",
   "execution_count": null,
   "metadata": {},
   "outputs": [],
   "source": [
    "df = df_sent.groupby(by=['name_label','emotion']).count().reset_index()\n",
    "df = df[['name_label','emotion','date']].rename(columns={'date':'count'})"
   ]
  },
  {
   "cell_type": "code",
   "execution_count": null,
   "metadata": {},
   "outputs": [],
   "source": [
    "test"
   ]
  },
  {
   "cell_type": "code",
   "execution_count": null,
   "metadata": {},
   "outputs": [],
   "source": [
    "#df = df.sort_values(by=[\"company_count\", \"Category\"])\n",
    "fig = px.bar(\n",
    "        df,\n",
    "        y='name_label',\n",
    "        x=\"count\",\n",
    "        color=\"emotion\",\n",
    "        barmode=\"stack\",\n",
    "        template=\"plotly_white\",\n",
    "        orientation=\"h\",\n",
    "        hover_name=\"name_label\",\n",
    "        text=\"emotion\",\n",
    "        color_discrete_sequence=px.colors.qualitative.Vivid,\n",
    "    )\n",
    "fig.update_yaxes(\n",
    "        type=\"category\",\n",
    "        categoryorder=\"total ascending\")\n",
    "\n",
    "fig.update_layout(\n",
    "    autosize=False,\n",
    "    width=1500,\n",
    "    height=800,)"
   ]
  }
 ],
 "metadata": {
  "interpreter": {
   "hash": "e7370f93d1d0cde622a1f8e1c04877d8463912d04d973331ad4851f04de6915a"
  },
  "kernelspec": {
   "display_name": "Python 3.8.10 64-bit",
   "language": "python",
   "name": "python3"
  },
  "language_info": {
   "codemirror_mode": {
    "name": "ipython",
    "version": 3
   },
   "file_extension": ".py",
   "mimetype": "text/x-python",
   "name": "python",
   "nbconvert_exporter": "python",
   "pygments_lexer": "ipython3",
   "version": "3.9.5"
  },
  "orig_nbformat": 4
 },
 "nbformat": 4,
 "nbformat_minor": 2
}
