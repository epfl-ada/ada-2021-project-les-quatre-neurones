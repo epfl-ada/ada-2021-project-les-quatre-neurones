{
 "cells": [
  {
   "cell_type": "markdown",
   "metadata": {},
   "source": [
    "# Pipeline\n",
    "\n",
    "In this notebook, we detail an analysis pipeline using the json files produced in the data_processing."
   ]
  },
  {
   "cell_type": "code",
   "execution_count": 1,
   "metadata": {},
   "outputs": [],
   "source": [
    "import pandas as pd\n",
    "import numpy as np\n",
    "import matplotlib.pyplot as plt\n",
    "import re"
   ]
  },
  {
   "cell_type": "code",
   "execution_count": 8,
   "metadata": {},
   "outputs": [],
   "source": [
    "# select the year of interest and load the corresponding dataframe\n",
    "year = 2015\n",
    "path_to_file = 'data/quotes-' + str(year) + '-process.json.bz2' \n",
    "quotes = pd.read_json(path_to_file) "
   ]
  },
  {
   "cell_type": "code",
   "execution_count": 4,
   "metadata": {},
   "outputs": [],
   "source": [
    "def fetch_quotes (df, keyword_list):\n",
    "    ''' From a dataframe df and a list of keywords specified by the user, \n",
    "    this function returns the quotes df_event which count these keywords'''\n",
    "    formatted_input_string =''\n",
    "    for i in len(keyword_list):\n",
    "        increment = '|' + keyword_list[i]\n",
    "        formatted_input_string += increment\n",
    "        \n",
    "    df_event = df.loc[df['content'].str.contains(formatted_input_string,flags=re.IGNORECASE, case=False)]\n",
    "    \n",
    "    return df_event"
   ]
  },
  {
   "cell_type": "code",
   "execution_count": 5,
   "metadata": {},
   "outputs": [
    {
     "ename": "NameError",
     "evalue": "name 'quotes' is not defined",
     "output_type": "error",
     "traceback": [
      "\u001b[0;31m---------------------------------------------------------------------------\u001b[0m",
      "\u001b[0;31mNameError\u001b[0m                                 Traceback (most recent call last)",
      "\u001b[0;32m<ipython-input-5-963188cd5e15>\u001b[0m in \u001b[0;36m<module>\u001b[0;34m\u001b[0m\n\u001b[1;32m      1\u001b[0m \u001b[0;31m#select the important keywords\u001b[0m\u001b[0;34m\u001b[0m\u001b[0;34m\u001b[0m\u001b[0;34m\u001b[0m\u001b[0m\n\u001b[1;32m      2\u001b[0m \u001b[0mkeywords\u001b[0m \u001b[0;34m=\u001b[0m \u001b[0;34m[\u001b[0m\u001b[0;34m'myanmar'\u001b[0m\u001b[0;34m,\u001b[0m \u001b[0;34m'burma'\u001b[0m\u001b[0;34m,\u001b[0m \u001b[0;34m'election'\u001b[0m\u001b[0;34m,\u001b[0m \u001b[0;34m'democracy'\u001b[0m\u001b[0;34m,\u001b[0m \u001b[0;34m'human rights'\u001b[0m\u001b[0;34m,\u001b[0m \u001b[0;34m'aung san suu kyi'\u001b[0m\u001b[0;34m]\u001b[0m\u001b[0;34m\u001b[0m\u001b[0;34m\u001b[0m\u001b[0m\n\u001b[0;32m----> 3\u001b[0;31m \u001b[0mdf_event\u001b[0m \u001b[0;34m=\u001b[0m \u001b[0mfetch_quotes\u001b[0m\u001b[0;34m(\u001b[0m\u001b[0mquotes\u001b[0m\u001b[0;34m,\u001b[0m\u001b[0mkeywords\u001b[0m\u001b[0;34m)\u001b[0m\u001b[0;34m\u001b[0m\u001b[0;34m\u001b[0m\u001b[0m\n\u001b[0m",
      "\u001b[0;31mNameError\u001b[0m: name 'quotes' is not defined"
     ]
    }
   ],
   "source": [
    "#select the important keywords\n",
    "keywords = ['myanmar', 'burma', 'election', 'democracy', 'human rights', 'aung san suu kyi']\n",
    "df_event = fetch_quotes(quotes,keywords)"
   ]
  },
  {
   "cell_type": "code",
   "execution_count": 2,
   "metadata": {},
   "outputs": [],
   "source": [
    "path_occupation= 'data/occupations.json' \n",
    "path_nationality= 'data/nationality.json' \n",
    "path_ethnics= 'data/ethnic.json' \n",
    "path_religion= 'data/religion.json' \n",
    "path_party= 'data/party.json' \n",
    "\n",
    "occupation = pd.read_json(path_occupation) \n",
    "nationality = pd.read_json(path_nationality) \n",
    "ethnics = pd.read_json(path_ethnics) \n",
    "religion = pd.read_json(path_religion) \n",
    "party = pd.read_json(path_party) "
   ]
  },
  {
   "cell_type": "code",
   "execution_count": 7,
   "metadata": {},
   "outputs": [
    {
     "data": {
      "text/plain": [
       "14992"
      ]
     },
     "execution_count": 7,
     "metadata": {},
     "output_type": "execute_result"
    }
   ],
   "source": []
  },
  {
   "cell_type": "code",
   "execution_count": null,
   "metadata": {},
   "outputs": [],
   "source": []
  }
 ],
 "metadata": {
  "interpreter": {
   "hash": "e7370f93d1d0cde622a1f8e1c04877d8463912d04d973331ad4851f04de6915a"
  },
  "kernelspec": {
   "display_name": "Python 3.8.10 64-bit",
   "language": "python",
   "name": "python3"
  },
  "language_info": {
   "codemirror_mode": {
    "name": "ipython",
    "version": 3
   },
   "file_extension": ".py",
   "mimetype": "text/x-python",
   "name": "python",
   "nbconvert_exporter": "python",
   "pygments_lexer": "ipython3",
   "version": "3.8.10"
  },
  "orig_nbformat": 4
 },
 "nbformat": 4,
 "nbformat_minor": 2
}
