{
 "cells": [
  {
   "cell_type": "markdown",
   "metadata": {},
   "source": [
    "## Plots \n",
    "This notebook allows you to combine speaker attributes with selected quotes from Chevrolet and Tesla. It also allows to create graphs useful for the datastory."
   ]
  },
  {
   "cell_type": "code",
   "execution_count": null,
   "metadata": {},
   "outputs": [],
   "source": [
    "!pip install plotly\n",
    "import pandas as pd\n",
    "import numpy as np\n",
    "import bz2\n",
    "import json\n",
    "from datetime import datetime\n",
    "import plotly.express as px\n",
    "from datetime import timedelta as dt\n",
    "import plotly.graph_objects as go\n",
    "from plotly.subplots import make_subplots\n",
    "pd.options.mode.chained_assignment = None"
   ]
  },
  {
   "cell_type": "markdown",
   "metadata": {},
   "source": [
    "#### Upload all the JSON needed to process the quotes and create the plots"
   ]
  },
  {
   "cell_type": "code",
   "execution_count": null,
   "metadata": {},
   "outputs": [],
   "source": [
    "\n",
    "from_qids_to_label_occupation = pd.read_json('data/occupations.json') \n",
    "from_qids_to_label_ethnics = pd.read_json('data/ethnic.json' ) \n",
    "from_qids_to_label_religion = pd.read_json('data/religion.json') \n",
    "from_qids_to_label_nationality = pd.read_json('data/nationality.json') \n",
    "from_qids_to_label_party = pd.read_json('data/party.json') \n",
    "from_qids_to_label_gender = pd.read_json('data/gender.json') \n",
    "\n",
    "df_speakers_attributes = pd.read_parquet('data/speaker_attributes.parquet')"
   ]
  },
  {
   "cell_type": "code",
   "execution_count": null,
   "metadata": {},
   "outputs": [],
   "source": [
    "# QIDS of Elon Musk\n",
    "id_musk = df_speakers_attributes[df_speakers_attributes.label =='Elon Musk'].id.values[0]"
   ]
  },
  {
   "cell_type": "markdown",
   "metadata": {},
   "source": [
    "### Process for the speaker attributes"
   ]
  },
  {
   "cell_type": "code",
   "execution_count": null,
   "metadata": {},
   "outputs": [],
   "source": [
    "def map_qids_labels(list_qids,df_):\n",
    "    \"\"\"Transform a list of QIDS into a list of labels, return 0 if the list is empty (which is equal to 0 in the dataframe).\"\"\"\n",
    "    \n",
    "    if(type(list_qids)!=int):\n",
    "        return [df_[df_.qids == x].values[0][1] for x in list_qids if x!=0 and len(df_[df_.qids == x].values)>=1]    \n",
    "    else:\n",
    "        return 0  "
   ]
  },
  {
   "cell_type": "code",
   "execution_count": null,
   "metadata": {},
   "outputs": [],
   "source": [
    "def process_speakers_attributes(df_speakers_attributes):\n",
    "    \"\"\"Add the columns for the party, occupation, religion, ethnics and nationality their labels. Take as input the dataframe with the selected speakers and return the same dataframe with the columns added.\"\"\"\n",
    "    \n",
    "    df = df_speakers_attributes[['date_of_birth','nationality','gender','ethnic_group','occupation','id','label','religion','party']]\n",
    "    df = df.rename(columns={'date_of_birth':'birth','nationality':'nationality_qids','gender':'gender_qids','ethnic_group':'ethnics_qids','occupation':'occupations_qids','id':'name_qids','label':'name_label','religion':'religion_qids','party':'party_qids','gender':'gender_qids'})\n",
    "    \n",
    "    # Add labels for occupations, ethincs, religion, nationality, party\n",
    "    df = df.fillna(0)\n",
    "    df['occupation_label']= df['occupations_qids'].apply(lambda x : map_qids_labels(x,from_qids_to_label_occupation))\n",
    "    df['ethnics_label']= df['ethnics_qids'].apply(lambda x : map_qids_labels(x,from_qids_to_label_ethnics))\n",
    "    df['religion_label']= df['religion_qids'].apply(lambda x : map_qids_labels(x,from_qids_to_label_religion))\n",
    "    df['nationality_label']= df['nationality_qids'].apply(lambda x : map_qids_labels(x,from_qids_to_label_nationality))\n",
    "    df['party_label']= df['party_qids'].apply(lambda x : map_qids_labels(x,from_qids_to_label_party))\n",
    "    df['gender_label']= df['gender_qids'].apply(lambda x : map_qids_labels(x,from_qids_to_label_gender))\n",
    "    return df\n",
    "    "
   ]
  },
  {
   "cell_type": "markdown",
   "metadata": {},
   "source": [
    "#### Select only the QIDS needed in the analysis"
   ]
  },
  {
   "cell_type": "code",
   "execution_count": null,
   "metadata": {},
   "outputs": [],
   "source": [
    "def select_speakers(list_qids):\n",
    "    \"\"\"From a list of QIDS of speakers, return the dataframe with only the speakers that are in the list.\"\"\"\n",
    "    \n",
    "    return df_speakers_attributes[df_speakers_attributes.id.isin(list_qids)]"
   ]
  },
  {
   "cell_type": "markdown",
   "metadata": {},
   "source": [
    "### Process for the quotes dataframe"
   ]
  },
  {
   "cell_type": "code",
   "execution_count": null,
   "metadata": {},
   "outputs": [],
   "source": [
    "def process_dataframe_quotes(df_sent, speakers):\n",
    "    \"\"\" Transform the date into a datetime object ('%Y-%m-%d %H:%M:%S). Join the quotes dataframe with the speakers dataframe on the name_qids.\"\"\"\n",
    "    \n",
    "    # Rename the columns and keep only the one needed\n",
    "    df_1 = df_sent[['name_qids','quotation','quote_qids','review','Vader_Sentiment']]\n",
    "    \n",
    "    # Change timestamp in datetime object and add the perdio depending on the time_range list\n",
    "    df_sent['date']= df_sent['date'].apply(lambda x :datetime.strptime(str(x), '%Y-%m-%d %H:%M:%S'))\n",
    "    df_sent['year_month']= df_sent['date'].apply(lambda x :datetime.strptime(str(x)[:7], '%Y-%m'))\n",
    "    \n",
    "    #Join the dataframe with the speakers attributes on the name_qids\n",
    "    df = df_sent.merge(speakers, on='name_qids')\n",
    "    return df\n",
    "  "
   ]
  },
  {
   "cell_type": "markdown",
   "metadata": {},
   "source": [
    "#### Chevrolet\n",
    "Upload the Chevrolet's quotes, add the labels for each QIDS."
   ]
  },
  {
   "cell_type": "code",
   "execution_count": null,
   "metadata": {},
   "outputs": [],
   "source": [
    "df_chevrolet= pd.read_json('data/chevrolet_sentiment.json')\n",
    "\n",
    "list_qids_chevrolet = df_chevrolet.drop_duplicates(['name_qids']).name_qids.values\n",
    "df = select_speakers(list_qids_chevrolet)\n",
    "df_speakers_att_chevrolet = process_speakers_attributes(df)\n",
    "\n",
    "speakers = df_speakers_att_chevrolet[['name_qids','name_label','occupations_qids']]\n",
    "df_chevrolet = process_dataframe_quotes(df_chevrolet, speakers)\n",
    "df_chevrolet.head(3)"
   ]
  },
  {
   "cell_type": "markdown",
   "metadata": {},
   "source": [
    "#### Tesla\n",
    "Upload the Tesla's quotes, add the labels for each QIDS."
   ]
  },
  {
   "cell_type": "code",
   "execution_count": null,
   "metadata": {},
   "outputs": [],
   "source": [
    "df_tesla= pd.read_json('data/tesla_sentiment.json')\n",
    "df_tesla.head(3)\n",
    "\n",
    "#list_qids_tesla = [x for x in df_tesla.drop_duplicates(['name_qids']).name_qids.values if x!= id_musk]\n",
    "list_qids_tesla = [x for x in df_tesla.drop_duplicates(['name_qids']).name_qids.values]\n",
    "\n",
    "df = select_speakers(list_qids_tesla)\n",
    "df_speakers_att_tesla = process_speakers_attributes(df)\n",
    "df_speakers_att_tesla.head(3)\n",
    "\n",
    "speakers = df_speakers_att_tesla[['name_qids','name_label','occupations_qids']]\n",
    "df_tesla = process_dataframe_quotes(df_tesla, speakers)\n",
    "df_tesla.head(3)"
   ]
  },
  {
   "cell_type": "markdown",
   "metadata": {},
   "source": [
    "Maitenant que nous avons sélectionné les quotes qui parlent de Chevrolet et de Tesla, calculé les sentiments qui en ressortent, il est de temps d'analyser nos résultats. Pour se faire nous allons dans un premier temps montrer la moyenne des sentiments par mois ainsi que le notre de quotes entre Janvier 2015 et Décembre 2020.  "
   ]
  },
  {
   "cell_type": "markdown",
   "metadata": {},
   "source": [
    "### General Plot\n",
    "Creates three plots for each firm with the number of quotes, their sentimental score mean and std by months"
   ]
  },
  {
   "cell_type": "markdown",
   "metadata": {},
   "source": [
    "#### Chevrolet"
   ]
  },
  {
   "cell_type": "code",
   "execution_count": null,
   "metadata": {},
   "outputs": [],
   "source": [
    "df_chevrolet_plot = df_chevrolet.groupby(by='year_month').mean().reset_index()\n",
    "std = df_chevrolet.groupby(by='year_month').std().reset_index()['Vader_Sentiment']\n",
    "df_chevrolet_plot_review = df_chevrolet_plot[['year_month','Vader_Sentiment']]\n",
    "df_chevrolet_plot_review['count_'] = df_chevrolet.groupby(by='year_month').count().reset_index()['date']\n",
    "\n",
    "fig = make_subplots(rows=3, cols=1, row_heights=[2, 1,1],vertical_spacing=0.1)\n",
    "fig.add_trace(go.Bar(x=df_chevrolet_plot_review.year_month, y=df_chevrolet_plot_review.count_,name=\"Number of quotes groupy by months\",marker_color='darkblue'),row=1, col=1 )\n",
    "fig.add_trace(go.Scatter(x=df_chevrolet_plot_review.year_month, y=df_chevrolet_plot_review.Vader_Sentiment,name=\"Vader sentiment score by month (mean)\"),row=2, col=1)\n",
    "fig.add_trace(go.Scatter(x=df_chevrolet_plot_review.year_month, y=std,name=\"Vader sentiment score by month (std)\"),row=3, col=1)\n",
    "fig.update_layout(\n",
    "    title=\"General Analysis on the Chevrolet's quotes \")\n",
    "fig.show()\n",
    "fig.write_html(\"data/general_chevrolet.html\")"
   ]
  },
  {
   "cell_type": "markdown",
   "metadata": {},
   "source": [
    "On peut remarque que pour Chevrolet, le nombre de quotes varie mais surtout qu'en Janvier 2016, Novembre/Décembre 2016 et Janvier 2017 nous avons presque aucune quote. La moyenne des sentiments par mois et relativement élevée mais surtout très stable mis à part lorsque le nombre de quote est bas. Le troisième plot nous montre la standard déviation également par mois. Contrairement à ce qu'on aurait pû attendre, elle oscille beaucoup. "
   ]
  },
  {
   "cell_type": "markdown",
   "metadata": {},
   "source": [
    "#### Tesla"
   ]
  },
  {
   "cell_type": "code",
   "execution_count": null,
   "metadata": {},
   "outputs": [],
   "source": [
    "df_tesla_plot = df_tesla.groupby(by='year_month').mean().reset_index()\n",
    "df_tesla_plot_review = df_tesla_plot[['year_month','Vader_Sentiment']]\n",
    "std = df_tesla.groupby(by='year_month').std().reset_index()['Vader_Sentiment']\n",
    "df_tesla_plot_review['count_'] = df_tesla.groupby(by='year_month').count().reset_index()['date']\n",
    "\n",
    "fig = make_subplots(rows=3, cols=1, row_heights=[2, 1,1],vertical_spacing=0.1)\n",
    "fig.add_trace(go.Bar(x=df_tesla_plot_review.year_month, y=df_tesla_plot_review.count_,name=\"Number of quotes groupy by months\",marker_color='darkblue'),row=1, col=1)\n",
    "fig.add_trace(go.Scatter(x=df_tesla_plot_review.year_month, y=df_tesla_plot_review.Vader_Sentiment,name=\"Vader sentiment score by month (mean)\"),row=2, col=1)\n",
    "fig.add_trace(go.Scatter(x=df_tesla_plot_review.year_month, y=std,name=\"Vader sentiment score by month (std)\"),row=3, col=1)\n",
    "fig.update_layout(\n",
    "    title=\"General Analysis on the Tesla's quotes \")\n",
    "fig.show()\n",
    "fig.write_html(\"data/general_tesla.html\")"
   ]
  },
  {
   "cell_type": "markdown",
   "metadata": {},
   "source": [
    "Compute the percentage of quotes from Elon Musk regarding of the Tesla's quotes"
   ]
  },
  {
   "cell_type": "code",
   "execution_count": null,
   "metadata": {},
   "outputs": [],
   "source": [
    "musk_quotes = df_tesla[df_tesla.name_qids ==id_musk]['date'].shape[0]\n",
    "s = df_tesla['date'].shape[0]\n",
    "percentage = (musk_quotes*100)/s\n",
    "percentage"
   ]
  },
  {
   "cell_type": "markdown",
   "metadata": {},
   "source": [
    "Maintenat pour Tesla, on voit qu'il y a aussi peut de quotes en début 2016 et fin 2016/début 2017. On pourrait penser que le dataset QuoteBank a peut être moins de données pour cette période. On remarque que contrairement à Chevrolet, le nombre de quotes augement considérablement après 2017. Nous avons aussi découvert que dans nos quotes selectionées, 24% sont des citations d'Elon Musk, le créateur de Tesla. Le score est en moyenne plus bas et beaucoup moins stable que celui de Chevrolet. On remarque finalement que la standard deviation est beaucoup plus stable dans les quotes de Tesla comparé à celle de Chevrolet."
   ]
  },
  {
   "cell_type": "markdown",
   "metadata": {},
   "source": [
    "### BoxPlot Event"
   ]
  },
  {
   "cell_type": "code",
   "execution_count": null,
   "metadata": {},
   "outputs": [],
   "source": [
    "def find_review_event(sortie, df, n_day,num_day_event):\n",
    "    \"\"\" With the variable sortie, take all the quotes with: sortie - (n_day+ num_day_event) < date < sortie + (n_day+ num_day_event). Return a dataframe with a column that specify the period.\"\"\"\n",
    "    \n",
    "    df['year_month_day']= df['date'].apply(lambda x :datetime.strptime(str(x)[:10], '%Y-%m-%d'))\n",
    "    start_event = sortie - dt(days=num_day_event)\n",
    "    end_event = sortie + dt(days=num_day_event)\n",
    "    n_days_ago = sortie - dt(days=n_day+num_day_event)\n",
    "    n_days_after = sortie + dt(days=n_day+num_day_event)\n",
    "    \n",
    "    df_event = df[(df.year_month_day <= end_event) & (df.year_month_day >= start_event)]\n",
    "    df_event['type'] = ['during']*df_event.shape[0]\n",
    "    df_before_event = df[(df.year_month_day < start_event) & (df.year_month_day > n_days_ago)]\n",
    "    df_before_event['type'] = ['before']*df_before_event.shape[0]\n",
    "    df_after_event = df[(df.year_month_day < n_days_after) & (df.year_month_day > end_event)]\n",
    "    df_after_event['type'] = ['after']*df_after_event.shape[0]\n",
    "    \n",
    "    return pd.concat([df_before_event, df_event, df_after_event])"
   ]
  },
  {
   "cell_type": "markdown",
   "metadata": {},
   "source": [
    "#### Chevrolet"
   ]
  },
  {
   "cell_type": "markdown",
   "metadata": {},
   "source": [
    "Released of the Camaro (6th generation), April 2018"
   ]
  },
  {
   "cell_type": "code",
   "execution_count": null,
   "metadata": {},
   "outputs": [],
   "source": [
    "sortie_chev_1 = datetime.strptime(str('2018-04-15'), '%Y-%m-%d')\n",
    "n_day = 20\n",
    "num_day_event = 10\n",
    "df  = find_review_event(sortie_chev_1, df_chevrolet, n_day, num_day_event)\n",
    "\n",
    "fig = go.Figure()\n",
    "fig.add_trace(go.Box(x= df.type, y=df.Vader_Sentiment,\n",
    "    marker_color='darkblue',\n",
    "    boxmean=True # represent mean\n",
    "))\n",
    "fig.update_traces(quartilemethod=\"exclusive\")\n",
    "fig.update_layout(title=\"Release of the Camaro 2018 \",\n",
    "    yaxis_title='Vader Sentiment Score',xaxis_title='Periods')\n",
    "fig.show()\n",
    "fig.write_html(\"data/chevrolet_camaro.html\")"
   ]
  },
  {
   "cell_type": "markdown",
   "metadata": {},
   "source": [
    "Released of the Silverado 2019"
   ]
  },
  {
   "cell_type": "code",
   "execution_count": null,
   "metadata": {},
   "outputs": [],
   "source": [
    "sortie_chev_2 = datetime.strptime(str('2019-01-15'), '%Y-%m-%d')\n",
    "n_day = 20\n",
    "num_day_event = 10\n",
    "df  = find_review_event(sortie_chev_2, df_chevrolet, n_day, num_day_event)\n",
    "\n",
    "fig = go.Figure()\n",
    "fig.add_trace(go.Box(x= df.type, y=df.Vader_Sentiment,\n",
    "    marker_color='darkblue',\n",
    "    boxmean=True # represent mean\n",
    "))\n",
    "fig.update_traces(quartilemethod=\"exclusive\")\n",
    "fig.update_layout(title=\"Released of the Silverado 2019\",\n",
    "    yaxis_title='Vader Sentiment Score',xaxis_title='Periods compared to the event')\n",
    "fig.show()\n",
    "fig.write_html(\"data/chevrolet_silverado.html\")"
   ]
  },
  {
   "cell_type": "markdown",
   "metadata": {},
   "source": [
    "#### Tesla"
   ]
  },
  {
   "cell_type": "markdown",
   "metadata": {},
   "source": [
    "Release Model X (September 2015)"
   ]
  },
  {
   "cell_type": "code",
   "execution_count": null,
   "metadata": {},
   "outputs": [],
   "source": [
    "sortie_tesla_1 = datetime.strptime(str('2015-09-15'), '%Y-%m-%d')\n",
    "n_day = 20\n",
    "num_day_event = 10\n",
    "df  = find_review_event(sortie_tesla_1, df_tesla, n_day, num_day_event)\n",
    "\n",
    "fig = go.Figure()\n",
    "fig.add_trace(go.Box(x= df.type, y=df.Vader_Sentiment,\n",
    "    marker_color='darkblue',\n",
    "    boxmean=True # represent mean\n",
    "))\n",
    "fig.update_traces(quartilemethod=\"exclusive\")\n",
    "fig.update_layout(title=\"Release Model X (September 2015)\",\n",
    "    yaxis_title='Vader Sentiment Score',xaxis_title='Periods')\n",
    "fig.show()\n",
    "fig.write_html(\"data/tesla_model_x.html\")"
   ]
  },
  {
   "cell_type": "markdown",
   "metadata": {},
   "source": [
    "Release Cyber Truck (November 2019)"
   ]
  },
  {
   "cell_type": "code",
   "execution_count": null,
   "metadata": {},
   "outputs": [],
   "source": [
    "sortie_tesla_2 = datetime.strptime(str('2019-11-21'), '%Y-%m-%d')\n",
    "n_day = 20\n",
    "num_day_event = 10\n",
    "df  = find_review_event(sortie_tesla_2, df_tesla, n_day, num_day_event)\n",
    "\n",
    "fig = go.Figure()\n",
    "fig.add_trace(go.Box(x= df.type, y=df.Vader_Sentiment,\n",
    "    marker_color='darkblue',\n",
    "    boxmean=True # represent mean\n",
    "))\n",
    "fig.update_traces(quartilemethod=\"exclusive\")\n",
    "fig.update_layout(title=\"Release Cyber Truck 2019 (November)\",\n",
    "    yaxis_title='Vader Sentiment Score',xaxis_title='Periods')\n",
    "fig.show()\n",
    "fig.write_html(\"data/tesla_cyber.html\")"
   ]
  },
  {
   "cell_type": "markdown",
   "metadata": {},
   "source": [
    "### PieChart"
   ]
  },
  {
   "cell_type": "code",
   "execution_count": 17,
   "metadata": {},
   "outputs": [],
   "source": [
    "def update_qids_freq(df_old, percentage, type_):\n",
    "    \"\"\"Find the percentage of quotes for each occupations and remove all the occupations with less than percentage %.  \"\"\"\n",
    "    df_ = df_old.explode(type_).groupby(by=type_).count().reset_index()\n",
    "    tot = sum(df_['date'])\n",
    "    df_['percentage'] = df_['date'].apply(lambda x: (x*100)/tot)\n",
    "    df_new = df_[df_['percentage'] > percentage]\n",
    "    df_new = df_new[df_new[type_] != 0]\n",
    "    return df_new"
   ]
  },
  {
   "cell_type": "markdown",
   "metadata": {},
   "source": [
    "#### Occupations "
   ]
  },
  {
   "cell_type": "code",
   "execution_count": null,
   "metadata": {},
   "outputs": [],
   "source": [
    "percentage = 1\n",
    "\n",
    "# Tesla\n",
    "df_t = update_qids_freq(df_tesla, percentage,'occupation_label')\n",
    "\n",
    "# Chevrolet \n",
    "df_c = update_qids_freq(df_chevrolet, percentage,'occupation_label')\n",
    "\n",
    "# Create Figure\n",
    "fig = make_subplots(rows=1, cols=2, specs=[[{\"type\": \"pie\"}, {\"type\": \"pie\"}]],subplot_titles=('Tesla',  'Chevrolet'))\n",
    "#,color_discrete_sequence=px.colors.sequential.RdBu)\n",
    "fig.add_trace(go.Pie(labels=df_t.occupation_label, values=df_t.date),row=1, col=1)\n",
    "fig.add_trace(go.Pie(labels=df_c.occupation_label, values=df_c.date,),row=1, col=2)\n",
    "fig.show()"
   ]
  },
  {
   "cell_type": "markdown",
   "metadata": {},
   "source": [
    "#### Nationality"
   ]
  },
  {
   "cell_type": "code",
   "execution_count": null,
   "metadata": {},
   "outputs": [],
   "source": [
    "percentage = 0.5\n",
    "\n",
    "# Tesla\n",
    "df_t = update_qids_freq(df_tesla, percentage,'nationality_label')\n",
    "\n",
    "# Chevrolet \n",
    "df_c = update_qids_freq(df_chevrolet, percentage,'nationality_label')\n",
    "\n",
    "# Create Figure\n",
    "fig = make_subplots(rows=1, cols=2, specs=[[{\"type\": \"pie\"}, {\"type\": \"pie\"}]],subplot_titles=('Tesla',  'Chevrolet'))\n",
    "fig.add_trace(go.Pie(labels=df_t.nationality_label, values=df_t.date),row=1, col=1)\n",
    "fig.add_trace(go.Pie(labels=df_c.nationality_label, values=df_c.date),row=1, col=2)\n",
    "fig.show()"
   ]
  },
  {
   "cell_type": "markdown",
   "metadata": {},
   "source": [
    "### Extra data: TOYOTA \n",
    "We processed and plot also the sentiments of the Toyota's quotes. "
   ]
  },
  {
   "cell_type": "code",
   "execution_count": null,
   "metadata": {},
   "outputs": [],
   "source": [
    "df_toyota= pd.read_json('data/toyota_sentiment.json')\n",
    "df_toyota.head(3)\n",
    "\n",
    "list_qids_toyota = [x for x in df_toyota.drop_duplicates(['name_qids']).name_qids.values if x!= id_musk]\n",
    "\n",
    "df = select_speakers(list_qids_toyota)\n",
    "df_speakers_att_toyota = process_speakers_attributes(df)\n",
    "df_speakers_att_toyota.head(3)\n",
    "\n",
    "speakers = df_speakers_att_toyota[['name_qids','name_label','occupations_qids']]\n",
    "df_toyota = process_dataframe_quotes(df_toyota, speakers)\n",
    "df_toyota.head(3)"
   ]
  },
  {
   "cell_type": "code",
   "execution_count": null,
   "metadata": {},
   "outputs": [],
   "source": [
    "df_toyota_plot = df_toyota.groupby(by='year_month').mean().reset_index()\n",
    "df_toyota_plot_review = df_toyota_plot[['year_month','Vader_Sentiment']]\n",
    "df_toyota_plot_review['count_'] = df_toyota.groupby(by='year_month').count().reset_index()['date']\n",
    "\n",
    "fig = make_subplots(rows=2, cols=1, row_heights=[2, 1],vertical_spacing=0.1)\n",
    "fig.add_trace(go.Bar(x=df_toyota_plot_review.year_month, y=df_toyota_plot_review.count_,name=\"Number of quotes groupy by months\"),row=1, col=1)\n",
    "fig.add_trace(go.Scatter(x=df_toyota_plot_review.year_month, y=df_toyota_plot_review.Vader_Sentiment,name=\"Vader sentiment score by month (mean)\"),row=2, col=1)\n",
    "fig.update_layout(\n",
    "    title=\"General Analysis on the Toyota's quotes \")\n",
    "fig.show()"
   ]
  },
  {
   "cell_type": "code",
   "execution_count": null,
   "metadata": {},
   "outputs": [],
   "source": [
    "# Toyota Yaris (February, 2020)\n",
    "sortie_tesla_1 = datetime.strptime(str('2020-02-10'), '%Y-%m-%d')\n",
    "n_day = 20\n",
    "num_day_event = 10\n",
    "df  = find_review_event(sortie_tesla_1, df_tesla, n_day, num_day_event)\n",
    "\n",
    "fig = px.box(df, x=\"type\", y='Vader_Sentiment')\n",
    "fig.update_traces(quartilemethod=\"exclusive\")\n",
    "fig.update_layout(title=\"Toyota Yaris (February, 2020)\",\n",
    "    yaxis_title='Vader Sentiment Score',xaxis_title='Periods compared to the event')\n",
    "fig.show()"
   ]
  }
 ],
 "metadata": {
  "interpreter": {
   "hash": "e7370f93d1d0cde622a1f8e1c04877d8463912d04d973331ad4851f04de6915a"
  },
  "kernelspec": {
   "display_name": "Python 3.8.10 64-bit",
   "language": "python",
   "name": "python3"
  },
  "language_info": {
   "codemirror_mode": {
    "name": "ipython",
    "version": 3
   },
   "file_extension": ".py",
   "mimetype": "text/x-python",
   "name": "python",
   "nbconvert_exporter": "python",
   "pygments_lexer": "ipython3",
   "version": "3.8.8"
  },
  "orig_nbformat": 4
 },
 "nbformat": 4,
 "nbformat_minor": 2
}
