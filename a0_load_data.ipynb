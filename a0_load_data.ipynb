{
 "cells": [
  {
   "cell_type": "markdown",
   "id": "0a46e34b",
   "metadata": {},
   "source": [
    "### Requirements"
   ]
  },
  {
   "cell_type": "code",
   "execution_count": null,
   "id": "3cf638b8",
   "metadata": {},
   "outputs": [],
   "source": [
    "import pandas as pd\n",
    "import bz2\n",
    "import json\n",
    "from pyspark.sql import SparkSession\n",
    "import pyspark.sql.functions as sf\n",
    "import requests\n",
    "import findspark"
   ]
  },
  {
   "cell_type": "code",
   "execution_count": null,
   "id": "6253575d-4142-4eb1-862d-e4fb0502443b",
   "metadata": {},
   "outputs": [],
   "source": [
    "findspark.init('/Users/tatianacogne/spark')"
   ]
  },
  {
   "cell_type": "markdown",
   "id": "be81a6fb-ee8f-4cb0-a04a-62c3bf2c4a0b",
   "metadata": {},
   "source": [
    "### Objectives M2\n",
    "- That you can handle the data in its size.\n",
    "- That you understand what’s in the data (formats, distributions, missing values, correlations, etc.).\n",
    "- That you considered ways to enrich, filter, transform the data according to your needs.\n",
    "- That you have a reasonable plan and ideas for methods you’re going to use, giving their essential mathematical details in the notebook.\n",
    "- That your plan for analysis and communication is reasonable and sound, potentially discussing alternatives to your choices that you considered but dropped."
   ]
  },
  {
   "cell_type": "markdown",
   "id": "b09ba343",
   "metadata": {},
   "source": [
    "### Test with PySpark\n",
    "https://spark.apache.org/docs/latest/sql-programming-guide.html"
   ]
  },
  {
   "cell_type": "code",
   "execution_count": null,
   "id": "bcf03c6d-23aa-4cd7-ae24-151f5eb7daac",
   "metadata": {},
   "outputs": [],
   "source": [
    "# Create a spark context\n",
    "spark = SparkSession.builder.getOrCreate()\n",
    "sc = spark.sparkContext\n",
    "\n",
    "# Read JSON file into dataframe\n",
    "df = spark.read.json('data/quotes-2020.json.bz2')"
   ]
  },
  {
   "cell_type": "code",
   "execution_count": null,
   "id": "7d283cba-7b6c-4ad7-9f1e-36392f1a5466",
   "metadata": {},
   "outputs": [],
   "source": [
    "findspark.init() "
   ]
  },
  {
   "cell_type": "code",
   "execution_count": null,
   "id": "955b628b",
   "metadata": {},
   "outputs": [],
   "source": [
    "df.show()"
   ]
  },
  {
   "cell_type": "markdown",
   "id": "c5c98daf",
   "metadata": {},
   "source": [
    "## A .Understanding of what’s in the data (formats, distributions, missing values, correlations, etc.)."
   ]
  },
  {
   "cell_type": "markdown",
   "id": "28fb9e28",
   "metadata": {},
   "source": [
    "### A1. Formats of the data"
   ]
  },
  {
   "cell_type": "markdown",
   "id": "c939bf25",
   "metadata": {},
   "source": [
    "#### Summary Columns\n",
    "- **quoteID**:      Primary key of the quotation (format: \"YYYY-MM-DD-{increasing int:06d}\")\n",
    "- **quotation**:    Text of the longest encountered original form of the quotation\n",
    "- **speaker**:      Selected most likely speaker\n",
    "- **qids**:         Wikidata IDs of all aliases that match the selected speaker\n",
    "- **date**:         Earliest occurrence date of any version of the quotation\n",
    "- **numOccurences**:Number of time this quotation occurs in the articles\n",
    "- **probas**:       Array representing the probabilities of each speaker having uttered the quotation\n",
    "- **urls**:         List of links to the original articles containing the quotation\n",
    "- **phase**:        Corresponding phase of the data in which the quotation first occurred (A-E)\n",
    "- **domains**:      Domain of the URL "
   ]
  },
  {
   "cell_type": "code",
   "execution_count": null,
   "id": "22e4889e",
   "metadata": {},
   "outputs": [],
   "source": [
    "df.printSchema()"
   ]
  },
  {
   "cell_type": "markdown",
   "id": "4d2fee50",
   "metadata": {},
   "source": [
    "### A2. Distributions\n",
    "- Idea: Distribution of the words ? Or maybe later ?"
   ]
  },
  {
   "cell_type": "markdown",
   "id": "1c4e492a",
   "metadata": {},
   "source": [
    "### A3. Missing Values"
   ]
  },
  {
   "cell_type": "markdown",
   "id": "778f1ada",
   "metadata": {},
   "source": [
    "### A4. Correlation\n",
    "- Idea: slides du cours ? Je ne sais pas si on doit déjà commencer à faire ce genre d'analyse"
   ]
  },
  {
   "cell_type": "markdown",
   "id": "4db883ba",
   "metadata": {},
   "source": [
    "## B. Ways to enrich, filter, transform the data according to your needs."
   ]
  },
  {
   "cell_type": "markdown",
   "id": "a8164f58",
   "metadata": {},
   "source": [
    "### B1. Task\n",
    "- Quotes: need to use different functions in order filter the quotes before analyzing\n",
    "    - remove stop words (and, the, ...)\n",
    "    - stemming and lemming the quotes\n",
    "    - use NLTK function in order to categorize the words in the sentence for example\n",
    "- Speakers: \n",
    "    - need to keep only the speakers different form \"None\"\n",
    "        - is it resonnable tp drop the None speakers ? Not a too big percentage of the dataset ? \n",
    "    - need to regroup speakers like \"President Donald Trump\" and \"Donald Trump\"\n",
    "    - add columns with the occupations/jobs of the speakers maybe in a new column (Obama : politician,lawyer,author)\n",
    "- QIDS:  \n",
    "    - add the link to the wikipedia page of the speaker\n",
    "    - keep only the qids of the speaker\n",
    "        - need to check if everything OK with the qids (qids speaker =?= speaker)\n",
    "- Date:\n",
    "    - Try to keep only the important informations about the date (maybe don't need to keep the minutes)\n",
    "- Removes columns that we do not need (quotesID, phase, ...?)"
   ]
  },
  {
   "cell_type": "markdown",
   "id": "2f06cfa1",
   "metadata": {},
   "source": [
    "## Analysis \n",
    "\n",
    "- quids same for each quote \n",
    "- check proba avec le speaker \n",
    "- check chaque colonne\n",
    "- verifier l'URL "
   ]
  },
  {
   "cell_type": "markdown",
   "id": "879ea5d9",
   "metadata": {},
   "source": [
    "**Analysing Selected Speaker vs Highest Probablity Speaker**\n",
    "\n",
    "Comparing the speaker in the \"speaker\" column against the one with the highest probability in \"probas\", outputing the lines with different values for those two, and counting the number of occurences, displaying the highest ones"
   ]
  },
  {
   "cell_type": "code",
   "execution_count": null,
   "id": "92e76fd5",
   "metadata": {},
   "outputs": [],
   "source": [
    "temp = df.select(df.speaker, df.probas)\n",
    "temp = temp.withColumn(\"highest_prob\", temp.probas[0])\n",
    "temp = temp.withColumn(\"prob_speaker\", temp.highest_prob[0])\n",
    "\n",
    "error_speakers = temp.filter(temp.speaker != temp.prob_speaker).show()"
   ]
  },
  {
   "cell_type": "code",
   "execution_count": null,
   "id": "0a2f1b10",
   "metadata": {},
   "outputs": [],
   "source": [
    "WrongSpeakers = temp.groupBy(\"prob_speaker\").count().withColumnRenamed(\"prob_speaker\", \"count\")"
   ]
  },
  {
   "cell_type": "code",
   "execution_count": null,
   "id": "ac363edc",
   "metadata": {},
   "outputs": [],
   "source": [
    "asc_wrong = WrongSpeakers.sort(\"count\", ascending = False)"
   ]
  },
  {
   "cell_type": "code",
   "execution_count": null,
   "id": "58163e63",
   "metadata": {},
   "outputs": [],
   "source": [
    "asc_wrong.toPandas().to_csv('speakers_count_19.csv')"
   ]
  },
  {
   "cell_type": "markdown",
   "id": "a9ce39b1",
   "metadata": {},
   "source": [
    "**Analysing Columns**\n",
    "\n",
    "Checking for aberrent values in the dataset, each column separately"
   ]
  },
  {
   "cell_type": "code",
   "execution_count": null,
   "id": "51cc639b",
   "metadata": {},
   "outputs": [],
   "source": [
    "df.filter(df.date == None).show()\n",
    "df.filter(df.numOccurrences == None).show()\n",
    "df.filter(df.phase == None).show()\n",
    "df.filter(df.probas == None).show()\n",
    "df.filter(df.qids == None).show()\n",
    "df.filter(df.quotation == None).show()\n",
    "df.filter(df.quoteID == None).show()\n",
    "df.filter(df.speaker == None).show()\n",
    "df.filter(df.urls == None).show()"
   ]
  },
  {
   "cell_type": "code",
   "execution_count": null,
   "id": "b6891334",
   "metadata": {},
   "outputs": [],
   "source": [
    "# speaker\n",
    "df_speakers =df.drop_duplicates(subset=['speaker'])"
   ]
  },
  {
   "cell_type": "code",
   "execution_count": null,
   "id": "d75a7021",
   "metadata": {},
   "outputs": [],
   "source": [
    "num_diff_speakers = df_speakers.count()"
   ]
  },
  {
   "cell_type": "code",
   "execution_count": null,
   "id": "c34d8b13",
   "metadata": {},
   "outputs": [],
   "source": [
    "df_names = df_speakers[['speaker']]"
   ]
  },
  {
   "cell_type": "code",
   "execution_count": null,
   "id": "9df13bfe",
   "metadata": {},
   "outputs": [],
   "source": [
    "df_none = df[df.speaker=='None']"
   ]
  },
  {
   "cell_type": "markdown",
   "id": "e0b6d02d",
   "metadata": {},
   "source": [
    "# Note - problem with this cell : Can't extract value from speaker#14: need struct type but got string\n",
    "df[df['speaker'].str.contains('pokemon')]"
   ]
  },
  {
   "cell_type": "code",
   "execution_count": null,
   "id": "27a6c344",
   "metadata": {},
   "outputs": [],
   "source": [
    "df_test = pd.DataFrame(df.head(100), columns=df.columns)\n",
    "df.filter(df_test.speaker.contains('google.com')).show()"
   ]
  },
  {
   "cell_type": "markdown",
   "id": "3b4749bc",
   "metadata": {},
   "source": [
    "### Cell to take only the speakers ('at' because append between different datasets (years))"
   ]
  },
  {
   "cell_type": "code",
   "execution_count": 120,
   "id": "c04412f0",
   "metadata": {},
   "outputs": [],
   "source": [
    "path_to_file = 'data/quotes-2019.json.bz2' \n",
    "path_to_out = 'data/speakers_19_20.txt.bz2'\n",
    "k =0\n",
    "with bz2.open(path_to_file, 'rb') as s_file:\n",
    "    with bz2.open(path_to_out, 'at') as d_file:\n",
    "        for instance in s_file:\n",
    "            instance = json.loads(instance) # loading a sample\n",
    "            speaker = instance['speaker'] # takes only speakers names\n",
    "            d_file.write(speaker+'\\n')# writing in the new file"
   ]
  },
  {
   "cell_type": "markdown",
   "id": "7e07b723",
   "metadata": {},
   "source": [
    "**Analysing Number of Occurences**\n",
    "\n",
    "Looking at the most occuring Quotes"
   ]
  },
  {
   "cell_type": "code",
   "execution_count": null,
   "id": "18b2d836",
   "metadata": {},
   "outputs": [],
   "source": [
    "ordered_occurences = df.sort(\"numOccurrences\", ascending = False).show()"
   ]
  },
  {
   "cell_type": "markdown",
   "id": "8a7866f8",
   "metadata": {},
   "source": [
    "#### Analysis on speakers \n",
    "- Number of different speakers : 218415"
   ]
  },
  {
   "cell_type": "code",
   "execution_count": 122,
   "id": "259164eb",
   "metadata": {},
   "outputs": [],
   "source": [
    "data = pd.read_csv('data/speakers_19_20.txt.bz2', sep=\"\\n\", header=None)\n",
    "data = data[data[0] !='None'].drop_duplicates()"
   ]
  },
  {
   "cell_type": "markdown",
   "id": "357531d2",
   "metadata": {},
   "source": [
    "### Special cases in the speaker's name"
   ]
  },
  {
   "cell_type": "code",
   "execution_count": 124,
   "id": "c85748ba",
   "metadata": {},
   "outputs": [
    {
     "data": {
      "text/html": [
       "<div>\n",
       "<style scoped>\n",
       "    .dataframe tbody tr th:only-of-type {\n",
       "        vertical-align: middle;\n",
       "    }\n",
       "\n",
       "    .dataframe tbody tr th {\n",
       "        vertical-align: top;\n",
       "    }\n",
       "\n",
       "    .dataframe thead th {\n",
       "        text-align: right;\n",
       "    }\n",
       "</style>\n",
       "<table border=\"1\" class=\"dataframe\">\n",
       "  <thead>\n",
       "    <tr style=\"text-align: right;\">\n",
       "      <th></th>\n",
       "      <th>0</th>\n",
       "    </tr>\n",
       "  </thead>\n",
       "  <tbody>\n",
       "    <tr>\n",
       "      <th>247</th>\n",
       "      <td>Donald Trump</td>\n",
       "    </tr>\n",
       "    <tr>\n",
       "      <th>263</th>\n",
       "      <td>President Donald Trump</td>\n",
       "    </tr>\n",
       "    <tr>\n",
       "      <th>609</th>\n",
       "      <td>President Trump</td>\n",
       "    </tr>\n",
       "    <tr>\n",
       "      <th>13688</th>\n",
       "      <td>Donald Trump Jr. .</td>\n",
       "    </tr>\n",
       "    <tr>\n",
       "      <th>15578</th>\n",
       "      <td>Donald Trump Jr</td>\n",
       "    </tr>\n",
       "    <tr>\n",
       "      <th>16328</th>\n",
       "      <td>Donald Trump , Jr. .</td>\n",
       "    </tr>\n",
       "    <tr>\n",
       "      <th>16448</th>\n",
       "      <td>Donald J. Trump</td>\n",
       "    </tr>\n",
       "    <tr>\n",
       "      <th>27659</th>\n",
       "      <td>President Donald J. Trump</td>\n",
       "    </tr>\n",
       "    <tr>\n",
       "      <th>31087</th>\n",
       "      <td>Donald trump</td>\n",
       "    </tr>\n",
       "    <tr>\n",
       "      <th>38768</th>\n",
       "      <td>president Donald Trump</td>\n",
       "    </tr>\n",
       "    <tr>\n",
       "      <th>48869</th>\n",
       "      <td>president trump</td>\n",
       "    </tr>\n",
       "    <tr>\n",
       "      <th>53023</th>\n",
       "      <td>DONALD Trump</td>\n",
       "    </tr>\n",
       "    <tr>\n",
       "      <th>61403</th>\n",
       "      <td>PRESIDENT DONALD TRUMP</td>\n",
       "    </tr>\n",
       "    <tr>\n",
       "      <th>71825</th>\n",
       "      <td>DONALD TRUMP</td>\n",
       "    </tr>\n",
       "    <tr>\n",
       "      <th>212600</th>\n",
       "      <td>President trump</td>\n",
       "    </tr>\n",
       "    <tr>\n",
       "      <th>223419</th>\n",
       "      <td>donald trump</td>\n",
       "    </tr>\n",
       "    <tr>\n",
       "      <th>226235</th>\n",
       "      <td>Donald J Trump</td>\n",
       "    </tr>\n",
       "    <tr>\n",
       "      <th>243582</th>\n",
       "      <td>PRESIDENT Donald Trump</td>\n",
       "    </tr>\n",
       "    <tr>\n",
       "      <th>244303</th>\n",
       "      <td>president Trump</td>\n",
       "    </tr>\n",
       "    <tr>\n",
       "      <th>300995</th>\n",
       "      <td>Donald John Trump</td>\n",
       "    </tr>\n",
       "    <tr>\n",
       "      <th>343733</th>\n",
       "      <td>PRESIDENT Trump</td>\n",
       "    </tr>\n",
       "    <tr>\n",
       "      <th>660915</th>\n",
       "      <td>PRESIDENT TRUMP</td>\n",
       "    </tr>\n",
       "    <tr>\n",
       "      <th>679182</th>\n",
       "      <td>President DOnald Trump</td>\n",
       "    </tr>\n",
       "    <tr>\n",
       "      <th>706650</th>\n",
       "      <td>President DONALD TRUMP</td>\n",
       "    </tr>\n",
       "    <tr>\n",
       "      <th>770766</th>\n",
       "      <td>President Donald John Trump</td>\n",
       "    </tr>\n",
       "    <tr>\n",
       "      <th>914264</th>\n",
       "      <td>donald Trump</td>\n",
       "    </tr>\n",
       "    <tr>\n",
       "      <th>1403454</th>\n",
       "      <td>president donald trump</td>\n",
       "    </tr>\n",
       "    <tr>\n",
       "      <th>1856351</th>\n",
       "      <td>donald trump jr. .</td>\n",
       "    </tr>\n",
       "    <tr>\n",
       "      <th>1864746</th>\n",
       "      <td>DONALD TRUMP JR. .</td>\n",
       "    </tr>\n",
       "    <tr>\n",
       "      <th>2857464</th>\n",
       "      <td>President Donald trump</td>\n",
       "    </tr>\n",
       "    <tr>\n",
       "      <th>3196302</th>\n",
       "      <td>president Donald J. Trump</td>\n",
       "    </tr>\n",
       "    <tr>\n",
       "      <th>3364670</th>\n",
       "      <td>PRESIDENT DONALD Trump</td>\n",
       "    </tr>\n",
       "    <tr>\n",
       "      <th>3825011</th>\n",
       "      <td>President donald trump</td>\n",
       "    </tr>\n",
       "    <tr>\n",
       "      <th>4270472</th>\n",
       "      <td>DONALD TRUMP JR</td>\n",
       "    </tr>\n",
       "    <tr>\n",
       "      <th>4958098</th>\n",
       "      <td>president Donald John Trump</td>\n",
       "    </tr>\n",
       "    <tr>\n",
       "      <th>5546049</th>\n",
       "      <td>Tiffany Trump</td>\n",
       "    </tr>\n",
       "    <tr>\n",
       "      <th>5576495</th>\n",
       "      <td>Elizabeth Trump</td>\n",
       "    </tr>\n",
       "    <tr>\n",
       "      <th>5980150</th>\n",
       "      <td>Walter Trump</td>\n",
       "    </tr>\n",
       "    <tr>\n",
       "      <th>6524196</th>\n",
       "      <td>DONALD J. TRUMP</td>\n",
       "    </tr>\n",
       "    <tr>\n",
       "      <th>6668668</th>\n",
       "      <td>Teanna Trump</td>\n",
       "    </tr>\n",
       "    <tr>\n",
       "      <th>7566373</th>\n",
       "      <td>Maryanne Trump Barry</td>\n",
       "    </tr>\n",
       "    <tr>\n",
       "      <th>8481359</th>\n",
       "      <td>Donald J. Trump , Jr. .</td>\n",
       "    </tr>\n",
       "    <tr>\n",
       "      <th>8569670</th>\n",
       "      <td>Elizabeth Trump Grau</td>\n",
       "    </tr>\n",
       "    <tr>\n",
       "      <th>8853839</th>\n",
       "      <td>donald trump jr</td>\n",
       "    </tr>\n",
       "    <tr>\n",
       "      <th>10549945</th>\n",
       "      <td>Donald L. Trump</td>\n",
       "    </tr>\n",
       "    <tr>\n",
       "      <th>10721566</th>\n",
       "      <td>Tiffany Ariana Trump</td>\n",
       "    </tr>\n",
       "    <tr>\n",
       "      <th>10887769</th>\n",
       "      <td>PRESIDENT Donald J. Trump</td>\n",
       "    </tr>\n",
       "    <tr>\n",
       "      <th>12924981</th>\n",
       "      <td>Timmy Trumpet</td>\n",
       "    </tr>\n",
       "    <tr>\n",
       "      <th>12949755</th>\n",
       "      <td>Robert Trump</td>\n",
       "    </tr>\n",
       "    <tr>\n",
       "      <th>13773670</th>\n",
       "      <td>President tRump</td>\n",
       "    </tr>\n",
       "    <tr>\n",
       "      <th>14987509</th>\n",
       "      <td>Bob Trumpy</td>\n",
       "    </tr>\n",
       "    <tr>\n",
       "      <th>16395528</th>\n",
       "      <td>PRESIDENT trump</td>\n",
       "    </tr>\n",
       "    <tr>\n",
       "      <th>24780668</th>\n",
       "      <td>Sebastian Trump</td>\n",
       "    </tr>\n",
       "    <tr>\n",
       "      <th>26691170</th>\n",
       "      <td>President Donald TRump</td>\n",
       "    </tr>\n",
       "  </tbody>\n",
       "</table>\n",
       "</div>"
      ],
      "text/plain": [
       "                                    0\n",
       "247                      Donald Trump\n",
       "263            President Donald Trump\n",
       "609                   President Trump\n",
       "13688              Donald Trump Jr. .\n",
       "15578                 Donald Trump Jr\n",
       "16328            Donald Trump , Jr. .\n",
       "16448                 Donald J. Trump\n",
       "27659       President Donald J. Trump\n",
       "31087                    Donald trump\n",
       "38768          president Donald Trump\n",
       "48869                 president trump\n",
       "53023                    DONALD Trump\n",
       "61403          PRESIDENT DONALD TRUMP\n",
       "71825                    DONALD TRUMP\n",
       "212600                President trump\n",
       "223419                   donald trump\n",
       "226235                 Donald J Trump\n",
       "243582         PRESIDENT Donald Trump\n",
       "244303                president Trump\n",
       "300995              Donald John Trump\n",
       "343733                PRESIDENT Trump\n",
       "660915                PRESIDENT TRUMP\n",
       "679182         President DOnald Trump\n",
       "706650         President DONALD TRUMP\n",
       "770766    President Donald John Trump\n",
       "914264                   donald Trump\n",
       "1403454        president donald trump\n",
       "1856351            donald trump jr. .\n",
       "1864746            DONALD TRUMP JR. .\n",
       "2857464        President Donald trump\n",
       "3196302     president Donald J. Trump\n",
       "3364670        PRESIDENT DONALD Trump\n",
       "3825011        President donald trump\n",
       "4270472               DONALD TRUMP JR\n",
       "4958098   president Donald John Trump\n",
       "5546049                 Tiffany Trump\n",
       "5576495               Elizabeth Trump\n",
       "5980150                  Walter Trump\n",
       "6524196               DONALD J. TRUMP\n",
       "6668668                  Teanna Trump\n",
       "7566373          Maryanne Trump Barry\n",
       "8481359       Donald J. Trump , Jr. .\n",
       "8569670          Elizabeth Trump Grau\n",
       "8853839               donald trump jr\n",
       "10549945              Donald L. Trump\n",
       "10721566         Tiffany Ariana Trump\n",
       "10887769    PRESIDENT Donald J. Trump\n",
       "12924981                Timmy Trumpet\n",
       "12949755                 Robert Trump\n",
       "13773670              President tRump\n",
       "14987509                   Bob Trumpy\n",
       "16395528              PRESIDENT trump\n",
       "24780668              Sebastian Trump\n",
       "26691170       President Donald TRump"
      ]
     },
     "execution_count": 124,
     "metadata": {},
     "output_type": "execute_result"
    }
   ],
   "source": [
    "df_trump = data.loc[data[0].str.contains('Trump',case = False)]\n",
    "df_trump = df_trump.drop_duplicates()\n",
    "searchfor = ['Melania', 'Eric','Ivanka','judd','trumpauer','Barron','Lara','Andreas','william','trumper','spencer','blaine','charles','ivana']\n",
    "df_trump = df_trump[~df_trump[0].str.contains('|'.join(searchfor),case = False)]\n",
    "df_trump"
   ]
  },
  {
   "cell_type": "markdown",
   "id": "67806bf6",
   "metadata": {},
   "source": [
    "- There are more than 35 different names for Donald Trump, in lower and upper cases"
   ]
  },
  {
   "cell_type": "code",
   "execution_count": 129,
   "id": "9aca2d0d",
   "metadata": {},
   "outputs": [
    {
     "data": {
      "text/html": [
       "<div>\n",
       "<style scoped>\n",
       "    .dataframe tbody tr th:only-of-type {\n",
       "        vertical-align: middle;\n",
       "    }\n",
       "\n",
       "    .dataframe tbody tr th {\n",
       "        vertical-align: top;\n",
       "    }\n",
       "\n",
       "    .dataframe thead th {\n",
       "        text-align: right;\n",
       "    }\n",
       "</style>\n",
       "<table border=\"1\" class=\"dataframe\">\n",
       "  <thead>\n",
       "    <tr style=\"text-align: right;\">\n",
       "      <th></th>\n",
       "      <th>0</th>\n",
       "      <th>len</th>\n",
       "    </tr>\n",
       "  </thead>\n",
       "  <tbody>\n",
       "    <tr>\n",
       "      <th>6766815</th>\n",
       "      <td>Cristóbal Colón de Carvajal y Gorosábel , 18th...</td>\n",
       "      <td>11</td>\n",
       "    </tr>\n",
       "    <tr>\n",
       "      <th>12115980</th>\n",
       "      <td>David Albert Charles Armstrong-Jones , 2nd Ear...</td>\n",
       "      <td>9</td>\n",
       "    </tr>\n",
       "    <tr>\n",
       "      <th>14789104</th>\n",
       "      <td>Julian Asquith , 2nd Earl of Oxford and Asquith</td>\n",
       "      <td>9</td>\n",
       "    </tr>\n",
       "    <tr>\n",
       "      <th>15931964</th>\n",
       "      <td>eating disorders working group of the Psychiat...</td>\n",
       "      <td>9</td>\n",
       "    </tr>\n",
       "    <tr>\n",
       "      <th>17341178</th>\n",
       "      <td>Christopher Walter Monckton , 3rd Viscount Mon...</td>\n",
       "      <td>9</td>\n",
       "    </tr>\n",
       "    <tr>\n",
       "      <th>23036249</th>\n",
       "      <td>Eating Disorders Working Group of the Psychiat...</td>\n",
       "      <td>9</td>\n",
       "    </tr>\n",
       "  </tbody>\n",
       "</table>\n",
       "</div>"
      ],
      "text/plain": [
       "                                                          0  len\n",
       "6766815   Cristóbal Colón de Carvajal y Gorosábel , 18th...   11\n",
       "12115980  David Albert Charles Armstrong-Jones , 2nd Ear...    9\n",
       "14789104    Julian Asquith , 2nd Earl of Oxford and Asquith    9\n",
       "15931964  eating disorders working group of the Psychiat...    9\n",
       "17341178  Christopher Walter Monckton , 3rd Viscount Mon...    9\n",
       "23036249  Eating Disorders Working Group of the Psychiat...    9"
      ]
     },
     "execution_count": 129,
     "metadata": {},
     "output_type": "execute_result"
    }
   ],
   "source": [
    "data['len'] = data[0].apply(lambda x : len(x.split()))\n",
    "data[data['len'] >= 9]"
   ]
  },
  {
   "cell_type": "code",
   "execution_count": 133,
   "id": "26611c4d",
   "metadata": {},
   "outputs": [
    {
     "data": {
      "text/html": [
       "<div>\n",
       "<style scoped>\n",
       "    .dataframe tbody tr th:only-of-type {\n",
       "        vertical-align: middle;\n",
       "    }\n",
       "\n",
       "    .dataframe tbody tr th {\n",
       "        vertical-align: top;\n",
       "    }\n",
       "\n",
       "    .dataframe thead th {\n",
       "        text-align: right;\n",
       "    }\n",
       "</style>\n",
       "<table border=\"1\" class=\"dataframe\">\n",
       "  <thead>\n",
       "    <tr style=\"text-align: right;\">\n",
       "      <th></th>\n",
       "      <th>0</th>\n",
       "      <th>len</th>\n",
       "    </tr>\n",
       "  </thead>\n",
       "  <tbody>\n",
       "    <tr>\n",
       "      <th>3017</th>\n",
       "      <td>Meghan , the Duchess of Sussex</td>\n",
       "      <td>6</td>\n",
       "    </tr>\n",
       "    <tr>\n",
       "      <th>4166</th>\n",
       "      <td>Camilla , Duchess of Cornwall</td>\n",
       "      <td>5</td>\n",
       "    </tr>\n",
       "    <tr>\n",
       "      <th>7622</th>\n",
       "      <td>Duchess of Sussex</td>\n",
       "      <td>3</td>\n",
       "    </tr>\n",
       "    <tr>\n",
       "      <th>9489</th>\n",
       "      <td>Meghan , Duchess of Sussex</td>\n",
       "      <td>5</td>\n",
       "    </tr>\n",
       "    <tr>\n",
       "      <th>18938</th>\n",
       "      <td>Duchess Meghan</td>\n",
       "      <td>2</td>\n",
       "    </tr>\n",
       "  </tbody>\n",
       "</table>\n",
       "</div>"
      ],
      "text/plain": [
       "                                    0  len\n",
       "3017   Meghan , the Duchess of Sussex    6\n",
       "4166    Camilla , Duchess of Cornwall    5\n",
       "7622                Duchess of Sussex    3\n",
       "9489       Meghan , Duchess of Sussex    5\n",
       "18938                  Duchess Meghan    2"
      ]
     },
     "execution_count": 133,
     "metadata": {},
     "output_type": "execute_result"
    }
   ],
   "source": [
    "df_duchess = data.loc[data[0].str.contains('Duchess',case = False)].drop_duplicates()\n",
    "df_duchess.head(5)"
   ]
  },
  {
   "cell_type": "markdown",
   "id": "2be7d55f",
   "metadata": {},
   "source": [
    "- same problem with the words: Duchess, Minister, Professor, "
   ]
  },
  {
   "cell_type": "code",
   "execution_count": 134,
   "id": "be907d92",
   "metadata": {},
   "outputs": [
    {
     "data": {
      "text/html": [
       "<div>\n",
       "<style scoped>\n",
       "    .dataframe tbody tr th:only-of-type {\n",
       "        vertical-align: middle;\n",
       "    }\n",
       "\n",
       "    .dataframe tbody tr th {\n",
       "        vertical-align: top;\n",
       "    }\n",
       "\n",
       "    .dataframe thead th {\n",
       "        text-align: right;\n",
       "    }\n",
       "</style>\n",
       "<table border=\"1\" class=\"dataframe\">\n",
       "  <thead>\n",
       "    <tr style=\"text-align: right;\">\n",
       "      <th></th>\n",
       "      <th>0</th>\n",
       "      <th>len</th>\n",
       "    </tr>\n",
       "  </thead>\n",
       "  <tbody>\n",
       "    <tr>\n",
       "      <th>7259</th>\n",
       "      <td>theater director</td>\n",
       "      <td>2</td>\n",
       "    </tr>\n",
       "    <tr>\n",
       "      <th>290334</th>\n",
       "      <td>Director X</td>\n",
       "      <td>2</td>\n",
       "    </tr>\n",
       "    <tr>\n",
       "      <th>875877</th>\n",
       "      <td>Theater Director</td>\n",
       "      <td>2</td>\n",
       "    </tr>\n",
       "    <tr>\n",
       "      <th>1278777</th>\n",
       "      <td>Theater director</td>\n",
       "      <td>2</td>\n",
       "    </tr>\n",
       "    <tr>\n",
       "      <th>3334797</th>\n",
       "      <td>director x</td>\n",
       "      <td>2</td>\n",
       "    </tr>\n",
       "  </tbody>\n",
       "</table>\n",
       "</div>"
      ],
      "text/plain": [
       "                        0  len\n",
       "7259     theater director    2\n",
       "290334         Director X    2\n",
       "875877   Theater Director    2\n",
       "1278777  Theater director    2\n",
       "3334797        director x    2"
      ]
     },
     "execution_count": 134,
     "metadata": {},
     "output_type": "execute_result"
    }
   ],
   "source": [
    "df_director = data[data[0].str.contains('director',case = False)].drop_duplicates()\n",
    "df_director.head(5)"
   ]
  },
  {
   "cell_type": "markdown",
   "id": "681b2281",
   "metadata": {},
   "source": [
    "- same problem with the word director but when thinking about it, it's not really a name "
   ]
  },
  {
   "cell_type": "code",
   "execution_count": 136,
   "id": "424c150f",
   "metadata": {},
   "outputs": [
    {
     "data": {
      "text/html": [
       "<div>\n",
       "<style scoped>\n",
       "    .dataframe tbody tr th:only-of-type {\n",
       "        vertical-align: middle;\n",
       "    }\n",
       "\n",
       "    .dataframe tbody tr th {\n",
       "        vertical-align: top;\n",
       "    }\n",
       "\n",
       "    .dataframe thead th {\n",
       "        text-align: right;\n",
       "    }\n",
       "</style>\n",
       "<table border=\"1\" class=\"dataframe\">\n",
       "  <thead>\n",
       "    <tr style=\"text-align: right;\">\n",
       "      <th></th>\n",
       "      <th>0</th>\n",
       "      <th>len</th>\n",
       "    </tr>\n",
       "  </thead>\n",
       "  <tbody>\n",
       "    <tr>\n",
       "      <th>16887</th>\n",
       "      <td>Philip `` Brave '' Davis</td>\n",
       "      <td>5</td>\n",
       "    </tr>\n",
       "    <tr>\n",
       "      <th>18367</th>\n",
       "      <td>Nicole `` Snooki '' Polizzi</td>\n",
       "      <td>5</td>\n",
       "    </tr>\n",
       "    <tr>\n",
       "      <th>28771</th>\n",
       "      <td>Steve `` Lips '' Kudlow</td>\n",
       "      <td>5</td>\n",
       "    </tr>\n",
       "    <tr>\n",
       "      <th>30179</th>\n",
       "      <td>Kent `` Smallzy '' Small</td>\n",
       "      <td>5</td>\n",
       "    </tr>\n",
       "    <tr>\n",
       "      <th>50412</th>\n",
       "      <td>Jake `` The Snake '' Roberts</td>\n",
       "      <td>6</td>\n",
       "    </tr>\n",
       "    <tr>\n",
       "      <th>...</th>\n",
       "      <td>...</td>\n",
       "      <td>...</td>\n",
       "    </tr>\n",
       "    <tr>\n",
       "      <th>25099511</th>\n",
       "      <td>Walter `` Wali '' Jones</td>\n",
       "      <td>5</td>\n",
       "    </tr>\n",
       "    <tr>\n",
       "      <th>25123980</th>\n",
       "      <td>Leticia `` Tish '' Cyrus</td>\n",
       "      <td>5</td>\n",
       "    </tr>\n",
       "    <tr>\n",
       "      <th>25204213</th>\n",
       "      <td>Vincent `` Rocco '' Vargas</td>\n",
       "      <td>5</td>\n",
       "    </tr>\n",
       "    <tr>\n",
       "      <th>25857515</th>\n",
       "      <td>Nancy `` Rusty '' Barceló</td>\n",
       "      <td>5</td>\n",
       "    </tr>\n",
       "    <tr>\n",
       "      <th>26066706</th>\n",
       "      <td>Manuel `` Guajiro '' Mirabal</td>\n",
       "      <td>5</td>\n",
       "    </tr>\n",
       "  </tbody>\n",
       "</table>\n",
       "<p>205 rows × 2 columns</p>\n",
       "</div>"
      ],
      "text/plain": [
       "                                     0  len\n",
       "16887         Philip `` Brave '' Davis    5\n",
       "18367      Nicole `` Snooki '' Polizzi    5\n",
       "28771          Steve `` Lips '' Kudlow    5\n",
       "30179         Kent `` Smallzy '' Small    5\n",
       "50412     Jake `` The Snake '' Roberts    6\n",
       "...                                ...  ...\n",
       "25099511       Walter `` Wali '' Jones    5\n",
       "25123980      Leticia `` Tish '' Cyrus    5\n",
       "25204213    Vincent `` Rocco '' Vargas    5\n",
       "25857515     Nancy `` Rusty '' Barceló    5\n",
       "26066706  Manuel `` Guajiro '' Mirabal    5\n",
       "\n",
       "[205 rows x 2 columns]"
      ]
     },
     "execution_count": 136,
     "metadata": {},
     "output_type": "execute_result"
    }
   ],
   "source": [
    "df_speacial_cases = data.loc[data[0].str.contains(\"''\",case = False)].drop_duplicates()\n",
    "df_speacial_cases"
   ]
  },
  {
   "cell_type": "markdown",
   "id": "f3f4e347",
   "metadata": {},
   "source": [
    "- some speakers name contain \"'\""
   ]
  },
  {
   "cell_type": "code",
   "execution_count": 137,
   "id": "524fb3ea",
   "metadata": {},
   "outputs": [
    {
     "data": {
      "text/html": [
       "<div>\n",
       "<style scoped>\n",
       "    .dataframe tbody tr th:only-of-type {\n",
       "        vertical-align: middle;\n",
       "    }\n",
       "\n",
       "    .dataframe tbody tr th {\n",
       "        vertical-align: top;\n",
       "    }\n",
       "\n",
       "    .dataframe thead th {\n",
       "        text-align: right;\n",
       "    }\n",
       "</style>\n",
       "<table border=\"1\" class=\"dataframe\">\n",
       "  <thead>\n",
       "    <tr style=\"text-align: right;\">\n",
       "      <th></th>\n",
       "      <th>0</th>\n",
       "      <th>len</th>\n",
       "    </tr>\n",
       "  </thead>\n",
       "  <tbody>\n",
       "    <tr>\n",
       "      <th>1945236</th>\n",
       "      <td>Hey That 's No Way to Say Goodbye</td>\n",
       "      <td>8</td>\n",
       "    </tr>\n",
       "  </tbody>\n",
       "</table>\n",
       "</div>"
      ],
      "text/plain": [
       "                                         0  len\n",
       "1945236  Hey That 's No Way to Say Goodbye    8"
      ]
     },
     "execution_count": 137,
     "metadata": {},
     "output_type": "execute_result"
    }
   ],
   "source": [
    "data[data[0] == \"Hey That 's No Way to Say Goodbye\"]"
   ]
  },
  {
   "cell_type": "markdown",
   "id": "16f8bd44",
   "metadata": {},
   "source": [
    "- speakers with strange name "
   ]
  }
 ],
 "metadata": {
  "interpreter": {
   "hash": "cffb4dc13a2c8d65c4e22bea49294395e13ba2eea796238c356a7a0a6291307b"
  },
  "kernelspec": {
   "display_name": "Python 3",
   "language": "python",
   "name": "python3"
  },
  "language_info": {
   "codemirror_mode": {
    "name": "ipython",
    "version": 3
   },
   "file_extension": ".py",
   "mimetype": "text/x-python",
   "name": "python",
   "nbconvert_exporter": "python",
   "pygments_lexer": "ipython3",
   "version": "3.8.8"
  }
 },
 "nbformat": 4,
 "nbformat_minor": 5
}
