{
 "cells": [
  {
   "cell_type": "markdown",
   "id": "0a46e34b",
   "metadata": {},
   "source": [
    "### Requirements"
   ]
  },
  {
   "cell_type": "code",
   "execution_count": null,
   "id": "81f0d8a4-d90f-4123-96f3-544cefad1df7",
   "metadata": {},
   "outputs": [],
   "source": [
    "!pip install findspark\n",
    "!pip install pyspark"
   ]
  },
  {
   "cell_type": "code",
   "execution_count": null,
   "id": "144fb982-5001-43cf-ac7a-9b66911870a1",
   "metadata": {},
   "outputs": [],
   "source": [
    "!pip install request "
   ]
  },
  {
   "cell_type": "code",
   "execution_count": null,
   "id": "3cf638b8",
   "metadata": {},
   "outputs": [],
   "source": [
    "import pandas as pd\n",
    "import bz2\n",
    "import json\n",
    "from pyspark.sql import SparkSession\n",
    "import pyspark.sql.functions as sf\n",
    "import requests\n",
    "import findspark"
   ]
  },
  {
   "cell_type": "code",
   "execution_count": null,
   "id": "6253575d-4142-4eb1-862d-e4fb0502443b",
   "metadata": {},
   "outputs": [],
   "source": [
    "findspark.init('/Users/tatianacogne/spark')"
   ]
  },
  {
   "cell_type": "markdown",
   "id": "be81a6fb-ee8f-4cb0-a04a-62c3bf2c4a0b",
   "metadata": {},
   "source": [
    "### Objectives M2\n",
    "- That you can handle the data in its size.\n",
    "- That you understand what’s in the data (formats, distributions, missing values, correlations, etc.).\n",
    "- That you considered ways to enrich, filter, transform the data according to your needs.\n",
    "- That you have a reasonable plan and ideas for methods you’re going to use, giving their essential mathematical details in the notebook.\n",
    "- That your plan for analysis and communication is reasonable and sound, potentially discussing alternatives to your choices that you considered but dropped."
   ]
  },
  {
   "cell_type": "markdown",
   "id": "b09ba343",
   "metadata": {},
   "source": [
    "### Test with PySpark\n",
    "https://spark.apache.org/docs/latest/sql-programming-guide.html"
   ]
  },
  {
   "cell_type": "code",
   "execution_count": null,
   "id": "bcf03c6d-23aa-4cd7-ae24-151f5eb7daac",
   "metadata": {},
   "outputs": [],
   "source": [
    "# Create a spark context\n",
    "spark = SparkSession.builder.getOrCreate()\n",
    "sc = spark.sparkContext\n",
    "\n",
    "# Read JSON file into dataframe\n",
    "df = spark.read.json('data/quotes-2020.json.bz2')"
   ]
  },
  {
   "cell_type": "code",
   "execution_count": null,
   "id": "7d283cba-7b6c-4ad7-9f1e-36392f1a5466",
   "metadata": {},
   "outputs": [],
   "source": [
    "findspark.init() "
   ]
  },
  {
   "cell_type": "markdown",
   "id": "c939bf25",
   "metadata": {},
   "source": [
    "### Summary Columns\n",
    "- **quoteID**:      Primary key of the quotation (format: \"YYYY-MM-DD-{increasing int:06d}\")\n",
    "- **quotation**:    Text of the longest encountered original form of the quotation\n",
    "- **speaker**:      Selected most likely speaker\n",
    "- **qids**:         Wikidata IDs of all aliases that match the selected speaker\n",
    "- **date**:         Earliest occurrence date of any version of the quotation\n",
    "- **numOccurences**:Number of time this quotation occurs in the articles\n",
    "- **probas**:       Array representing the probabilities of each speaker having uttered the quotation\n",
    "- **urls**:         List of links to the original articles containing the quotation\n",
    "- **phase**:        Corresponding phase of the data in which the quotation first occurred (A-E)\n",
    "- **domains**:      Domain of the URL "
   ]
  },
  {
   "cell_type": "code",
   "execution_count": null,
   "id": "22e4889e",
   "metadata": {},
   "outputs": [],
   "source": [
    "df.printSchema()"
   ]
  },
  {
   "cell_type": "code",
   "execution_count": null,
   "id": "2986a5fd",
   "metadata": {},
   "outputs": [],
   "source": [
    "df.show()"
   ]
  },
  {
   "cell_type": "markdown",
   "id": "2f06cfa1",
   "metadata": {},
   "source": [
    "# Tasks\n",
    "\n",
    "## Analysis \n",
    "\n",
    "- quids same for each quote \n",
    "- check proba avec le speaker \n",
    "- check chaque colonne\n",
    "- verifier l'URL "
   ]
  },
  {
   "cell_type": "code",
   "execution_count": null,
   "id": "b6891334",
   "metadata": {},
   "outputs": [],
   "source": [
    "# speaker\n",
    "df_speakers =df.drop_duplicates(subset=['speaker'])"
   ]
  },
  {
   "cell_type": "code",
   "execution_count": null,
   "id": "d75a7021",
   "metadata": {},
   "outputs": [],
   "source": [
    "num_diff_speakers = df_speakers.count()"
   ]
  },
  {
   "cell_type": "code",
   "execution_count": null,
   "id": "c34d8b13",
   "metadata": {},
   "outputs": [],
   "source": [
    "df_names = df_speakers[['speaker']]"
   ]
  },
  {
   "cell_type": "code",
   "execution_count": null,
   "id": "1a96c9ec-339f-4d20-9433-d8ab48cc31dc",
   "metadata": {},
   "outputs": [],
   "source": [
    "df_none = df[df.speaker=='None']"
   ]
  },
  {
   "cell_type": "code",
   "execution_count": null,
   "id": "ef880e95-55e4-4587-ae37-6d7ac2674f90",
   "metadata": {},
   "outputs": [],
   "source": [
    "#CHECK: speaker == None don't have qids --> OK \n",
    "df_none.filter(sf.size('qids') > 0).show()"
   ]
  },
  {
   "cell_type": "code",
   "execution_count": null,
   "id": "85c3f4ba-abd7-41d8-ba88-cb9e447f291e",
   "metadata": {},
   "outputs": [],
   "source": [
    "def valid_urls(urls):\n",
    "    bool_urls = []\n",
    "    for u in urls:\n",
    "        bool_urls.append(requests.get(u).ok)\n",
    "    return any(bool_urls)"
   ]
  },
  {
   "cell_type": "code",
   "execution_count": null,
   "id": "5c1caca6-aa3c-44c8-9205-e07271a766a2",
   "metadata": {},
   "outputs": [],
   "source": [
    "#CHECK: valid URL (not working)\n",
    "df.select(filter(\"urls\", valid_urls))"
   ]
  },
  {
   "cell_type": "code",
   "execution_count": null,
   "id": "0ebf0fa5-4ba9-424d-960b-b9fb57c4cdf0",
   "metadata": {},
   "outputs": [],
   "source": [
    "a= sf.split(df['spearker'], ' ')\n",
    "#df[df.speaker.str.contains('Trump')]"
   ]
  },
  {
   "cell_type": "code",
   "execution_count": null,
   "id": "0e632fed-6bb7-40f7-83aa-238761685915",
   "metadata": {},
   "outputs": [],
   "source": []
  },
  {
   "cell_type": "code",
   "execution_count": null,
   "id": "1fd9e593-1cde-4671-952c-45c70c181a33",
   "metadata": {},
   "outputs": [],
   "source": [
    "url = 'https://stackoverflow.com/questions/54087303/python-requests-how-to-check-for-200-ok'\n",
    "requests.get(url).ok"
   ]
  },
  {
   "cell_type": "markdown",
   "id": "8a7866f8",
   "metadata": {},
   "source": [
    "#### Analysis on speakers \n",
    "- Number of different speakers : 218415"
   ]
  },
  {
   "cell_type": "markdown",
   "id": "9c3b77af",
   "metadata": {},
   "source": [
    "# Draft "
   ]
  },
  {
   "cell_type": "markdown",
   "id": "04743e74",
   "metadata": {},
   "source": [
    "#### Test with DataFrame (DON'T RUN THIS CELL)"
   ]
  },
  {
   "cell_type": "code",
   "execution_count": null,
   "id": "d6a0b60f-fa3b-43c4-852d-76a365581235",
   "metadata": {},
   "outputs": [],
   "source": [
    "%%time\n",
    "#df_quotes_2020 = pd.read_json('data/quotes-2020.json.bz2', compression='bz2',lines=True)"
   ]
  }
 ],
 "metadata": {
  "interpreter": {
   "hash": "cffb4dc13a2c8d65c4e22bea49294395e13ba2eea796238c356a7a0a6291307b"
  },
  "kernelspec": {
   "display_name": "Python 3",
   "language": "python",
   "name": "python3"
  },
  "language_info": {
   "codemirror_mode": {
    "name": "ipython",
    "version": 3
   },
   "file_extension": ".py",
   "mimetype": "text/x-python",
   "name": "python",
   "nbconvert_exporter": "python",
   "pygments_lexer": "ipython3",
   "version": "3.8.8"
  }
 },
 "nbformat": 4,
 "nbformat_minor": 5
}
