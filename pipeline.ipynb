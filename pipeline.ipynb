{
  "cells": [
    {
      "cell_type": "markdown",
      "metadata": {
        "id": "oBbKjVsP2UI-"
      },
      "source": [
        "# Imports"
      ]
    },
    {
      "cell_type": "code",
      "execution_count": 1,
      "metadata": {
        "colab": {
          "base_uri": "https://localhost:8080/"
        },
        "id": "jjjPhBut3-e9",
        "outputId": "029884e0-ec36-440c-8ee5-a859fb6bf121"
      },
      "outputs": [
        {
          "output_type": "stream",
          "name": "stdout",
          "text": [
            "Looking in links: https://download.pytorch.org/whl/torch_stable.html\n",
            "Collecting torch==1.8.1+cu111\n",
            "  Downloading https://download.pytorch.org/whl/cu111/torch-1.8.1%2Bcu111-cp37-cp37m-linux_x86_64.whl (1982.2 MB)\n",
            "\u001b[K     |█████████████▌                  | 834.1 MB 1.4 MB/s eta 0:13:25tcmalloc: large alloc 1147494400 bytes == 0x561c7f7f4000 @  0x7fb335fed615 0x561c456384cc 0x561c4571847a 0x561c4563b2ed 0x561c4572ce1d 0x561c456aee99 0x561c456a99ee 0x561c4563cbda 0x561c456aed00 0x561c456a99ee 0x561c4563cbda 0x561c456ab737 0x561c4572dc66 0x561c456aadaf 0x561c4572dc66 0x561c456aadaf 0x561c4572dc66 0x561c456aadaf 0x561c4563d039 0x561c45680409 0x561c4563bc52 0x561c456aec25 0x561c456a99ee 0x561c4563cbda 0x561c456ab737 0x561c456a99ee 0x561c4563cbda 0x561c456aa915 0x561c4563cafa 0x561c456aac0d 0x561c456a99ee\n",
            "\u001b[K     |█████████████████               | 1055.7 MB 52.2 MB/s eta 0:00:18tcmalloc: large alloc 1434370048 bytes == 0x561cc3e4a000 @  0x7fb335fed615 0x561c456384cc 0x561c4571847a 0x561c4563b2ed 0x561c4572ce1d 0x561c456aee99 0x561c456a99ee 0x561c4563cbda 0x561c456aed00 0x561c456a99ee 0x561c4563cbda 0x561c456ab737 0x561c4572dc66 0x561c456aadaf 0x561c4572dc66 0x561c456aadaf 0x561c4572dc66 0x561c456aadaf 0x561c4563d039 0x561c45680409 0x561c4563bc52 0x561c456aec25 0x561c456a99ee 0x561c4563cbda 0x561c456ab737 0x561c456a99ee 0x561c4563cbda 0x561c456aa915 0x561c4563cafa 0x561c456aac0d 0x561c456a99ee\n",
            "\u001b[K     |█████████████████████▋          | 1336.2 MB 1.3 MB/s eta 0:08:05tcmalloc: large alloc 1792966656 bytes == 0x561c48c7c000 @  0x7fb335fed615 0x561c456384cc 0x561c4571847a 0x561c4563b2ed 0x561c4572ce1d 0x561c456aee99 0x561c456a99ee 0x561c4563cbda 0x561c456aed00 0x561c456a99ee 0x561c4563cbda 0x561c456ab737 0x561c4572dc66 0x561c456aadaf 0x561c4572dc66 0x561c456aadaf 0x561c4572dc66 0x561c456aadaf 0x561c4563d039 0x561c45680409 0x561c4563bc52 0x561c456aec25 0x561c456a99ee 0x561c4563cbda 0x561c456ab737 0x561c456a99ee 0x561c4563cbda 0x561c456aa915 0x561c4563cafa 0x561c456aac0d 0x561c456a99ee\n",
            "\u001b[K     |███████████████████████████▎    | 1691.1 MB 1.2 MB/s eta 0:03:59tcmalloc: large alloc 2241208320 bytes == 0x561cb3a64000 @  0x7fb335fed615 0x561c456384cc 0x561c4571847a 0x561c4563b2ed 0x561c4572ce1d 0x561c456aee99 0x561c456a99ee 0x561c4563cbda 0x561c456aed00 0x561c456a99ee 0x561c4563cbda 0x561c456ab737 0x561c4572dc66 0x561c456aadaf 0x561c4572dc66 0x561c456aadaf 0x561c4572dc66 0x561c456aadaf 0x561c4563d039 0x561c45680409 0x561c4563bc52 0x561c456aec25 0x561c456a99ee 0x561c4563cbda 0x561c456ab737 0x561c456a99ee 0x561c4563cbda 0x561c456aa915 0x561c4563cafa 0x561c456aac0d 0x561c456a99ee\n",
            "\u001b[K     |████████████████████████████████| 1982.2 MB 1.4 MB/s eta 0:00:01tcmalloc: large alloc 1982177280 bytes == 0x561d393c6000 @  0x7fb335fec1e7 0x561c4566e067 0x561c456384cc 0x561c4571847a 0x561c4563b2ed 0x561c4572ce1d 0x561c456aee99 0x561c456a99ee 0x561c4563cbda 0x561c456aac0d 0x561c456a99ee 0x561c4563cbda 0x561c456aac0d 0x561c456a99ee 0x561c4563cbda 0x561c456aac0d 0x561c456a99ee 0x561c4563cbda 0x561c456aac0d 0x561c456a99ee 0x561c4563cbda 0x561c456aac0d 0x561c4563cafa 0x561c456aac0d 0x561c456a99ee 0x561c4563cbda 0x561c456ab737 0x561c456a99ee 0x561c4563cbda 0x561c456ab737 0x561c456a99ee\n",
            "tcmalloc: large alloc 2477727744 bytes == 0x561daf620000 @  0x7fb335fed615 0x561c456384cc 0x561c4571847a 0x561c4563b2ed 0x561c4572ce1d 0x561c456aee99 0x561c456a99ee 0x561c4563cbda 0x561c456aac0d 0x561c456a99ee 0x561c4563cbda 0x561c456aac0d 0x561c456a99ee 0x561c4563cbda 0x561c456aac0d 0x561c456a99ee 0x561c4563cbda 0x561c456aac0d 0x561c456a99ee 0x561c4563cbda 0x561c456aac0d 0x561c4563cafa 0x561c456aac0d 0x561c456a99ee 0x561c4563cbda 0x561c456ab737 0x561c456a99ee 0x561c4563cbda 0x561c456ab737 0x561c456a99ee 0x561c4563d271\n",
            "\u001b[K     |████████████████████████████████| 1982.2 MB 1.3 kB/s \n",
            "\u001b[?25hCollecting torchvision==0.9.1+cu111\n",
            "  Downloading https://download.pytorch.org/whl/cu111/torchvision-0.9.1%2Bcu111-cp37-cp37m-linux_x86_64.whl (17.6 MB)\n",
            "\u001b[K     |████████████████████████████████| 17.6 MB 1.3 MB/s \n",
            "\u001b[?25hCollecting torchaudio===0.8.1\n",
            "  Downloading torchaudio-0.8.1-cp37-cp37m-manylinux1_x86_64.whl (1.9 MB)\n",
            "\u001b[K     |████████████████████████████████| 1.9 MB 5.4 MB/s \n",
            "\u001b[?25hRequirement already satisfied: numpy in /usr/local/lib/python3.7/dist-packages (from torch==1.8.1+cu111) (1.19.5)\n",
            "Requirement already satisfied: typing-extensions in /usr/local/lib/python3.7/dist-packages (from torch==1.8.1+cu111) (3.10.0.2)\n",
            "Requirement already satisfied: pillow>=4.1.1 in /usr/local/lib/python3.7/dist-packages (from torchvision==0.9.1+cu111) (7.1.2)\n",
            "Installing collected packages: torch, torchvision, torchaudio\n",
            "  Attempting uninstall: torch\n",
            "    Found existing installation: torch 1.10.0+cu111\n",
            "    Uninstalling torch-1.10.0+cu111:\n",
            "      Successfully uninstalled torch-1.10.0+cu111\n",
            "  Attempting uninstall: torchvision\n",
            "    Found existing installation: torchvision 0.11.1+cu111\n",
            "    Uninstalling torchvision-0.11.1+cu111:\n",
            "      Successfully uninstalled torchvision-0.11.1+cu111\n",
            "  Attempting uninstall: torchaudio\n",
            "    Found existing installation: torchaudio 0.10.0+cu111\n",
            "    Uninstalling torchaudio-0.10.0+cu111:\n",
            "      Successfully uninstalled torchaudio-0.10.0+cu111\n",
            "\u001b[31mERROR: pip's dependency resolver does not currently take into account all the packages that are installed. This behaviour is the source of the following dependency conflicts.\n",
            "torchtext 0.11.0 requires torch==1.10.0, but you have torch 1.8.1+cu111 which is incompatible.\u001b[0m\n",
            "Successfully installed torch-1.8.1+cu111 torchaudio-0.8.1 torchvision-0.9.1+cu111\n",
            "Collecting transformers\n",
            "  Downloading transformers-4.14.1-py3-none-any.whl (3.4 MB)\n",
            "\u001b[K     |████████████████████████████████| 3.4 MB 5.5 MB/s \n",
            "\u001b[?25hRequirement already satisfied: requests in /usr/local/lib/python3.7/dist-packages (2.23.0)\n",
            "Requirement already satisfied: beautifulsoup4 in /usr/local/lib/python3.7/dist-packages (4.6.3)\n",
            "Requirement already satisfied: pandas in /usr/local/lib/python3.7/dist-packages (1.1.5)\n",
            "Requirement already satisfied: numpy in /usr/local/lib/python3.7/dist-packages (1.19.5)\n",
            "Requirement already satisfied: filelock in /usr/local/lib/python3.7/dist-packages (from transformers) (3.4.0)\n",
            "Collecting pyyaml>=5.1\n",
            "  Downloading PyYAML-6.0-cp37-cp37m-manylinux_2_5_x86_64.manylinux1_x86_64.manylinux_2_12_x86_64.manylinux2010_x86_64.whl (596 kB)\n",
            "\u001b[K     |████████████████████████████████| 596 kB 57.5 MB/s \n",
            "\u001b[?25hCollecting huggingface-hub<1.0,>=0.1.0\n",
            "  Downloading huggingface_hub-0.2.1-py3-none-any.whl (61 kB)\n",
            "\u001b[K     |████████████████████████████████| 61 kB 520 kB/s \n",
            "\u001b[?25hCollecting tokenizers<0.11,>=0.10.1\n",
            "  Downloading tokenizers-0.10.3-cp37-cp37m-manylinux_2_5_x86_64.manylinux1_x86_64.manylinux_2_12_x86_64.manylinux2010_x86_64.whl (3.3 MB)\n",
            "\u001b[K     |████████████████████████████████| 3.3 MB 15.2 MB/s \n",
            "\u001b[?25hRequirement already satisfied: packaging>=20.0 in /usr/local/lib/python3.7/dist-packages (from transformers) (21.3)\n",
            "Requirement already satisfied: regex!=2019.12.17 in /usr/local/lib/python3.7/dist-packages (from transformers) (2019.12.20)\n",
            "Requirement already satisfied: importlib-metadata in /usr/local/lib/python3.7/dist-packages (from transformers) (4.8.2)\n",
            "Requirement already satisfied: tqdm>=4.27 in /usr/local/lib/python3.7/dist-packages (from transformers) (4.62.3)\n",
            "Collecting sacremoses\n",
            "  Downloading sacremoses-0.0.46-py3-none-any.whl (895 kB)\n",
            "\u001b[K     |████████████████████████████████| 895 kB 44.8 MB/s \n",
            "\u001b[?25hRequirement already satisfied: typing-extensions>=3.7.4.3 in /usr/local/lib/python3.7/dist-packages (from huggingface-hub<1.0,>=0.1.0->transformers) (3.10.0.2)\n",
            "Requirement already satisfied: pyparsing!=3.0.5,>=2.0.2 in /usr/local/lib/python3.7/dist-packages (from packaging>=20.0->transformers) (3.0.6)\n",
            "Requirement already satisfied: certifi>=2017.4.17 in /usr/local/lib/python3.7/dist-packages (from requests) (2021.10.8)\n",
            "Requirement already satisfied: urllib3!=1.25.0,!=1.25.1,<1.26,>=1.21.1 in /usr/local/lib/python3.7/dist-packages (from requests) (1.24.3)\n",
            "Requirement already satisfied: idna<3,>=2.5 in /usr/local/lib/python3.7/dist-packages (from requests) (2.10)\n",
            "Requirement already satisfied: chardet<4,>=3.0.2 in /usr/local/lib/python3.7/dist-packages (from requests) (3.0.4)\n",
            "Requirement already satisfied: pytz>=2017.2 in /usr/local/lib/python3.7/dist-packages (from pandas) (2018.9)\n",
            "Requirement already satisfied: python-dateutil>=2.7.3 in /usr/local/lib/python3.7/dist-packages (from pandas) (2.8.2)\n",
            "Requirement already satisfied: six>=1.5 in /usr/local/lib/python3.7/dist-packages (from python-dateutil>=2.7.3->pandas) (1.15.0)\n",
            "Requirement already satisfied: zipp>=0.5 in /usr/local/lib/python3.7/dist-packages (from importlib-metadata->transformers) (3.6.0)\n",
            "Requirement already satisfied: click in /usr/local/lib/python3.7/dist-packages (from sacremoses->transformers) (7.1.2)\n",
            "Requirement already satisfied: joblib in /usr/local/lib/python3.7/dist-packages (from sacremoses->transformers) (1.1.0)\n",
            "Installing collected packages: pyyaml, tokenizers, sacremoses, huggingface-hub, transformers\n",
            "  Attempting uninstall: pyyaml\n",
            "    Found existing installation: PyYAML 3.13\n",
            "    Uninstalling PyYAML-3.13:\n",
            "      Successfully uninstalled PyYAML-3.13\n",
            "Successfully installed huggingface-hub-0.2.1 pyyaml-6.0 sacremoses-0.0.46 tokenizers-0.10.3 transformers-4.14.1\n",
            "Collecting text2emotion\n",
            "  Downloading text2emotion-0.0.5-py3-none-any.whl (57 kB)\n",
            "\u001b[K     |████████████████████████████████| 57 kB 2.9 MB/s \n",
            "\u001b[?25hCollecting emoji>=0.6.0\n",
            "  Downloading emoji-1.6.1.tar.gz (170 kB)\n",
            "\u001b[K     |████████████████████████████████| 170 kB 11.6 MB/s \n",
            "\u001b[?25hRequirement already satisfied: nltk in /usr/local/lib/python3.7/dist-packages (from text2emotion) (3.2.5)\n",
            "Requirement already satisfied: six in /usr/local/lib/python3.7/dist-packages (from nltk->text2emotion) (1.15.0)\n",
            "Building wheels for collected packages: emoji\n",
            "  Building wheel for emoji (setup.py) ... \u001b[?25l\u001b[?25hdone\n",
            "  Created wheel for emoji: filename=emoji-1.6.1-py3-none-any.whl size=169314 sha256=17c7a9137898dbf2c41691b73d744251fca88f51d9d0aeaa5526fb48f1aa89b3\n",
            "  Stored in directory: /root/.cache/pip/wheels/ea/5f/d3/03d313ddb3c2a1a427bb4690f1621eea60fe6f2a30cc95940f\n",
            "Successfully built emoji\n",
            "Installing collected packages: emoji, text2emotion\n",
            "Successfully installed emoji-1.6.1 text2emotion-0.0.5\n"
          ]
        }
      ],
      "source": [
        "!pip install torch==1.8.1+cu111 torchvision==0.9.1+cu111 torchaudio===0.8.1 -f https://download.pytorch.org/whl/torch_stable.html\n",
        "!pip install transformers requests beautifulsoup4 pandas numpy\n",
        "!pip install text2emotion"
      ]
    },
    {
      "cell_type": "code",
      "execution_count": 53,
      "metadata": {
        "id": "bHdGsk26yThM"
      },
      "outputs": [],
      "source": [
        "from transformers import AutoTokenizer, AutoModelForSequenceClassification\n",
        "import torch\n",
        "import requests\n",
        "from bs4 import BeautifulSoup\n",
        "import re\n",
        "import numpy as np\n",
        "import pandas as pd\n",
        "import matplotlib.pyplot as plt\n",
        "\n",
        "import nltk\n",
        "from nltk import pos_tag\n",
        "from nltk.tokenize import word_tokenize\n",
        "from nltk.stem import WordNetLemmatizer\n",
        "import spacy\n",
        "\n",
        "import text2emotion as te\n",
        "from nltk.sentiment import SentimentIntensityAnalyzer\n",
        "from collections import Counter\n",
        "from sklearn.feature_extraction.text import TfidfVectorizer\n",
        "from google.colab import files\n",
        "from datetime import datetime\n",
        "from PIL import Image\n",
        "from wordcloud import WordCloud, STOPWORDS"
      ]
    },
    {
      "cell_type": "code",
      "source": [
        "from google.colab import drive\n",
        "drive.mount('/content/drive')"
      ],
      "metadata": {
        "colab": {
          "base_uri": "https://localhost:8080/"
        },
        "id": "u5QZHSWhl8Cu",
        "outputId": "7c5f36b1-f34e-4de0-cebb-3da0809b2757"
      },
      "execution_count": 4,
      "outputs": [
        {
          "output_type": "stream",
          "name": "stdout",
          "text": [
            "Mounted at /content/drive\n"
          ]
        }
      ]
    },
    {
      "cell_type": "markdown",
      "metadata": {
        "id": "X6XMbF6927CI"
      },
      "source": [
        "# DataFrame Loading"
      ]
    },
    {
      "cell_type": "markdown",
      "source": [
        "we load all the quotes preprocessed in the quote_extraction notebook"
      ],
      "metadata": {
        "id": "Vk6_zl9zT3cy"
      }
    },
    {
      "cell_type": "code",
      "execution_count": 5,
      "metadata": {
        "id": "O9L6H30I3AzH"
      },
      "outputs": [],
      "source": [
        "df_chevy = pd.read_json(\"/content/drive/MyDrive/quotes/Chevy-quotes-2015.json\")\n",
        "df_chevy = df_chevy.append(pd.read_json(\"/content/drive/MyDrive/quotes/Chevy-quotes-2016.json\"))\n",
        "df_chevy = df_chevy.append(pd.read_json(\"/content/drive/MyDrive/quotes/Chevy-quotes-2017.json\"))\n",
        "df_chevy = df_chevy.append(pd.read_json(\"/content/drive/MyDrive/quotes/Chevy-quotes-2018.json\"))\n",
        "df_chevy = df_chevy.append(pd.read_json(\"/content/drive/MyDrive/quotes/Chevy-quotes-2019.json\"))\n",
        "df_chevy = df_chevy.append(pd.read_json(\"/content/drive/MyDrive/quotes/Chevy-quotes-2020.json\"))\n",
        "df_chevy.reset_index(inplace=True)\n",
        "\n",
        "df_tesla = pd.read_json(\"/content/drive/MyDrive/quotes/Tesla-quotes-2015.json\")\n",
        "df_tesla = df_tesla.append(pd.read_json(\"/content/drive/MyDrive/quotes/Tesla-quotes-2016.json\"))\n",
        "df_tesla = df_tesla.append(pd.read_json(\"/content/drive/MyDrive/quotes/Tesla-quotes-2017.json\"))\n",
        "df_tesla = df_tesla.append(pd.read_json(\"/content/drive/MyDrive/quotes/Tesla-quotes-2018.json\"))\n",
        "df_tesla = df_tesla.append(pd.read_json(\"/content/drive/MyDrive/quotes/Tesla-quotes-2019.json\"))\n",
        "df_tesla = df_tesla.append(pd.read_json(\"/content/drive/MyDrive/quotes/Tesla-quotes-2020.json\"))\n",
        "df_tesla.reset_index(inplace=True)"
      ]
    },
    {
      "cell_type": "markdown",
      "metadata": {
        "id": "Jl34EXTP3FUW"
      },
      "source": [
        "# NLP Pipeline"
      ]
    },
    {
      "cell_type": "markdown",
      "source": [
        "We define functions that will be of use when processing the data"
      ],
      "metadata": {
        "id": "FNLRZYtuUbX2"
      }
    },
    {
      "cell_type": "code",
      "execution_count": 6,
      "metadata": {
        "id": "PZeFU1qB4MS4"
      },
      "outputs": [],
      "source": [
        "def clean(text):\n",
        "\n",
        "    text = re.sub('[^A-Za-z]+', ' ', text)\n",
        "    return text\n",
        "\n",
        "def listToString(s): \n",
        "  \n",
        "    str1 = \" \" \n",
        "    return (str1.join(s))\n",
        "\n",
        "def processing(reviews):\n",
        "\n",
        "  tokenized = []\n",
        "  stop_rmvd_string = []\n",
        "\n",
        "  for sentence in reviews:\n",
        "    \n",
        "    tokens = [token.text for token in nlp(sentence)]\n",
        "    tokenized.append(tokens)\n",
        "    \n",
        "    stop_words = [token.text for token in nlp(sentence) if not token.is_stop]\n",
        "    stop_rmvd_string.append(listToString(stop_words))\n",
        "\n",
        "  return tokenized, stop_rmvd_string\n",
        "\n",
        "nlp = spacy.load('en')\n",
        "\n"
      ]
    },
    {
      "cell_type": "markdown",
      "metadata": {
        "id": "3_WT7PCAamqZ"
      },
      "source": [
        "We perform tokeniation and stopword removal as step for NLP processing "
      ]
    },
    {
      "cell_type": "code",
      "execution_count": 7,
      "metadata": {
        "id": "UErtkw_S3ErK"
      },
      "outputs": [],
      "source": [
        "df_tesla['Cleaned Reviews'] = df_tesla['quotation'].apply(clean)\n",
        "\n",
        "tesla_tokenized, tesla_rmvd_string = processing(df_tesla[\"Cleaned Reviews\"])\n",
        "df_tesla['Tokenized'] = tesla_tokenized\n",
        "df_tesla['Stop Words Removed'] = tesla_rmvd_string\n",
        "\n",
        "\n",
        "df_chevy['Cleaned Reviews'] = df_chevy['quotation'].apply(clean)\n",
        "\n",
        "chevy_tokenized, chevy_rmvd_string = processing(df_chevy[\"Cleaned Reviews\"])\n",
        "df_chevy['Tokenized'] = chevy_tokenized\n",
        "df_chevy['Stop Words Removed'] = chevy_rmvd_string"
      ]
    },
    {
      "cell_type": "markdown",
      "metadata": {
        "id": "z7ffY0Rx6IhS"
      },
      "source": [
        "# VADER Analysis"
      ]
    },
    {
      "cell_type": "markdown",
      "source": [
        "We define the function that will perform the VADER analysis on each quote for both cases, who uses a sentiment lexicon to weigth the positiveness of the word in the sentence in order to output a value "
      ],
      "metadata": {
        "id": "YrgiBkddUeXX"
      }
    },
    {
      "cell_type": "code",
      "execution_count": 20,
      "metadata": {
        "id": "LaagsPdU9Ath",
        "colab": {
          "base_uri": "https://localhost:8080/"
        },
        "outputId": "984b84be-1d1d-40ad-a3cc-6d15d209f707"
      },
      "outputs": [
        {
          "output_type": "stream",
          "name": "stdout",
          "text": [
            "[nltk_data] Downloading package vader_lexicon to /root/nltk_data...\n"
          ]
        }
      ],
      "source": [
        "nltk.download('vader_lexicon')\n",
        "\n",
        "def vadersentimentanalysis(review):\n",
        "\n",
        "    vs = analyzer.polarity_scores(review)\n",
        "    return vs['compound']\n",
        "\n",
        "analyzer = SentimentIntensityAnalyzer()"
      ]
    },
    {
      "cell_type": "code",
      "execution_count": 21,
      "metadata": {
        "id": "IyK3dTCq-nUy"
      },
      "outputs": [],
      "source": [
        "df_tesla['Vader_Sentiment'] = df_tesla['Stop Words Removed'].apply(vadersentimentanalysis)\n",
        "df_chevy['Vader_Sentiment'] = df_chevy['Stop Words Removed'].apply(vadersentimentanalysis)"
      ]
    },
    {
      "cell_type": "markdown",
      "metadata": {
        "id": "bq4z3XeL6MPd"
      },
      "source": [
        "# BERT Analysis"
      ]
    },
    {
      "cell_type": "markdown",
      "source": [
        "Perform the analysis using BERT, the pre-trained sentiment analysis tranformer based neural network"
      ],
      "metadata": {
        "id": "_t0s37DLVZ7i"
      }
    },
    {
      "cell_type": "code",
      "execution_count": 22,
      "metadata": {
        "id": "EZy4B-WkNSMr",
        "colab": {
          "base_uri": "https://localhost:8080/",
          "height": 177,
          "referenced_widgets": [
            "76ce35da93b2490188a227f9a4361239",
            "7aaec12cb26d48e1be0cc28d3ca1316e",
            "55ce98d7a625498e8fd74f54e8a90dd4",
            "52dd800b6e664c9c81a5e98182fe7d2d",
            "2f41522fd0f64c4eac8cd8b1f7c9272a",
            "9d53e736fdbc468584acb0ecfaa7182d",
            "c684f986827e42b7b10bf4313222f035",
            "6665fa4273dd4a028acb1b6a5969b55c",
            "7cd5e6c4eaea4879a4e55bae661ec8be",
            "514cb62940ff4b0bbe13124b9ac533c0",
            "074b4740dd264448832c84aa5bceb543",
            "c6acdf4b498e420392b7e827f195f25e",
            "d09af5d5454a4a61b0f4bd4c16f3cd69",
            "ff863ea1a94a4d1cabeb1cd304d95fd3",
            "b65d631eb5d94ecda88a9797d0f5064d",
            "5fbe8f2947cd4a3fab39500580fa30ab",
            "84eafd714a2f4ae2a7320efacb987979",
            "fc9dd985d26d4566bd530ffc9da5da9c",
            "71783cfa189649869520827cd63e9ee1",
            "5c1598b5e9344ca08f761bc392a3702c",
            "49e5b931e44140d7a392effa0d9d91e8",
            "52de799e1a4045e2a26392dc41e74e53",
            "6fba6d55076d4c1db2b4102c563862db",
            "a0c225759563463fbf6ed1221526d55d",
            "8736c16b4ff548da84d0bd331dc99095",
            "e6eae42910954c70aebc4d2c3acb4777",
            "bfefc537172047489f34e8b4dde65907",
            "53f2f24c844148a28f45f2a4a7e32455",
            "f7d07af3c10d4118b50c2b8d0df07887",
            "6f951ab6dfcf4686a3e4aee0afcc5227",
            "05f3567f6b2c4810983126aa2b810145",
            "b2a17b269b3142e8805a7f0cd2c8abd3",
            "d29a95edc47f4b4ab42983c103411077",
            "a2e14f4b07724ad9a03039b81f20a7ac",
            "66a9daafeed94116ab9026e2c77afc2a",
            "03f03d91350c4261946b0e5881b8accf",
            "557457dc049847299ebbe9e61dde2ca7",
            "1111d802461c4824adfbe421b755fb9e",
            "6709c9bc45b94fa8909040c62d6cca5b",
            "0c6624317ff64a0c8268e7a485f538cd",
            "300201aaae7144acb28fb407918ecd1b",
            "3fd54aef3c534f62b66bca4cca170869",
            "dd536f0d846d4fb6a24c3495b6340375",
            "957f66bb88e84ff68e7b74e21c66cfb1",
            "bc652c28e4be4fd7b6a0eca3f2fb555d",
            "dcbcf664d7c54435afaf7e3ba9af83c8",
            "1d5a87a989744dfa8137b2e04dbd2606",
            "f494e0bfe9f64075bdfa84e6776c7222",
            "fbc18dc648d54fd38fb2baf0e1bc655b",
            "71757baa93854987ae6bbca48f012592",
            "9006744306344243b15364570e903240",
            "fb7ae647336e46d599808382c444d469",
            "ffbc81280e104e69ba6b3c9d4cd30b61",
            "b7dd1052ae844eedb18aeb464ffa0e61",
            "e906af6fe4924263a131dfd4c0f1da72"
          ]
        },
        "outputId": "4b0b76dd-999e-4d81-f712-c2fca1533c79"
      },
      "outputs": [
        {
          "output_type": "display_data",
          "data": {
            "application/vnd.jupyter.widget-view+json": {
              "model_id": "76ce35da93b2490188a227f9a4361239",
              "version_minor": 0,
              "version_major": 2
            },
            "text/plain": [
              "Downloading:   0%|          | 0.00/39.0 [00:00<?, ?B/s]"
            ]
          },
          "metadata": {}
        },
        {
          "output_type": "display_data",
          "data": {
            "application/vnd.jupyter.widget-view+json": {
              "model_id": "c6acdf4b498e420392b7e827f195f25e",
              "version_minor": 0,
              "version_major": 2
            },
            "text/plain": [
              "Downloading:   0%|          | 0.00/953 [00:00<?, ?B/s]"
            ]
          },
          "metadata": {}
        },
        {
          "output_type": "display_data",
          "data": {
            "application/vnd.jupyter.widget-view+json": {
              "model_id": "6fba6d55076d4c1db2b4102c563862db",
              "version_minor": 0,
              "version_major": 2
            },
            "text/plain": [
              "Downloading:   0%|          | 0.00/851k [00:00<?, ?B/s]"
            ]
          },
          "metadata": {}
        },
        {
          "output_type": "display_data",
          "data": {
            "application/vnd.jupyter.widget-view+json": {
              "model_id": "a2e14f4b07724ad9a03039b81f20a7ac",
              "version_minor": 0,
              "version_major": 2
            },
            "text/plain": [
              "Downloading:   0%|          | 0.00/112 [00:00<?, ?B/s]"
            ]
          },
          "metadata": {}
        },
        {
          "output_type": "display_data",
          "data": {
            "application/vnd.jupyter.widget-view+json": {
              "model_id": "bc652c28e4be4fd7b6a0eca3f2fb555d",
              "version_minor": 0,
              "version_major": 2
            },
            "text/plain": [
              "Downloading:   0%|          | 0.00/638M [00:00<?, ?B/s]"
            ]
          },
          "metadata": {}
        }
      ],
      "source": [
        "tokenizer = AutoTokenizer.from_pretrained('nlptown/bert-base-multilingual-uncased-sentiment')\n",
        "model = AutoModelForSequenceClassification.from_pretrained('nlptown/bert-base-multilingual-uncased-sentiment')"
      ]
    },
    {
      "cell_type": "markdown",
      "source": [
        "This function will output the review score of BERT, which goes from 1 to 5"
      ],
      "metadata": {
        "id": "zad40sXsVl4L"
      }
    },
    {
      "cell_type": "code",
      "execution_count": 23,
      "metadata": {
        "id": "2K_6LOQg9F_l"
      },
      "outputs": [],
      "source": [
        "def sentiment_score(review):\n",
        "    tokens = tokenizer.encode(review, return_tensors='pt')\n",
        "    result = model(tokens)\n",
        "    return int(torch.argmax(result.logits))+1"
      ]
    },
    {
      "cell_type": "code",
      "execution_count": 24,
      "metadata": {
        "id": "tNLrUzw_9Imq"
      },
      "outputs": [],
      "source": [
        "df_tesla['review'] = df_tesla['quotation'].apply(lambda x: sentiment_score(x[:512]))\n",
        "df_chevy['review'] = df_chevy['quotation'].apply(lambda x: sentiment_score(x[:512]))"
      ]
    },
    {
      "cell_type": "markdown",
      "metadata": {
        "id": "L2QEwc3_6U4-"
      },
      "source": [
        "# Text 2 Emotion Analyis"
      ]
    },
    {
      "cell_type": "markdown",
      "source": [
        "We perform the last sentiment analysis algorithm, Text2Emotion, who maps a sentiement based on the sentence given"
      ],
      "metadata": {
        "id": "9gYFF9xrV82w"
      }
    },
    {
      "cell_type": "code",
      "execution_count": 25,
      "metadata": {
        "id": "Y_W3gCFB-9BZ"
      },
      "outputs": [],
      "source": [
        "def high_emotion(d):\n",
        "\n",
        "     v=list(d.values())\n",
        "     k=list(d.keys())\n",
        "     return k[v.index(max(v))]\n",
        "     "
      ]
    },
    {
      "cell_type": "code",
      "execution_count": 26,
      "metadata": {
        "id": "hBGHQznD-7Bi"
      },
      "outputs": [],
      "source": [
        "df_tesla['Text 2 Emotion'] = df_tesla['Stop Words Removed'].apply(te.get_emotion)\n",
        "df_tesla['Emotion'] = df_tesla['Text 2 Emotion'].apply(high_emotion)\n",
        "\n",
        "df_chevy['Text 2 Emotion'] = df_chevy['Stop Words Removed'].apply(te.get_emotion)\n",
        "df_chevy['Emotion'] = df_chevy['Text 2 Emotion'].apply(high_emotion)"
      ]
    },
    {
      "cell_type": "markdown",
      "metadata": {
        "id": "WliNUo9k6_2w"
      },
      "source": [
        "# Emotion Verification"
      ]
    },
    {
      "cell_type": "markdown",
      "source": [
        "We now perform the emotion checking step, where we will compare the different outputs of the sentiment analysis algorithms, in order to correct the VADER score should the other two techniques output contrary results "
      ],
      "metadata": {
        "id": "opkkjUCVWJmJ"
      }
    },
    {
      "cell_type": "code",
      "execution_count": 27,
      "metadata": {
        "id": "D7RUvjp66XjB"
      },
      "outputs": [],
      "source": [
        "def vibe_check(vibe_BERT, vibe_VADER, vibe_t2e):\n",
        "\n",
        "  vibe_curr = vibe_VADER\n",
        "\n",
        "  if vibe_BERT == 1 or vibe_VADER == 2:\n",
        "    if (vibe_VADER > 0.6) and (vibe_t2e == \"Happy\" or vibe_t2e == \"Surprised\"):\n",
        "      vibe_curr = 0.7\n",
        "\n",
        "  elif vibe_BERT == 4 or vibe_BERT == 5:\n",
        "    if (vibe_VADER < 0.4) and (vibe_t2e == \"Sad\" or vibe_t2e == \"Fear\"):\n",
        "      vibe_curr = 0.3\n",
        "  \n",
        "  return vibe_curr"
      ]
    },
    {
      "cell_type": "code",
      "execution_count": 28,
      "metadata": {
        "id": "bZXg0uz07MSG"
      },
      "outputs": [],
      "source": [
        "df_tesla['Vibe Checked'] = df_tesla.apply(lambda row: vibe_check(row['review'], row['Vader_Sentiment'], row['Text 2 Emotion']), axis=1)\n",
        "df_chevy['Vibe Checked'] = df_chevy.apply(lambda row: vibe_check(row['review'], row['Vader_Sentiment'], row['Text 2 Emotion']), axis=1)"
      ]
    },
    {
      "cell_type": "markdown",
      "metadata": {
        "id": "LRZ5l1kpMGQ-"
      },
      "source": [
        "# Selecting Frequent Speakers"
      ]
    },
    {
      "cell_type": "markdown",
      "source": [
        "Counting how much people talk and what is their overall sentiement by counting how much quotes were labeled as positive or negative "
      ],
      "metadata": {
        "id": "NLTb0SL6YOFi"
      }
    },
    {
      "cell_type": "code",
      "execution_count": 31,
      "metadata": {
        "id": "_xSRvaKOMiDV"
      },
      "outputs": [],
      "source": [
        "def emotion_count(dataframe):\n",
        "\n",
        "  speakers = dataframe[\"qids\"].drop_duplicates().tolist()\n",
        "\n",
        "  pos_count = []\n",
        "  neg_count = []\n",
        "  neu_count = []\n",
        "  tot_count = []\n",
        "\n",
        "  speakers_group = dataframe.groupby(\"qids\")\n",
        "\n",
        "  for curr in speakers:\n",
        "          \n",
        "      analysis = speakers_group.get_group(curr)[\"review\"]\n",
        "      vals = Counter(analysis)\n",
        "      pos_count.append(vals[5] + vals[4])\n",
        "      neg_count.append(vals[1] + vals[2])\n",
        "      neu_count.append(vals[3])\n",
        "      tot_count.append(vals[1] + vals[2] + vals[3] + vals[4] + vals[5])\n",
        "          \n",
        "  emotion_count = pd.DataFrame()\n",
        "  emotion_count[\"Speakers\"] = speakers\n",
        "  emotion_count[\"Positive Count\"] = pos_count\n",
        "  emotion_count[\"Negative Count\"] = neg_count\n",
        "  emotion_count[\"Neutral Count\"] = neu_count\n",
        "  emotion_count[\"Total Count\"] = tot_count\n",
        "\n",
        "  return emotion_count"
      ]
    },
    {
      "cell_type": "markdown",
      "source": [
        "We look at who talked to most and select the speakers who talked at least 5 times to have meaningful evolutions"
      ],
      "metadata": {
        "id": "camTNMo-Yy-Q"
      }
    },
    {
      "cell_type": "code",
      "execution_count": 32,
      "metadata": {
        "id": "eX6Qaf1gjWmq"
      },
      "outputs": [],
      "source": [
        "emotion_count_tesla = emotion_count(df_tesla)\n",
        "most_cited = emotion_count_tesla[emotion_count_tesla[\"Total Count\"] > 5]\n",
        "most_cited_speakers = most_cited[\"Speakers\"]\n",
        "df_cited_tesla = df_tesla[df_tesla[\"qids\"].isin(most_cited_speakers)]"
      ]
    },
    {
      "cell_type": "code",
      "execution_count": 33,
      "metadata": {
        "id": "-uDzP8W-vsN2"
      },
      "outputs": [],
      "source": [
        "emotion_count_chevy = emotion_count(df_chevy)\n",
        "most_cited = emotion_count_chevy[emotion_count_chevy[\"Total Count\"] > 5]\n",
        "most_cited_speakers = most_cited[\"Speakers\"]\n",
        "df_cited_chevy = df_chevy[df_chevy[\"qids\"].isin(most_cited_speakers)]"
      ]
    },
    {
      "cell_type": "markdown",
      "metadata": {
        "id": "qAFVYXo0A5Q2"
      },
      "source": [
        "# Load Relevant Supplementary Data"
      ]
    },
    {
      "cell_type": "markdown",
      "source": [
        "We load the data that was extracted when processing the data to gather all the information we have about the speakers"
      ],
      "metadata": {
        "id": "N1j7aOzDZhlN"
      }
    },
    {
      "cell_type": "code",
      "execution_count": 36,
      "metadata": {
        "id": "gLygNWXzA42-"
      },
      "outputs": [],
      "source": [
        "from_qids_to_label_occupation = pd.read_json('/content/drive/MyDrive/speaker_attributes/occupations.json') \n",
        "from_qids_to_label_ethnics = pd.read_json('/content/drive/MyDrive/speaker_attributes/ethnic.json' ) \n",
        "from_qids_to_label_religion = pd.read_json('/content/drive/MyDrive/speaker_attributes/religion.json') \n",
        "from_qids_to_label_nationality = pd.read_json('/content/drive/MyDrive/speaker_attributes/nationality.json') \n",
        "from_qids_to_label_party = pd.read_json('/content/drive/MyDrive/speaker_attributes/party.json') \n",
        "from_qids_to_label_gender = pd.read_json('/content/drive/MyDrive/speaker_attributes/gender.json') \n",
        "\n",
        "df_speakers_attributes = pd.read_parquet('/content/drive/MyDrive/speaker_attributes/speaker_attributes.parquet')"
      ]
    },
    {
      "cell_type": "markdown",
      "metadata": {
        "id": "JLU2amlwBf5P"
      },
      "source": [
        "# Map Speaker Attributes"
      ]
    },
    {
      "cell_type": "code",
      "execution_count": 37,
      "metadata": {
        "id": "cqcQzee9A3y2"
      },
      "outputs": [],
      "source": [
        "def map_qids_labels(list_qids,df_):\n",
        "    \"\"\"Transform a list of QIDS into a list of labels, return 0 if the list is empty (which is equal to 0 in the dataframe).\"\"\"\n",
        "    if(type(list_qids)!=int):\n",
        "        return [df_[df_.qids == x].values[0][1] for x in list_qids if (x!=0 and len(df_[df_.qids == x].values) != 0)]    \n",
        "    else:\n",
        "        return 0  \n",
        "\n",
        "def process_speakers_attributes(df_speakers_attributes):\n",
        "    \"\"\"Add the columns for the party, occupation, religion, ethnics and nationality their labels. Take as input the dataframe with the selected speakers and return the same dataframe with the columns added.\"\"\"\n",
        "    df = df_speakers_attributes[['date_of_birth','nationality','gender','ethnic_group','occupation','id','label','religion','party']]\n",
        "    df = df.rename(columns={'date_of_birth':'birth','nationality':'nationality_qids','gender':'gender_qids','ethnic_group':'ethnics_qids','occupation':'occupations_qids','id':'name_qids','label':'name_label','religion':'religion_qids','party':'party_qids','gender':'gender_qids'})\n",
        "    # Add labels for occupations, ethincs, religion, nationality, party\n",
        "    df = df.fillna(0)\n",
        "    df['occupation_label']= df['occupations_qids'].apply(lambda x : map_qids_labels(x,from_qids_to_label_occupation))\n",
        "    df['ethnics_label']= df['ethnics_qids'].apply(lambda x : map_qids_labels(x,from_qids_to_label_ethnics))\n",
        "    df['religion_label']= df['religion_qids'].apply(lambda x : map_qids_labels(x,from_qids_to_label_religion))\n",
        "    df['nationality_label']= df['nationality_qids'].apply(lambda x : map_qids_labels(x,from_qids_to_label_nationality))\n",
        "    df['party_label']= df['party_qids'].apply(lambda x : map_qids_labels(x,from_qids_to_label_party))\n",
        "    df['gender_label']= df['gender_qids'].apply(lambda x : map_qids_labels(x,from_qids_to_label_gender))\n",
        "    return df\n"
      ]
    },
    {
      "cell_type": "code",
      "execution_count": 38,
      "metadata": {
        "id": "gziMX1MgFS1W"
      },
      "outputs": [],
      "source": [
        "def select_speakers(list_qids):\n",
        "  \n",
        "    \"\"\"From a list of QIDS of speakers, return the dataframe with only the speakers that are in the list.\"\"\"\n",
        "    return df_speakers_attributes[df_speakers_attributes.id.isin(list_qids)]\n",
        "\n",
        "def process_dataframe_quotes(df_sent, time_range, speakers, explode_by):\n",
        "    \"\"\" Transform the date into a datetime object ('%Y-%m-%d %H:%M:%S)\n",
        "        Split with the time_range the dataframe df. Add a columns 'period' with the label before, during or after. \n",
        "        Join the quotes dataframe with the speakers dataframe on the name_qids.\n",
        "        Explode the dataframe depending on the column(s) in explode_by\"\"\"\n",
        "    \n",
        "    # Rename the columns and keep only the one needed\n",
        "    df_sent = df_sent.rename(columns={'qids':'name_qids','quoteID':'quote_qids','Emotion':'emotion'})\n",
        "    df_sent = df_sent[['date','name_qids','quotation','quote_qids','Vader_Sentiment','emotion','review']]\n",
        "    # Change timestamp in datetime object and add the perdio depending on the time_range list\n",
        "    df_sent['date']= df_sent['date'].apply(lambda x :datetime.strptime(str(x), '%Y-%m-%d %H:%M:%S'))\n",
        "    df_sent['year_month']= df_sent['date'].apply(lambda x :datetime.strptime(str(x)[:7], '%Y-%m'))\n",
        "    \n",
        "    #df_sent['period'] = df_sent['date'].apply(lambda x : select_period(x,time_range))\n",
        "    \n",
        "    #Join the dataframe with the speakers attributes on the name_qids\n",
        "    df = df_sent.merge(speakers, on='name_qids')\n",
        "\n",
        "    # Explode the df by the column(s) in explode_by\n",
        "    #df = df.explode(explode_by)\n",
        "    \n",
        "    return df"
      ]
    },
    {
      "cell_type": "code",
      "execution_count": 39,
      "metadata": {
        "id": "BeZCILsrFnYe"
      },
      "outputs": [],
      "source": [
        "list_qids = df_tesla.drop_duplicates(['qids']).qids.values\n",
        "df_tesla_ = select_speakers(list_qids)\n",
        "df_speakers_att_tesla = process_speakers_attributes(df_tesla_)"
      ]
    },
    {
      "cell_type": "code",
      "execution_count": 40,
      "metadata": {
        "id": "QR_Zn6gGxk4-"
      },
      "outputs": [],
      "source": [
        "list_qids = df_chevy.drop_duplicates(['qids']).qids.values\n",
        "df_chevy_ = select_speakers(list_qids)\n",
        "df_speakers_att_chevy = process_speakers_attributes(df_chevy_)"
      ]
    },
    {
      "cell_type": "markdown",
      "metadata": {
        "id": "AfXPO0WxFoBq"
      },
      "source": [
        "# Process Dates"
      ]
    },
    {
      "cell_type": "code",
      "execution_count": 41,
      "metadata": {
        "id": "5XMoca_1FtYd"
      },
      "outputs": [],
      "source": [
        "start = datetime.strptime(str('2017-07-28 00:00:00'), '%Y-%m-%d %H:%M:%S')\n",
        "end = datetime.strptime(str('2017-07-28 23:59:59'), '%Y-%m-%d %H:%M:%S')\n",
        "time_range = [start,end]\n",
        "speakers = df_speakers_att_tesla[['name_qids','name_label','occupations_qids','occupation_label','nationality_label']]\n",
        "explode_by = 'occupations_qids'\n",
        "df_tesla = process_dataframe_quotes(df_tesla, time_range, speakers, explode_by)"
      ]
    },
    {
      "cell_type": "markdown",
      "source": [
        "We process the dates of the quotes and the attributes that interest us for further analyses "
      ],
      "metadata": {
        "id": "FyVqqQlEZq3v"
      }
    },
    {
      "cell_type": "code",
      "execution_count": 42,
      "metadata": {
        "id": "qf2NZM7qybd7"
      },
      "outputs": [],
      "source": [
        "start = datetime.strptime(str('2017-07-28 00:00:00'), '%Y-%m-%d %H:%M:%S')\n",
        "end = datetime.strptime(str('2017-07-28 23:59:59'), '%Y-%m-%d %H:%M:%S')\n",
        "time_range = [start,end]\n",
        "speakers = df_speakers_att_chevy[['name_qids','name_label','occupations_qids','occupation_label','nationality_label']]\n",
        "explode_by = 'occupations_qids'\n",
        "df_chevy = process_dataframe_quotes(df_chevy, time_range, speakers, explode_by)"
      ]
    },
    {
      "cell_type": "code",
      "execution_count": 44,
      "metadata": {
        "colab": {
          "base_uri": "https://localhost:8080/",
          "height": 17
        },
        "id": "Orv-tGdJwuxR",
        "outputId": "270d517a-0121-4686-88f3-2e733bb169cd"
      },
      "outputs": [
        {
          "output_type": "display_data",
          "data": {
            "application/javascript": [
              "\n",
              "    async function download(id, filename, size) {\n",
              "      if (!google.colab.kernel.accessAllowed) {\n",
              "        return;\n",
              "      }\n",
              "      const div = document.createElement('div');\n",
              "      const label = document.createElement('label');\n",
              "      label.textContent = `Downloading \"${filename}\": `;\n",
              "      div.appendChild(label);\n",
              "      const progress = document.createElement('progress');\n",
              "      progress.max = size;\n",
              "      div.appendChild(progress);\n",
              "      document.body.appendChild(div);\n",
              "\n",
              "      const buffers = [];\n",
              "      let downloaded = 0;\n",
              "\n",
              "      const channel = await google.colab.kernel.comms.open(id);\n",
              "      // Send a message to notify the kernel that we're ready.\n",
              "      channel.send({})\n",
              "\n",
              "      for await (const message of channel.messages) {\n",
              "        // Send a message to notify the kernel that we're ready.\n",
              "        channel.send({})\n",
              "        if (message.buffers) {\n",
              "          for (const buffer of message.buffers) {\n",
              "            buffers.push(buffer);\n",
              "            downloaded += buffer.byteLength;\n",
              "            progress.value = downloaded;\n",
              "          }\n",
              "        }\n",
              "      }\n",
              "      const blob = new Blob(buffers, {type: 'application/binary'});\n",
              "      const a = document.createElement('a');\n",
              "      a.href = window.URL.createObjectURL(blob);\n",
              "      a.download = filename;\n",
              "      div.appendChild(a);\n",
              "      a.click();\n",
              "      div.remove();\n",
              "    }\n",
              "  "
            ],
            "text/plain": [
              "<IPython.core.display.Javascript object>"
            ]
          },
          "metadata": {}
        },
        {
          "output_type": "display_data",
          "data": {
            "application/javascript": [
              "download(\"download_34606f44-909e-4149-ace9-55438354d2c9\", \"Tesla_Sentiment_Complete.json\", 5549394)"
            ],
            "text/plain": [
              "<IPython.core.display.Javascript object>"
            ]
          },
          "metadata": {}
        }
      ],
      "source": [
        "df_tesla.to_json('Tesla_Sentiment_Complete.json')\n",
        "files.download('/content/Tesla_Sentiment_Complete.json')"
      ]
    },
    {
      "cell_type": "code",
      "execution_count": 45,
      "metadata": {
        "colab": {
          "base_uri": "https://localhost:8080/",
          "height": 17
        },
        "id": "1cMmLatJw0f1",
        "outputId": "857ea8c7-d7d8-4a4b-a40f-1ca7a2543e19"
      },
      "outputs": [
        {
          "output_type": "display_data",
          "data": {
            "application/javascript": [
              "\n",
              "    async function download(id, filename, size) {\n",
              "      if (!google.colab.kernel.accessAllowed) {\n",
              "        return;\n",
              "      }\n",
              "      const div = document.createElement('div');\n",
              "      const label = document.createElement('label');\n",
              "      label.textContent = `Downloading \"${filename}\": `;\n",
              "      div.appendChild(label);\n",
              "      const progress = document.createElement('progress');\n",
              "      progress.max = size;\n",
              "      div.appendChild(progress);\n",
              "      document.body.appendChild(div);\n",
              "\n",
              "      const buffers = [];\n",
              "      let downloaded = 0;\n",
              "\n",
              "      const channel = await google.colab.kernel.comms.open(id);\n",
              "      // Send a message to notify the kernel that we're ready.\n",
              "      channel.send({})\n",
              "\n",
              "      for await (const message of channel.messages) {\n",
              "        // Send a message to notify the kernel that we're ready.\n",
              "        channel.send({})\n",
              "        if (message.buffers) {\n",
              "          for (const buffer of message.buffers) {\n",
              "            buffers.push(buffer);\n",
              "            downloaded += buffer.byteLength;\n",
              "            progress.value = downloaded;\n",
              "          }\n",
              "        }\n",
              "      }\n",
              "      const blob = new Blob(buffers, {type: 'application/binary'});\n",
              "      const a = document.createElement('a');\n",
              "      a.href = window.URL.createObjectURL(blob);\n",
              "      a.download = filename;\n",
              "      div.appendChild(a);\n",
              "      a.click();\n",
              "      div.remove();\n",
              "    }\n",
              "  "
            ],
            "text/plain": [
              "<IPython.core.display.Javascript object>"
            ]
          },
          "metadata": {}
        },
        {
          "output_type": "display_data",
          "data": {
            "application/javascript": [
              "download(\"download_87edf717-be2a-413c-966f-9db4e3139fe7\", \"Chevy_Sentiment_Complete.json\", 1984654)"
            ],
            "text/plain": [
              "<IPython.core.display.Javascript object>"
            ]
          },
          "metadata": {}
        }
      ],
      "source": [
        "df_chevy.to_json('Chevy_Sentiment_Complete.json')\n",
        "files.download('/content/Chevy_Sentiment_Complete.json')"
      ]
    },
    {
      "cell_type": "markdown",
      "source": [
        "We define a function that will build wordclouds in order to visualize the most frequent occurences of various words"
      ],
      "metadata": {
        "id": "-9nrYe8ik1xR"
      }
    },
    {
      "cell_type": "code",
      "source": [
        "def wordcloud_plot(var_vector, mask = None):\n",
        "\n",
        "  var_vector_exp = var_vector.explode().tolist()\n",
        "  var_vector_exp = [str(val) for val in var_vector_exp]\n",
        "\n",
        "  f = plt.figure()\n",
        "  f.set_figwidth(30)\n",
        "  f.set_figwidth(12)\n",
        "\n",
        "  wc = WordCloud(background_color=\"white\", contour_width=3, contour_color='steelblue', mask = mask)\n",
        "  wc.generate(listToString(var_vector_exp))\n",
        "  plt.imshow(wc, interpolation='bilinear', cmap=plt.cm.gray)\n",
        "  plt.axis(\"off\")\n",
        "\n",
        "mask = np.array(Image.open(\"vroum_autre.jpg\"))"
      ],
      "metadata": {
        "id": "0NN1dEoOk2Wr"
      },
      "execution_count": 54,
      "outputs": []
    },
    {
      "cell_type": "markdown",
      "source": [
        "# Occupations"
      ],
      "metadata": {
        "id": "uBZznbJ_yZG9"
      }
    },
    {
      "cell_type": "code",
      "source": [
        "wordcloud_plot(df_tesla[\"occupation_label\"], mask = mask)"
      ],
      "metadata": {
        "id": "cRcBq6L1qoip",
        "colab": {
          "base_uri": "https://localhost:8080/",
          "height": 248
        },
        "outputId": "43cf96d6-82bf-452a-dc2e-d26f80e7f0ac"
      },
      "execution_count": 56,
      "outputs": [
        {
          "output_type": "display_data",
          "data": {
            "image/png": "[encoded data removed]",
            "text/plain": [
              "<Figure size 864x288 with 1 Axes>"
            ]
          },
          "metadata": {
            "needs_background": "light"
          }
        }
      ]
    },
    {
      "cell_type": "code",
      "source": [
        "wordcloud_plot(df_chevy[\"occupation_label\"], mask = mask)"
      ],
      "metadata": {
        "id": "iPMni5y9rVh7",
        "colab": {
          "base_uri": "https://localhost:8080/",
          "height": 248
        },
        "outputId": "d07f17d3-cce0-4eb5-f14f-31e0af45a845"
      },
      "execution_count": 58,
      "outputs": [
        {
          "output_type": "display_data",
          "data": {
            "image/png": "[encoded data removed]",
            "text/plain": [
              "<Figure size 864x288 with 1 Axes>"
            ]
          },
          "metadata": {
            "needs_background": "light"
          }
        }
      ]
    },
    {
      "cell_type": "markdown",
      "source": [
        "# Nationalities"
      ],
      "metadata": {
        "id": "alb-RVEDydi1"
      }
    },
    {
      "cell_type": "code",
      "source": [
        "no_musk = df_tesla[df_tesla[\"name_label\"] != \"Elon Musk\"]\n",
        "wordcloud_plot(no_musk[\"nationality_label\"], mask = mask)"
      ],
      "metadata": {
        "id": "eUEGFDd3ygRU",
        "colab": {
          "base_uri": "https://localhost:8080/",
          "height": 248
        },
        "outputId": "b83cc917-a7d3-4945-8d61-4408898845ef"
      },
      "execution_count": 62,
      "outputs": [
        {
          "output_type": "display_data",
          "data": {
            "image/png": "[encoded data removed]",
            "text/plain": [
              "<Figure size 864x288 with 1 Axes>"
            ]
          },
          "metadata": {
            "needs_background": "light"
          }
        }
      ]
    },
    {
      "cell_type": "code",
      "source": [
        "wordcloud_plot(df_chevy[\"nationality_label\"], mask = mask)"
      ],
      "metadata": {
        "id": "RVGKVWawytTc",
        "colab": {
          "base_uri": "https://localhost:8080/",
          "height": 248
        },
        "outputId": "ee115871-3787-46b4-8d24-27b48ec44c67"
      },
      "execution_count": 61,
      "outputs": [
        {
          "output_type": "display_data",
          "data": {
            "image/png": "[encoded data removed]",
            "text/plain": [
              "<Figure size 864x288 with 1 Axes>"
            ]
          },
          "metadata": {
            "needs_background": "light"
          }
        }
      ]
    },
    {
      "cell_type": "code",
      "source": [
        ""
      ],
      "metadata": {
        "id": "c5RyzXhiNC_G"
      },
      "execution_count": null,
      "outputs": []
    }
  ],
  "metadata": {
    "colab": {
      "collapsed_sections": [],
      "name": "pipeline (1).ipynb",
      "provenance": []
    },
    "kernelspec": {
      "display_name": "Python 3",
      "name": "python3"
    },
    "language_info": {
      "name": "python"
    },
    "widgets": {
      "application/vnd.jupyter.widget-state+json": {
        "76ce35da93b2490188a227f9a4361239": {
          "model_module": "@jupyter-widgets/controls",
          "model_name": "HBoxModel",
          "model_module_version": "1.5.0",
          "state": {
            "_view_name": "HBoxView",
            "_dom_classes": [],
            "_model_name": "HBoxModel",
            "_view_module": "@jupyter-widgets/controls",
            "_model_module_version": "1.5.0",
            "_view_count": null,
            "_view_module_version": "1.5.0",
            "box_style": "",
            "layout": "IPY_MODEL_7aaec12cb26d48e1be0cc28d3ca1316e",
            "_model_module": "@jupyter-widgets/controls",
            "children": [
              "IPY_MODEL_55ce98d7a625498e8fd74f54e8a90dd4",
              "IPY_MODEL_52dd800b6e664c9c81a5e98182fe7d2d",
              "IPY_MODEL_2f41522fd0f64c4eac8cd8b1f7c9272a"
            ]
          }
        },
        "7aaec12cb26d48e1be0cc28d3ca1316e": {
          "model_module": "@jupyter-widgets/base",
          "model_name": "LayoutModel",
          "model_module_version": "1.2.0",
          "state": {
            "_view_name": "LayoutView",
            "grid_template_rows": null,
            "right": null,
            "justify_content": null,
            "_view_module": "@jupyter-widgets/base",
            "overflow": null,
            "_model_module_version": "1.2.0",
            "_view_count": null,
            "flex_flow": null,
            "width": null,
            "min_width": null,
            "border": null,
            "align_items": null,
            "bottom": null,
            "_model_module": "@jupyter-widgets/base",
            "top": null,
            "grid_column": null,
            "overflow_y": null,
            "overflow_x": null,
            "grid_auto_flow": null,
            "grid_area": null,
            "grid_template_columns": null,
            "flex": null,
            "_model_name": "LayoutModel",
            "justify_items": null,
            "grid_row": null,
            "max_height": null,
            "align_content": null,
            "visibility": null,
            "align_self": null,
            "height": null,
            "min_height": null,
            "padding": null,
            "grid_auto_rows": null,
            "grid_gap": null,
            "max_width": null,
            "order": null,
            "_view_module_version": "1.2.0",
            "grid_template_areas": null,
            "object_position": null,
            "object_fit": null,
            "grid_auto_columns": null,
            "margin": null,
            "display": null,
            "left": null
          }
        },
        "55ce98d7a625498e8fd74f54e8a90dd4": {
          "model_module": "@jupyter-widgets/controls",
          "model_name": "HTMLModel",
          "model_module_version": "1.5.0",
          "state": {
            "_view_name": "HTMLView",
            "style": "IPY_MODEL_9d53e736fdbc468584acb0ecfaa7182d",
            "_dom_classes": [],
            "description": "",
            "_model_name": "HTMLModel",
            "placeholder": "​",
            "_view_module": "@jupyter-widgets/controls",
            "_model_module_version": "1.5.0",
            "value": "Downloading: 100%",
            "_view_count": null,
            "_view_module_version": "1.5.0",
            "description_tooltip": null,
            "_model_module": "@jupyter-widgets/controls",
            "layout": "IPY_MODEL_c684f986827e42b7b10bf4313222f035"
          }
        },
        "52dd800b6e664c9c81a5e98182fe7d2d": {
          "model_module": "@jupyter-widgets/controls",
          "model_name": "FloatProgressModel",
          "model_module_version": "1.5.0",
          "state": {
            "_view_name": "ProgressView",
            "style": "IPY_MODEL_6665fa4273dd4a028acb1b6a5969b55c",
            "_dom_classes": [],
            "description": "",
            "_model_name": "FloatProgressModel",
            "bar_style": "success",
            "max": 39,
            "_view_module": "@jupyter-widgets/controls",
            "_model_module_version": "1.5.0",
            "value": 39,
            "_view_count": null,
            "_view_module_version": "1.5.0",
            "orientation": "horizontal",
            "min": 0,
            "description_tooltip": null,
            "_model_module": "@jupyter-widgets/controls",
            "layout": "IPY_MODEL_7cd5e6c4eaea4879a4e55bae661ec8be"
          }
        },
        "2f41522fd0f64c4eac8cd8b1f7c9272a": {
          "model_module": "@jupyter-widgets/controls",
          "model_name": "HTMLModel",
          "model_module_version": "1.5.0",
          "state": {
            "_view_name": "HTMLView",
            "style": "IPY_MODEL_514cb62940ff4b0bbe13124b9ac533c0",
            "_dom_classes": [],
            "description": "",
            "_model_name": "HTMLModel",
            "placeholder": "​",
            "_view_module": "@jupyter-widgets/controls",
            "_model_module_version": "1.5.0",
            "value": " 39.0/39.0 [00:00&lt;00:00, 987B/s]",
            "_view_count": null,
            "_view_module_version": "1.5.0",
            "description_tooltip": null,
            "_model_module": "@jupyter-widgets/controls",
            "layout": "IPY_MODEL_074b4740dd264448832c84aa5bceb543"
          }
        },
        "9d53e736fdbc468584acb0ecfaa7182d": {
          "model_module": "@jupyter-widgets/controls",
          "model_name": "DescriptionStyleModel",
          "model_module_version": "1.5.0",
          "state": {
            "_view_name": "StyleView",
            "_model_name": "DescriptionStyleModel",
            "description_width": "",
            "_view_module": "@jupyter-widgets/base",
            "_model_module_version": "1.5.0",
            "_view_count": null,
            "_view_module_version": "1.2.0",
            "_model_module": "@jupyter-widgets/controls"
          }
        },
        "c684f986827e42b7b10bf4313222f035": {
          "model_module": "@jupyter-widgets/base",
          "model_name": "LayoutModel",
          "model_module_version": "1.2.0",
          "state": {
            "_view_name": "LayoutView",
            "grid_template_rows": null,
            "right": null,
            "justify_content": null,
            "_view_module": "@jupyter-widgets/base",
            "overflow": null,
            "_model_module_version": "1.2.0",
            "_view_count": null,
            "flex_flow": null,
            "width": null,
            "min_width": null,
            "border": null,
            "align_items": null,
            "bottom": null,
            "_model_module": "@jupyter-widgets/base",
            "top": null,
            "grid_column": null,
            "overflow_y": null,
            "overflow_x": null,
            "grid_auto_flow": null,
            "grid_area": null,
            "grid_template_columns": null,
            "flex": null,
            "_model_name": "LayoutModel",
            "justify_items": null,
            "grid_row": null,
            "max_height": null,
            "align_content": null,
            "visibility": null,
            "align_self": null,
            "height": null,
            "min_height": null,
            "padding": null,
            "grid_auto_rows": null,
            "grid_gap": null,
            "max_width": null,
            "order": null,
            "_view_module_version": "1.2.0",
            "grid_template_areas": null,
            "object_position": null,
            "object_fit": null,
            "grid_auto_columns": null,
            "margin": null,
            "display": null,
            "left": null
          }
        },
        "6665fa4273dd4a028acb1b6a5969b55c": {
          "model_module": "@jupyter-widgets/controls",
          "model_name": "ProgressStyleModel",
          "model_module_version": "1.5.0",
          "state": {
            "_view_name": "StyleView",
            "_model_name": "ProgressStyleModel",
            "description_width": "",
            "_view_module": "@jupyter-widgets/base",
            "_model_module_version": "1.5.0",
            "_view_count": null,
            "_view_module_version": "1.2.0",
            "bar_color": null,
            "_model_module": "@jupyter-widgets/controls"
          }
        },
        "7cd5e6c4eaea4879a4e55bae661ec8be": {
          "model_module": "@jupyter-widgets/base",
          "model_name": "LayoutModel",
          "model_module_version": "1.2.0",
          "state": {
            "_view_name": "LayoutView",
            "grid_template_rows": null,
            "right": null,
            "justify_content": null,
            "_view_module": "@jupyter-widgets/base",
            "overflow": null,
            "_model_module_version": "1.2.0",
            "_view_count": null,
            "flex_flow": null,
            "width": null,
            "min_width": null,
            "border": null,
            "align_items": null,
            "bottom": null,
            "_model_module": "@jupyter-widgets/base",
            "top": null,
            "grid_column": null,
            "overflow_y": null,
            "overflow_x": null,
            "grid_auto_flow": null,
            "grid_area": null,
            "grid_template_columns": null,
            "flex": null,
            "_model_name": "LayoutModel",
            "justify_items": null,
            "grid_row": null,
            "max_height": null,
            "align_content": null,
            "visibility": null,
            "align_self": null,
            "height": null,
            "min_height": null,
            "padding": null,
            "grid_auto_rows": null,
            "grid_gap": null,
            "max_width": null,
            "order": null,
            "_view_module_version": "1.2.0",
            "grid_template_areas": null,
            "object_position": null,
            "object_fit": null,
            "grid_auto_columns": null,
            "margin": null,
            "display": null,
            "left": null
          }
        },
        "514cb62940ff4b0bbe13124b9ac533c0": {
          "model_module": "@jupyter-widgets/controls",
          "model_name": "DescriptionStyleModel",
          "model_module_version": "1.5.0",
          "state": {
            "_view_name": "StyleView",
            "_model_name": "DescriptionStyleModel",
            "description_width": "",
            "_view_module": "@jupyter-widgets/base",
            "_model_module_version": "1.5.0",
            "_view_count": null,
            "_view_module_version": "1.2.0",
            "_model_module": "@jupyter-widgets/controls"
          }
        },
        "074b4740dd264448832c84aa5bceb543": {
          "model_module": "@jupyter-widgets/base",
          "model_name": "LayoutModel",
          "model_module_version": "1.2.0",
          "state": {
            "_view_name": "LayoutView",
            "grid_template_rows": null,
            "right": null,
            "justify_content": null,
            "_view_module": "@jupyter-widgets/base",
            "overflow": null,
            "_model_module_version": "1.2.0",
            "_view_count": null,
            "flex_flow": null,
            "width": null,
            "min_width": null,
            "border": null,
            "align_items": null,
            "bottom": null,
            "_model_module": "@jupyter-widgets/base",
            "top": null,
            "grid_column": null,
            "overflow_y": null,
            "overflow_x": null,
            "grid_auto_flow": null,
            "grid_area": null,
            "grid_template_columns": null,
            "flex": null,
            "_model_name": "LayoutModel",
            "justify_items": null,
            "grid_row": null,
            "max_height": null,
            "align_content": null,
            "visibility": null,
            "align_self": null,
            "height": null,
            "min_height": null,
            "padding": null,
            "grid_auto_rows": null,
            "grid_gap": null,
            "max_width": null,
            "order": null,
            "_view_module_version": "1.2.0",
            "grid_template_areas": null,
            "object_position": null,
            "object_fit": null,
            "grid_auto_columns": null,
            "margin": null,
            "display": null,
            "left": null
          }
        },
        "c6acdf4b498e420392b7e827f195f25e": {
          "model_module": "@jupyter-widgets/controls",
          "model_name": "HBoxModel",
          "model_module_version": "1.5.0",
          "state": {
            "_view_name": "HBoxView",
            "_dom_classes": [],
            "_model_name": "HBoxModel",
            "_view_module": "@jupyter-widgets/controls",
            "_model_module_version": "1.5.0",
            "_view_count": null,
            "_view_module_version": "1.5.0",
            "box_style": "",
            "layout": "IPY_MODEL_d09af5d5454a4a61b0f4bd4c16f3cd69",
            "_model_module": "@jupyter-widgets/controls",
            "children": [
              "IPY_MODEL_ff863ea1a94a4d1cabeb1cd304d95fd3",
              "IPY_MODEL_b65d631eb5d94ecda88a9797d0f5064d",
              "IPY_MODEL_5fbe8f2947cd4a3fab39500580fa30ab"
            ]
          }
        },
        "d09af5d5454a4a61b0f4bd4c16f3cd69": {
          "model_module": "@jupyter-widgets/base",
          "model_name": "LayoutModel",
          "model_module_version": "1.2.0",
          "state": {
            "_view_name": "LayoutView",
            "grid_template_rows": null,
            "right": null,
            "justify_content": null,
            "_view_module": "@jupyter-widgets/base",
            "overflow": null,
            "_model_module_version": "1.2.0",
            "_view_count": null,
            "flex_flow": null,
            "width": null,
            "min_width": null,
            "border": null,
            "align_items": null,
            "bottom": null,
            "_model_module": "@jupyter-widgets/base",
            "top": null,
            "grid_column": null,
            "overflow_y": null,
            "overflow_x": null,
            "grid_auto_flow": null,
            "grid_area": null,
            "grid_template_columns": null,
            "flex": null,
            "_model_name": "LayoutModel",
            "justify_items": null,
            "grid_row": null,
            "max_height": null,
            "align_content": null,
            "visibility": null,
            "align_self": null,
            "height": null,
            "min_height": null,
            "padding": null,
            "grid_auto_rows": null,
            "grid_gap": null,
            "max_width": null,
            "order": null,
            "_view_module_version": "1.2.0",
            "grid_template_areas": null,
            "object_position": null,
            "object_fit": null,
            "grid_auto_columns": null,
            "margin": null,
            "display": null,
            "left": null
          }
        },
        "ff863ea1a94a4d1cabeb1cd304d95fd3": {
          "model_module": "@jupyter-widgets/controls",
          "model_name": "HTMLModel",
          "model_module_version": "1.5.0",
          "state": {
            "_view_name": "HTMLView",
            "style": "IPY_MODEL_84eafd714a2f4ae2a7320efacb987979",
            "_dom_classes": [],
            "description": "",
            "_model_name": "HTMLModel",
            "placeholder": "​",
            "_view_module": "@jupyter-widgets/controls",
            "_model_module_version": "1.5.0",
            "value": "Downloading: 100%",
            "_view_count": null,
            "_view_module_version": "1.5.0",
            "description_tooltip": null,
            "_model_module": "@jupyter-widgets/controls",
            "layout": "IPY_MODEL_fc9dd985d26d4566bd530ffc9da5da9c"
          }
        },
        "b65d631eb5d94ecda88a9797d0f5064d": {
          "model_module": "@jupyter-widgets/controls",
          "model_name": "FloatProgressModel",
          "model_module_version": "1.5.0",
          "state": {
            "_view_name": "ProgressView",
            "style": "IPY_MODEL_71783cfa189649869520827cd63e9ee1",
            "_dom_classes": [],
            "description": "",
            "_model_name": "FloatProgressModel",
            "bar_style": "success",
            "max": 953,
            "_view_module": "@jupyter-widgets/controls",
            "_model_module_version": "1.5.0",
            "value": 953,
            "_view_count": null,
            "_view_module_version": "1.5.0",
            "orientation": "horizontal",
            "min": 0,
            "description_tooltip": null,
            "_model_module": "@jupyter-widgets/controls",
            "layout": "IPY_MODEL_5c1598b5e9344ca08f761bc392a3702c"
          }
        },
        "5fbe8f2947cd4a3fab39500580fa30ab": {
          "model_module": "@jupyter-widgets/controls",
          "model_name": "HTMLModel",
          "model_module_version": "1.5.0",
          "state": {
            "_view_name": "HTMLView",
            "style": "IPY_MODEL_49e5b931e44140d7a392effa0d9d91e8",
            "_dom_classes": [],
            "description": "",
            "_model_name": "HTMLModel",
            "placeholder": "​",
            "_view_module": "@jupyter-widgets/controls",
            "_model_module_version": "1.5.0",
            "value": " 953/953 [00:00&lt;00:00, 14.4kB/s]",
            "_view_count": null,
            "_view_module_version": "1.5.0",
            "description_tooltip": null,
            "_model_module": "@jupyter-widgets/controls",
            "layout": "IPY_MODEL_52de799e1a4045e2a26392dc41e74e53"
          }
        },
        "84eafd714a2f4ae2a7320efacb987979": {
          "model_module": "@jupyter-widgets/controls",
          "model_name": "DescriptionStyleModel",
          "model_module_version": "1.5.0",
          "state": {
            "_view_name": "StyleView",
            "_model_name": "DescriptionStyleModel",
            "description_width": "",
            "_view_module": "@jupyter-widgets/base",
            "_model_module_version": "1.5.0",
            "_view_count": null,
            "_view_module_version": "1.2.0",
            "_model_module": "@jupyter-widgets/controls"
          }
        },
        "fc9dd985d26d4566bd530ffc9da5da9c": {
          "model_module": "@jupyter-widgets/base",
          "model_name": "LayoutModel",
          "model_module_version": "1.2.0",
          "state": {
            "_view_name": "LayoutView",
            "grid_template_rows": null,
            "right": null,
            "justify_content": null,
            "_view_module": "@jupyter-widgets/base",
            "overflow": null,
            "_model_module_version": "1.2.0",
            "_view_count": null,
            "flex_flow": null,
            "width": null,
            "min_width": null,
            "border": null,
            "align_items": null,
            "bottom": null,
            "_model_module": "@jupyter-widgets/base",
            "top": null,
            "grid_column": null,
            "overflow_y": null,
            "overflow_x": null,
            "grid_auto_flow": null,
            "grid_area": null,
            "grid_template_columns": null,
            "flex": null,
            "_model_name": "LayoutModel",
            "justify_items": null,
            "grid_row": null,
            "max_height": null,
            "align_content": null,
            "visibility": null,
            "align_self": null,
            "height": null,
            "min_height": null,
            "padding": null,
            "grid_auto_rows": null,
            "grid_gap": null,
            "max_width": null,
            "order": null,
            "_view_module_version": "1.2.0",
            "grid_template_areas": null,
            "object_position": null,
            "object_fit": null,
            "grid_auto_columns": null,
            "margin": null,
            "display": null,
            "left": null
          }
        },
        "71783cfa189649869520827cd63e9ee1": {
          "model_module": "@jupyter-widgets/controls",
          "model_name": "ProgressStyleModel",
          "model_module_version": "1.5.0",
          "state": {
            "_view_name": "StyleView",
            "_model_name": "ProgressStyleModel",
            "description_width": "",
            "_view_module": "@jupyter-widgets/base",
            "_model_module_version": "1.5.0",
            "_view_count": null,
            "_view_module_version": "1.2.0",
            "bar_color": null,
            "_model_module": "@jupyter-widgets/controls"
          }
        },
        "5c1598b5e9344ca08f761bc392a3702c": {
          "model_module": "@jupyter-widgets/base",
          "model_name": "LayoutModel",
          "model_module_version": "1.2.0",
          "state": {
            "_view_name": "LayoutView",
            "grid_template_rows": null,
            "right": null,
            "justify_content": null,
            "_view_module": "@jupyter-widgets/base",
            "overflow": null,
            "_model_module_version": "1.2.0",
            "_view_count": null,
            "flex_flow": null,
            "width": null,
            "min_width": null,
            "border": null,
            "align_items": null,
            "bottom": null,
            "_model_module": "@jupyter-widgets/base",
            "top": null,
            "grid_column": null,
            "overflow_y": null,
            "overflow_x": null,
            "grid_auto_flow": null,
            "grid_area": null,
            "grid_template_columns": null,
            "flex": null,
            "_model_name": "LayoutModel",
            "justify_items": null,
            "grid_row": null,
            "max_height": null,
            "align_content": null,
            "visibility": null,
            "align_self": null,
            "height": null,
            "min_height": null,
            "padding": null,
            "grid_auto_rows": null,
            "grid_gap": null,
            "max_width": null,
            "order": null,
            "_view_module_version": "1.2.0",
            "grid_template_areas": null,
            "object_position": null,
            "object_fit": null,
            "grid_auto_columns": null,
            "margin": null,
            "display": null,
            "left": null
          }
        },
        "49e5b931e44140d7a392effa0d9d91e8": {
          "model_module": "@jupyter-widgets/controls",
          "model_name": "DescriptionStyleModel",
          "model_module_version": "1.5.0",
          "state": {
            "_view_name": "StyleView",
            "_model_name": "DescriptionStyleModel",
            "description_width": "",
            "_view_module": "@jupyter-widgets/base",
            "_model_module_version": "1.5.0",
            "_view_count": null,
            "_view_module_version": "1.2.0",
            "_model_module": "@jupyter-widgets/controls"
          }
        },
        "52de799e1a4045e2a26392dc41e74e53": {
          "model_module": "@jupyter-widgets/base",
          "model_name": "LayoutModel",
          "model_module_version": "1.2.0",
          "state": {
            "_view_name": "LayoutView",
            "grid_template_rows": null,
            "right": null,
            "justify_content": null,
            "_view_module": "@jupyter-widgets/base",
            "overflow": null,
            "_model_module_version": "1.2.0",
            "_view_count": null,
            "flex_flow": null,
            "width": null,
            "min_width": null,
            "border": null,
            "align_items": null,
            "bottom": null,
            "_model_module": "@jupyter-widgets/base",
            "top": null,
            "grid_column": null,
            "overflow_y": null,
            "overflow_x": null,
            "grid_auto_flow": null,
            "grid_area": null,
            "grid_template_columns": null,
            "flex": null,
            "_model_name": "LayoutModel",
            "justify_items": null,
            "grid_row": null,
            "max_height": null,
            "align_content": null,
            "visibility": null,
            "align_self": null,
            "height": null,
            "min_height": null,
            "padding": null,
            "grid_auto_rows": null,
            "grid_gap": null,
            "max_width": null,
            "order": null,
            "_view_module_version": "1.2.0",
            "grid_template_areas": null,
            "object_position": null,
            "object_fit": null,
            "grid_auto_columns": null,
            "margin": null,
            "display": null,
            "left": null
          }
        },
        "6fba6d55076d4c1db2b4102c563862db": {
          "model_module": "@jupyter-widgets/controls",
          "model_name": "HBoxModel",
          "model_module_version": "1.5.0",
          "state": {
            "_view_name": "HBoxView",
            "_dom_classes": [],
            "_model_name": "HBoxModel",
            "_view_module": "@jupyter-widgets/controls",
            "_model_module_version": "1.5.0",
            "_view_count": null,
            "_view_module_version": "1.5.0",
            "box_style": "",
            "layout": "IPY_MODEL_a0c225759563463fbf6ed1221526d55d",
            "_model_module": "@jupyter-widgets/controls",
            "children": [
              "IPY_MODEL_8736c16b4ff548da84d0bd331dc99095",
              "IPY_MODEL_e6eae42910954c70aebc4d2c3acb4777",
              "IPY_MODEL_bfefc537172047489f34e8b4dde65907"
            ]
          }
        },
        "a0c225759563463fbf6ed1221526d55d": {
          "model_module": "@jupyter-widgets/base",
          "model_name": "LayoutModel",
          "model_module_version": "1.2.0",
          "state": {
            "_view_name": "LayoutView",
            "grid_template_rows": null,
            "right": null,
            "justify_content": null,
            "_view_module": "@jupyter-widgets/base",
            "overflow": null,
            "_model_module_version": "1.2.0",
            "_view_count": null,
            "flex_flow": null,
            "width": null,
            "min_width": null,
            "border": null,
            "align_items": null,
            "bottom": null,
            "_model_module": "@jupyter-widgets/base",
            "top": null,
            "grid_column": null,
            "overflow_y": null,
            "overflow_x": null,
            "grid_auto_flow": null,
            "grid_area": null,
            "grid_template_columns": null,
            "flex": null,
            "_model_name": "LayoutModel",
            "justify_items": null,
            "grid_row": null,
            "max_height": null,
            "align_content": null,
            "visibility": null,
            "align_self": null,
            "height": null,
            "min_height": null,
            "padding": null,
            "grid_auto_rows": null,
            "grid_gap": null,
            "max_width": null,
            "order": null,
            "_view_module_version": "1.2.0",
            "grid_template_areas": null,
            "object_position": null,
            "object_fit": null,
            "grid_auto_columns": null,
            "margin": null,
            "display": null,
            "left": null
          }
        },
        "8736c16b4ff548da84d0bd331dc99095": {
          "model_module": "@jupyter-widgets/controls",
          "model_name": "HTMLModel",
          "model_module_version": "1.5.0",
          "state": {
            "_view_name": "HTMLView",
            "style": "IPY_MODEL_53f2f24c844148a28f45f2a4a7e32455",
            "_dom_classes": [],
            "description": "",
            "_model_name": "HTMLModel",
            "placeholder": "​",
            "_view_module": "@jupyter-widgets/controls",
            "_model_module_version": "1.5.0",
            "value": "Downloading: 100%",
            "_view_count": null,
            "_view_module_version": "1.5.0",
            "description_tooltip": null,
            "_model_module": "@jupyter-widgets/controls",
            "layout": "IPY_MODEL_f7d07af3c10d4118b50c2b8d0df07887"
          }
        },
        "e6eae42910954c70aebc4d2c3acb4777": {
          "model_module": "@jupyter-widgets/controls",
          "model_name": "FloatProgressModel",
          "model_module_version": "1.5.0",
          "state": {
            "_view_name": "ProgressView",
            "style": "IPY_MODEL_6f951ab6dfcf4686a3e4aee0afcc5227",
            "_dom_classes": [],
            "description": "",
            "_model_name": "FloatProgressModel",
            "bar_style": "success",
            "max": 871891,
            "_view_module": "@jupyter-widgets/controls",
            "_model_module_version": "1.5.0",
            "value": 871891,
            "_view_count": null,
            "_view_module_version": "1.5.0",
            "orientation": "horizontal",
            "min": 0,
            "description_tooltip": null,
            "_model_module": "@jupyter-widgets/controls",
            "layout": "IPY_MODEL_05f3567f6b2c4810983126aa2b810145"
          }
        },
        "bfefc537172047489f34e8b4dde65907": {
          "model_module": "@jupyter-widgets/controls",
          "model_name": "HTMLModel",
          "model_module_version": "1.5.0",
          "state": {
            "_view_name": "HTMLView",
            "style": "IPY_MODEL_b2a17b269b3142e8805a7f0cd2c8abd3",
            "_dom_classes": [],
            "description": "",
            "_model_name": "HTMLModel",
            "placeholder": "​",
            "_view_module": "@jupyter-widgets/controls",
            "_model_module_version": "1.5.0",
            "value": " 851k/851k [00:00&lt;00:00, 900kB/s]",
            "_view_count": null,
            "_view_module_version": "1.5.0",
            "description_tooltip": null,
            "_model_module": "@jupyter-widgets/controls",
            "layout": "IPY_MODEL_d29a95edc47f4b4ab42983c103411077"
          }
        },
        "53f2f24c844148a28f45f2a4a7e32455": {
          "model_module": "@jupyter-widgets/controls",
          "model_name": "DescriptionStyleModel",
          "model_module_version": "1.5.0",
          "state": {
            "_view_name": "StyleView",
            "_model_name": "DescriptionStyleModel",
            "description_width": "",
            "_view_module": "@jupyter-widgets/base",
            "_model_module_version": "1.5.0",
            "_view_count": null,
            "_view_module_version": "1.2.0",
            "_model_module": "@jupyter-widgets/controls"
          }
        },
        "f7d07af3c10d4118b50c2b8d0df07887": {
          "model_module": "@jupyter-widgets/base",
          "model_name": "LayoutModel",
          "model_module_version": "1.2.0",
          "state": {
            "_view_name": "LayoutView",
            "grid_template_rows": null,
            "right": null,
            "justify_content": null,
            "_view_module": "@jupyter-widgets/base",
            "overflow": null,
            "_model_module_version": "1.2.0",
            "_view_count": null,
            "flex_flow": null,
            "width": null,
            "min_width": null,
            "border": null,
            "align_items": null,
            "bottom": null,
            "_model_module": "@jupyter-widgets/base",
            "top": null,
            "grid_column": null,
            "overflow_y": null,
            "overflow_x": null,
            "grid_auto_flow": null,
            "grid_area": null,
            "grid_template_columns": null,
            "flex": null,
            "_model_name": "LayoutModel",
            "justify_items": null,
            "grid_row": null,
            "max_height": null,
            "align_content": null,
            "visibility": null,
            "align_self": null,
            "height": null,
            "min_height": null,
            "padding": null,
            "grid_auto_rows": null,
            "grid_gap": null,
            "max_width": null,
            "order": null,
            "_view_module_version": "1.2.0",
            "grid_template_areas": null,
            "object_position": null,
            "object_fit": null,
            "grid_auto_columns": null,
            "margin": null,
            "display": null,
            "left": null
          }
        },
        "6f951ab6dfcf4686a3e4aee0afcc5227": {
          "model_module": "@jupyter-widgets/controls",
          "model_name": "ProgressStyleModel",
          "model_module_version": "1.5.0",
          "state": {
            "_view_name": "StyleView",
            "_model_name": "ProgressStyleModel",
            "description_width": "",
            "_view_module": "@jupyter-widgets/base",
            "_model_module_version": "1.5.0",
            "_view_count": null,
            "_view_module_version": "1.2.0",
            "bar_color": null,
            "_model_module": "@jupyter-widgets/controls"
          }
        },
        "05f3567f6b2c4810983126aa2b810145": {
          "model_module": "@jupyter-widgets/base",
          "model_name": "LayoutModel",
          "model_module_version": "1.2.0",
          "state": {
            "_view_name": "LayoutView",
            "grid_template_rows": null,
            "right": null,
            "justify_content": null,
            "_view_module": "@jupyter-widgets/base",
            "overflow": null,
            "_model_module_version": "1.2.0",
            "_view_count": null,
            "flex_flow": null,
            "width": null,
            "min_width": null,
            "border": null,
            "align_items": null,
            "bottom": null,
            "_model_module": "@jupyter-widgets/base",
            "top": null,
            "grid_column": null,
            "overflow_y": null,
            "overflow_x": null,
            "grid_auto_flow": null,
            "grid_area": null,
            "grid_template_columns": null,
            "flex": null,
            "_model_name": "LayoutModel",
            "justify_items": null,
            "grid_row": null,
            "max_height": null,
            "align_content": null,
            "visibility": null,
            "align_self": null,
            "height": null,
            "min_height": null,
            "padding": null,
            "grid_auto_rows": null,
            "grid_gap": null,
            "max_width": null,
            "order": null,
            "_view_module_version": "1.2.0",
            "grid_template_areas": null,
            "object_position": null,
            "object_fit": null,
            "grid_auto_columns": null,
            "margin": null,
            "display": null,
            "left": null
          }
        },
        "b2a17b269b3142e8805a7f0cd2c8abd3": {
          "model_module": "@jupyter-widgets/controls",
          "model_name": "DescriptionStyleModel",
          "model_module_version": "1.5.0",
          "state": {
            "_view_name": "StyleView",
            "_model_name": "DescriptionStyleModel",
            "description_width": "",
            "_view_module": "@jupyter-widgets/base",
            "_model_module_version": "1.5.0",
            "_view_count": null,
            "_view_module_version": "1.2.0",
            "_model_module": "@jupyter-widgets/controls"
          }
        },
        "d29a95edc47f4b4ab42983c103411077": {
          "model_module": "@jupyter-widgets/base",
          "model_name": "LayoutModel",
          "model_module_version": "1.2.0",
          "state": {
            "_view_name": "LayoutView",
            "grid_template_rows": null,
            "right": null,
            "justify_content": null,
            "_view_module": "@jupyter-widgets/base",
            "overflow": null,
            "_model_module_version": "1.2.0",
            "_view_count": null,
            "flex_flow": null,
            "width": null,
            "min_width": null,
            "border": null,
            "align_items": null,
            "bottom": null,
            "_model_module": "@jupyter-widgets/base",
            "top": null,
            "grid_column": null,
            "overflow_y": null,
            "overflow_x": null,
            "grid_auto_flow": null,
            "grid_area": null,
            "grid_template_columns": null,
            "flex": null,
            "_model_name": "LayoutModel",
            "justify_items": null,
            "grid_row": null,
            "max_height": null,
            "align_content": null,
            "visibility": null,
            "align_self": null,
            "height": null,
            "min_height": null,
            "padding": null,
            "grid_auto_rows": null,
            "grid_gap": null,
            "max_width": null,
            "order": null,
            "_view_module_version": "1.2.0",
            "grid_template_areas": null,
            "object_position": null,
            "object_fit": null,
            "grid_auto_columns": null,
            "margin": null,
            "display": null,
            "left": null
          }
        },
        "a2e14f4b07724ad9a03039b81f20a7ac": {
          "model_module": "@jupyter-widgets/controls",
          "model_name": "HBoxModel",
          "model_module_version": "1.5.0",
          "state": {
            "_view_name": "HBoxView",
            "_dom_classes": [],
            "_model_name": "HBoxModel",
            "_view_module": "@jupyter-widgets/controls",
            "_model_module_version": "1.5.0",
            "_view_count": null,
            "_view_module_version": "1.5.0",
            "box_style": "",
            "layout": "IPY_MODEL_66a9daafeed94116ab9026e2c77afc2a",
            "_model_module": "@jupyter-widgets/controls",
            "children": [
              "IPY_MODEL_03f03d91350c4261946b0e5881b8accf",
              "IPY_MODEL_557457dc049847299ebbe9e61dde2ca7",
              "IPY_MODEL_1111d802461c4824adfbe421b755fb9e"
            ]
          }
        },
        "66a9daafeed94116ab9026e2c77afc2a": {
          "model_module": "@jupyter-widgets/base",
          "model_name": "LayoutModel",
          "model_module_version": "1.2.0",
          "state": {
            "_view_name": "LayoutView",
            "grid_template_rows": null,
            "right": null,
            "justify_content": null,
            "_view_module": "@jupyter-widgets/base",
            "overflow": null,
            "_model_module_version": "1.2.0",
            "_view_count": null,
            "flex_flow": null,
            "width": null,
            "min_width": null,
            "border": null,
            "align_items": null,
            "bottom": null,
            "_model_module": "@jupyter-widgets/base",
            "top": null,
            "grid_column": null,
            "overflow_y": null,
            "overflow_x": null,
            "grid_auto_flow": null,
            "grid_area": null,
            "grid_template_columns": null,
            "flex": null,
            "_model_name": "LayoutModel",
            "justify_items": null,
            "grid_row": null,
            "max_height": null,
            "align_content": null,
            "visibility": null,
            "align_self": null,
            "height": null,
            "min_height": null,
            "padding": null,
            "grid_auto_rows": null,
            "grid_gap": null,
            "max_width": null,
            "order": null,
            "_view_module_version": "1.2.0",
            "grid_template_areas": null,
            "object_position": null,
            "object_fit": null,
            "grid_auto_columns": null,
            "margin": null,
            "display": null,
            "left": null
          }
        },
        "03f03d91350c4261946b0e5881b8accf": {
          "model_module": "@jupyter-widgets/controls",
          "model_name": "HTMLModel",
          "model_module_version": "1.5.0",
          "state": {
            "_view_name": "HTMLView",
            "style": "IPY_MODEL_6709c9bc45b94fa8909040c62d6cca5b",
            "_dom_classes": [],
            "description": "",
            "_model_name": "HTMLModel",
            "placeholder": "​",
            "_view_module": "@jupyter-widgets/controls",
            "_model_module_version": "1.5.0",
            "value": "Downloading: 100%",
            "_view_count": null,
            "_view_module_version": "1.5.0",
            "description_tooltip": null,
            "_model_module": "@jupyter-widgets/controls",
            "layout": "IPY_MODEL_0c6624317ff64a0c8268e7a485f538cd"
          }
        },
        "557457dc049847299ebbe9e61dde2ca7": {
          "model_module": "@jupyter-widgets/controls",
          "model_name": "FloatProgressModel",
          "model_module_version": "1.5.0",
          "state": {
            "_view_name": "ProgressView",
            "style": "IPY_MODEL_300201aaae7144acb28fb407918ecd1b",
            "_dom_classes": [],
            "description": "",
            "_model_name": "FloatProgressModel",
            "bar_style": "success",
            "max": 112,
            "_view_module": "@jupyter-widgets/controls",
            "_model_module_version": "1.5.0",
            "value": 112,
            "_view_count": null,
            "_view_module_version": "1.5.0",
            "orientation": "horizontal",
            "min": 0,
            "description_tooltip": null,
            "_model_module": "@jupyter-widgets/controls",
            "layout": "IPY_MODEL_3fd54aef3c534f62b66bca4cca170869"
          }
        },
        "1111d802461c4824adfbe421b755fb9e": {
          "model_module": "@jupyter-widgets/controls",
          "model_name": "HTMLModel",
          "model_module_version": "1.5.0",
          "state": {
            "_view_name": "HTMLView",
            "style": "IPY_MODEL_dd536f0d846d4fb6a24c3495b6340375",
            "_dom_classes": [],
            "description": "",
            "_model_name": "HTMLModel",
            "placeholder": "​",
            "_view_module": "@jupyter-widgets/controls",
            "_model_module_version": "1.5.0",
            "value": " 112/112 [00:00&lt;00:00, 1.86kB/s]",
            "_view_count": null,
            "_view_module_version": "1.5.0",
            "description_tooltip": null,
            "_model_module": "@jupyter-widgets/controls",
            "layout": "IPY_MODEL_957f66bb88e84ff68e7b74e21c66cfb1"
          }
        },
        "6709c9bc45b94fa8909040c62d6cca5b": {
          "model_module": "@jupyter-widgets/controls",
          "model_name": "DescriptionStyleModel",
          "model_module_version": "1.5.0",
          "state": {
            "_view_name": "StyleView",
            "_model_name": "DescriptionStyleModel",
            "description_width": "",
            "_view_module": "@jupyter-widgets/base",
            "_model_module_version": "1.5.0",
            "_view_count": null,
            "_view_module_version": "1.2.0",
            "_model_module": "@jupyter-widgets/controls"
          }
        },
        "0c6624317ff64a0c8268e7a485f538cd": {
          "model_module": "@jupyter-widgets/base",
          "model_name": "LayoutModel",
          "model_module_version": "1.2.0",
          "state": {
            "_view_name": "LayoutView",
            "grid_template_rows": null,
            "right": null,
            "justify_content": null,
            "_view_module": "@jupyter-widgets/base",
            "overflow": null,
            "_model_module_version": "1.2.0",
            "_view_count": null,
            "flex_flow": null,
            "width": null,
            "min_width": null,
            "border": null,
            "align_items": null,
            "bottom": null,
            "_model_module": "@jupyter-widgets/base",
            "top": null,
            "grid_column": null,
            "overflow_y": null,
            "overflow_x": null,
            "grid_auto_flow": null,
            "grid_area": null,
            "grid_template_columns": null,
            "flex": null,
            "_model_name": "LayoutModel",
            "justify_items": null,
            "grid_row": null,
            "max_height": null,
            "align_content": null,
            "visibility": null,
            "align_self": null,
            "height": null,
            "min_height": null,
            "padding": null,
            "grid_auto_rows": null,
            "grid_gap": null,
            "max_width": null,
            "order": null,
            "_view_module_version": "1.2.0",
            "grid_template_areas": null,
            "object_position": null,
            "object_fit": null,
            "grid_auto_columns": null,
            "margin": null,
            "display": null,
            "left": null
          }
        },
        "300201aaae7144acb28fb407918ecd1b": {
          "model_module": "@jupyter-widgets/controls",
          "model_name": "ProgressStyleModel",
          "model_module_version": "1.5.0",
          "state": {
            "_view_name": "StyleView",
            "_model_name": "ProgressStyleModel",
            "description_width": "",
            "_view_module": "@jupyter-widgets/base",
            "_model_module_version": "1.5.0",
            "_view_count": null,
            "_view_module_version": "1.2.0",
            "bar_color": null,
            "_model_module": "@jupyter-widgets/controls"
          }
        },
        "3fd54aef3c534f62b66bca4cca170869": {
          "model_module": "@jupyter-widgets/base",
          "model_name": "LayoutModel",
          "model_module_version": "1.2.0",
          "state": {
            "_view_name": "LayoutView",
            "grid_template_rows": null,
            "right": null,
            "justify_content": null,
            "_view_module": "@jupyter-widgets/base",
            "overflow": null,
            "_model_module_version": "1.2.0",
            "_view_count": null,
            "flex_flow": null,
            "width": null,
            "min_width": null,
            "border": null,
            "align_items": null,
            "bottom": null,
            "_model_module": "@jupyter-widgets/base",
            "top": null,
            "grid_column": null,
            "overflow_y": null,
            "overflow_x": null,
            "grid_auto_flow": null,
            "grid_area": null,
            "grid_template_columns": null,
            "flex": null,
            "_model_name": "LayoutModel",
            "justify_items": null,
            "grid_row": null,
            "max_height": null,
            "align_content": null,
            "visibility": null,
            "align_self": null,
            "height": null,
            "min_height": null,
            "padding": null,
            "grid_auto_rows": null,
            "grid_gap": null,
            "max_width": null,
            "order": null,
            "_view_module_version": "1.2.0",
            "grid_template_areas": null,
            "object_position": null,
            "object_fit": null,
            "grid_auto_columns": null,
            "margin": null,
            "display": null,
            "left": null
          }
        },
        "dd536f0d846d4fb6a24c3495b6340375": {
          "model_module": "@jupyter-widgets/controls",
          "model_name": "DescriptionStyleModel",
          "model_module_version": "1.5.0",
          "state": {
            "_view_name": "StyleView",
            "_model_name": "DescriptionStyleModel",
            "description_width": "",
            "_view_module": "@jupyter-widgets/base",
            "_model_module_version": "1.5.0",
            "_view_count": null,
            "_view_module_version": "1.2.0",
            "_model_module": "@jupyter-widgets/controls"
          }
        },
        "957f66bb88e84ff68e7b74e21c66cfb1": {
          "model_module": "@jupyter-widgets/base",
          "model_name": "LayoutModel",
          "model_module_version": "1.2.0",
          "state": {
            "_view_name": "LayoutView",
            "grid_template_rows": null,
            "right": null,
            "justify_content": null,
            "_view_module": "@jupyter-widgets/base",
            "overflow": null,
            "_model_module_version": "1.2.0",
            "_view_count": null,
            "flex_flow": null,
            "width": null,
            "min_width": null,
            "border": null,
            "align_items": null,
            "bottom": null,
            "_model_module": "@jupyter-widgets/base",
            "top": null,
            "grid_column": null,
            "overflow_y": null,
            "overflow_x": null,
            "grid_auto_flow": null,
            "grid_area": null,
            "grid_template_columns": null,
            "flex": null,
            "_model_name": "LayoutModel",
            "justify_items": null,
            "grid_row": null,
            "max_height": null,
            "align_content": null,
            "visibility": null,
            "align_self": null,
            "height": null,
            "min_height": null,
            "padding": null,
            "grid_auto_rows": null,
            "grid_gap": null,
            "max_width": null,
            "order": null,
            "_view_module_version": "1.2.0",
            "grid_template_areas": null,
            "object_position": null,
            "object_fit": null,
            "grid_auto_columns": null,
            "margin": null,
            "display": null,
            "left": null
          }
        },
        "bc652c28e4be4fd7b6a0eca3f2fb555d": {
          "model_module": "@jupyter-widgets/controls",
          "model_name": "HBoxModel",
          "model_module_version": "1.5.0",
          "state": {
            "_view_name": "HBoxView",
            "_dom_classes": [],
            "_model_name": "HBoxModel",
            "_view_module": "@jupyter-widgets/controls",
            "_model_module_version": "1.5.0",
            "_view_count": null,
            "_view_module_version": "1.5.0",
            "box_style": "",
            "layout": "IPY_MODEL_dcbcf664d7c54435afaf7e3ba9af83c8",
            "_model_module": "@jupyter-widgets/controls",
            "children": [
              "IPY_MODEL_1d5a87a989744dfa8137b2e04dbd2606",
              "IPY_MODEL_f494e0bfe9f64075bdfa84e6776c7222",
              "IPY_MODEL_fbc18dc648d54fd38fb2baf0e1bc655b"
            ]
          }
        },
        "dcbcf664d7c54435afaf7e3ba9af83c8": {
          "model_module": "@jupyter-widgets/base",
          "model_name": "LayoutModel",
          "model_module_version": "1.2.0",
          "state": {
            "_view_name": "LayoutView",
            "grid_template_rows": null,
            "right": null,
            "justify_content": null,
            "_view_module": "@jupyter-widgets/base",
            "overflow": null,
            "_model_module_version": "1.2.0",
            "_view_count": null,
            "flex_flow": null,
            "width": null,
            "min_width": null,
            "border": null,
            "align_items": null,
            "bottom": null,
            "_model_module": "@jupyter-widgets/base",
            "top": null,
            "grid_column": null,
            "overflow_y": null,
            "overflow_x": null,
            "grid_auto_flow": null,
            "grid_area": null,
            "grid_template_columns": null,
            "flex": null,
            "_model_name": "LayoutModel",
            "justify_items": null,
            "grid_row": null,
            "max_height": null,
            "align_content": null,
            "visibility": null,
            "align_self": null,
            "height": null,
            "min_height": null,
            "padding": null,
            "grid_auto_rows": null,
            "grid_gap": null,
            "max_width": null,
            "order": null,
            "_view_module_version": "1.2.0",
            "grid_template_areas": null,
            "object_position": null,
            "object_fit": null,
            "grid_auto_columns": null,
            "margin": null,
            "display": null,
            "left": null
          }
        },
        "1d5a87a989744dfa8137b2e04dbd2606": {
          "model_module": "@jupyter-widgets/controls",
          "model_name": "HTMLModel",
          "model_module_version": "1.5.0",
          "state": {
            "_view_name": "HTMLView",
            "style": "IPY_MODEL_71757baa93854987ae6bbca48f012592",
            "_dom_classes": [],
            "description": "",
            "_model_name": "HTMLModel",
            "placeholder": "​",
            "_view_module": "@jupyter-widgets/controls",
            "_model_module_version": "1.5.0",
            "value": "Downloading: 100%",
            "_view_count": null,
            "_view_module_version": "1.5.0",
            "description_tooltip": null,
            "_model_module": "@jupyter-widgets/controls",
            "layout": "IPY_MODEL_9006744306344243b15364570e903240"
          }
        },
        "f494e0bfe9f64075bdfa84e6776c7222": {
          "model_module": "@jupyter-widgets/controls",
          "model_name": "FloatProgressModel",
          "model_module_version": "1.5.0",
          "state": {
            "_view_name": "ProgressView",
            "style": "IPY_MODEL_fb7ae647336e46d599808382c444d469",
            "_dom_classes": [],
            "description": "",
            "_model_name": "FloatProgressModel",
            "bar_style": "success",
            "max": 669491321,
            "_view_module": "@jupyter-widgets/controls",
            "_model_module_version": "1.5.0",
            "value": 669491321,
            "_view_count": null,
            "_view_module_version": "1.5.0",
            "orientation": "horizontal",
            "min": 0,
            "description_tooltip": null,
            "_model_module": "@jupyter-widgets/controls",
            "layout": "IPY_MODEL_ffbc81280e104e69ba6b3c9d4cd30b61"
          }
        },
        "fbc18dc648d54fd38fb2baf0e1bc655b": {
          "model_module": "@jupyter-widgets/controls",
          "model_name": "HTMLModel",
          "model_module_version": "1.5.0",
          "state": {
            "_view_name": "HTMLView",
            "style": "IPY_MODEL_b7dd1052ae844eedb18aeb464ffa0e61",
            "_dom_classes": [],
            "description": "",
            "_model_name": "HTMLModel",
            "placeholder": "​",
            "_view_module": "@jupyter-widgets/controls",
            "_model_module_version": "1.5.0",
            "value": " 638M/638M [00:22&lt;00:00, 32.1MB/s]",
            "_view_count": null,
            "_view_module_version": "1.5.0",
            "description_tooltip": null,
            "_model_module": "@jupyter-widgets/controls",
            "layout": "IPY_MODEL_e906af6fe4924263a131dfd4c0f1da72"
          }
        },
        "71757baa93854987ae6bbca48f012592": {
          "model_module": "@jupyter-widgets/controls",
          "model_name": "DescriptionStyleModel",
          "model_module_version": "1.5.0",
          "state": {
            "_view_name": "StyleView",
            "_model_name": "DescriptionStyleModel",
            "description_width": "",
            "_view_module": "@jupyter-widgets/base",
            "_model_module_version": "1.5.0",
            "_view_count": null,
            "_view_module_version": "1.2.0",
            "_model_module": "@jupyter-widgets/controls"
          }
        },
        "9006744306344243b15364570e903240": {
          "model_module": "@jupyter-widgets/base",
          "model_name": "LayoutModel",
          "model_module_version": "1.2.0",
          "state": {
            "_view_name": "LayoutView",
            "grid_template_rows": null,
            "right": null,
            "justify_content": null,
            "_view_module": "@jupyter-widgets/base",
            "overflow": null,
            "_model_module_version": "1.2.0",
            "_view_count": null,
            "flex_flow": null,
            "width": null,
            "min_width": null,
            "border": null,
            "align_items": null,
            "bottom": null,
            "_model_module": "@jupyter-widgets/base",
            "top": null,
            "grid_column": null,
            "overflow_y": null,
            "overflow_x": null,
            "grid_auto_flow": null,
            "grid_area": null,
            "grid_template_columns": null,
            "flex": null,
            "_model_name": "LayoutModel",
            "justify_items": null,
            "grid_row": null,
            "max_height": null,
            "align_content": null,
            "visibility": null,
            "align_self": null,
            "height": null,
            "min_height": null,
            "padding": null,
            "grid_auto_rows": null,
            "grid_gap": null,
            "max_width": null,
            "order": null,
            "_view_module_version": "1.2.0",
            "grid_template_areas": null,
            "object_position": null,
            "object_fit": null,
            "grid_auto_columns": null,
            "margin": null,
            "display": null,
            "left": null
          }
        },
        "fb7ae647336e46d599808382c444d469": {
          "model_module": "@jupyter-widgets/controls",
          "model_name": "ProgressStyleModel",
          "model_module_version": "1.5.0",
          "state": {
            "_view_name": "StyleView",
            "_model_name": "ProgressStyleModel",
            "description_width": "",
            "_view_module": "@jupyter-widgets/base",
            "_model_module_version": "1.5.0",
            "_view_count": null,
            "_view_module_version": "1.2.0",
            "bar_color": null,
            "_model_module": "@jupyter-widgets/controls"
          }
        },
        "ffbc81280e104e69ba6b3c9d4cd30b61": {
          "model_module": "@jupyter-widgets/base",
          "model_name": "LayoutModel",
          "model_module_version": "1.2.0",
          "state": {
            "_view_name": "LayoutView",
            "grid_template_rows": null,
            "right": null,
            "justify_content": null,
            "_view_module": "@jupyter-widgets/base",
            "overflow": null,
            "_model_module_version": "1.2.0",
            "_view_count": null,
            "flex_flow": null,
            "width": null,
            "min_width": null,
            "border": null,
            "align_items": null,
            "bottom": null,
            "_model_module": "@jupyter-widgets/base",
            "top": null,
            "grid_column": null,
            "overflow_y": null,
            "overflow_x": null,
            "grid_auto_flow": null,
            "grid_area": null,
            "grid_template_columns": null,
            "flex": null,
            "_model_name": "LayoutModel",
            "justify_items": null,
            "grid_row": null,
            "max_height": null,
            "align_content": null,
            "visibility": null,
            "align_self": null,
            "height": null,
            "min_height": null,
            "padding": null,
            "grid_auto_rows": null,
            "grid_gap": null,
            "max_width": null,
            "order": null,
            "_view_module_version": "1.2.0",
            "grid_template_areas": null,
            "object_position": null,
            "object_fit": null,
            "grid_auto_columns": null,
            "margin": null,
            "display": null,
            "left": null
          }
        },
        "b7dd1052ae844eedb18aeb464ffa0e61": {
          "model_module": "@jupyter-widgets/controls",
          "model_name": "DescriptionStyleModel",
          "model_module_version": "1.5.0",
          "state": {
            "_view_name": "StyleView",
            "_model_name": "DescriptionStyleModel",
            "description_width": "",
            "_view_module": "@jupyter-widgets/base",
            "_model_module_version": "1.5.0",
            "_view_count": null,
            "_view_module_version": "1.2.0",
            "_model_module": "@jupyter-widgets/controls"
          }
        },
        "e906af6fe4924263a131dfd4c0f1da72": {
          "model_module": "@jupyter-widgets/base",
          "model_name": "LayoutModel",
          "model_module_version": "1.2.0",
          "state": {
            "_view_name": "LayoutView",
            "grid_template_rows": null,
            "right": null,
            "justify_content": null,
            "_view_module": "@jupyter-widgets/base",
            "overflow": null,
            "_model_module_version": "1.2.0",
            "_view_count": null,
            "flex_flow": null,
            "width": null,
            "min_width": null,
            "border": null,
            "align_items": null,
            "bottom": null,
            "_model_module": "@jupyter-widgets/base",
            "top": null,
            "grid_column": null,
            "overflow_y": null,
            "overflow_x": null,
            "grid_auto_flow": null,
            "grid_area": null,
            "grid_template_columns": null,
            "flex": null,
            "_model_name": "LayoutModel",
            "justify_items": null,
            "grid_row": null,
            "max_height": null,
            "align_content": null,
            "visibility": null,
            "align_self": null,
            "height": null,
            "min_height": null,
            "padding": null,
            "grid_auto_rows": null,
            "grid_gap": null,
            "max_width": null,
            "order": null,
            "_view_module_version": "1.2.0",
            "grid_template_areas": null,
            "object_position": null,
            "object_fit": null,
            "grid_auto_columns": null,
            "margin": null,
            "display": null,
            "left": null
          }
        }
      }
    }
  },
  "nbformat": 4,
  "nbformat_minor": 0
}